{
 "cells": [
  {
   "cell_type": "code",
   "execution_count": 1,
   "id": "bc4b4a76-c66b-4efc-8abf-7001bb748ac7",
   "metadata": {},
   "outputs": [],
   "source": [
    "import selenium\n",
    "from selenium import webdriver\n",
    "from selenium.webdriver.common.keys import Keys\n",
    "import logging\n",
    "import os\n",
    "import pandas as pd\n",
    "import argparse\n",
    "import string\n",
    "import pandas as pd"
   ]
  },
  {
   "cell_type": "code",
   "execution_count": 2,
   "id": "9d2fb6b1-94d0-4edc-839b-016a6fe94c04",
   "metadata": {},
   "outputs": [],
   "source": [
    "def get_logs():\n",
    "    logger_1 = logging.getLogger('')\n",
    "    logger_1.setLevel(logging.INFO)\n",
    "    \n",
    "    logger_2 = logging.getLogger('log')\n",
    "    logger_2.setLevel(logging.INFO)\n",
    "    \n",
    "    formatter = logging.Formatter('%(asctime)s - %(name)s - %(levelname)s- %(message)s')\n",
    "    file_handler = logging.FileHandler(r'log.txt',encoding='utf-8')\n",
    "    file_handler.setFormatter(formatter)\n",
    "    stream_handler = logging.StreamHandler()\n",
    "    stream_handler.setFormatter(formatter)\n",
    "    logger_1.addHandler(file_handler)\n",
    "    logger_2.addHandler(stream_handler)\n",
    "    return logger_1, logger_2"
   ]
  },
  {
   "cell_type": "code",
   "execution_count": 3,
   "id": "b1e88914-85f5-4871-9f7e-0914936390bb",
   "metadata": {},
   "outputs": [],
   "source": [
    "logger_1, logger_2 = get_logs()"
   ]
  },
  {
   "cell_type": "code",
   "execution_count": 4,
   "id": "781d27f6-db3d-4e57-be3c-de2a688b9eb8",
   "metadata": {},
   "outputs": [],
   "source": [
    "parser = argparse.ArgumentParser(description='parse')\n",
    "# argument는 원하는 만큼 추가한다.\n",
    "parser.add_argument('--output_dir', type=str, help='an integer for printing repeatably')\n",
    "args, _ = parser.parse_known_args()"
   ]
  },
  {
   "cell_type": "code",
   "execution_count": 5,
   "id": "6c098e67-e929-425a-a87f-8a97f52f3795",
   "metadata": {},
   "outputs": [],
   "source": [
    "args.output_dir = './output/seoul'"
   ]
  },
  {
   "cell_type": "code",
   "execution_count": 30,
   "id": "b273a44a-d0a1-4e9b-8ecc-f2d5a2226bf7",
   "metadata": {},
   "outputs": [
    {
     "name": "stderr",
     "output_type": "stream",
     "text": [
      "C:\\Users\\User\\AppData\\Local\\Temp/ipykernel_24024/4085649109.py:8: DeprecationWarning: executable_path has been deprecated, please pass in a Service object\n",
      "  driver = webdriver.Chrome('./chromedriver_win32/chromedriver.exe', options=options)\n"
     ]
    }
   ],
   "source": [
    "options = webdriver.chrome.options.Options()\n",
    "# 화면 안띄우고 진행\n",
    "#options.add_argument('--headless')\n",
    "#options.add_argument('--no-sandbox')\n",
    "#options.add_argument('--disable-dev-shm-usage')\n",
    "save_dir = r'./data'    \n",
    "default_url = 'https://map.naver.com/'\n",
    "driver = webdriver.Chrome('./chromedriver_win32/chromedriver.exe', options=options)"
   ]
  },
  {
   "cell_type": "code",
   "execution_count": 31,
   "id": "1506436a-d7fe-43b1-866f-26f2a450e287",
   "metadata": {},
   "outputs": [],
   "source": [
    "naver_map_search_url = f'https://map.naver.com/v5/search/농민 백암 순대/place'"
   ]
  },
  {
   "cell_type": "code",
   "execution_count": 7,
   "id": "c8e7825d-5321-4d05-ad76-45c4ced12367",
   "metadata": {},
   "outputs": [],
   "source": [
    "driver.get(default_url)"
   ]
  },
  {
   "cell_type": "code",
   "execution_count": 8,
   "id": "49d3a85d-0e45-4faf-b655-f30ae5813318",
   "metadata": {},
   "outputs": [],
   "source": [
    "# OK - 기존과 바뀜 - 함수 통일화\n",
    "alphabet = list(string.ascii_uppercase)"
   ]
  },
  {
   "cell_type": "code",
   "execution_count": 9,
   "id": "822be62e-cee0-46e8-8217-b2c70297451f",
   "metadata": {},
   "outputs": [],
   "source": [
    "query = '농민 백암 순대'"
   ]
  },
  {
   "cell_type": "code",
   "execution_count": 13,
   "id": "f6c2690b-476d-42fc-9abd-488879c5688f",
   "metadata": {},
   "outputs": [],
   "source": [
    "# query 입력\n",
    "driver.find_element(value=\"#input_search1668668642913\",  by = 'css selector').send_keys(query)\n"
   ]
  },
  {
   "cell_type": "code",
   "execution_count": null,
   "id": "0c3506b8-d021-4097-a3d0-9f04eef05743",
   "metadata": {},
   "outputs": [],
   "source": [
    "#_pcmap_list_scroll_container > ul > li:nth-child(1) > div.CHC5F > a > div > div > span.place_bluelink.TYaxT\n",
    "\n",
    "#_pcmap_list_scroll_container > ul > li:nth-child(1) > div.CHC5F > a > div > div > span.place_bluelink.TYaxT\n",
    "\n",
    "#_pcmap_list_scroll_container > ul > li:nth-child(4) > div.CHC5F > a > div > div > span.place_bluelink.TYaxT"
   ]
  },
  {
   "cell_type": "code",
   "execution_count": 40,
   "id": "38046686-f29b-49de-8bd7-dd9cd3573c67",
   "metadata": {},
   "outputs": [
    {
     "ename": "NoSuchElementException",
     "evalue": "Message: no such element: Unable to locate element: {\"method\":\"css selector\",\"selector\":\"#_pcmap_list_scroll_container > ul > li:nth-child(3) > div.ouxiq.icT4K > a:nth-child(1) > div > div > span.place_bluelink.YwYLL\"}\n  (Session info: chrome=107.0.5304.107)\nStacktrace:\nBacktrace:\n\tOrdinal0 [0x005CACD3+2075859]\n\tOrdinal0 [0x0055EE61+1633889]\n\tOrdinal0 [0x0045B7BD+571325]\n\tOrdinal0 [0x0048AC2F+764975]\n\tOrdinal0 [0x0048AE1B+765467]\n\tOrdinal0 [0x004BD0F2+970994]\n\tOrdinal0 [0x004A7364+881508]\n\tOrdinal0 [0x004BB56A+963946]\n\tOrdinal0 [0x004A7136+880950]\n\tOrdinal0 [0x0047FEFD+720637]\n\tOrdinal0 [0x00480F3F+724799]\n\tGetHandleVerifier [0x0087EED2+2769538]\n\tGetHandleVerifier [0x00870D95+2711877]\n\tGetHandleVerifier [0x0065A03A+521194]\n\tGetHandleVerifier [0x00658DA0+516432]\n\tOrdinal0 [0x0056682C+1665068]\n\tOrdinal0 [0x0056B128+1683752]\n\tOrdinal0 [0x0056B215+1683989]\n\tOrdinal0 [0x00576484+1729668]\n\tBaseThreadInitThunk [0x7711FA29+25]\n\tRtlGetAppContainerNamedObjectPath [0x773E7BBE+286]\n\tRtlGetAppContainerNamedObjectPath [0x773E7B8E+238]\n",
     "output_type": "error",
     "traceback": [
      "\u001b[1;31m---------------------------------------------------------------------------\u001b[0m",
      "\u001b[1;31mNoSuchElementException\u001b[0m                    Traceback (most recent call last)",
      "\u001b[1;32m~\\AppData\\Local\\Temp/ipykernel_24024/2061453293.py\u001b[0m in \u001b[0;36m<module>\u001b[1;34m\u001b[0m\n\u001b[1;32m----> 1\u001b[1;33m \u001b[0mdriver\u001b[0m\u001b[1;33m.\u001b[0m\u001b[0mfind_element\u001b[0m\u001b[1;33m(\u001b[0m\u001b[0mvalue\u001b[0m\u001b[1;33m=\u001b[0m\u001b[1;34mr'#_pcmap_list_scroll_container > ul > li:nth-child(3) > div.ouxiq.icT4K > a:nth-child(1) > div > div > span.place_bluelink.YwYLL'\u001b[0m\u001b[1;33m,\u001b[0m \u001b[0mby\u001b[0m\u001b[1;33m=\u001b[0m\u001b[1;34m'css selector'\u001b[0m\u001b[1;33m)\u001b[0m\u001b[1;33m\u001b[0m\u001b[1;33m\u001b[0m\u001b[0m\n\u001b[0m",
      "\u001b[1;32mD:\\anaconda3\\lib\\site-packages\\selenium\\webdriver\\remote\\webdriver.py\u001b[0m in \u001b[0;36mfind_element\u001b[1;34m(self, by, value)\u001b[0m\n\u001b[0;32m    859\u001b[0m             \u001b[0mvalue\u001b[0m \u001b[1;33m=\u001b[0m \u001b[1;34m'[name=\"%s\"]'\u001b[0m \u001b[1;33m%\u001b[0m \u001b[0mvalue\u001b[0m\u001b[1;33m\u001b[0m\u001b[1;33m\u001b[0m\u001b[0m\n\u001b[0;32m    860\u001b[0m \u001b[1;33m\u001b[0m\u001b[0m\n\u001b[1;32m--> 861\u001b[1;33m         \u001b[1;32mreturn\u001b[0m \u001b[0mself\u001b[0m\u001b[1;33m.\u001b[0m\u001b[0mexecute\u001b[0m\u001b[1;33m(\u001b[0m\u001b[0mCommand\u001b[0m\u001b[1;33m.\u001b[0m\u001b[0mFIND_ELEMENT\u001b[0m\u001b[1;33m,\u001b[0m \u001b[1;33m{\u001b[0m\u001b[1;34m\"using\"\u001b[0m\u001b[1;33m:\u001b[0m \u001b[0mby\u001b[0m\u001b[1;33m,\u001b[0m \u001b[1;34m\"value\"\u001b[0m\u001b[1;33m:\u001b[0m \u001b[0mvalue\u001b[0m\u001b[1;33m}\u001b[0m\u001b[1;33m)\u001b[0m\u001b[1;33m[\u001b[0m\u001b[1;34m\"value\"\u001b[0m\u001b[1;33m]\u001b[0m\u001b[1;33m\u001b[0m\u001b[1;33m\u001b[0m\u001b[0m\n\u001b[0m\u001b[0;32m    862\u001b[0m \u001b[1;33m\u001b[0m\u001b[0m\n\u001b[0;32m    863\u001b[0m     \u001b[1;32mdef\u001b[0m \u001b[0mfind_elements\u001b[0m\u001b[1;33m(\u001b[0m\u001b[0mself\u001b[0m\u001b[1;33m,\u001b[0m \u001b[0mby\u001b[0m\u001b[1;33m=\u001b[0m\u001b[0mBy\u001b[0m\u001b[1;33m.\u001b[0m\u001b[0mID\u001b[0m\u001b[1;33m,\u001b[0m \u001b[0mvalue\u001b[0m\u001b[1;33m:\u001b[0m \u001b[0mOptional\u001b[0m\u001b[1;33m[\u001b[0m\u001b[0mstr\u001b[0m\u001b[1;33m]\u001b[0m \u001b[1;33m=\u001b[0m \u001b[1;32mNone\u001b[0m\u001b[1;33m)\u001b[0m \u001b[1;33m->\u001b[0m \u001b[0mList\u001b[0m\u001b[1;33m[\u001b[0m\u001b[0mWebElement\u001b[0m\u001b[1;33m]\u001b[0m\u001b[1;33m:\u001b[0m\u001b[1;33m\u001b[0m\u001b[1;33m\u001b[0m\u001b[0m\n",
      "\u001b[1;32mD:\\anaconda3\\lib\\site-packages\\selenium\\webdriver\\remote\\webdriver.py\u001b[0m in \u001b[0;36mexecute\u001b[1;34m(self, driver_command, params)\u001b[0m\n\u001b[0;32m    442\u001b[0m         \u001b[0mresponse\u001b[0m \u001b[1;33m=\u001b[0m \u001b[0mself\u001b[0m\u001b[1;33m.\u001b[0m\u001b[0mcommand_executor\u001b[0m\u001b[1;33m.\u001b[0m\u001b[0mexecute\u001b[0m\u001b[1;33m(\u001b[0m\u001b[0mdriver_command\u001b[0m\u001b[1;33m,\u001b[0m \u001b[0mparams\u001b[0m\u001b[1;33m)\u001b[0m\u001b[1;33m\u001b[0m\u001b[1;33m\u001b[0m\u001b[0m\n\u001b[0;32m    443\u001b[0m         \u001b[1;32mif\u001b[0m \u001b[0mresponse\u001b[0m\u001b[1;33m:\u001b[0m\u001b[1;33m\u001b[0m\u001b[1;33m\u001b[0m\u001b[0m\n\u001b[1;32m--> 444\u001b[1;33m             \u001b[0mself\u001b[0m\u001b[1;33m.\u001b[0m\u001b[0merror_handler\u001b[0m\u001b[1;33m.\u001b[0m\u001b[0mcheck_response\u001b[0m\u001b[1;33m(\u001b[0m\u001b[0mresponse\u001b[0m\u001b[1;33m)\u001b[0m\u001b[1;33m\u001b[0m\u001b[1;33m\u001b[0m\u001b[0m\n\u001b[0m\u001b[0;32m    445\u001b[0m             \u001b[0mresponse\u001b[0m\u001b[1;33m[\u001b[0m\u001b[1;34m\"value\"\u001b[0m\u001b[1;33m]\u001b[0m \u001b[1;33m=\u001b[0m \u001b[0mself\u001b[0m\u001b[1;33m.\u001b[0m\u001b[0m_unwrap_value\u001b[0m\u001b[1;33m(\u001b[0m\u001b[0mresponse\u001b[0m\u001b[1;33m.\u001b[0m\u001b[0mget\u001b[0m\u001b[1;33m(\u001b[0m\u001b[1;34m\"value\"\u001b[0m\u001b[1;33m,\u001b[0m \u001b[1;32mNone\u001b[0m\u001b[1;33m)\u001b[0m\u001b[1;33m)\u001b[0m\u001b[1;33m\u001b[0m\u001b[1;33m\u001b[0m\u001b[0m\n\u001b[0;32m    446\u001b[0m             \u001b[1;32mreturn\u001b[0m \u001b[0mresponse\u001b[0m\u001b[1;33m\u001b[0m\u001b[1;33m\u001b[0m\u001b[0m\n",
      "\u001b[1;32mD:\\anaconda3\\lib\\site-packages\\selenium\\webdriver\\remote\\errorhandler.py\u001b[0m in \u001b[0;36mcheck_response\u001b[1;34m(self, response)\u001b[0m\n\u001b[0;32m    247\u001b[0m                 \u001b[0malert_text\u001b[0m \u001b[1;33m=\u001b[0m \u001b[0mvalue\u001b[0m\u001b[1;33m[\u001b[0m\u001b[1;34m\"alert\"\u001b[0m\u001b[1;33m]\u001b[0m\u001b[1;33m.\u001b[0m\u001b[0mget\u001b[0m\u001b[1;33m(\u001b[0m\u001b[1;34m\"text\"\u001b[0m\u001b[1;33m)\u001b[0m\u001b[1;33m\u001b[0m\u001b[1;33m\u001b[0m\u001b[0m\n\u001b[0;32m    248\u001b[0m             \u001b[1;32mraise\u001b[0m \u001b[0mexception_class\u001b[0m\u001b[1;33m(\u001b[0m\u001b[0mmessage\u001b[0m\u001b[1;33m,\u001b[0m \u001b[0mscreen\u001b[0m\u001b[1;33m,\u001b[0m \u001b[0mstacktrace\u001b[0m\u001b[1;33m,\u001b[0m \u001b[0malert_text\u001b[0m\u001b[1;33m)\u001b[0m  \u001b[1;31m# type: ignore[call-arg]  # mypy is not smart enough here\u001b[0m\u001b[1;33m\u001b[0m\u001b[1;33m\u001b[0m\u001b[0m\n\u001b[1;32m--> 249\u001b[1;33m         \u001b[1;32mraise\u001b[0m \u001b[0mexception_class\u001b[0m\u001b[1;33m(\u001b[0m\u001b[0mmessage\u001b[0m\u001b[1;33m,\u001b[0m \u001b[0mscreen\u001b[0m\u001b[1;33m,\u001b[0m \u001b[0mstacktrace\u001b[0m\u001b[1;33m)\u001b[0m\u001b[1;33m\u001b[0m\u001b[1;33m\u001b[0m\u001b[0m\n\u001b[0m",
      "\u001b[1;31mNoSuchElementException\u001b[0m: Message: no such element: Unable to locate element: {\"method\":\"css selector\",\"selector\":\"#_pcmap_list_scroll_container > ul > li:nth-child(3) > div.ouxiq.icT4K > a:nth-child(1) > div > div > span.place_bluelink.YwYLL\"}\n  (Session info: chrome=107.0.5304.107)\nStacktrace:\nBacktrace:\n\tOrdinal0 [0x005CACD3+2075859]\n\tOrdinal0 [0x0055EE61+1633889]\n\tOrdinal0 [0x0045B7BD+571325]\n\tOrdinal0 [0x0048AC2F+764975]\n\tOrdinal0 [0x0048AE1B+765467]\n\tOrdinal0 [0x004BD0F2+970994]\n\tOrdinal0 [0x004A7364+881508]\n\tOrdinal0 [0x004BB56A+963946]\n\tOrdinal0 [0x004A7136+880950]\n\tOrdinal0 [0x0047FEFD+720637]\n\tOrdinal0 [0x00480F3F+724799]\n\tGetHandleVerifier [0x0087EED2+2769538]\n\tGetHandleVerifier [0x00870D95+2711877]\n\tGetHandleVerifier [0x0065A03A+521194]\n\tGetHandleVerifier [0x00658DA0+516432]\n\tOrdinal0 [0x0056682C+1665068]\n\tOrdinal0 [0x0056B128+1683752]\n\tOrdinal0 [0x0056B215+1683989]\n\tOrdinal0 [0x00576484+1729668]\n\tBaseThreadInitThunk [0x7711FA29+25]\n\tRtlGetAppContainerNamedObjectPath [0x773E7BBE+286]\n\tRtlGetAppContainerNamedObjectPath [0x773E7B8E+238]\n"
     ]
    }
   ],
   "source": [
    "driver.find_element(value=r'#_pcmap_list_scroll_container > ul > li:nth-child(3) > div.ouxiq.icT4K > a:nth-child(1) > div > div > span.place_bluelink.YwYLL', by='css selector')"
   ]
  },
  {
   "cell_type": "code",
   "execution_count": 25,
   "id": "5b805995-6d61-4605-9d0e-d44835806796",
   "metadata": {},
   "outputs": [
    {
     "name": "stdout",
     "output_type": "stream",
     "text": [
      "#_pcmap_list_scroll_container > ul > li:nth-child(1) > div.CHC5F > a > div > div > span.place_bluelink.TYaxT\n"
     ]
    },
    {
     "ename": "NoSuchElementException",
     "evalue": "Message: no such element: Unable to locate element: {\"method\":\"css selector\",\"selector\":\"#_pcmap_list_scroll_container > ul > li:nth-child(1) > div.CHC5F > a > div > div > span.place_bluelink.TYaxT\"}\n  (Session info: chrome=107.0.5304.107)\nStacktrace:\nBacktrace:\n\tOrdinal0 [0x005CACD3+2075859]\n\tOrdinal0 [0x0055EE61+1633889]\n\tOrdinal0 [0x0045B7BD+571325]\n\tOrdinal0 [0x0048AC2F+764975]\n\tOrdinal0 [0x0048AE1B+765467]\n\tOrdinal0 [0x004BD0F2+970994]\n\tOrdinal0 [0x004A7364+881508]\n\tOrdinal0 [0x004BB56A+963946]\n\tOrdinal0 [0x004A7136+880950]\n\tOrdinal0 [0x0047FEFD+720637]\n\tOrdinal0 [0x00480F3F+724799]\n\tGetHandleVerifier [0x0087EED2+2769538]\n\tGetHandleVerifier [0x00870D95+2711877]\n\tGetHandleVerifier [0x0065A03A+521194]\n\tGetHandleVerifier [0x00658DA0+516432]\n\tOrdinal0 [0x0056682C+1665068]\n\tOrdinal0 [0x0056B128+1683752]\n\tOrdinal0 [0x0056B215+1683989]\n\tOrdinal0 [0x00576484+1729668]\n\tBaseThreadInitThunk [0x7711FA29+25]\n\tRtlGetAppContainerNamedObjectPath [0x773E7BBE+286]\n\tRtlGetAppContainerNamedObjectPath [0x773E7B8E+238]\n",
     "output_type": "error",
     "traceback": [
      "\u001b[1;31m---------------------------------------------------------------------------\u001b[0m",
      "\u001b[1;31mNoSuchElementException\u001b[0m                    Traceback (most recent call last)",
      "\u001b[1;32m~\\AppData\\Local\\Temp/ipykernel_24024/2064695377.py\u001b[0m in \u001b[0;36m<module>\u001b[1;34m\u001b[0m\n\u001b[0;32m      1\u001b[0m \u001b[1;32mfor\u001b[0m \u001b[0mi\u001b[0m \u001b[1;32min\u001b[0m \u001b[0mrange\u001b[0m\u001b[1;33m(\u001b[0m\u001b[1;36m1\u001b[0m\u001b[1;33m,\u001b[0m \u001b[1;36m11\u001b[0m\u001b[1;33m)\u001b[0m\u001b[1;33m:\u001b[0m\u001b[1;33m\u001b[0m\u001b[1;33m\u001b[0m\u001b[0m\n\u001b[0;32m      2\u001b[0m     \u001b[0mprint\u001b[0m\u001b[1;33m(\u001b[0m\u001b[1;34mf'#_pcmap_list_scroll_container > ul > li:nth-child({i}) > div.CHC5F > a > div > div > span.place_bluelink.TYaxT'\u001b[0m\u001b[1;33m)\u001b[0m\u001b[1;33m\u001b[0m\u001b[1;33m\u001b[0m\u001b[0m\n\u001b[1;32m----> 3\u001b[1;33m     \u001b[0mdriver\u001b[0m\u001b[1;33m.\u001b[0m\u001b[0mfind_element\u001b[0m\u001b[1;33m(\u001b[0m\u001b[0mvalue\u001b[0m\u001b[1;33m=\u001b[0m\u001b[1;34mf'#_pcmap_list_scroll_container > ul > li:nth-child({i}) > div.CHC5F > a > div > div > span.place_bluelink.TYaxT'\u001b[0m\u001b[1;33m,\u001b[0m \u001b[0mby\u001b[0m\u001b[1;33m=\u001b[0m\u001b[1;34m'css selector'\u001b[0m\u001b[1;33m)\u001b[0m\u001b[1;33m\u001b[0m\u001b[1;33m\u001b[0m\u001b[0m\n\u001b[0m",
      "\u001b[1;32mD:\\anaconda3\\lib\\site-packages\\selenium\\webdriver\\remote\\webdriver.py\u001b[0m in \u001b[0;36mfind_element\u001b[1;34m(self, by, value)\u001b[0m\n\u001b[0;32m    859\u001b[0m             \u001b[0mvalue\u001b[0m \u001b[1;33m=\u001b[0m \u001b[1;34m'[name=\"%s\"]'\u001b[0m \u001b[1;33m%\u001b[0m \u001b[0mvalue\u001b[0m\u001b[1;33m\u001b[0m\u001b[1;33m\u001b[0m\u001b[0m\n\u001b[0;32m    860\u001b[0m \u001b[1;33m\u001b[0m\u001b[0m\n\u001b[1;32m--> 861\u001b[1;33m         \u001b[1;32mreturn\u001b[0m \u001b[0mself\u001b[0m\u001b[1;33m.\u001b[0m\u001b[0mexecute\u001b[0m\u001b[1;33m(\u001b[0m\u001b[0mCommand\u001b[0m\u001b[1;33m.\u001b[0m\u001b[0mFIND_ELEMENT\u001b[0m\u001b[1;33m,\u001b[0m \u001b[1;33m{\u001b[0m\u001b[1;34m\"using\"\u001b[0m\u001b[1;33m:\u001b[0m \u001b[0mby\u001b[0m\u001b[1;33m,\u001b[0m \u001b[1;34m\"value\"\u001b[0m\u001b[1;33m:\u001b[0m \u001b[0mvalue\u001b[0m\u001b[1;33m}\u001b[0m\u001b[1;33m)\u001b[0m\u001b[1;33m[\u001b[0m\u001b[1;34m\"value\"\u001b[0m\u001b[1;33m]\u001b[0m\u001b[1;33m\u001b[0m\u001b[1;33m\u001b[0m\u001b[0m\n\u001b[0m\u001b[0;32m    862\u001b[0m \u001b[1;33m\u001b[0m\u001b[0m\n\u001b[0;32m    863\u001b[0m     \u001b[1;32mdef\u001b[0m \u001b[0mfind_elements\u001b[0m\u001b[1;33m(\u001b[0m\u001b[0mself\u001b[0m\u001b[1;33m,\u001b[0m \u001b[0mby\u001b[0m\u001b[1;33m=\u001b[0m\u001b[0mBy\u001b[0m\u001b[1;33m.\u001b[0m\u001b[0mID\u001b[0m\u001b[1;33m,\u001b[0m \u001b[0mvalue\u001b[0m\u001b[1;33m:\u001b[0m \u001b[0mOptional\u001b[0m\u001b[1;33m[\u001b[0m\u001b[0mstr\u001b[0m\u001b[1;33m]\u001b[0m \u001b[1;33m=\u001b[0m \u001b[1;32mNone\u001b[0m\u001b[1;33m)\u001b[0m \u001b[1;33m->\u001b[0m \u001b[0mList\u001b[0m\u001b[1;33m[\u001b[0m\u001b[0mWebElement\u001b[0m\u001b[1;33m]\u001b[0m\u001b[1;33m:\u001b[0m\u001b[1;33m\u001b[0m\u001b[1;33m\u001b[0m\u001b[0m\n",
      "\u001b[1;32mD:\\anaconda3\\lib\\site-packages\\selenium\\webdriver\\remote\\webdriver.py\u001b[0m in \u001b[0;36mexecute\u001b[1;34m(self, driver_command, params)\u001b[0m\n\u001b[0;32m    442\u001b[0m         \u001b[0mresponse\u001b[0m \u001b[1;33m=\u001b[0m \u001b[0mself\u001b[0m\u001b[1;33m.\u001b[0m\u001b[0mcommand_executor\u001b[0m\u001b[1;33m.\u001b[0m\u001b[0mexecute\u001b[0m\u001b[1;33m(\u001b[0m\u001b[0mdriver_command\u001b[0m\u001b[1;33m,\u001b[0m \u001b[0mparams\u001b[0m\u001b[1;33m)\u001b[0m\u001b[1;33m\u001b[0m\u001b[1;33m\u001b[0m\u001b[0m\n\u001b[0;32m    443\u001b[0m         \u001b[1;32mif\u001b[0m \u001b[0mresponse\u001b[0m\u001b[1;33m:\u001b[0m\u001b[1;33m\u001b[0m\u001b[1;33m\u001b[0m\u001b[0m\n\u001b[1;32m--> 444\u001b[1;33m             \u001b[0mself\u001b[0m\u001b[1;33m.\u001b[0m\u001b[0merror_handler\u001b[0m\u001b[1;33m.\u001b[0m\u001b[0mcheck_response\u001b[0m\u001b[1;33m(\u001b[0m\u001b[0mresponse\u001b[0m\u001b[1;33m)\u001b[0m\u001b[1;33m\u001b[0m\u001b[1;33m\u001b[0m\u001b[0m\n\u001b[0m\u001b[0;32m    445\u001b[0m             \u001b[0mresponse\u001b[0m\u001b[1;33m[\u001b[0m\u001b[1;34m\"value\"\u001b[0m\u001b[1;33m]\u001b[0m \u001b[1;33m=\u001b[0m \u001b[0mself\u001b[0m\u001b[1;33m.\u001b[0m\u001b[0m_unwrap_value\u001b[0m\u001b[1;33m(\u001b[0m\u001b[0mresponse\u001b[0m\u001b[1;33m.\u001b[0m\u001b[0mget\u001b[0m\u001b[1;33m(\u001b[0m\u001b[1;34m\"value\"\u001b[0m\u001b[1;33m,\u001b[0m \u001b[1;32mNone\u001b[0m\u001b[1;33m)\u001b[0m\u001b[1;33m)\u001b[0m\u001b[1;33m\u001b[0m\u001b[1;33m\u001b[0m\u001b[0m\n\u001b[0;32m    446\u001b[0m             \u001b[1;32mreturn\u001b[0m \u001b[0mresponse\u001b[0m\u001b[1;33m\u001b[0m\u001b[1;33m\u001b[0m\u001b[0m\n",
      "\u001b[1;32mD:\\anaconda3\\lib\\site-packages\\selenium\\webdriver\\remote\\errorhandler.py\u001b[0m in \u001b[0;36mcheck_response\u001b[1;34m(self, response)\u001b[0m\n\u001b[0;32m    247\u001b[0m                 \u001b[0malert_text\u001b[0m \u001b[1;33m=\u001b[0m \u001b[0mvalue\u001b[0m\u001b[1;33m[\u001b[0m\u001b[1;34m\"alert\"\u001b[0m\u001b[1;33m]\u001b[0m\u001b[1;33m.\u001b[0m\u001b[0mget\u001b[0m\u001b[1;33m(\u001b[0m\u001b[1;34m\"text\"\u001b[0m\u001b[1;33m)\u001b[0m\u001b[1;33m\u001b[0m\u001b[1;33m\u001b[0m\u001b[0m\n\u001b[0;32m    248\u001b[0m             \u001b[1;32mraise\u001b[0m \u001b[0mexception_class\u001b[0m\u001b[1;33m(\u001b[0m\u001b[0mmessage\u001b[0m\u001b[1;33m,\u001b[0m \u001b[0mscreen\u001b[0m\u001b[1;33m,\u001b[0m \u001b[0mstacktrace\u001b[0m\u001b[1;33m,\u001b[0m \u001b[0malert_text\u001b[0m\u001b[1;33m)\u001b[0m  \u001b[1;31m# type: ignore[call-arg]  # mypy is not smart enough here\u001b[0m\u001b[1;33m\u001b[0m\u001b[1;33m\u001b[0m\u001b[0m\n\u001b[1;32m--> 249\u001b[1;33m         \u001b[1;32mraise\u001b[0m \u001b[0mexception_class\u001b[0m\u001b[1;33m(\u001b[0m\u001b[0mmessage\u001b[0m\u001b[1;33m,\u001b[0m \u001b[0mscreen\u001b[0m\u001b[1;33m,\u001b[0m \u001b[0mstacktrace\u001b[0m\u001b[1;33m)\u001b[0m\u001b[1;33m\u001b[0m\u001b[1;33m\u001b[0m\u001b[0m\n\u001b[0m",
      "\u001b[1;31mNoSuchElementException\u001b[0m: Message: no such element: Unable to locate element: {\"method\":\"css selector\",\"selector\":\"#_pcmap_list_scroll_container > ul > li:nth-child(1) > div.CHC5F > a > div > div > span.place_bluelink.TYaxT\"}\n  (Session info: chrome=107.0.5304.107)\nStacktrace:\nBacktrace:\n\tOrdinal0 [0x005CACD3+2075859]\n\tOrdinal0 [0x0055EE61+1633889]\n\tOrdinal0 [0x0045B7BD+571325]\n\tOrdinal0 [0x0048AC2F+764975]\n\tOrdinal0 [0x0048AE1B+765467]\n\tOrdinal0 [0x004BD0F2+970994]\n\tOrdinal0 [0x004A7364+881508]\n\tOrdinal0 [0x004BB56A+963946]\n\tOrdinal0 [0x004A7136+880950]\n\tOrdinal0 [0x0047FEFD+720637]\n\tOrdinal0 [0x00480F3F+724799]\n\tGetHandleVerifier [0x0087EED2+2769538]\n\tGetHandleVerifier [0x00870D95+2711877]\n\tGetHandleVerifier [0x0065A03A+521194]\n\tGetHandleVerifier [0x00658DA0+516432]\n\tOrdinal0 [0x0056682C+1665068]\n\tOrdinal0 [0x0056B128+1683752]\n\tOrdinal0 [0x0056B215+1683989]\n\tOrdinal0 [0x00576484+1729668]\n\tBaseThreadInitThunk [0x7711FA29+25]\n\tRtlGetAppContainerNamedObjectPath [0x773E7BBE+286]\n\tRtlGetAppContainerNamedObjectPath [0x773E7B8E+238]\n"
     ]
    }
   ],
   "source": [
    "for i in range(1, 11):\n",
    "    print(f'#_pcmap_list_scroll_container > ul > li:nth-child({i}) > div.CHC5F > a > div > div > span.place_bluelink.TYaxT')\n",
    "    driver.find_element(value=f'#_pcmap_list_scroll_container > ul > li:nth-child({i}) > div.CHC5F > a > div > div > span.place_bluelink.TYaxT', by='css selector')"
   ]
  },
  {
   "cell_type": "code",
   "execution_count": 15,
   "id": "1a5ea57c-695b-4d06-8db9-447d9ac36267",
   "metadata": {},
   "outputs": [],
   "source": [
    "# 엔터키 입력\n",
    "driver.find_element(value=\"#input_search1668668642913\",  by = 'css selector').send_keys(Keys.RETURN)"
   ]
  },
  {
   "cell_type": "code",
   "execution_count": 20,
   "id": "2c3ea3b1-8771-433b-9209-f4734d3f017b",
   "metadata": {},
   "outputs": [
    {
     "data": {
      "text/plain": [
       "''"
      ]
     },
     "execution_count": 20,
     "metadata": {},
     "output_type": "execute_result"
    }
   ],
   "source": []
  },
  {
   "cell_type": "code",
   "execution_count": 101,
   "id": "7d5e3ad9-c9db-4834-8b89-00e01078e949",
   "metadata": {},
   "outputs": [],
   "source": [
    "#total_answer_length = \n",
    "try:\n",
    "    total_answer_length = int(driver.find_element(value=\"#info\\.search\\.place\\.cnt\",  by = 'css selector').text)\n",
    "except:\n",
    "    total_answer_length = 0\n",
    "    # 끝"
   ]
  },
  {
   "cell_type": "code",
   "execution_count": 115,
   "id": "ced75d17-2a50-4c27-9074-e77970a5b6ef",
   "metadata": {},
   "outputs": [],
   "source": [
    "def get_data_from_page():\n",
    "    c = 1\n",
    "    while True:\n",
    "        try:\n",
    "            name = driver.find_element(value=\"#info\\.search\\.place\\.list > li:nth-child(%d) > div.head_item.clickArea > strong > a.link_name\"%c,by='css selector').text\n",
    "            address = driver.find_element(value=\"#info\\.search\\.place\\.list > li:nth-child(%d) > div.info_item > div.addr > p:nth-child(1)\"%c,by='css selector').text\n",
    "            score = driver.find_element(value=\"#info\\.search\\.place\\.list > li:nth-child(%d) > div.rating.clickArea > span.score > em\"%c,by='css selector').text\n",
    "            answer_list.append(dict(name=name, address = address, score = score))\n",
    "            c+=1\n",
    "        except:\n",
    "            break"
   ]
  },
  {
   "cell_type": "code",
   "execution_count": null,
   "id": "915f6d2f-b6cd-48f6-a919-38968fcbf7e9",
   "metadata": {},
   "outputs": [],
   "source": [
    "def move_to_next_page(page, num=5):\n",
    "    print(page)\n",
    "    if page%5!=0:\n",
    "        if driver.find_element(value=\"#info\\.search\\.page\\.no%d\"%(page%num+1),by='css selector'):\n",
    "            driver.find_element(value=\"#info\\.search\\.page\\.no%d\"%(page%num+1),by='css selector').click()\n",
    "            driver.implicitly_wait(1)\n",
    "        else:\n",
    "            driver.find_element(value=\"#info\\.search\\.page\\.next\",by='css selector').click()\n",
    "            driver.implicitly_wait(1)\n",
    "    else:\n",
    "        driver.find_element(value=\"#info\\.search\\.page\\.next\",by='css selector').click()\n",
    "        driver.implicitly_wait(1)\n",
    "        # 그대로 끝이거나\n",
    "        # 다음 세션으로 이동하거나.\n",
    "            # 다음 세션이 없다면.\n",
    "            "
   ]
  },
  {
   "cell_type": "code",
   "execution_count": 121,
   "id": "7ad081a2-5444-4604-8648-aefcf791cae7",
   "metadata": {},
   "outputs": [],
   "source": [
    "answer_list = []"
   ]
  },
  {
   "cell_type": "code",
   "execution_count": 122,
   "id": "0446c4c1-2b8e-4464-8d17-de2a85d0bd93",
   "metadata": {
    "tags": []
   },
   "outputs": [
    {
     "name": "stdout",
     "output_type": "stream",
     "text": [
      "ha\n",
      "2\n",
      "3\n",
      "4\n",
      "5\n",
      "6\n",
      "7\n",
      "8\n",
      "9\n",
      "10\n",
      "11\n",
      "12\n",
      "13\n",
      "14\n",
      "15\n",
      "16\n"
     ]
    }
   ],
   "source": [
    "page = 1\n",
    "get_data_from_page()\n",
    "# 장소 더 보기\n",
    "# 더 보기가 있다면 클릭.\n",
    "if driver.find_element(value=\"#info\\.search\\.place\\.more\",by='css selector'):\n",
    "    # 클릭.\n",
    "    print('ha')\n",
    "    driver.find_element(value=\"#info\\.search\\.place\\.more\",by='css selector').click()\n",
    "    driver.implicitly_wait(1)\n",
    "    page+=1\n",
    "while True:\n",
    "    get_data_from_page()\n",
    "    move_to_next_page(page)\n",
    "    if len(answer_list)>=total_answer_length:\n",
    "        break\n",
    "    else:\n",
    "        page+=1"
   ]
  },
  {
   "cell_type": "markdown",
   "id": "7cf19d1d-ff86-4bab-a250-b1e5375c7da2",
   "metadata": {},
   "source": [
    "# 행안부 데이터"
   ]
  },
  {
   "cell_type": "code",
   "execution_count": 8,
   "id": "b0c9dd51-911f-4e7f-bfc0-e7fe3708e10b",
   "metadata": {},
   "outputs": [
    {
     "name": "stderr",
     "output_type": "stream",
     "text": [
      "D:\\anaconda3\\lib\\site-packages\\openpyxl\\styles\\stylesheet.py:226: UserWarning: Workbook contains no default style, apply openpyxl's default\n",
      "  warn(\"Workbook contains no default style, apply openpyxl's default\")\n"
     ]
    }
   ],
   "source": [
    "data = pd.read_excel('../data/07_24_04_P.xlsx')"
   ]
  },
  {
   "cell_type": "code",
   "execution_count": 43,
   "id": "68a0c63c-6037-4d5b-ad97-7b9763342994",
   "metadata": {},
   "outputs": [
    {
     "data": {
      "text/plain": [
       "Index(['번호', '개방서비스명', '개방서비스아이디', '개방자치단체코드', '관리번호', '인허가일자', '인허가취소일자',\n",
       "       '영업상태구분코드', '영업상태명', '상세영업상태코드', '상세영업상태명', '폐업일자', '휴업시작일자', '휴업종료일자',\n",
       "       '재개업일자', '소재지전화', '소재지면적', '소재지우편번호', '소재지전체주소', '도로명전체주소', '도로명우편번호',\n",
       "       '사업장명', '최종수정시점', '데이터갱신구분', '데이터갱신일자', '업태구분명', '좌표정보(X)', '좌표정보(Y)',\n",
       "       '위생업태명', '남성종사자수', '여성종사자수', '영업장주변구분명', '등급구분명', '급수시설구분명', '총직원수',\n",
       "       '본사직원수', '공장사무직직원수', '공장판매직직원수', '공장생산직직원수', '건물소유구분명', '보증액', '월세액',\n",
       "       '다중이용업소여부', '시설총규모', '전통업소지정번호', '전통업소주된음식', '홈페이지'],\n",
       "      dtype='object')"
      ]
     },
     "execution_count": 43,
     "metadata": {},
     "output_type": "execute_result"
    }
   ],
   "source": [
    "data.keys()"
   ]
  },
  {
   "cell_type": "code",
   "execution_count": 20,
   "id": "4f14fb1b-d0fb-43bd-a801-5f406531addc",
   "metadata": {},
   "outputs": [
    {
     "name": "stdout",
     "output_type": "stream",
     "text": [
      "300000\n"
     ]
    }
   ],
   "source": [
    "print(len(data))"
   ]
  },
  {
   "cell_type": "code",
   "execution_count": 44,
   "id": "011b4881-3a85-426e-ba4e-beedc1f96188",
   "metadata": {},
   "outputs": [],
   "source": [
    "sub_data = data.loc[data['영업상태명']=='영업/정상', ['사업장명','소재지전체주소','도로명전체주소']]"
   ]
  },
  {
   "cell_type": "code",
   "execution_count": 47,
   "id": "133f1798-3231-4634-bffd-2de7d5808ea3",
   "metadata": {
    "tags": []
   },
   "outputs": [
    {
     "data": {
      "text/html": [
       "<div>\n",
       "<style scoped>\n",
       "    .dataframe tbody tr th:only-of-type {\n",
       "        vertical-align: middle;\n",
       "    }\n",
       "\n",
       "    .dataframe tbody tr th {\n",
       "        vertical-align: top;\n",
       "    }\n",
       "\n",
       "    .dataframe thead th {\n",
       "        text-align: right;\n",
       "    }\n",
       "</style>\n",
       "<table border=\"1\" class=\"dataframe\">\n",
       "  <thead>\n",
       "    <tr style=\"text-align: right;\">\n",
       "      <th></th>\n",
       "      <th>사업장명</th>\n",
       "      <th>소재지전체주소</th>\n",
       "      <th>도로명전체주소</th>\n",
       "    </tr>\n",
       "  </thead>\n",
       "  <tbody>\n",
       "    <tr>\n",
       "      <th>11782</th>\n",
       "      <td>서울마님죽 청와대점</td>\n",
       "      <td>서울특별시 종로구 통인동 46-19 1층</td>\n",
       "      <td>서울특별시 종로구 필운대로6길 10, 1층 (통인동)</td>\n",
       "    </tr>\n",
       "    <tr>\n",
       "      <th>11783</th>\n",
       "      <td>야젠</td>\n",
       "      <td>서울특별시 종로구 관철동 12-11 1층</td>\n",
       "      <td>서울특별시 종로구 삼일대로15길 24, 1층 (관철동)</td>\n",
       "    </tr>\n",
       "    <tr>\n",
       "      <th>11784</th>\n",
       "      <td>오늘은 즉떡</td>\n",
       "      <td>서울특별시 종로구 도렴동 60 도렴빌딩</td>\n",
       "      <td>서울특별시 종로구 새문안로5길 37, 도렴빌딩 지층40,41호 (도렴동)</td>\n",
       "    </tr>\n",
       "    <tr>\n",
       "      <th>11785</th>\n",
       "      <td>혼밥의 신</td>\n",
       "      <td>서울특별시 종로구 수송동 58 지하118호</td>\n",
       "      <td>서울특별시 종로구 삼봉로 81, 두산위브파빌리온 지하118호 (수송동)</td>\n",
       "    </tr>\n",
       "    <tr>\n",
       "      <th>11786</th>\n",
       "      <td>아티클(article)</td>\n",
       "      <td>서울특별시 종로구 누하동 17-2</td>\n",
       "      <td>서울특별시 종로구 자하문로7길 69-3, 1, 2층 (누하동)</td>\n",
       "    </tr>\n",
       "  </tbody>\n",
       "</table>\n",
       "</div>"
      ],
      "text/plain": [
       "               사업장명                  소재지전체주소  \\\n",
       "11782    서울마님죽 청와대점  서울특별시 종로구 통인동 46-19 1층    \n",
       "11783            야젠  서울특별시 종로구 관철동 12-11 1층    \n",
       "11784        오늘은 즉떡   서울특별시 종로구 도렴동 60 도렴빌딩    \n",
       "11785         혼밥의 신  서울특별시 종로구 수송동 58 지하118호   \n",
       "11786  아티클(article)      서울특별시 종로구 누하동 17-2    \n",
       "\n",
       "                                        도로명전체주소  \n",
       "11782             서울특별시 종로구 필운대로6길 10, 1층 (통인동)  \n",
       "11783            서울특별시 종로구 삼일대로15길 24, 1층 (관철동)  \n",
       "11784  서울특별시 종로구 새문안로5길 37, 도렴빌딩 지층40,41호 (도렴동)  \n",
       "11785   서울특별시 종로구 삼봉로 81, 두산위브파빌리온 지하118호 (수송동)  \n",
       "11786        서울특별시 종로구 자하문로7길 69-3, 1, 2층 (누하동)  "
      ]
     },
     "execution_count": 47,
     "metadata": {},
     "output_type": "execute_result"
    }
   ],
   "source": [
    "sub_data.head()"
   ]
  },
  {
   "cell_type": "code",
   "execution_count": 29,
   "id": "af681910-d530-47b6-b636-c93fda9d68a0",
   "metadata": {},
   "outputs": [
    {
     "data": {
      "text/plain": [
       "64731"
      ]
     },
     "execution_count": 30,
     "metadata": {},
     "output_type": "execute_result"
    }
   ],
   "source": [
    "len(sub_data['사업장명'].unique()"
   ]
  },
  {
   "cell_type": "code",
   "execution_count": 24,
   "id": "1e691584-aa5d-497d-91e5-c0f7a1b7c26c",
   "metadata": {},
   "outputs": [
    {
     "data": {
      "text/plain": [
       "1"
      ]
     },
     "execution_count": 24,
     "metadata": {},
     "output_type": "execute_result"
    }
   ],
   "source": [
    "(sub_data['사업장명']=='농민백암순대').sum()"
   ]
  },
  {
   "cell_type": "code",
   "execution_count": null,
   "id": "43b2ef35-17a4-4e92-8a7a-3afbbc1a1df4",
   "metadata": {},
   "outputs": [],
   "source": [
    "    next_button = '#contents > div > div.search-answer-list > div > a:nth-child(13)'\n",
    "    driver.get(default_url)\n",
    "    before = '0'\n",
    "    current = driver.find_element_by_css_selector('#contents > div > div.search-answer-list > div > span').text\n",
    "    cnt = 1\n",
    "    content_cnt = 1\n",
    "    while True:\n",
    "        logger2.info(current+' page')\n",
    "        # url list \n",
    "        current = driver.find_element_by_css_selector('#contents > div > div.search-answer-list > div > span').text\n",
    "        if before == current:\n",
    "            logger1.info('download end')\n",
    "            break\n",
    "            \n",
    "        first = driver.find_elements_by_css_selector('#poArtiSearList > table > tbody > tr')\n",
    "        # url\n",
    "        urls = [i.find_element_by_css_selector('td:nth-child(3)>a').get_attribute('href') for i in first]\n",
    "        # title\n",
    "        titles = [i.find_element_by_class_name('subject').text for i in first]\n",
    "        for _,(j,i) in enumerate(zip(titles,urls)):\n",
    "            logger1.info(j)\n",
    "            driver.get(i)\n",
    "            candi = driver.find_element_by_css_selector('#reportDetail > div.report-detail-left > div > div:nth-child(1) > div')\n",
    "            try:\n",
    "                tmp1=candi.find_element_by_id('korAbst').text\n",
    "                tmp2=candi.find_element_by_id('engAbst').text\n",
    "                if tmp1==tmp2:\n",
    "                    # 보통 영어임 -> 영어만 저장\n",
    "                    tmp1=candi.find_element_by_id('korAbst').text\n",
    "                    f = open(os.path.join(save_dir,'eng','%d.txt'%_),'w',encoding='utf-8')\n",
    "                    f.write(j)\n",
    "                    f.write('\\n\\n')\n",
    "                    f.write(tmp1)\n",
    "                    f.write('\\n\\n')\n",
    "                    f.close()\n",
    "                    driver.back()\n",
    "                    \n",
    "\n",
    "                f = open(os.path.join(save_dir,'eng_kor','%d.txt'%_),'w',encoding='utf-8')\n",
    "                f.write(j)\n",
    "                f.write('\\n\\n')\n",
    "                f.write(tmp1)\n",
    "                f.write('\\n\\n')\n",
    "                f.write(tmp2)\n",
    "                f.close()\n",
    "                driver.back()\n",
    "                \n",
    "                \n",
    "            except:\n",
    "                # just english\n",
    "                try:\n",
    "                    tmp1=candi.find_element_by_id('korAbst').text\n",
    "                    \n",
    "                    f = open(os.path.join(save_dir,'eng','%d.txt'%_),'w',encoding='utf-8')\n",
    "                    f.write(j)\n",
    "                    f.write('\\n\\n')\n",
    "                    f.write(tmp1)\n",
    "                    f.close()\n",
    "                    driver.back()\n",
    "                    \n",
    "                except:\n",
    "                    try:\n",
    "                        tmp2=candi.find_element_by_id('engAbst').text\n",
    "                        f = open(os.path.join(save_dir,'eng','%d.txt'%_),'w',encoding='utf-8')\n",
    "                        f.write(j)\n",
    "                        f.write('\\n\\n')\n",
    "                        f.write(tmp2)\n",
    "                        f.close()\n",
    "                        driver.back()\n",
    "                    except:\n",
    "                        driver.back()\n",
    "                        continue\n",
    "                    \n",
    "            \n",
    "        next_button = '#contents > div > div.search-answer-list > div > a:nth-child(13)'\n",
    "        target = driver.find_element_by_css_selector(next_button)\n",
    "        driver.execute_script(\"arguments[0].scrollIntoView(true);\", target) # target이 있을 때까지 스크롤 다운\n",
    "        time.sleep(1)\n",
    "        #driver.implicitly_wait(1)\n",
    "        driver.find_element_by_css_selector(next_button).click()\n",
    "        driver.implicitly_wait(1)\n",
    "        before = current\n",
    "        cnt+=1"
   ]
  }
 ],
 "metadata": {
  "kernelspec": {
   "display_name": "Python 3 (ipykernel)",
   "language": "python",
   "name": "python3"
  },
  "language_info": {
   "codemirror_mode": {
    "name": "ipython",
    "version": 3
   },
   "file_extension": ".py",
   "mimetype": "text/x-python",
   "name": "python",
   "nbconvert_exporter": "python",
   "pygments_lexer": "ipython3",
   "version": "3.9.7"
  }
 },
 "nbformat": 4,
 "nbformat_minor": 5
}
