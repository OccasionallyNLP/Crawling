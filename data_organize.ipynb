{
 "cells": [
  {
   "cell_type": "code",
   "execution_count": 1,
   "id": "c7ccf8c9-43e9-434e-b781-4c3daaa573fc",
   "metadata": {},
   "outputs": [],
   "source": [
    "import pandas as pd\n",
    "import numpy as np\n",
    "import os\n",
    "import json"
   ]
  },
  {
   "cell_type": "code",
   "execution_count": 2,
   "id": "73843413-9513-4267-b94a-50e01dfb0308",
   "metadata": {
    "tags": []
   },
   "outputs": [
    {
     "name": "stderr",
     "output_type": "stream",
     "text": [
      "/home/dialog/anaconda3/lib/python3.9/site-packages/openpyxl/styles/stylesheet.py:226: UserWarning: Workbook contains no default style, apply openpyxl's default\n",
      "  warn(\"Workbook contains no default style, apply openpyxl's default\")\n"
     ]
    }
   ],
   "source": [
    "# 일반\n",
    "data_1 = pd.read_excel('./raw/6110000_서울특별시_07_24_02_P_관광유흥음식점업.xlsx')\n",
    "# 휴게\n",
    "data_2 = pd.read_excel('./raw/6110000_서울특별시_07_24_03_P_외국인전용유흥음식점업.xlsx')\n",
    "# 외국인\n",
    "data_3 = pd.read_excel('./raw/6110000_서울특별시_07_24_04_P_일반음식점.xlsx')\n",
    "# 관광\n",
    "data_4 = pd.read_excel('./raw/6110000_서울특별시_07_24_05_P_휴게음식점.xlsx')"
   ]
  },
  {
   "cell_type": "code",
   "execution_count": 3,
   "id": "8d2e468a-5796-42e1-b892-279938533fbe",
   "metadata": {},
   "outputs": [],
   "source": [
    "data = pd.concat([data_1,data_2,data_3,data_4],axis=0)"
   ]
  },
  {
   "cell_type": "code",
   "execution_count": 4,
   "id": "0cbbafbe-5d47-42cb-ada4-02180d6505a5",
   "metadata": {},
   "outputs": [],
   "source": [
    "# 자치구 추출\n",
    "data['자치구']=float('nan')\n",
    "data.loc[data['소재지전체주소'].notna(),'자치구']=data.loc[data['소재지전체주소'].notna(),'소재지전체주소'].apply(lambda i : i.strip().split()[1])\n",
    "data.loc[data['자치구'].isna(),'자치구']=data.loc[data['자치구'].isna(),'도로명전체주소'].apply(lambda i : i.strip().split()[1])"
   ]
  },
  {
   "cell_type": "code",
   "execution_count": 5,
   "id": "42c221b9-e779-4a6b-ab36-0627a8131fd6",
   "metadata": {},
   "outputs": [],
   "source": [
    "data_in_business=data.loc[data['영업상태명']=='영업/정상',['사업장명','소재지전체주소','도로명전체주소','자치구']]"
   ]
  },
  {
   "cell_type": "code",
   "execution_count": 6,
   "id": "c895477b-efbf-4668-9506-fbd76bc412d7",
   "metadata": {},
   "outputs": [],
   "source": [
    "data_not_in_business=data.loc[data['영업상태명']!='영업/정상',['사업장명','소재지전체주소','도로명전체주소','자치구']]"
   ]
  },
  {
   "cell_type": "markdown",
   "id": "75d9dd59-5307-4635-8e4a-aeb0c765ff80",
   "metadata": {},
   "source": [
    "# 영업 중인 곳, 구로 나누기\n",
    "- 중복 가능"
   ]
  },
  {
   "cell_type": "code",
   "execution_count": 7,
   "id": "ac141946-6c7b-4def-97e7-4b793bdefe2a",
   "metadata": {},
   "outputs": [],
   "source": [
    "서울시_자치구 = [i.strip() for i in  open('./서울시_자치구.txt','r',encoding='utf-8').readlines()]"
   ]
  },
  {
   "cell_type": "code",
   "execution_count": 9,
   "id": "dab3ec9f-24f3-40ca-a7e7-cc2764d20b2a",
   "metadata": {
    "tags": []
   },
   "outputs": [],
   "source": [
    "statistic={}\n",
    "for gu in 서울시_자치구:\n",
    "    gu_data = {}\n",
    "    tmp = data_in_business.loc[data_in_business['자치구']==gu,:]\n",
    "    tmp.to_csv('./Seoul/%s.csv'%gu, index=False)\n",
    "    data_not_in_business.loc[data_not_in_business['자치구']==gu,:].to_csv('./Seoul/%s_not_in_business.csv'%gu, index=False)\n",
    "    statistic[gu]=len(tmp)"
   ]
  },
  {
   "cell_type": "code",
   "execution_count": 10,
   "id": "a3084ae1-306b-49f2-b401-4d2043441997",
   "metadata": {},
   "outputs": [
    {
     "name": "stdout",
     "output_type": "stream",
     "text": [
      "{'강남구': 4066, '강동구': 1373, '강북구': 4347, '강서구': 8173, '관악구': 1359, '광진구': 5722, '구로구': 5294, '금천구': 3996, '노원구': 5023, '도봉구': 3050, '동대문구': 5479, '동작구': 1050, '마포구': 10369, '서대문구': 4970, '서초구': 2203, '성동구': 4953, '성북구': 5385, '송파구': 2552, '양천구': 4262, '영등포구': 2098, '용산구': 6025, '은평구': 5191, '종로구': 8866, '중구': 8671, '중랑구': 4785}\n"
     ]
    }
   ],
   "source": [
    "print(statistic)"
   ]
  },
  {
   "cell_type": "code",
   "execution_count": 15,
   "id": "e98c809e-cd13-4942-bc6b-1fc02f061cea",
   "metadata": {},
   "outputs": [
    {
     "data": {
      "text/html": [
       "<div>\n",
       "<style scoped>\n",
       "    .dataframe tbody tr th:only-of-type {\n",
       "        vertical-align: middle;\n",
       "    }\n",
       "\n",
       "    .dataframe tbody tr th {\n",
       "        vertical-align: top;\n",
       "    }\n",
       "\n",
       "    .dataframe thead th {\n",
       "        text-align: right;\n",
       "    }\n",
       "</style>\n",
       "<table border=\"1\" class=\"dataframe\">\n",
       "  <thead>\n",
       "    <tr style=\"text-align: right;\">\n",
       "      <th></th>\n",
       "      <th>사업장명</th>\n",
       "      <th>소재지전체주소</th>\n",
       "      <th>도로명전체주소</th>\n",
       "      <th>자치구</th>\n",
       "    </tr>\n",
       "  </thead>\n",
       "  <tbody>\n",
       "    <tr>\n",
       "      <th>103364</th>\n",
       "      <td>소먹날 소한마리 정육식당</td>\n",
       "      <td>서울특별시 중랑구 망우동 490-31번지</td>\n",
       "      <td>서울특별시 중랑구 용마산로115길 76 (망우동)</td>\n",
       "      <td>중랑구</td>\n",
       "    </tr>\n",
       "    <tr>\n",
       "      <th>103365</th>\n",
       "      <td>옆집떡볶이</td>\n",
       "      <td>서울특별시 중랑구 중화동 307-5번지</td>\n",
       "      <td>서울특별시 중랑구 동일로 831 (중화동)</td>\n",
       "      <td>중랑구</td>\n",
       "    </tr>\n",
       "    <tr>\n",
       "      <th>103366</th>\n",
       "      <td>능이마을 사가정점</td>\n",
       "      <td>서울특별시 중랑구 면목동 648-31</td>\n",
       "      <td>서울특별시 중랑구 면목로39길 24 (면목동)</td>\n",
       "      <td>중랑구</td>\n",
       "    </tr>\n",
       "    <tr>\n",
       "      <th>103367</th>\n",
       "      <td>황금커피&amp;호프</td>\n",
       "      <td>서울특별시 중랑구 면목동 379-34 우진빌딩</td>\n",
       "      <td>서울특별시 중랑구 면목로 235, 우진빌딩 (면목동)</td>\n",
       "      <td>중랑구</td>\n",
       "    </tr>\n",
       "    <tr>\n",
       "      <th>103368</th>\n",
       "      <td>닭발돌이</td>\n",
       "      <td>서울특별시 중랑구 면목동 67-3번지</td>\n",
       "      <td>서울특별시 중랑구 용마산로 377 (면목동)</td>\n",
       "      <td>중랑구</td>\n",
       "    </tr>\n",
       "    <tr>\n",
       "      <th>...</th>\n",
       "      <td>...</td>\n",
       "      <td>...</td>\n",
       "      <td>...</td>\n",
       "      <td>...</td>\n",
       "    </tr>\n",
       "    <tr>\n",
       "      <th>27912</th>\n",
       "      <td>주노샌드</td>\n",
       "      <td>서울특별시 중랑구 면목동 354-1</td>\n",
       "      <td>서울특별시 중랑구 면목로 278, 2층 (면목동)</td>\n",
       "      <td>중랑구</td>\n",
       "    </tr>\n",
       "    <tr>\n",
       "      <th>27913</th>\n",
       "      <td>서오릉피자 사가정점</td>\n",
       "      <td>서울특별시 중랑구 면목동 636-18</td>\n",
       "      <td>서울특별시 중랑구 사가정로 384, 1층 (면목동)</td>\n",
       "      <td>중랑구</td>\n",
       "    </tr>\n",
       "    <tr>\n",
       "      <th>27914</th>\n",
       "      <td>이마트24 중화바른점</td>\n",
       "      <td>서울특별시 중랑구 중화동 23-2 1층</td>\n",
       "      <td>서울특별시 중랑구 동일로136나길 37, 1층 (중화동)</td>\n",
       "      <td>중랑구</td>\n",
       "    </tr>\n",
       "    <tr>\n",
       "      <th>27915</th>\n",
       "      <td>요거 프레소</td>\n",
       "      <td>서울특별시 중랑구 면목동 192-65 하나스위트</td>\n",
       "      <td>서울특별시 중랑구 봉우재로2길 3, 101호 (면목동, 하나스위트)</td>\n",
       "      <td>중랑구</td>\n",
       "    </tr>\n",
       "    <tr>\n",
       "      <th>27916</th>\n",
       "      <td>크럼비(Crum.B)</td>\n",
       "      <td>서울특별시 중랑구 면목동 550-16 로얄하이빌</td>\n",
       "      <td>서울특별시 중랑구 면목로57길 56, 1층 102호 (면목동, 로얄하이빌)</td>\n",
       "      <td>중랑구</td>\n",
       "    </tr>\n",
       "  </tbody>\n",
       "</table>\n",
       "<p>4785 rows × 4 columns</p>\n",
       "</div>"
      ],
      "text/plain": [
       "                 사업장명                      소재지전체주소  \\\n",
       "103364  소먹날 소한마리 정육식당      서울특별시 중랑구 망우동 490-31번지    \n",
       "103365          옆집떡볶이       서울특별시 중랑구 중화동 307-5번지    \n",
       "103366      능이마을 사가정점        서울특별시 중랑구 면목동 648-31    \n",
       "103367        황금커피&호프   서울특별시 중랑구 면목동 379-34 우진빌딩    \n",
       "103368           닭발돌이        서울특별시 중랑구 면목동 67-3번지    \n",
       "...               ...                          ...   \n",
       "27912            주노샌드         서울특별시 중랑구 면목동 354-1    \n",
       "27913      서오릉피자 사가정점        서울특별시 중랑구 면목동 636-18    \n",
       "27914     이마트24 중화바른점       서울특별시 중랑구 중화동 23-2 1층    \n",
       "27915          요거 프레소  서울특별시 중랑구 면목동 192-65 하나스위트    \n",
       "27916     크럼비(Crum.B)  서울특별시 중랑구 면목동 550-16 로얄하이빌    \n",
       "\n",
       "                                          도로명전체주소  자치구  \n",
       "103364                서울특별시 중랑구 용마산로115길 76 (망우동)  중랑구  \n",
       "103365                    서울특별시 중랑구 동일로 831 (중화동)  중랑구  \n",
       "103366                  서울특별시 중랑구 면목로39길 24 (면목동)  중랑구  \n",
       "103367              서울특별시 중랑구 면목로 235, 우진빌딩 (면목동)  중랑구  \n",
       "103368                   서울특별시 중랑구 용마산로 377 (면목동)  중랑구  \n",
       "...                                           ...  ...  \n",
       "27912                 서울특별시 중랑구 면목로 278, 2층 (면목동)  중랑구  \n",
       "27913                서울특별시 중랑구 사가정로 384, 1층 (면목동)  중랑구  \n",
       "27914             서울특별시 중랑구 동일로136나길 37, 1층 (중화동)  중랑구  \n",
       "27915       서울특별시 중랑구 봉우재로2길 3, 101호 (면목동, 하나스위트)  중랑구  \n",
       "27916   서울특별시 중랑구 면목로57길 56, 1층 102호 (면목동, 로얄하이빌)  중랑구  \n",
       "\n",
       "[4785 rows x 4 columns]"
      ]
     },
     "execution_count": 15,
     "metadata": {},
     "output_type": "execute_result"
    }
   ],
   "source": [
    "tmp"
   ]
  },
  {
   "cell_type": "code",
   "execution_count": 16,
   "id": "0c076f2f-26b5-46ef-a2c0-690d70141f48",
   "metadata": {},
   "outputs": [],
   "source": [
    "tmp = pd.read_csv('./Seoul/강남구.csv')"
   ]
  },
  {
   "cell_type": "code",
   "execution_count": 18,
   "id": "06a9334b-10ef-444a-83eb-6ce8f9af5fe0",
   "metadata": {},
   "outputs": [
    {
     "data": {
      "text/plain": [
       "RangeIndex(start=0, stop=4066, step=1)"
      ]
     },
     "execution_count": 18,
     "metadata": {},
     "output_type": "execute_result"
    }
   ],
   "source": [
    "tmp.index"
   ]
  },
  {
   "cell_type": "code",
   "execution_count": 19,
   "id": "63e287a1-8c6c-4edc-9be1-fc7113953231",
   "metadata": {},
   "outputs": [],
   "source": [
    "tmp['query']=None"
   ]
  },
  {
   "cell_type": "code",
   "execution_count": 22,
   "id": "4e7ef806-109b-4d32-96ac-5efd2b179f90",
   "metadata": {},
   "outputs": [],
   "source": [
    "def query_generation(df):\n",
    "    # nan\n",
    "    if type(df['소재지전체주소'])==float:\n",
    "        if type(df['도로명전체주소'])==float:\n",
    "            address = ''\n",
    "        else:\n",
    "            address = df['도로명전체주소']\n",
    "    else:\n",
    "        address = df['소재지전체주소']\n",
    "    if address: \n",
    "        address = ' '.join(address.split()[:3]).strip()\n",
    "    query = address+' '+df['사업장명']\n",
    "    return query.strip()"
   ]
  },
  {
   "cell_type": "code",
   "execution_count": 29,
   "id": "3a11c7b2-f183-45d6-8ab1-27eb53b26377",
   "metadata": {},
   "outputs": [
    {
     "data": {
      "text/plain": [
       "0                    서울특별시 강남구 세곡동 커스텀커피\n",
       "1                서울특별시 강남구 신사동 송오브송즈로스터즈\n",
       "2               서울특별시 강남구 역삼동 코코버블티 강남역점\n",
       "3               서울특별시 강남구 수서동 KT그룹희망나눔재단\n",
       "4                 서울특별시 강남구 논현동 에스프레소엔투샷\n",
       "                      ...               \n",
       "4061              서울특별시 강남구 수서동 씨유 수서럭키점\n",
       "4062             서울특별시 강남구 대치동 G PC방 대치점\n",
       "4063            서울특별시 강남구 역삼동 지에스25상록회관점\n",
       "4064    서울특별시 강남구 대치동 주식회사 청담은 롯데백화점 강남점\n",
       "4065    서울특별시 강남구 자곡동 픽처레스크(picturesque)\n",
       "Length: 4066, dtype: object"
      ]
     },
     "execution_count": 29,
     "metadata": {},
     "output_type": "execute_result"
    }
   ],
   "source": [
    "tmp.apply(query_generation, axis=1)"
   ]
  },
  {
   "cell_type": "code",
   "execution_count": 26,
   "id": "644943b9-f50d-4aa1-b2d8-9fd4696dad95",
   "metadata": {},
   "outputs": [
    {
     "data": {
      "text/plain": [
       "0            서울특별시 강남구 헌릉로569길 35, 지상1층 101호 (세곡동)\n",
       "1       서울특별시 강남구 논현로163길 17, 압구정 디자인빌딩 지상1층 (신사동)\n",
       "2                  서울특별시 강남구 강남대로96길 9, 지상1층 (역삼동)\n",
       "3               서울특별시 강남구 광평로47길 28, KT 지상6층 (수서동)\n",
       "4               서울특별시 강남구 언주로135길 32-3, 지상1층 (논현동)\n",
       "                           ...                    \n",
       "4061        서울특별시 강남구 광평로51길 49, 지상1층 (수서동, 주공아파트)\n",
       "4062            서울특별시 강남구 삼성로 349, 우진빌딩 지하1층 (대치동)\n",
       "4063          서울특별시 강남구 언주로98길 25, 청담빌딩 지상1층 (역삼동)\n",
       "4064           서울특별시 강남구 도곡로 401, 롯데백화점 지상6층 (대치동)\n",
       "4065              서울특별시 강남구 자곡로7길 32-2, 지상1층 (자곡동)\n",
       "Name: 도로명전체주소, Length: 4066, dtype: object"
      ]
     },
     "execution_count": 26,
     "metadata": {},
     "output_type": "execute_result"
    }
   ],
   "source": [
    "tmp['도로명전체주소'].fillna('')"
   ]
  }
 ],
 "metadata": {
  "kernelspec": {
   "display_name": "Python 3 (ipykernel)",
   "language": "python",
   "name": "python3"
  },
  "language_info": {
   "codemirror_mode": {
    "name": "ipython",
    "version": 3
   },
   "file_extension": ".py",
   "mimetype": "text/x-python",
   "name": "python",
   "nbconvert_exporter": "python",
   "pygments_lexer": "ipython3",
   "version": "3.9.7"
  }
 },
 "nbformat": 4,
 "nbformat_minor": 5
}
