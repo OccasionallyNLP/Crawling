{
 "cells": [
  {
   "cell_type": "code",
   "execution_count": 1,
   "id": "bc4b4a76-c66b-4efc-8abf-7001bb748ac7",
   "metadata": {},
   "outputs": [],
   "source": [
    "import selenium\n",
    "from selenium import webdriver\n",
    "from selenium.webdriver.common.keys import Keys\n",
    "import os\n",
    "import pandas as pd\n",
    "import argparse\n",
    "import string\n",
    "import pandas as pd\n",
    "import json\n",
    "from utils.utils import get_logs\n",
    "import time\n",
    "from tqdm import tqdm\n",
    "import copy\n",
    "import re"
   ]
  },
  {
   "cell_type": "code",
   "execution_count": 2,
   "id": "7d6bce76-1f5d-4208-abca-d2e85093c04e",
   "metadata": {},
   "outputs": [],
   "source": [
    "# unused\n",
    "def get_total_answer_num():\n",
    "    cnt = driver.find_element(value=\"#info\\.search\\.place\\.cnt\",by='css selector').text\n",
    "    return cnt"
   ]
  },
  {
   "cell_type": "code",
   "execution_count": 3,
   "id": "ced75d17-2a50-4c27-9074-e77970a5b6ef",
   "metadata": {},
   "outputs": [],
   "source": [
    "def get_data_from_page():\n",
    "    c = 1\n",
    "    while True:\n",
    "        try:\n",
    "            name = driver.find_element(value=\"#info\\.search\\.place\\.list > li:nth-child(%d) > div.head_item.clickArea > strong > a.link_name\"%c,by='css selector').text\n",
    "            address = driver.find_element(value=\"#info\\.search\\.place\\.list > li:nth-child(%d) > div.info_item > div.addr > p:nth-child(1)\"%c,by='css selector').text\n",
    "            score = driver.find_element(value=\"#info\\.search\\.place\\.list > li:nth-child(%d) > div.rating.clickArea > span.score > em\"%c,by='css selector').text\n",
    "            dic = dict(name=name, address = address, score = score)\n",
    "            if dic in answer_list:\n",
    "                return True\n",
    "            answer_list.append(dic)\n",
    "            c+=1\n",
    "        except:\n",
    "            return False"
   ]
  },
  {
   "cell_type": "code",
   "execution_count": 4,
   "id": "b1e88914-85f5-4871-9f7e-0914936390bb",
   "metadata": {},
   "outputs": [],
   "source": [
    "MANGO_URL = 'https://www.mangoplate.com/'\n",
    "KAKAO_URL = 'https://map.kakao.com/'\n",
    "GOOGLE_URL = 'https://www.google.com/maps'\n",
    "# OK - 기존과 바뀜 - 함수 통일화\n",
    "ALPHABET = list(string.ascii_uppercase)\n",
    "\n",
    "logger_1, logger_2 = get_logs()\n",
    "parser = argparse.ArgumentParser(description='parse')\n",
    "# argument는 원하는 만큼 추가한다.\n",
    "parser.add_argument('--output_dir', type=str, default = './output/seoul/kakao')\n",
    "parser.add_argument('--data_dir', type=str, default = './data/%s.json')\n",
    "parser.add_argument('--where', type=str, choices=['mango','google','kakao'], default='kakao')\n",
    "parser.add_argument('--wait_second', type=int, default = 2)\n",
    "args, _ = parser.parse_known_args()\n",
    "\n",
    "if args.where == 'mango':\n",
    "    default_url = MANGO_URL\n",
    "    \n",
    "elif args.where == 'kakao':\n",
    "    default_url = KAKAO_URL\n",
    "    \n",
    "elif args.where == 'google':\n",
    "    default_url = GOOGLE_URL    "
   ]
  },
  {
   "cell_type": "code",
   "execution_count": 5,
   "id": "781d27f6-db3d-4e57-be3c-de2a688b9eb8",
   "metadata": {},
   "outputs": [
    {
     "name": "stderr",
     "output_type": "stream",
     "text": [
      "/tmp/ipykernel_18669/2884935049.py:9: DeprecationWarning: executable_path has been deprecated, please pass in a Service object\n",
      "  driver = webdriver.Chrome('./chromedriver', options=options)\n"
     ]
    }
   ],
   "source": [
    "options = webdriver.chrome.options.Options()\n",
    "#options.add_argument('headless') #headless모드 브라우저가 뜨지 않고 실행됩니다.\n",
    "#options.add_argument('--window-size= x, y') #실행되는 브라우저 크기를 지정할 수 있습니다.\n",
    "options.add_argument('--start-maximized') #브라우저가 최대화된 상태로 실행됩니다.\n",
    "options.add_argument('--start-fullscreen') #브라우저가 풀스크린 모드(F11)로 실행됩니다.\n",
    "options.add_argument('--blink-settings=imagesEnabled=false') #브라우저에서 이미지 로딩을 하지 않습니다.\n",
    "options.add_argument('--mute-audio') #브라우저에 음소거 옵션을 적용합니다.\n",
    "#options.add_argument('incognito') #시크릿 모드의 브라우저가 실행됩니다.\n",
    "driver = webdriver.Chrome('./chromedriver', options=options)\n",
    "\n",
    "driver.get(default_url)"
   ]
  },
  {
   "cell_type": "code",
   "execution_count": null,
   "id": "5972b302-9275-40b7-a7d0-9d8fe9e7b0af",
   "metadata": {},
   "outputs": [
    {
     "name": "stdout",
     "output_type": "stream",
     "text": [
      "강남구\n"
     ]
    },
    {
     "name": "stderr",
     "output_type": "stream",
     "text": [
      "  0%|▏                                      | 10/2741 [01:03<3:57:20,  5.21s/it]"
     ]
    }
   ],
   "source": [
    "# data load\n",
    "gus = [i.strip() for i in open('./data/서울시_자치구.txt','r',encoding='utf-8').readlines()]\n",
    "for gu in gus:\n",
    "    data = json.load(open(args.data_dir%gu))\n",
    "    unique_data = {}\n",
    "    for i,j in data.items():\n",
    "        if i.split()[-1].endswith('점'):\n",
    "            query = ' '.join(i.split()[:-1])\n",
    "        else:\n",
    "            query = i\n",
    "        unique_data[query]=j\n",
    "    print(gu)\n",
    "    now = time.time()\n",
    "    ####################################################################################\n",
    "    for query, value in tqdm(unique_data.items()):\n",
    "        driver.get(default_url)\n",
    "        driver.implicitly_wait(args.wait_second)\n",
    "        answer_list = []\n",
    "        value['%s_score'%args.where]=[]\n",
    "        driver.find_element(value=\"#search\\.keyword\\.query\",  by = 'css selector').send_keys('서울 '+query)\n",
    "        driver.find_element(value=\"#search\\.keyword\\.query\",  by = 'css selector').send_keys(Keys.RETURN)\n",
    "        check = False\n",
    "        try:\n",
    "            # 1 page 이상인 경우\n",
    "            driver.find_element(value=\"#info\\.search\\.place\\.more\",by='css selector').click()\n",
    "            time.sleep(args.wait_second)\n",
    "            while True:\n",
    "                page_list = driver.find_element(value=\"#info\\.search\\.page > div\",by='css selector').text.split()[1:-1]\n",
    "                for p in page_list:\n",
    "                    change_p = int(p)%5 \n",
    "                    if change_p == 0:\n",
    "                        change_p = 5\n",
    "                    driver.find_element(value=\"#info\\.search\\.page\\.no%s\"%change_p,by='css selector').click()\n",
    "                    time.sleep(args.wait_second)\n",
    "                    check = get_data_from_page()\n",
    "                    if check:\n",
    "                        break\n",
    "                if check:\n",
    "                    break\n",
    "                driver.find_element(value=\"#info\\.search\\.page\\.next\",by='css selector').click()\n",
    "                driver.implicitly_wait(args.wait_second)\n",
    "\n",
    "        except:\n",
    "            get_data_from_page()\n",
    "        value['%s_score'%args.where]=copy.deepcopy(answer_list)\n",
    "        logger_1.info(query)\n",
    "        logger_1.info(value)\n",
    "        continue\n",
    "    ####################################################################################\n",
    "    print(time.time()-now)\n",
    "    json.dump(unique_data,open(os.path.join(args.ouput_dir,'%s.json'%gu),'w'))"
   ]
  }
 ],
 "metadata": {
  "kernelspec": {
   "display_name": "Python 3 (ipykernel)",
   "language": "python",
   "name": "python3"
  },
  "language_info": {
   "codemirror_mode": {
    "name": "ipython",
    "version": 3
   },
   "file_extension": ".py",
   "mimetype": "text/x-python",
   "name": "python",
   "nbconvert_exporter": "python",
   "pygments_lexer": "ipython3",
   "version": "3.9.7"
  }
 },
 "nbformat": 4,
 "nbformat_minor": 5
}
