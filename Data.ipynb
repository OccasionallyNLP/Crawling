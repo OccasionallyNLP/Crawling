{
 "cells": [
  {
   "cell_type": "code",
   "execution_count": 1,
   "id": "c7ccf8c9-43e9-434e-b781-4c3daaa573fc",
   "metadata": {},
   "outputs": [],
   "source": [
    "import pandas as pd\n",
    "import numpy as np\n",
    "import os\n",
    "import json"
   ]
  },
  {
   "cell_type": "code",
   "execution_count": 11,
   "id": "73843413-9513-4267-b94a-50e01dfb0308",
   "metadata": {
    "tags": []
   },
   "outputs": [],
   "source": [
    "data_1 = pd.read_excel('../data/seoul/음식점/6110000_서울특별시_07_24_04_P_일반음식점.xlsx')\n",
    "data_2 = pd.read_excel('../data/seoul/음식점/6110000_서울특별시_07_24_05_P_휴게음식점.xlsx')\n",
    "data_3 = pd.read_excel('../data/seoul/음식점/6110000_서울특별시_07_24_03_P_외국인전용유흥음식점업.xlsx')\n",
    "data_4 = pd.read_excel('../data/seoul/음식점/6110000_서울특별시_07_24_02_P_관광유흥음식점업.xlsx')"
   ]
  },
  {
   "cell_type": "code",
   "execution_count": 46,
   "id": "8d2e468a-5796-42e1-b892-279938533fbe",
   "metadata": {},
   "outputs": [],
   "source": [
    "data = pd.concat([data_1,data_2,data_3,data_4],axis=0)"
   ]
  },
  {
   "cell_type": "code",
   "execution_count": 77,
   "id": "0cbbafbe-5d47-42cb-ada4-02180d6505a5",
   "metadata": {},
   "outputs": [],
   "source": [
    "# 자치구 추출\n",
    "data['자치구']=float('nan')\n",
    "\n",
    "data.loc[data['소재지전체주소'].notna(),'자치구']=data.loc[data['소재지전체주소'].notna(),'소재지전체주소'].apply(lambda i : i.strip().split()[1])\n",
    "\n",
    "data.loc[data['자치구'].isna(),'자치구']=data.loc[data['자치구'].isna(),'도로명전체주소'].apply(lambda i : i.strip().split()[1])"
   ]
  },
  {
   "cell_type": "code",
   "execution_count": 80,
   "id": "42c221b9-e779-4a6b-ab36-0627a8131fd6",
   "metadata": {},
   "outputs": [],
   "source": [
    "data_in_business=data.loc[data['영업상태명']=='영업/정상',['사업장명','소재지전체주소','도로명전체주소','자치구']]"
   ]
  },
  {
   "cell_type": "markdown",
   "id": "75d9dd59-5307-4635-8e4a-aeb0c765ff80",
   "metadata": {},
   "source": [
    "# 영업 중인 곳, 구로 나누기"
   ]
  },
  {
   "cell_type": "code",
   "execution_count": 82,
   "id": "ac141946-6c7b-4def-97e7-4b793bdefe2a",
   "metadata": {},
   "outputs": [],
   "source": [
    "서울시_자치구 = [i.strip() for i in  open('./data/서울시_자치구.txt','r',encoding='utf-8').readlines()]"
   ]
  },
  {
   "cell_type": "code",
   "execution_count": 140,
   "id": "dab3ec9f-24f3-40ca-a7e7-cc2764d20b2a",
   "metadata": {
    "tags": []
   },
   "outputs": [],
   "source": [
    "statistic={}\n",
    "for gu in 서울시_자치구:\n",
    "    gu_data = {}\n",
    "    dic = data_in_business.loc[data_in_business['자치구']==gu,:]\n",
    "    for (i,j),a,b,c in zip(dic['사업장명'].items(),dic['소재지전체주소'].values, dic['도로명전체주소'].values, dic['자치구'].values):\n",
    "        gu_data[j]=dict(소재지전체주소=a, 도로명전체주소=b, 자치구=c)\n",
    "    statistic[gu]=len(gu_data)\n",
    "    json.dump(gu_data,open('./data/seoul/%s.json'%gu,'w'))"
   ]
  },
  {
   "cell_type": "code",
   "execution_count": 142,
   "id": "a3084ae1-306b-49f2-b401-4d2043441997",
   "metadata": {},
   "outputs": [
    {
     "name": "stdout",
     "output_type": "stream",
     "text": [
      "{'강남구': 3970, '강동구': 1346, '강북구': 4185, '강서구': 7803, '관악구': 1345, '광진구': 5492, '구로구': 5067, '금천구': 3824, '노원구': 4827, '도봉구': 2961, '동대문구': 5179, '동작구': 1039, '마포구': 9988, '서대문구': 4800, '서초구': 2181, '성동구': 4796, '성북구': 5185, '송파구': 2525, '양천구': 4098, '영등포구': 2064, '용산구': 5837, '은평구': 4973, '종로구': 8275, '중구': 8088, '중랑구': 4558}\n",
      "114406\n"
     ]
    }
   ],
   "source": [
    "print(statistic)\n",
    "print(sum(list(statistic.values())))"
   ]
  }
 ],
 "metadata": {
  "kernelspec": {
   "display_name": "Python 3 (ipykernel)",
   "language": "python",
   "name": "python3"
  },
  "language_info": {
   "codemirror_mode": {
    "name": "ipython",
    "version": 3
   },
   "file_extension": ".py",
   "mimetype": "text/x-python",
   "name": "python",
   "nbconvert_exporter": "python",
   "pygments_lexer": "ipython3",
   "version": "3.9.7"
  }
 },
 "nbformat": 4,
 "nbformat_minor": 5
}
