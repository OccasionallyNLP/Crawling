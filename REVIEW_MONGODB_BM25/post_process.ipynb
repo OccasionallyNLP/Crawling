{
 "cells": [
  {
   "cell_type": "code",
   "execution_count": 1,
   "id": "20a95f01-c219-4f99-9268-fceaab61e134",
   "metadata": {},
   "outputs": [],
   "source": [
    "import pandas as pd\n",
    "import json\n",
    "from tqdm import tqdm\n",
    "from collections import defaultdict\n",
    "import pymongo\n",
    "import re\n",
    "import numpy as np\n",
    "import pymongo\n",
    "from rank_bm25 import BM25Okapi\n",
    "import pickle"
   ]
  },
  {
   "cell_type": "code",
   "execution_count": 5,
   "id": "601e441d-82bd-4173-93fe-e52a44ca0720",
   "metadata": {},
   "outputs": [],
   "source": [
    "def post_process(data:dict,type='kakao'):\n",
    "    # output : dict\n",
    "    # key - doro addr\n",
    "    output = defaultdict(list)\n",
    "    c = 0\n",
    "    # TODO\n",
    "    if type=='kakao':\n",
    "        for data_i in tqdm(data.values()):\n",
    "            if data_i:\n",
    "                for d in data_i:\n",
    "                    name = d['name']\n",
    "                    doro_address = d['address']\n",
    "                    score = d['score']\n",
    "                    reviews = []\n",
    "                    for review in d['reviews']:\n",
    "                        if review:\n",
    "                            c+=1\n",
    "                            review = review.split('\\n')\n",
    "                            date = review[5].strip() # TODO\n",
    "                            text = review[6].strip() # TODO\n",
    "                            reviews.append(dict(id=c, date=date, text=text))\n",
    "                    output[doro_address].append(dict(name=name, score=score, jibun_address = '', reviews=reviews))\n",
    "    elif type=='mango':\n",
    "        for data_i in tqdm(data.values()):\n",
    "            if data_i:\n",
    "                for d in data_i:\n",
    "                    if d:\n",
    "                        name = d['score'].split('\\n')[0] \n",
    "                        name = re.sub('[\\(\\)]','',name).strip()\n",
    "                        try:\n",
    "                            score = str(float(name[-3:])).strip()\n",
    "                            name = name[:-3].strip()\n",
    "                        except:\n",
    "                            score = ''\n",
    "                        detailed_info = d['detailed_info'].split('\\n')\n",
    "                        doro_addr=''\n",
    "                        jibun_addr=''\n",
    "                        for i in detailed_info:\n",
    "                            if i.startswith('주소 '):\n",
    "                                doro_addr = re.sub('주소 ','',i).strip()\n",
    "                            elif i.startswith('지번 '):\n",
    "                                jibun_addr = re.sub('지번 ','',i).strip()\n",
    "                        reviews = []\n",
    "                        for rev in d['review']:\n",
    "                            if rev:\n",
    "                                c+=1\n",
    "                                rev = rev.split('\\n')\n",
    "                                # 사진 더보기 관련 해서 text 내용이 더 생기는 경우가 존재함\n",
    "                                if '+' not in rev[-2].strip():\n",
    "                                    date = rev[-2].strip()\n",
    "                                    text = '\\n'.join(rev[3:-2]).strip()\n",
    "                                \n",
    "                                elif '+' not in rev[-3].strip():\n",
    "                                    date = rev[-3].strip()\n",
    "                                    text = '\\n'.join(rev[3:-3]).strip()\n",
    "                                \n",
    "                                reviews.append(dict(id=c, date=date, text=text))\n",
    "                        if output[doro_addr]:\n",
    "                            names = [n['name'] for n in output[doro_addr]]\n",
    "                            if name in names:\n",
    "                                continue\n",
    "                            else:\n",
    "                                output[doro_addr].append(dict(name=name, score=score, jibun_address = jibun_addr, reviews=reviews))\n",
    "                        else:\n",
    "                            output[doro_addr].append(dict(name=name, score=score, jibun_address = jibun_addr, reviews=reviews))\n",
    "        \n",
    "    result = {}\n",
    "    c = 0\n",
    "    for i,j in output.items(): \n",
    "        for k in j:\n",
    "            k['doro_address']=i\n",
    "            result[c]=k\n",
    "            c+=1                \n",
    "    return result"
   ]
  },
  {
   "cell_type": "code",
   "execution_count": 6,
   "id": "995cb509-d3a3-4677-bb15-cc0c362d2689",
   "metadata": {},
   "outputs": [],
   "source": [
    "mango = json.load(open('../망고플레이트/강남구_output_mango_score.json'))"
   ]
  },
  {
   "cell_type": "code",
   "execution_count": 13,
   "id": "8ce53b4a-166f-4d72-9b5b-f9e84d5357f7",
   "metadata": {},
   "outputs": [
    {
     "name": "stderr",
     "output_type": "stream",
     "text": [
      "100%|███████████████████████████████████████████████████████████████████████████| 1325/1325 [00:00<00:00, 13619.64it/s]\n"
     ]
    }
   ],
   "source": [
    "mango_post_process = post_process(mango,'mango')"
   ]
  },
  {
   "cell_type": "code",
   "execution_count": 26,
   "id": "2243df12-16da-44cb-b775-617d1e3df1e7",
   "metadata": {},
   "outputs": [],
   "source": [
    "mango = json.load(open('../망고플레이트/강남구_output_mango_score.json'))"
   ]
  },
  {
   "cell_type": "markdown",
   "id": "29fc82fc-52c9-4c35-aee1-6a8707e04e14",
   "metadata": {},
   "source": [
    "# BM25"
   ]
  },
  {
   "cell_type": "code",
   "execution_count": 14,
   "id": "397d2468-a23f-4f29-a36e-6ed3031c61cc",
   "metadata": {},
   "outputs": [],
   "source": [
    "tokenized_corpus = [(i['doro_address']+' '+i['name']).split(' ') for i in mango_post_process.values()]"
   ]
  },
  {
   "cell_type": "code",
   "execution_count": 15,
   "id": "e5dfe6cd-112d-4ea1-a538-e2fd11d59f63",
   "metadata": {},
   "outputs": [],
   "source": [
    "bm25 = BM25Okapi(tokenized_corpus)"
   ]
  },
  {
   "cell_type": "code",
   "execution_count": 3,
   "id": "e7d7e50f-1446-46e8-9d13-7225205c3cbc",
   "metadata": {},
   "outputs": [],
   "source": [
    "def retrieve(bm25, query):\n",
    "    tokenized_query = query.split(' ')\n",
    "    doc_scores = bm25.get_scores(tokenized_query)\n",
    "    sorted_idx = np.argsort(-doc_scores)\n",
    "    result = [i for i in sorted_idx]\n",
    "    return result"
   ]
  },
  {
   "cell_type": "code",
   "execution_count": 72,
   "id": "784d8171-d8d6-44d7-b8cc-3d9f5b177696",
   "metadata": {},
   "outputs": [],
   "source": [
    "pickle.dump(bm25, open('./bm25','wb'))"
   ]
  },
  {
   "cell_type": "markdown",
   "id": "b68ee5a0-3dce-4d9c-bb27-1589e3045920",
   "metadata": {},
   "source": [
    "# mongodb"
   ]
  },
  {
   "cell_type": "code",
   "execution_count": 20,
   "id": "1246035a-fb71-49e1-9c16-eb2499a2c2ac",
   "metadata": {},
   "outputs": [],
   "source": [
    "# connection\n",
    "connection = pymongo.MongoClient() # basic port : 27017\n",
    "# database instance화\n",
    "database = connection.database # database에 database가 없어도 자동 생성함.\n",
    "# document\n",
    "company = database.affillation"
   ]
  },
  {
   "cell_type": "code",
   "execution_count": 24,
   "id": "34d17def-f7e1-4319-88fc-77070659d3e3",
   "metadata": {
    "tags": []
   },
   "outputs": [
    {
     "name": "stderr",
     "output_type": "stream",
     "text": [
      "make_db: 100%|█████████████████████████████████████████████████████████████████████| 444/444 [00:00<00:00, 1946.53it/s]\n"
     ]
    }
   ],
   "source": [
    "for i,j in tqdm(mango_post_process.items(), desc='make_db'):\n",
    "    j['id']=i\n",
    "    post_id = company.insert_one(j)"
   ]
  },
  {
   "cell_type": "markdown",
   "id": "dc2cb72e-8323-4923-b837-68b2099113b0",
   "metadata": {},
   "source": [
    "# query"
   ]
  },
  {
   "cell_type": "code",
   "execution_count": 2,
   "id": "1c68654c-c4cc-4727-b4ad-40ad5ae9179a",
   "metadata": {},
   "outputs": [],
   "source": [
    "bm25 = pickle.load(open('./bm25','rb'))\n",
    "connection = pymongo.MongoClient() # basic port : 27017\n",
    "database = connection.database # database에 database가 없어도 자동 생성함.\n",
    "company = database.affillation"
   ]
  },
  {
   "cell_type": "code",
   "execution_count": 5,
   "id": "79c3d712-d6bc-458b-b000-e28b5d2b6bfd",
   "metadata": {},
   "outputs": [],
   "source": [
    "result = retrieve(bm25, '서울시 강남구 커스텀커피')"
   ]
  },
  {
   "cell_type": "code",
   "execution_count": 18,
   "id": "8ff4b4a9-9b07-433d-86e6-231e82de228e",
   "metadata": {},
   "outputs": [
    {
     "name": "stdout",
     "output_type": "stream",
     "text": [
      "{'_id': ObjectId('63a555ce3ad7f16ce0b386f6'), 'name': '커스텀커피 개포점', 'score': '', 'jibun_address': '서울시 강남구 일원동 743 디에이치자이개포 단지내상가 808동 107호', 'reviews': [], 'doro_address': '서울특별시 강남구 영동대로 22 디에이치자이개포 단지내상가 808동 107호', 'id': 1}\n"
     ]
    }
   ],
   "source": [
    "for i in company.find({'id':1}):\n",
    "    print(i)"
   ]
  },
  {
   "cell_type": "code",
   "execution_count": 22,
   "id": "5aebfd30-50c8-4284-90ad-860494c0b018",
   "metadata": {},
   "outputs": [],
   "source": [
    "answer = []\n",
    "for i in result:\n",
    "    for j in company.find({'id':int(i)}):\n",
    "        answer.append(j)"
   ]
  },
  {
   "cell_type": "code",
   "execution_count": null,
   "id": "557cedf6-a53e-43d0-8e77-744fa5bf0011",
   "metadata": {},
   "outputs": [],
   "source": []
  }
 ],
 "metadata": {
  "kernelspec": {
   "display_name": "Python 3 (ipykernel)",
   "language": "python",
   "name": "python3"
  },
  "language_info": {
   "codemirror_mode": {
    "name": "ipython",
    "version": 3
   },
   "file_extension": ".py",
   "mimetype": "text/x-python",
   "name": "python",
   "nbconvert_exporter": "python",
   "pygments_lexer": "ipython3",
   "version": "3.9.13"
  }
 },
 "nbformat": 4,
 "nbformat_minor": 5
}
