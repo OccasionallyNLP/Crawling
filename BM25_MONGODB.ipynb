{
 "cells": [
  {
   "cell_type": "markdown",
   "id": "6d71d1f8-3b14-437a-b896-87f051b6e68d",
   "metadata": {},
   "source": [
    "# MongoDB, BM25"
   ]
  },
  {
   "cell_type": "markdown",
   "id": "710812ae-5a5d-4013-93e2-265bdb937706",
   "metadata": {},
   "source": [
    "# kakao"
   ]
  },
  {
   "cell_type": "code",
   "execution_count": 46,
   "id": "86939af4-7adb-4d94-bb32-80833decccba",
   "metadata": {},
   "outputs": [],
   "source": [
    "import json\n",
    "import pandas as pd\n",
    "from typing import List,Dict\n",
    "from tqdm import tqdm\n",
    "from rank_bm25 import BM25Okapi\n",
    "import pickle\n",
    "import requests\n",
    "from datetime import datetime\n",
    "import re\n",
    "import numpy as np"
   ]
  },
  {
   "cell_type": "code",
   "execution_count": 47,
   "id": "74d964ca-87ee-4896-aecb-65f13642a2a3",
   "metadata": {},
   "outputs": [],
   "source": [
    "data = json.load(open('./output/seoul/카카오/강남구_output.json'))"
   ]
  },
  {
   "cell_type": "code",
   "execution_count": 48,
   "id": "37e2010a-9f1e-4d54-ae2c-364f88720df6",
   "metadata": {},
   "outputs": [],
   "source": [
    "def kakao_review(data:Dict):\n",
    "    output = {}\n",
    "    id = 0\n",
    "    review_id = 0\n",
    "    for key, value in tqdm(data.items()):\n",
    "        name = value['name'].strip()\n",
    "        score = value['score'].strip()\n",
    "        reviews = value['reviews']\n",
    "        doro_address = key.strip()\n",
    "        post_processed_reviews = []\n",
    "        if reviews:\n",
    "            for review in reviews:\n",
    "                if review is None:\n",
    "                    continue\n",
    "                review = review.split('\\n')\n",
    "                try:\n",
    "                    date = datetime.strptime(review[5].strip(),'%Y.%m.%d.')#, print(review)\n",
    "                    date = review[5].strip()\n",
    "                    text = ' '.join(review[6:-2])\n",
    "                except:\n",
    "                    date = datetime.strptime(review[4].strip(),'%Y.%m.%d.')\n",
    "                    date = review[4].strip()\n",
    "                    text = ' '.join(review[5:-2])\n",
    "                    #text = ''\n",
    "                review_id+=1\n",
    "                post_processed_reviews.append(dict(date=date, review=text, id=review_id))\n",
    "        output[key.strip()]=dict(id=id,name=name, score=score, reviews=post_processed_reviews)\n",
    "        id+=1\n",
    "    return output"
   ]
  },
  {
   "cell_type": "code",
   "execution_count": 49,
   "id": "0c42a999-6748-4e29-9f02-33ddbee02bb2",
   "metadata": {},
   "outputs": [
    {
     "name": "stderr",
     "output_type": "stream",
     "text": [
      "100%|███████████████████████████████████████████████████████████████████████████| 3304/3304 [00:00<00:00, 36262.15it/s]\n"
     ]
    }
   ],
   "source": [
    "kakao=kakao_review(data)"
   ]
  },
  {
   "cell_type": "markdown",
   "id": "96ae960c-ffa6-4081-9d99-4e89db0f2463",
   "metadata": {},
   "source": [
    "## 위 경도 변환"
   ]
  },
  {
   "cell_type": "code",
   "execution_count": 50,
   "id": "00db03c0-71b4-4e99-95a7-74347d774fc3",
   "metadata": {},
   "outputs": [],
   "source": [
    "def get_long_lat(address):\n",
    "    url_front = \"http://api.vworld.kr/req/address?\"\n",
    "    url_params = \"service=address&request=getcoord&version=2.0&crs=epsg:4326&refine=true&simple=false&format=json&type=road\"\n",
    "    url_address = \"&address=\"\n",
    "    url_key = \"&key=\"\n",
    "    auth_key = \"7D0E01FD-4222-3E0D-AEB0-9630D650077F\"\n",
    "    url = url_front + url_params + url_address + address + url_key + auth_key\n",
    "    result = requests.get(url)\n",
    "    json_data = result.json()\n",
    "    if json_data['response']['status'] == 'OK':\n",
    "        x = json_data['response']['result']['point']['x']\n",
    "        y = json_data['response']['result']['point']['y']\n",
    "        return [x,y]\n",
    "    else:\n",
    "        return None"
   ]
  },
  {
   "cell_type": "code",
   "execution_count": 53,
   "id": "17b6962d-b39d-481e-b7db-4014a0019b86",
   "metadata": {
    "collapsed": true,
    "jupyter": {
     "outputs_hidden": true
    },
    "tags": []
   },
   "outputs": [
    {
     "name": "stderr",
     "output_type": "stream",
     "text": [
      " 36%|███████████████████████████▉                                                  | 1184/3304 [01:38<02:56, 12.00it/s]\n"
     ]
    },
    {
     "ename": "ConnectionError",
     "evalue": "HTTPConnectionPool(host='api.vworld.kr', port=80): Max retries exceeded with url: /req/address?service=address&request=getcoord&version=2.0&crs=epsg:4326&refine=true&simple=false&format=json&type=road&address=%EC%84%9C%EC%9A%B8%20%EA%B0%95%EB%82%A8%EA%B5%AC%20%ED%85%8C%ED%97%A4%EB%9E%80%EB%A1%9C%20137%20%ED%98%84%EB%8C%80%ED%95%B4%EC%83%81%EB%B9%8C%EB%94%A9%2010%EC%B8%B5&key=7D0E01FD-4222-3E0D-AEB0-9630D650077F (Caused by NewConnectionError('<urllib3.connection.HTTPConnection object at 0x0000028DD2480850>: Failed to establish a new connection: [WinError 10060] 연결된 구성원으로부터 응답이 없어 연결하지 못했거나, 호스트로부터 응답이 없어 연결이 끊어졌습니다'))",
     "output_type": "error",
     "traceback": [
      "\u001b[1;31m---------------------------------------------------------------------------\u001b[0m",
      "\u001b[1;31mTimeoutError\u001b[0m                              Traceback (most recent call last)",
      "\u001b[1;32mD:\\anaconda3\\lib\\site-packages\\urllib3\\connection.py\u001b[0m in \u001b[0;36m_new_conn\u001b[1;34m(self)\u001b[0m\n\u001b[0;32m    173\u001b[0m         \u001b[1;32mtry\u001b[0m\u001b[1;33m:\u001b[0m\u001b[1;33m\u001b[0m\u001b[1;33m\u001b[0m\u001b[0m\n\u001b[1;32m--> 174\u001b[1;33m             conn = connection.create_connection(\n\u001b[0m\u001b[0;32m    175\u001b[0m                 \u001b[1;33m(\u001b[0m\u001b[0mself\u001b[0m\u001b[1;33m.\u001b[0m\u001b[0m_dns_host\u001b[0m\u001b[1;33m,\u001b[0m \u001b[0mself\u001b[0m\u001b[1;33m.\u001b[0m\u001b[0mport\u001b[0m\u001b[1;33m)\u001b[0m\u001b[1;33m,\u001b[0m \u001b[0mself\u001b[0m\u001b[1;33m.\u001b[0m\u001b[0mtimeout\u001b[0m\u001b[1;33m,\u001b[0m \u001b[1;33m**\u001b[0m\u001b[0mextra_kw\u001b[0m\u001b[1;33m\u001b[0m\u001b[1;33m\u001b[0m\u001b[0m\n",
      "\u001b[1;32mD:\\anaconda3\\lib\\site-packages\\urllib3\\util\\connection.py\u001b[0m in \u001b[0;36mcreate_connection\u001b[1;34m(address, timeout, source_address, socket_options)\u001b[0m\n\u001b[0;32m     94\u001b[0m     \u001b[1;32mif\u001b[0m \u001b[0merr\u001b[0m \u001b[1;32mis\u001b[0m \u001b[1;32mnot\u001b[0m \u001b[1;32mNone\u001b[0m\u001b[1;33m:\u001b[0m\u001b[1;33m\u001b[0m\u001b[1;33m\u001b[0m\u001b[0m\n\u001b[1;32m---> 95\u001b[1;33m         \u001b[1;32mraise\u001b[0m \u001b[0merr\u001b[0m\u001b[1;33m\u001b[0m\u001b[1;33m\u001b[0m\u001b[0m\n\u001b[0m\u001b[0;32m     96\u001b[0m \u001b[1;33m\u001b[0m\u001b[0m\n",
      "\u001b[1;32mD:\\anaconda3\\lib\\site-packages\\urllib3\\util\\connection.py\u001b[0m in \u001b[0;36mcreate_connection\u001b[1;34m(address, timeout, source_address, socket_options)\u001b[0m\n\u001b[0;32m     84\u001b[0m                 \u001b[0msock\u001b[0m\u001b[1;33m.\u001b[0m\u001b[0mbind\u001b[0m\u001b[1;33m(\u001b[0m\u001b[0msource_address\u001b[0m\u001b[1;33m)\u001b[0m\u001b[1;33m\u001b[0m\u001b[1;33m\u001b[0m\u001b[0m\n\u001b[1;32m---> 85\u001b[1;33m             \u001b[0msock\u001b[0m\u001b[1;33m.\u001b[0m\u001b[0mconnect\u001b[0m\u001b[1;33m(\u001b[0m\u001b[0msa\u001b[0m\u001b[1;33m)\u001b[0m\u001b[1;33m\u001b[0m\u001b[1;33m\u001b[0m\u001b[0m\n\u001b[0m\u001b[0;32m     86\u001b[0m             \u001b[1;32mreturn\u001b[0m \u001b[0msock\u001b[0m\u001b[1;33m\u001b[0m\u001b[1;33m\u001b[0m\u001b[0m\n",
      "\u001b[1;31mTimeoutError\u001b[0m: [WinError 10060] 연결된 구성원으로부터 응답이 없어 연결하지 못했거나, 호스트로부터 응답이 없어 연결이 끊어졌습니다",
      "\nDuring handling of the above exception, another exception occurred:\n",
      "\u001b[1;31mNewConnectionError\u001b[0m                        Traceback (most recent call last)",
      "\u001b[1;32mD:\\anaconda3\\lib\\site-packages\\urllib3\\connectionpool.py\u001b[0m in \u001b[0;36murlopen\u001b[1;34m(self, method, url, body, headers, retries, redirect, assert_same_host, timeout, pool_timeout, release_conn, chunked, body_pos, **response_kw)\u001b[0m\n\u001b[0;32m    702\u001b[0m             \u001b[1;31m# Make the request on the httplib connection object.\u001b[0m\u001b[1;33m\u001b[0m\u001b[1;33m\u001b[0m\u001b[0m\n\u001b[1;32m--> 703\u001b[1;33m             httplib_response = self._make_request(\n\u001b[0m\u001b[0;32m    704\u001b[0m                 \u001b[0mconn\u001b[0m\u001b[1;33m,\u001b[0m\u001b[1;33m\u001b[0m\u001b[1;33m\u001b[0m\u001b[0m\n",
      "\u001b[1;32mD:\\anaconda3\\lib\\site-packages\\urllib3\\connectionpool.py\u001b[0m in \u001b[0;36m_make_request\u001b[1;34m(self, conn, method, url, timeout, chunked, **httplib_request_kw)\u001b[0m\n\u001b[0;32m    397\u001b[0m             \u001b[1;32melse\u001b[0m\u001b[1;33m:\u001b[0m\u001b[1;33m\u001b[0m\u001b[1;33m\u001b[0m\u001b[0m\n\u001b[1;32m--> 398\u001b[1;33m                 \u001b[0mconn\u001b[0m\u001b[1;33m.\u001b[0m\u001b[0mrequest\u001b[0m\u001b[1;33m(\u001b[0m\u001b[0mmethod\u001b[0m\u001b[1;33m,\u001b[0m \u001b[0murl\u001b[0m\u001b[1;33m,\u001b[0m \u001b[1;33m**\u001b[0m\u001b[0mhttplib_request_kw\u001b[0m\u001b[1;33m)\u001b[0m\u001b[1;33m\u001b[0m\u001b[1;33m\u001b[0m\u001b[0m\n\u001b[0m\u001b[0;32m    399\u001b[0m \u001b[1;33m\u001b[0m\u001b[0m\n",
      "\u001b[1;32mD:\\anaconda3\\lib\\site-packages\\urllib3\\connection.py\u001b[0m in \u001b[0;36mrequest\u001b[1;34m(self, method, url, body, headers)\u001b[0m\n\u001b[0;32m    238\u001b[0m             \u001b[0mheaders\u001b[0m\u001b[1;33m[\u001b[0m\u001b[1;34m\"User-Agent\"\u001b[0m\u001b[1;33m]\u001b[0m \u001b[1;33m=\u001b[0m \u001b[0m_get_default_user_agent\u001b[0m\u001b[1;33m(\u001b[0m\u001b[1;33m)\u001b[0m\u001b[1;33m\u001b[0m\u001b[1;33m\u001b[0m\u001b[0m\n\u001b[1;32m--> 239\u001b[1;33m         \u001b[0msuper\u001b[0m\u001b[1;33m(\u001b[0m\u001b[0mHTTPConnection\u001b[0m\u001b[1;33m,\u001b[0m \u001b[0mself\u001b[0m\u001b[1;33m)\u001b[0m\u001b[1;33m.\u001b[0m\u001b[0mrequest\u001b[0m\u001b[1;33m(\u001b[0m\u001b[0mmethod\u001b[0m\u001b[1;33m,\u001b[0m \u001b[0murl\u001b[0m\u001b[1;33m,\u001b[0m \u001b[0mbody\u001b[0m\u001b[1;33m=\u001b[0m\u001b[0mbody\u001b[0m\u001b[1;33m,\u001b[0m \u001b[0mheaders\u001b[0m\u001b[1;33m=\u001b[0m\u001b[0mheaders\u001b[0m\u001b[1;33m)\u001b[0m\u001b[1;33m\u001b[0m\u001b[1;33m\u001b[0m\u001b[0m\n\u001b[0m\u001b[0;32m    240\u001b[0m \u001b[1;33m\u001b[0m\u001b[0m\n",
      "\u001b[1;32mD:\\anaconda3\\lib\\http\\client.py\u001b[0m in \u001b[0;36mrequest\u001b[1;34m(self, method, url, body, headers, encode_chunked)\u001b[0m\n\u001b[0;32m   1278\u001b[0m         \u001b[1;34m\"\"\"Send a complete request to the server.\"\"\"\u001b[0m\u001b[1;33m\u001b[0m\u001b[1;33m\u001b[0m\u001b[0m\n\u001b[1;32m-> 1279\u001b[1;33m         \u001b[0mself\u001b[0m\u001b[1;33m.\u001b[0m\u001b[0m_send_request\u001b[0m\u001b[1;33m(\u001b[0m\u001b[0mmethod\u001b[0m\u001b[1;33m,\u001b[0m \u001b[0murl\u001b[0m\u001b[1;33m,\u001b[0m \u001b[0mbody\u001b[0m\u001b[1;33m,\u001b[0m \u001b[0mheaders\u001b[0m\u001b[1;33m,\u001b[0m \u001b[0mencode_chunked\u001b[0m\u001b[1;33m)\u001b[0m\u001b[1;33m\u001b[0m\u001b[1;33m\u001b[0m\u001b[0m\n\u001b[0m\u001b[0;32m   1280\u001b[0m \u001b[1;33m\u001b[0m\u001b[0m\n",
      "\u001b[1;32mD:\\anaconda3\\lib\\http\\client.py\u001b[0m in \u001b[0;36m_send_request\u001b[1;34m(self, method, url, body, headers, encode_chunked)\u001b[0m\n\u001b[0;32m   1324\u001b[0m             \u001b[0mbody\u001b[0m \u001b[1;33m=\u001b[0m \u001b[0m_encode\u001b[0m\u001b[1;33m(\u001b[0m\u001b[0mbody\u001b[0m\u001b[1;33m,\u001b[0m \u001b[1;34m'body'\u001b[0m\u001b[1;33m)\u001b[0m\u001b[1;33m\u001b[0m\u001b[1;33m\u001b[0m\u001b[0m\n\u001b[1;32m-> 1325\u001b[1;33m         \u001b[0mself\u001b[0m\u001b[1;33m.\u001b[0m\u001b[0mendheaders\u001b[0m\u001b[1;33m(\u001b[0m\u001b[0mbody\u001b[0m\u001b[1;33m,\u001b[0m \u001b[0mencode_chunked\u001b[0m\u001b[1;33m=\u001b[0m\u001b[0mencode_chunked\u001b[0m\u001b[1;33m)\u001b[0m\u001b[1;33m\u001b[0m\u001b[1;33m\u001b[0m\u001b[0m\n\u001b[0m\u001b[0;32m   1326\u001b[0m \u001b[1;33m\u001b[0m\u001b[0m\n",
      "\u001b[1;32mD:\\anaconda3\\lib\\http\\client.py\u001b[0m in \u001b[0;36mendheaders\u001b[1;34m(self, message_body, encode_chunked)\u001b[0m\n\u001b[0;32m   1273\u001b[0m             \u001b[1;32mraise\u001b[0m \u001b[0mCannotSendHeader\u001b[0m\u001b[1;33m(\u001b[0m\u001b[1;33m)\u001b[0m\u001b[1;33m\u001b[0m\u001b[1;33m\u001b[0m\u001b[0m\n\u001b[1;32m-> 1274\u001b[1;33m         \u001b[0mself\u001b[0m\u001b[1;33m.\u001b[0m\u001b[0m_send_output\u001b[0m\u001b[1;33m(\u001b[0m\u001b[0mmessage_body\u001b[0m\u001b[1;33m,\u001b[0m \u001b[0mencode_chunked\u001b[0m\u001b[1;33m=\u001b[0m\u001b[0mencode_chunked\u001b[0m\u001b[1;33m)\u001b[0m\u001b[1;33m\u001b[0m\u001b[1;33m\u001b[0m\u001b[0m\n\u001b[0m\u001b[0;32m   1275\u001b[0m \u001b[1;33m\u001b[0m\u001b[0m\n",
      "\u001b[1;32mD:\\anaconda3\\lib\\http\\client.py\u001b[0m in \u001b[0;36m_send_output\u001b[1;34m(self, message_body, encode_chunked)\u001b[0m\n\u001b[0;32m   1033\u001b[0m         \u001b[1;32mdel\u001b[0m \u001b[0mself\u001b[0m\u001b[1;33m.\u001b[0m\u001b[0m_buffer\u001b[0m\u001b[1;33m[\u001b[0m\u001b[1;33m:\u001b[0m\u001b[1;33m]\u001b[0m\u001b[1;33m\u001b[0m\u001b[1;33m\u001b[0m\u001b[0m\n\u001b[1;32m-> 1034\u001b[1;33m         \u001b[0mself\u001b[0m\u001b[1;33m.\u001b[0m\u001b[0msend\u001b[0m\u001b[1;33m(\u001b[0m\u001b[0mmsg\u001b[0m\u001b[1;33m)\u001b[0m\u001b[1;33m\u001b[0m\u001b[1;33m\u001b[0m\u001b[0m\n\u001b[0m\u001b[0;32m   1035\u001b[0m \u001b[1;33m\u001b[0m\u001b[0m\n",
      "\u001b[1;32mD:\\anaconda3\\lib\\http\\client.py\u001b[0m in \u001b[0;36msend\u001b[1;34m(self, data)\u001b[0m\n\u001b[0;32m    973\u001b[0m             \u001b[1;32mif\u001b[0m \u001b[0mself\u001b[0m\u001b[1;33m.\u001b[0m\u001b[0mauto_open\u001b[0m\u001b[1;33m:\u001b[0m\u001b[1;33m\u001b[0m\u001b[1;33m\u001b[0m\u001b[0m\n\u001b[1;32m--> 974\u001b[1;33m                 \u001b[0mself\u001b[0m\u001b[1;33m.\u001b[0m\u001b[0mconnect\u001b[0m\u001b[1;33m(\u001b[0m\u001b[1;33m)\u001b[0m\u001b[1;33m\u001b[0m\u001b[1;33m\u001b[0m\u001b[0m\n\u001b[0m\u001b[0;32m    975\u001b[0m             \u001b[1;32melse\u001b[0m\u001b[1;33m:\u001b[0m\u001b[1;33m\u001b[0m\u001b[1;33m\u001b[0m\u001b[0m\n",
      "\u001b[1;32mD:\\anaconda3\\lib\\site-packages\\urllib3\\connection.py\u001b[0m in \u001b[0;36mconnect\u001b[1;34m(self)\u001b[0m\n\u001b[0;32m    204\u001b[0m     \u001b[1;32mdef\u001b[0m \u001b[0mconnect\u001b[0m\u001b[1;33m(\u001b[0m\u001b[0mself\u001b[0m\u001b[1;33m)\u001b[0m\u001b[1;33m:\u001b[0m\u001b[1;33m\u001b[0m\u001b[1;33m\u001b[0m\u001b[0m\n\u001b[1;32m--> 205\u001b[1;33m         \u001b[0mconn\u001b[0m \u001b[1;33m=\u001b[0m \u001b[0mself\u001b[0m\u001b[1;33m.\u001b[0m\u001b[0m_new_conn\u001b[0m\u001b[1;33m(\u001b[0m\u001b[1;33m)\u001b[0m\u001b[1;33m\u001b[0m\u001b[1;33m\u001b[0m\u001b[0m\n\u001b[0m\u001b[0;32m    206\u001b[0m         \u001b[0mself\u001b[0m\u001b[1;33m.\u001b[0m\u001b[0m_prepare_conn\u001b[0m\u001b[1;33m(\u001b[0m\u001b[0mconn\u001b[0m\u001b[1;33m)\u001b[0m\u001b[1;33m\u001b[0m\u001b[1;33m\u001b[0m\u001b[0m\n",
      "\u001b[1;32mD:\\anaconda3\\lib\\site-packages\\urllib3\\connection.py\u001b[0m in \u001b[0;36m_new_conn\u001b[1;34m(self)\u001b[0m\n\u001b[0;32m    185\u001b[0m         \u001b[1;32mexcept\u001b[0m \u001b[0mSocketError\u001b[0m \u001b[1;32mas\u001b[0m \u001b[0me\u001b[0m\u001b[1;33m:\u001b[0m\u001b[1;33m\u001b[0m\u001b[1;33m\u001b[0m\u001b[0m\n\u001b[1;32m--> 186\u001b[1;33m             raise NewConnectionError(\n\u001b[0m\u001b[0;32m    187\u001b[0m                 \u001b[0mself\u001b[0m\u001b[1;33m,\u001b[0m \u001b[1;34m\"Failed to establish a new connection: %s\"\u001b[0m \u001b[1;33m%\u001b[0m \u001b[0me\u001b[0m\u001b[1;33m\u001b[0m\u001b[1;33m\u001b[0m\u001b[0m\n",
      "\u001b[1;31mNewConnectionError\u001b[0m: <urllib3.connection.HTTPConnection object at 0x0000028DD2480850>: Failed to establish a new connection: [WinError 10060] 연결된 구성원으로부터 응답이 없어 연결하지 못했거나, 호스트로부터 응답이 없어 연결이 끊어졌습니다",
      "\nDuring handling of the above exception, another exception occurred:\n",
      "\u001b[1;31mMaxRetryError\u001b[0m                             Traceback (most recent call last)",
      "\u001b[1;32mD:\\anaconda3\\lib\\site-packages\\requests\\adapters.py\u001b[0m in \u001b[0;36msend\u001b[1;34m(self, request, stream, timeout, verify, cert, proxies)\u001b[0m\n\u001b[0;32m    439\u001b[0m             \u001b[1;32mif\u001b[0m \u001b[1;32mnot\u001b[0m \u001b[0mchunked\u001b[0m\u001b[1;33m:\u001b[0m\u001b[1;33m\u001b[0m\u001b[1;33m\u001b[0m\u001b[0m\n\u001b[1;32m--> 440\u001b[1;33m                 resp = conn.urlopen(\n\u001b[0m\u001b[0;32m    441\u001b[0m                     \u001b[0mmethod\u001b[0m\u001b[1;33m=\u001b[0m\u001b[0mrequest\u001b[0m\u001b[1;33m.\u001b[0m\u001b[0mmethod\u001b[0m\u001b[1;33m,\u001b[0m\u001b[1;33m\u001b[0m\u001b[1;33m\u001b[0m\u001b[0m\n",
      "\u001b[1;32mD:\\anaconda3\\lib\\site-packages\\urllib3\\connectionpool.py\u001b[0m in \u001b[0;36murlopen\u001b[1;34m(self, method, url, body, headers, retries, redirect, assert_same_host, timeout, pool_timeout, release_conn, chunked, body_pos, **response_kw)\u001b[0m\n\u001b[0;32m    784\u001b[0m \u001b[1;33m\u001b[0m\u001b[0m\n\u001b[1;32m--> 785\u001b[1;33m             retries = retries.increment(\n\u001b[0m\u001b[0;32m    786\u001b[0m                 \u001b[0mmethod\u001b[0m\u001b[1;33m,\u001b[0m \u001b[0murl\u001b[0m\u001b[1;33m,\u001b[0m \u001b[0merror\u001b[0m\u001b[1;33m=\u001b[0m\u001b[0me\u001b[0m\u001b[1;33m,\u001b[0m \u001b[0m_pool\u001b[0m\u001b[1;33m=\u001b[0m\u001b[0mself\u001b[0m\u001b[1;33m,\u001b[0m \u001b[0m_stacktrace\u001b[0m\u001b[1;33m=\u001b[0m\u001b[0msys\u001b[0m\u001b[1;33m.\u001b[0m\u001b[0mexc_info\u001b[0m\u001b[1;33m(\u001b[0m\u001b[1;33m)\u001b[0m\u001b[1;33m[\u001b[0m\u001b[1;36m2\u001b[0m\u001b[1;33m]\u001b[0m\u001b[1;33m\u001b[0m\u001b[1;33m\u001b[0m\u001b[0m\n",
      "\u001b[1;32mD:\\anaconda3\\lib\\site-packages\\urllib3\\util\\retry.py\u001b[0m in \u001b[0;36mincrement\u001b[1;34m(self, method, url, response, error, _pool, _stacktrace)\u001b[0m\n\u001b[0;32m    591\u001b[0m         \u001b[1;32mif\u001b[0m \u001b[0mnew_retry\u001b[0m\u001b[1;33m.\u001b[0m\u001b[0mis_exhausted\u001b[0m\u001b[1;33m(\u001b[0m\u001b[1;33m)\u001b[0m\u001b[1;33m:\u001b[0m\u001b[1;33m\u001b[0m\u001b[1;33m\u001b[0m\u001b[0m\n\u001b[1;32m--> 592\u001b[1;33m             \u001b[1;32mraise\u001b[0m \u001b[0mMaxRetryError\u001b[0m\u001b[1;33m(\u001b[0m\u001b[0m_pool\u001b[0m\u001b[1;33m,\u001b[0m \u001b[0murl\u001b[0m\u001b[1;33m,\u001b[0m \u001b[0merror\u001b[0m \u001b[1;32mor\u001b[0m \u001b[0mResponseError\u001b[0m\u001b[1;33m(\u001b[0m\u001b[0mcause\u001b[0m\u001b[1;33m)\u001b[0m\u001b[1;33m)\u001b[0m\u001b[1;33m\u001b[0m\u001b[1;33m\u001b[0m\u001b[0m\n\u001b[0m\u001b[0;32m    593\u001b[0m \u001b[1;33m\u001b[0m\u001b[0m\n",
      "\u001b[1;31mMaxRetryError\u001b[0m: HTTPConnectionPool(host='api.vworld.kr', port=80): Max retries exceeded with url: /req/address?service=address&request=getcoord&version=2.0&crs=epsg:4326&refine=true&simple=false&format=json&type=road&address=%EC%84%9C%EC%9A%B8%20%EA%B0%95%EB%82%A8%EA%B5%AC%20%ED%85%8C%ED%97%A4%EB%9E%80%EB%A1%9C%20137%20%ED%98%84%EB%8C%80%ED%95%B4%EC%83%81%EB%B9%8C%EB%94%A9%2010%EC%B8%B5&key=7D0E01FD-4222-3E0D-AEB0-9630D650077F (Caused by NewConnectionError('<urllib3.connection.HTTPConnection object at 0x0000028DD2480850>: Failed to establish a new connection: [WinError 10060] 연결된 구성원으로부터 응답이 없어 연결하지 못했거나, 호스트로부터 응답이 없어 연결이 끊어졌습니다'))",
      "\nDuring handling of the above exception, another exception occurred:\n",
      "\u001b[1;31mConnectionError\u001b[0m                           Traceback (most recent call last)",
      "\u001b[1;32m~\\AppData\\Local\\Temp/ipykernel_30104/659525178.py\u001b[0m in \u001b[0;36m<module>\u001b[1;34m\u001b[0m\n\u001b[0;32m      1\u001b[0m \u001b[1;32mfor\u001b[0m \u001b[0mi\u001b[0m\u001b[1;33m,\u001b[0m\u001b[0mj\u001b[0m \u001b[1;32min\u001b[0m \u001b[0mtqdm\u001b[0m\u001b[1;33m(\u001b[0m\u001b[0mkakao\u001b[0m\u001b[1;33m.\u001b[0m\u001b[0mitems\u001b[0m\u001b[1;33m(\u001b[0m\u001b[1;33m)\u001b[0m\u001b[1;33m)\u001b[0m\u001b[1;33m:\u001b[0m\u001b[1;33m\u001b[0m\u001b[1;33m\u001b[0m\u001b[0m\n\u001b[1;32m----> 2\u001b[1;33m     \u001b[0mlong_lat\u001b[0m \u001b[1;33m=\u001b[0m \u001b[0mget_long_lat\u001b[0m\u001b[1;33m(\u001b[0m\u001b[0mi\u001b[0m\u001b[1;33m)\u001b[0m\u001b[1;33m\u001b[0m\u001b[1;33m\u001b[0m\u001b[0m\n\u001b[0m\u001b[0;32m      3\u001b[0m     \u001b[0mj\u001b[0m\u001b[1;33m[\u001b[0m\u001b[1;34m'geometry'\u001b[0m\u001b[1;33m]\u001b[0m\u001b[1;33m=\u001b[0m\u001b[0mlong_lat\u001b[0m\u001b[1;33m\u001b[0m\u001b[1;33m\u001b[0m\u001b[0m\n\u001b[0;32m      4\u001b[0m \u001b[1;33m\u001b[0m\u001b[0m\n\u001b[0;32m      5\u001b[0m \u001b[0mcheck\u001b[0m \u001b[1;33m=\u001b[0m \u001b[1;33m[\u001b[0m\u001b[1;33m]\u001b[0m\u001b[1;33m\u001b[0m\u001b[1;33m\u001b[0m\u001b[0m\n",
      "\u001b[1;32m~\\AppData\\Local\\Temp/ipykernel_30104/1506874906.py\u001b[0m in \u001b[0;36mget_long_lat\u001b[1;34m(address)\u001b[0m\n\u001b[0;32m      6\u001b[0m     \u001b[0mauth_key\u001b[0m \u001b[1;33m=\u001b[0m \u001b[1;34m\"7D0E01FD-4222-3E0D-AEB0-9630D650077F\"\u001b[0m\u001b[1;33m\u001b[0m\u001b[1;33m\u001b[0m\u001b[0m\n\u001b[0;32m      7\u001b[0m     \u001b[0murl\u001b[0m \u001b[1;33m=\u001b[0m \u001b[0murl_front\u001b[0m \u001b[1;33m+\u001b[0m \u001b[0murl_params\u001b[0m \u001b[1;33m+\u001b[0m \u001b[0murl_address\u001b[0m \u001b[1;33m+\u001b[0m \u001b[0maddress\u001b[0m \u001b[1;33m+\u001b[0m \u001b[0murl_key\u001b[0m \u001b[1;33m+\u001b[0m \u001b[0mauth_key\u001b[0m\u001b[1;33m\u001b[0m\u001b[1;33m\u001b[0m\u001b[0m\n\u001b[1;32m----> 8\u001b[1;33m     \u001b[0mresult\u001b[0m \u001b[1;33m=\u001b[0m \u001b[0mrequests\u001b[0m\u001b[1;33m.\u001b[0m\u001b[0mget\u001b[0m\u001b[1;33m(\u001b[0m\u001b[0murl\u001b[0m\u001b[1;33m)\u001b[0m\u001b[1;33m\u001b[0m\u001b[1;33m\u001b[0m\u001b[0m\n\u001b[0m\u001b[0;32m      9\u001b[0m     \u001b[0mjson_data\u001b[0m \u001b[1;33m=\u001b[0m \u001b[0mresult\u001b[0m\u001b[1;33m.\u001b[0m\u001b[0mjson\u001b[0m\u001b[1;33m(\u001b[0m\u001b[1;33m)\u001b[0m\u001b[1;33m\u001b[0m\u001b[1;33m\u001b[0m\u001b[0m\n\u001b[0;32m     10\u001b[0m     \u001b[1;32mif\u001b[0m \u001b[0mjson_data\u001b[0m\u001b[1;33m[\u001b[0m\u001b[1;34m'response'\u001b[0m\u001b[1;33m]\u001b[0m\u001b[1;33m[\u001b[0m\u001b[1;34m'status'\u001b[0m\u001b[1;33m]\u001b[0m \u001b[1;33m==\u001b[0m \u001b[1;34m'OK'\u001b[0m\u001b[1;33m:\u001b[0m\u001b[1;33m\u001b[0m\u001b[1;33m\u001b[0m\u001b[0m\n",
      "\u001b[1;32mD:\\anaconda3\\lib\\site-packages\\requests\\api.py\u001b[0m in \u001b[0;36mget\u001b[1;34m(url, params, **kwargs)\u001b[0m\n\u001b[0;32m     73\u001b[0m     \"\"\"\n\u001b[0;32m     74\u001b[0m \u001b[1;33m\u001b[0m\u001b[0m\n\u001b[1;32m---> 75\u001b[1;33m     \u001b[1;32mreturn\u001b[0m \u001b[0mrequest\u001b[0m\u001b[1;33m(\u001b[0m\u001b[1;34m'get'\u001b[0m\u001b[1;33m,\u001b[0m \u001b[0murl\u001b[0m\u001b[1;33m,\u001b[0m \u001b[0mparams\u001b[0m\u001b[1;33m=\u001b[0m\u001b[0mparams\u001b[0m\u001b[1;33m,\u001b[0m \u001b[1;33m**\u001b[0m\u001b[0mkwargs\u001b[0m\u001b[1;33m)\u001b[0m\u001b[1;33m\u001b[0m\u001b[1;33m\u001b[0m\u001b[0m\n\u001b[0m\u001b[0;32m     76\u001b[0m \u001b[1;33m\u001b[0m\u001b[0m\n\u001b[0;32m     77\u001b[0m \u001b[1;33m\u001b[0m\u001b[0m\n",
      "\u001b[1;32mD:\\anaconda3\\lib\\site-packages\\requests\\api.py\u001b[0m in \u001b[0;36mrequest\u001b[1;34m(method, url, **kwargs)\u001b[0m\n\u001b[0;32m     59\u001b[0m     \u001b[1;31m# cases, and look like a memory leak in others.\u001b[0m\u001b[1;33m\u001b[0m\u001b[1;33m\u001b[0m\u001b[0m\n\u001b[0;32m     60\u001b[0m     \u001b[1;32mwith\u001b[0m \u001b[0msessions\u001b[0m\u001b[1;33m.\u001b[0m\u001b[0mSession\u001b[0m\u001b[1;33m(\u001b[0m\u001b[1;33m)\u001b[0m \u001b[1;32mas\u001b[0m \u001b[0msession\u001b[0m\u001b[1;33m:\u001b[0m\u001b[1;33m\u001b[0m\u001b[1;33m\u001b[0m\u001b[0m\n\u001b[1;32m---> 61\u001b[1;33m         \u001b[1;32mreturn\u001b[0m \u001b[0msession\u001b[0m\u001b[1;33m.\u001b[0m\u001b[0mrequest\u001b[0m\u001b[1;33m(\u001b[0m\u001b[0mmethod\u001b[0m\u001b[1;33m=\u001b[0m\u001b[0mmethod\u001b[0m\u001b[1;33m,\u001b[0m \u001b[0murl\u001b[0m\u001b[1;33m=\u001b[0m\u001b[0murl\u001b[0m\u001b[1;33m,\u001b[0m \u001b[1;33m**\u001b[0m\u001b[0mkwargs\u001b[0m\u001b[1;33m)\u001b[0m\u001b[1;33m\u001b[0m\u001b[1;33m\u001b[0m\u001b[0m\n\u001b[0m\u001b[0;32m     62\u001b[0m \u001b[1;33m\u001b[0m\u001b[0m\n\u001b[0;32m     63\u001b[0m \u001b[1;33m\u001b[0m\u001b[0m\n",
      "\u001b[1;32mD:\\anaconda3\\lib\\site-packages\\requests\\sessions.py\u001b[0m in \u001b[0;36mrequest\u001b[1;34m(self, method, url, params, data, headers, cookies, files, auth, timeout, allow_redirects, proxies, hooks, stream, verify, cert, json)\u001b[0m\n\u001b[0;32m    527\u001b[0m         }\n\u001b[0;32m    528\u001b[0m         \u001b[0msend_kwargs\u001b[0m\u001b[1;33m.\u001b[0m\u001b[0mupdate\u001b[0m\u001b[1;33m(\u001b[0m\u001b[0msettings\u001b[0m\u001b[1;33m)\u001b[0m\u001b[1;33m\u001b[0m\u001b[1;33m\u001b[0m\u001b[0m\n\u001b[1;32m--> 529\u001b[1;33m         \u001b[0mresp\u001b[0m \u001b[1;33m=\u001b[0m \u001b[0mself\u001b[0m\u001b[1;33m.\u001b[0m\u001b[0msend\u001b[0m\u001b[1;33m(\u001b[0m\u001b[0mprep\u001b[0m\u001b[1;33m,\u001b[0m \u001b[1;33m**\u001b[0m\u001b[0msend_kwargs\u001b[0m\u001b[1;33m)\u001b[0m\u001b[1;33m\u001b[0m\u001b[1;33m\u001b[0m\u001b[0m\n\u001b[0m\u001b[0;32m    530\u001b[0m \u001b[1;33m\u001b[0m\u001b[0m\n\u001b[0;32m    531\u001b[0m         \u001b[1;32mreturn\u001b[0m \u001b[0mresp\u001b[0m\u001b[1;33m\u001b[0m\u001b[1;33m\u001b[0m\u001b[0m\n",
      "\u001b[1;32mD:\\anaconda3\\lib\\site-packages\\requests\\sessions.py\u001b[0m in \u001b[0;36msend\u001b[1;34m(self, request, **kwargs)\u001b[0m\n\u001b[0;32m    643\u001b[0m \u001b[1;33m\u001b[0m\u001b[0m\n\u001b[0;32m    644\u001b[0m         \u001b[1;31m# Send the request\u001b[0m\u001b[1;33m\u001b[0m\u001b[1;33m\u001b[0m\u001b[0m\n\u001b[1;32m--> 645\u001b[1;33m         \u001b[0mr\u001b[0m \u001b[1;33m=\u001b[0m \u001b[0madapter\u001b[0m\u001b[1;33m.\u001b[0m\u001b[0msend\u001b[0m\u001b[1;33m(\u001b[0m\u001b[0mrequest\u001b[0m\u001b[1;33m,\u001b[0m \u001b[1;33m**\u001b[0m\u001b[0mkwargs\u001b[0m\u001b[1;33m)\u001b[0m\u001b[1;33m\u001b[0m\u001b[1;33m\u001b[0m\u001b[0m\n\u001b[0m\u001b[0;32m    646\u001b[0m \u001b[1;33m\u001b[0m\u001b[0m\n\u001b[0;32m    647\u001b[0m         \u001b[1;31m# Total elapsed time of the request (approximately)\u001b[0m\u001b[1;33m\u001b[0m\u001b[1;33m\u001b[0m\u001b[0m\n",
      "\u001b[1;32mD:\\anaconda3\\lib\\site-packages\\requests\\adapters.py\u001b[0m in \u001b[0;36msend\u001b[1;34m(self, request, stream, timeout, verify, cert, proxies)\u001b[0m\n\u001b[0;32m    517\u001b[0m                 \u001b[1;32mraise\u001b[0m \u001b[0mSSLError\u001b[0m\u001b[1;33m(\u001b[0m\u001b[0me\u001b[0m\u001b[1;33m,\u001b[0m \u001b[0mrequest\u001b[0m\u001b[1;33m=\u001b[0m\u001b[0mrequest\u001b[0m\u001b[1;33m)\u001b[0m\u001b[1;33m\u001b[0m\u001b[1;33m\u001b[0m\u001b[0m\n\u001b[0;32m    518\u001b[0m \u001b[1;33m\u001b[0m\u001b[0m\n\u001b[1;32m--> 519\u001b[1;33m             \u001b[1;32mraise\u001b[0m \u001b[0mConnectionError\u001b[0m\u001b[1;33m(\u001b[0m\u001b[0me\u001b[0m\u001b[1;33m,\u001b[0m \u001b[0mrequest\u001b[0m\u001b[1;33m=\u001b[0m\u001b[0mrequest\u001b[0m\u001b[1;33m)\u001b[0m\u001b[1;33m\u001b[0m\u001b[1;33m\u001b[0m\u001b[0m\n\u001b[0m\u001b[0;32m    520\u001b[0m \u001b[1;33m\u001b[0m\u001b[0m\n\u001b[0;32m    521\u001b[0m         \u001b[1;32mexcept\u001b[0m \u001b[0mClosedPoolError\u001b[0m \u001b[1;32mas\u001b[0m \u001b[0me\u001b[0m\u001b[1;33m:\u001b[0m\u001b[1;33m\u001b[0m\u001b[1;33m\u001b[0m\u001b[0m\n",
      "\u001b[1;31mConnectionError\u001b[0m: HTTPConnectionPool(host='api.vworld.kr', port=80): Max retries exceeded with url: /req/address?service=address&request=getcoord&version=2.0&crs=epsg:4326&refine=true&simple=false&format=json&type=road&address=%EC%84%9C%EC%9A%B8%20%EA%B0%95%EB%82%A8%EA%B5%AC%20%ED%85%8C%ED%97%A4%EB%9E%80%EB%A1%9C%20137%20%ED%98%84%EB%8C%80%ED%95%B4%EC%83%81%EB%B9%8C%EB%94%A9%2010%EC%B8%B5&key=7D0E01FD-4222-3E0D-AEB0-9630D650077F (Caused by NewConnectionError('<urllib3.connection.HTTPConnection object at 0x0000028DD2480850>: Failed to establish a new connection: [WinError 10060] 연결된 구성원으로부터 응답이 없어 연결하지 못했거나, 호스트로부터 응답이 없어 연결이 끊어졌습니다'))"
     ]
    }
   ],
   "source": [
    "for i,j in tqdm(kakao.items()):\n",
    "    long_lat = get_long_lat(i)\n",
    "    j['geometry']=long_lat\n",
    "\n",
    "check = []\n",
    "for i,j in kakao.items():\n",
    "    if j['geometry'] is None:\n",
    "        check.append((i,j))"
   ]
  },
  {
   "cell_type": "markdown",
   "id": "0c9c49a0-8eed-430f-8988-33e5bb0d202e",
   "metadata": {},
   "source": [
    "## 도로명 주소 > 지번 주소"
   ]
  },
  {
   "cell_type": "code",
   "execution_count": 57,
   "id": "72d46e17-42dd-47c3-8f5a-9027c056998c",
   "metadata": {},
   "outputs": [],
   "source": [
    "def get_jibun_addr(data:Dict):\n",
    "    locations = []\n",
    "    c=0\n",
    "    for addr,j in tqdm(data.items()):\n",
    "        url = 'https://dapi.kakao.com/v2/local/search/address.json?query={}'.format(addr)\n",
    "        headers = {\n",
    "    ## 여러분의 카카오 API의 REST API키를 아래 예시와 같이 입력해주세요\n",
    "    ## \"Authorization\": \"KakaoAK REST API키 입력 gogo\"}\n",
    "    \"Authorization\": \"KakaoAK 2bf374c5b32c92fb51365a34edc4f4c7\"}\n",
    "        try:\n",
    "            place = requests.get(url, headers = headers).json()['documents']\n",
    "            jibun = place[0]['address']['address_name']\n",
    "        except:\n",
    "            try:\n",
    "                addr = ' '.join(addr.split()[:-1])\n",
    "                url = 'https://dapi.kakao.com/v2/local/search/address.json?query={}'.format(addr)\n",
    "                place = requests.get(url, headers = headers).json()['documents']\n",
    "                jibun = place[0]['address']['address_name']\n",
    "            except:\n",
    "                jibun = None\n",
    "                c+=1\n",
    "        j['jibun_addr']=jibun\n",
    "    print(f'there is no jibun address - {c}')\n",
    "    return data"
   ]
  },
  {
   "cell_type": "code",
   "execution_count": 58,
   "id": "6ec27700-9700-4eb9-9cef-43b1e1eea329",
   "metadata": {},
   "outputs": [
    {
     "name": "stderr",
     "output_type": "stream",
     "text": [
      "100%|██████████████████████████████████████████████████████████████████████████████| 3129/3129 [03:27<00:00, 15.05it/s]"
     ]
    },
    {
     "name": "stdout",
     "output_type": "stream",
     "text": [
      "there is no jibun address - 5\n"
     ]
    },
    {
     "name": "stderr",
     "output_type": "stream",
     "text": [
      "\n"
     ]
    }
   ],
   "source": [
    "kakao = get_jibun_addr(kakao)"
   ]
  },
  {
   "cell_type": "markdown",
   "id": "8779c930-4ad1-4985-a216-19175158a34c",
   "metadata": {},
   "source": [
    "## 정합성 파악\n",
    "1. null 값 : x\n",
    "2. jibun 주소가 없는 경우 : 12 \n",
    "3. geometry가 없는 경우 : 34"
   ]
  },
  {
   "cell_type": "code",
   "execution_count": 59,
   "id": "ce51b7b6-9736-4a0e-97a6-a95fa1aa447b",
   "metadata": {},
   "outputs": [
    {
     "name": "stdout",
     "output_type": "stream",
     "text": [
      "no jibun - 5\n",
      "no geo - 0\n"
     ]
    }
   ],
   "source": [
    "check_geo = []\n",
    "check_jibun = []\n",
    "for i,j in kakao.items():\n",
    "    if not j['geometry']:\n",
    "        check_geo.append(i)\n",
    "    if not j['jibun_addr']:\n",
    "        check_jibun.append(i)\n",
    "    else:\n",
    "        if j['jibun_addr'] is None:\n",
    "            check_jibun.append(i)\n",
    "print(f'no jibun - {len(check_jibun)}')\n",
    "print(f'no geo - {len(check_geo)}')"
   ]
  },
  {
   "cell_type": "code",
   "execution_count": 60,
   "id": "763387a4-d4a2-466a-bce8-d848dcbd600c",
   "metadata": {
    "tags": []
   },
   "outputs": [
    {
     "name": "stdout",
     "output_type": "stream",
     "text": [
      "서울 강남구 도곡로 516 151-1호, 2호\n",
      "{'name': '깐부치킨 은마아파트점', 'score': '3.7', 'geometry': ['127.062973708', '37.499128424'], 'reviews': [{'date': '2022.07.02.', 'review': '치킨한마리 배달안해준다는게 말이되나요.. 배달비 준다는데 사이드매뉴를 따로 더 시켜야 배달해주는 양심불량업체', 'id': 2110}, {'date': '2022.03.09.', 'review': '방문했던 깐부치킨 지점 중 가장 맛있었던 곳.', 'id': 2111}, {'date': '2021.10.26.', 'review': '존.맛. 인테리어도 예쁘고, 가까이 있어서 좋아요.ᐟ', 'id': 2112}], 'id': 627, 'jibun_addr': None}\n"
     ]
    },
    {
     "name": "stdin",
     "output_type": "stream",
     "text": [
      " 서울 강남구 대치동 990\n"
     ]
    },
    {
     "name": "stdout",
     "output_type": "stream",
     "text": [
      "\n",
      "서울 강남구 압구정로28길 49 101, 102호\n",
      "{'name': 'GS25 압구정유림점', 'score': '5.0', 'geometry': ['127.027711329', '37.523255791'], 'reviews': [{'date': '2022.12.12.', 'review': '추천포인트 친절 우산 없어서 급히 들어온 곳인데 사장님 진짜 친절합니다', 'id': 3514}, {'date': '2022.12.10.', 'review': '여기 사장님 너무 친절하시고 즐겁게 말걸어주셔서 이쪽들를일 있으면 꼭 여기로 갑니다 항상 행복하시고 번창하세요!', 'id': 3515}, {'date': '2022.05.24.', 'review': 'GS는 싫지만 여기 점주님은 항상 먼저 즐겁게 인사해주십니다. 늘 감사합니다', 'id': 3516}, {'date': '2021.11.22.', 'review': '사장님이 건네주시는 말 한마디 덕분에 그 날 기분이 좋아지는 곳이예요. 전국 편의점 들어서 제일 친절하신 듯 .. :D', 'id': 3517}, {'date': '2020.06.17.', 'review': '야외 테이블도 있고 주인분도 너무 친절하셔서 좋아요 :)   편의점 리뷰 남겨보기 처음이에요 ㅋㅋㅋ 압구정 오면 나중에 또 방문하려구요!', 'id': 3518}, {'date': '2020.04.16.', 'review': '하나를 사더라도 밝게 인사해주시고 진정성있게 대해주셔서 이 매장은 좋은 에너지가 가득합니다. 가게는 항상 흐트럼없이 정돈이 잘 되어 있고, 기분 나빠서 들어갔다가도 기분 좋아져서 나오게 되는 신비한 곳...^^', 'id': 3519}, {'date': '2020.03.26.', 'review': '주인 아주머니이신 것 같은데, 잠깐 왔다가는 손님들에게도 밝고 활기차게 대해주세요. 인사 끝에 좋은 하루 되시라고 말해 주시는데, 하루가 아름다워질 것 같아요. 감사합니다.', 'id': 3520}, {'date': '2019.11.22.', 'review': '2019-11월 주인 아저씨 아주머니 두분이 운영하심. 일이 좀 서툴고 계산도 느리시지만, 들어오고 나갈때 항상 과할정도로 밝게 인사해주시고 머 하나 작은 것을 사더라도 너무나 친절하게 응대해 주셔서 편의점 갈일 있으면 이곳만 가게됨. 더 잘되었으면 하는 맘에 이 리뷰를 적음.  많이 이용해 주세요. 더보기', 'id': 3521}], 'id': 1442, 'jibun_addr': None}\n"
     ]
    },
    {
     "name": "stdin",
     "output_type": "stream",
     "text": [
      " 서울 강남구 신사동 584-1\n"
     ]
    },
    {
     "name": "stdout",
     "output_type": "stream",
     "text": [
      "\n",
      "서울 강남구 테헤란로27길 16 1, 2층\n",
      "{'name': '투썸플레이스 역삼역점', 'score': '3.8', 'geometry': ['127.038054855', '37.502438821'], 'reviews': [{'date': '2021.10.01.', 'review': '1층은 좌석이 없는 거나 마찬가지로 생각하면 됨 (1층은 카운터 + 3팀 정도 가능한 좌석) 2층은 코로나 거리두기로 인해 10팀 정도 가능 와이파이 구린건 어느 투썸이나 비슷하니까 괜찮음.   다만 흡연실이 내부에 있는데,  관리가 전혀 이루어지지 않음. 담배냄새가 다 새어나옴.  더구나 마스크 관리는 아예 안함. 흡연실에 대놓고 6명,8명이 낑겨 있어도 테이블에 4인~6인이 모여서 마스크 벗고 있어도 올라와서 살펴보는 직원은 거의 없음. 이따금 올라와도 신경조차 안쓰더라.  위치상 4~6인 팀이 많이 오는 곳이기 때문에 코로나 걸리기 딱 좋은 곳이니 도망가라. 더보기', 'id': 9643}, {'date': '2021.09.30.', 'review': '친절하구 홀케익 사면 아아도 줘욤♡', 'id': 9644}, {'date': '2021.09.25.', 'review': '', 'id': 9645}, {'date': '2021.01.22.', 'review': '', 'id': 9646}], 'id': 2525, 'jibun_addr': None}\n"
     ]
    },
    {
     "name": "stdin",
     "output_type": "stream",
     "text": [
      " 서울 강남구 역삼동 678-10\n"
     ]
    },
    {
     "name": "stdout",
     "output_type": "stream",
     "text": [
      "\n",
      "서울 강남구 강남대로102길 28 1, 2, 지하 1층\n",
      "{'name': '어퍼앤언더', 'score': '3.1', 'geometry': ['127.027720551', '37.502737230'], 'reviews': [{'date': '2022.12.30.', 'review': '저렇게 맛없는 얼그레이 파운드 처음임 심지어 8천원..? 제가 갔던 카페 중에 가성비도 맛도 하위', 'id': 10598}, {'date': '2022.12.24.', 'review': '', 'id': 10599}, {'date': '2022.12.19.', 'review': '추천포인트 맛 친절 근처에서 찍은 사진 근처에서 찍은 사진 근처에서 찍은 사진 자주 오는데 조금 비싸요', 'id': 10600}, {'date': '2022.12.09.', 'review': '테라스 자리 넘 좋았어요!', 'id': 10601}, {'date': '2022.12.06.', 'review': '추천포인트 맛 분위기 2층 풍경 넘 좋고 실내 분위기 좋고 커피 맛도 좋음! 사람 많아지면 시끄러워서 정신 없어지는 것 빼고 다 좋음 ㅎㅎ', 'id': 10602}, {'date': '2022.11.28.', 'review': '추천포인트 맛 근처에서 찍은 사진 근처에서 찍은 사진 근처에서 찍은 사진 휘낭시에 진짜 잘하시네여 근데 왜케 비싸죠? 휘낭시에 두 개에 6,500원이라닝 ㅠㅠ 비싼데 맛있어서 또 가긴할거예여ㅠㅠ 맛있어요', 'id': 10603}, {'date': '2022.11.18.', 'review': '테라스에서 본 골목풍경이 상당히 예뻤어요. 더 추워지기 전에 기분좋게 마시고 온듯', 'id': 10604}, {'date': '2022.11.07.', 'review': '휘낭시에', 'id': 10605}, {'date': '2022.10.08.', 'review': '추천포인트 분위기 근처에서 찍은 사진 분위기 좋아서 가는 카페입니다… 저거 초코 먹었다가 너무 너무.. 맛이 뭉게져서 실망했어요…. 진짜 그냥 야외 분위기만 즐기다 왔어요', 'id': 10606}, {'date': '2022.09.21.', 'review': '야외테라스 너무 예쁘고 커피디저트 달달구리 취저-!!', 'id': 10607}, {'date': '2022.09.11.', 'review': '아이스 아메리카노 콜드브루 페레로로쉐 휘낭시에 고구마 파이 복숭아 요거트 파이 옥수수 파이', 'id': 10608}, {'date': '2022.08.27.', 'review': '졸라 맛없음 비추👎 옥수수파이: 가르니까 안에서 물이 조르륵 흘러나오고 계란찜 필링 쇼콜라파이: 겉 부분 탄맛, 필링은 씁쓸한 가나슈인데 걍 별로 페레로로쉐 휘낭시에: 휘낭시에 겉 부분이 왜 크리스피하죠...? 바삭한 식감에 놀람 칭찬아님 티라미수 파운드: 마트 티라미수보다 못함 커피도 그저그럼 사람만 많음 더보기', 'id': 10609}, {'date': '2022.08.27.', 'review': '테이블은 언제 닦나요? 2시간동안 많은 사람이 왔다간 테이블을 닦는걸 못봤어요…', 'id': 10610}, {'date': '2022.08.25.', 'review': '추천포인트 맛 여기....파이 잇는 곳에 파이만 덜렁 노출되어 있어서 날파리 엄청 날라다녀요 특히 과일 올라가 잇는 파이...위에 뭘로 좀 덮어주시면 안될까요', 'id': 10611}, {'date': '2022.08.22.', 'review': '추천포인트 맛 분위기', 'id': 10612}, {'date': '2022.07.16.', 'review': '6 휘낭시에 보기만해도 이쁘네요 근데 맛도 좋아요.. 왜  맛이 없다고 하는지는.. 개취존중 하지만 전 하나 먹어보고 맛있어서 바로 더 사서 포장했네요 더보기', 'id': 10613}, {'date': '2022.07.07.', 'review': '케이크류 빼고 휘낭시에, 파이 종류 거의 먹어봤는데  대부분 평타 이상이고 제 기준 옥수수파이랑 피칸파이가 젤 맛있었습니다! 왜케 평낮은지 모르겠네용', 'id': 10614}, {'date': '2022.07.04.', 'review': '죄송하지만 1점도 아까울 정도로 심각하게 맛없어요...', 'id': 10615}, {'date': '2022.06.23.', 'review': '음료는 먹을만한데 빵이 진심 맛없어요 에그타르트는 종이씹는맛 휘낭시에는 질겨서 썰리지도 않는..', 'id': 10616}, {'date': '2022.06.11.', 'review': '어제 구운 휘낭시에에 초콜릿 묻힌 느낌  당일에 구워서 하는것 같은 느낌은 들지 않았다  음료 쏘쏘 티백류는 무난 에이드는 괜츈 근데 잘 섞이지 않는다 더보기', 'id': 10617}, {'date': '2022.05.24.', 'review': '케이크 상큼하고 맛있어용 자리도 다양하게 많음', 'id': 10618}, {'date': '2022.05.19.', 'review': '', 'id': 10619}, {'date': '2022.05.09.', 'review': '솔직히 헤이즐넛 아메리카노는 별로 .. 다 된 아메리카노에 시럽 얹은 격 .!', 'id': 10620}, {'date': '2022.05.08.', 'review': '휘낭시에가.. 질겨요.. ㅠ', 'id': 10621}, {'date': '2022.04.12.', 'review': '', 'id': 10622}, {'date': '2022.04.11.', 'review': '빵 좋아하지만 잘아는건 아니라서 아래 후기처럼 오버쿡은 모르겠고, 그냥 디저트랑 음료 모두 무난무난하고, 사람도 엄청 많지만 그래도 3층짜리라서 자리도 많고 전체적으로 깔끔한 느낌이라서 괜찮았어요 ☻', 'id': 10623}, {'date': '2022.03.19.', 'review': '여기 아망드 드세요 백번드세요 맛있어서 깜짝 놀랐어요 ㅎ', 'id': 10624}, {'date': '2022.02.13.', 'review': '디저트 퀄리티가 별로입니다. 밑에 오버쿡 평이 그때만 그랬던 게 아니라 그냥 퀄리티 자체가 별로인 것 같아요. 전형적인 비주얼용 인스타 카페 느낌입니다.  사람마다 입맛이 천차만별이라지만, 여기가 최애일 수는 결코 없을 것 같습니다... 더보기', 'id': 10625}, {'date': '2022.02.13.', 'review': '너무 맛있어요 빵 두 종류 다 성공적..ㅠㅠ', 'id': 10626}, {'date': '2022.02.03.', 'review': '존맛 이제부터 내 강남 최애 카페', 'id': 10627}, {'date': '2022.01.11.', 'review': '포장해온 초코소금휘낭시에가 완전히 오버쿡돼서 넘 퍼석하고 당황스러웠네요 상품성 없는걸 파는건 좀 너무한거 같아요 ㅠㅠ', 'id': 10628}], 'id': 2740, 'jibun_addr': None}\n"
     ]
    },
    {
     "name": "stdin",
     "output_type": "stream",
     "text": [
      " 서울 강남구 역삼동 618-17\n"
     ]
    },
    {
     "name": "stdout",
     "output_type": "stream",
     "text": [
      "\n",
      "서울 강남구 도곡로77길 8 102, 103호\n",
      "{'name': '아마당 젤라또 크로플 츄러스', 'score': '5.0', 'geometry': ['127.058647960', '37.498915138'], 'reviews': [{'date': '2022.08.01.', 'review': '기분 좋아져요 . ^^', 'id': 11732}, {'date': '2022.02.05.', 'review': '사장님이 너무 친절하시고 아기자기한 소품이 있어 분위기가 좋아요. 아이스크림도 맛있어요:)', 'id': 11733}, {'date': '2021.12.11.', 'review': '젤라또랑 츄러스도 맛있고 사장님 너무친절하세용 처음왔다고 서비스도 주심ㅠ', 'id': 11734}], 'id': 2965, 'jibun_addr': None}\n"
     ]
    },
    {
     "name": "stdin",
     "output_type": "stream",
     "text": [
      " 서울 강남구 대치동 941\n"
     ]
    },
    {
     "name": "stdout",
     "output_type": "stream",
     "text": [
      "\n"
     ]
    }
   ],
   "source": [
    "# 수기로 검색\n",
    "for address in check_jibun:\n",
    "    print(address)\n",
    "    print(kakao[address])\n",
    "    check = input()\n",
    "    kakao[address]['jibun_addr']=check\n",
    "    print()"
   ]
  },
  {
   "cell_type": "code",
   "execution_count": 61,
   "id": "d737ee27-26aa-498f-9b2c-89fb3e633cd5",
   "metadata": {},
   "outputs": [
    {
     "name": "stderr",
     "output_type": "stream",
     "text": [
      "100%|█████████████████████████████████████████████████████████████████████████| 3129/3129 [00:00<00:00, 1557187.61it/s]\n"
     ]
    }
   ],
   "source": [
    "# delete\n",
    "new_kakao = {}\n",
    "for i,j in tqdm(kakao.items()):\n",
    "    if j['jibun_addr']:\n",
    "        new_kakao[i]=j"
   ]
  },
  {
   "cell_type": "code",
   "execution_count": 62,
   "id": "060e3f8d-5925-4ae9-b4aa-18ab038b5c2f",
   "metadata": {},
   "outputs": [
    {
     "name": "stdout",
     "output_type": "stream",
     "text": [
      "no jibun - 0\n",
      "no geo - 0\n"
     ]
    }
   ],
   "source": [
    "check_geo = []\n",
    "check_jibun = []\n",
    "for i,j in new_kakao.items():\n",
    "    if not j['geometry']:\n",
    "        check_geo.append(i)\n",
    "    if not j['jibun_addr']:\n",
    "        check_jibun.append(i)\n",
    "print(f'no jibun - {len(check_jibun)}')\n",
    "print(f'no geo - {len(check_geo)}')"
   ]
  },
  {
   "cell_type": "code",
   "execution_count": 24,
   "id": "50ad96ee-56a7-47e6-8e60-3dcf0df9dbec",
   "metadata": {
    "collapsed": true,
    "jupyter": {
     "outputs_hidden": true
    },
    "tags": []
   },
   "outputs": [
    {
     "name": "stdout",
     "output_type": "stream",
     "text": [
      "서울 강남구 일원동 717-1 일원역 구내 348-10호\n",
      "{'id': 319, 'name': '더박스 일원역점', 'score': '0.0', 'reviews': [], 'geometry': None, 'jibun_addr': '서울 강남구 일원동 717-1'}\n"
     ]
    },
    {
     "name": "stdin",
     "output_type": "stream",
     "text": [
      " \n"
     ]
    },
    {
     "name": "stdout",
     "output_type": "stream",
     "text": [
      "서울 강남구 테헤란로 322 한신인터밸리 24 상가 1층 103호\n",
      "{'id': 374, 'name': '세븐일레븐 한신점', 'score': '0.0', 'reviews': [], 'geometry': None, 'jibun_addr': '서울 강남구 역삼동 707-34'}\n"
     ]
    },
    {
     "name": "stdin",
     "output_type": "stream",
     "text": [
      " 서울 강남구 테헤란로 322 한신인터밸리\n"
     ]
    },
    {
     "name": "stdout",
     "output_type": "stream",
     "text": [
      "서울 강남구 삼성로 150 미도종합상가(남부순환로 3032, 135)\n",
      "{'id': 581, 'name': '대곡공인중개사사무소', 'score': '0.0', 'reviews': [], 'geometry': None, 'jibun_addr': '서울 강남구 대치동 511'}\n"
     ]
    },
    {
     "name": "stdin",
     "output_type": "stream",
     "text": [
      " \n"
     ]
    },
    {
     "name": "stdout",
     "output_type": "stream",
     "text": [
      "서울 강남구 대치동 1011-8\n",
      "{'id': 598, 'name': '은마아파트입구 사거리(1) 대여소', 'score': '0.0', 'reviews': [], 'geometry': None, 'jibun_addr': '서울 강남구 대치동 1011-8'}\n"
     ]
    },
    {
     "name": "stdin",
     "output_type": "stream",
     "text": [
      " \n"
     ]
    },
    {
     "name": "stdout",
     "output_type": "stream",
     "text": [
      "서울 강남구 대치동 317-2\n",
      "{'id': 600, 'name': '은마아파트 노상공영주차장', 'score': '0.0', 'reviews': [], 'geometry': None, 'jibun_addr': '서울 강남구 대치동 317-2'}\n"
     ]
    },
    {
     "name": "stdin",
     "output_type": "stream",
     "text": [
      " \n"
     ]
    },
    {
     "name": "stdout",
     "output_type": "stream",
     "text": [
      "서울 강남구 대치동 398\n",
      "{'id': 617, 'name': '학여울역사거리(은마아파트) 대여소', 'score': '0.0', 'reviews': [], 'geometry': None, 'jibun_addr': '서울 강남구 대치동 398'}\n"
     ]
    },
    {
     "name": "stdin",
     "output_type": "stream",
     "text": [
      " \n"
     ]
    },
    {
     "name": "stdout",
     "output_type": "stream",
     "text": [
      "서울 서초구 서초동 1327-5\n",
      "{'id': 887, 'name': '동아유료주차장', 'score': '0.0', 'reviews': [], 'geometry': None, 'jibun_addr': '서울 서초구 서초동 1327-5'}\n"
     ]
    },
    {
     "name": "stdin",
     "output_type": "stream",
     "text": [
      " \n"
     ]
    },
    {
     "name": "stdout",
     "output_type": "stream",
     "text": [
      "서울 서초구 잠원동 103-2\n",
      "{'id': 954, 'name': '공중전화 잠원 동아아파트 정문', 'score': '0.0', 'reviews': [], 'geometry': None, 'jibun_addr': '서울 서초구 잠원동 103-2'}\n"
     ]
    },
    {
     "name": "stdin",
     "output_type": "stream",
     "text": [
      " \n"
     ]
    },
    {
     "name": "stdout",
     "output_type": "stream",
     "text": [
      "서울 강남구 개포동 1277\n",
      "{'id': 1034, 'name': '구룡산 입구 (구룡산 서울둘레길 입구) 대여소', 'score': '0.0', 'reviews': [], 'geometry': None, 'jibun_addr': '서울 강남구 개포동 1277'}\n"
     ]
    },
    {
     "name": "stdin",
     "output_type": "stream",
     "text": [
      " \n"
     ]
    },
    {
     "name": "stdout",
     "output_type": "stream",
     "text": [
      "서울 강남구 대치동 630\n",
      "{'id': 1036, 'name': '대치늘벗길주차장', 'score': '0.0', 'reviews': [], 'geometry': None, 'jibun_addr': '서울 강남구 대치동 630'}\n"
     ]
    },
    {
     "name": "stdin",
     "output_type": "stream",
     "text": [
      " \n"
     ]
    },
    {
     "name": "stdout",
     "output_type": "stream",
     "text": [
      "서울 강남구 도곡동 468\n",
      "{'id': 1071, 'name': '양재천 벚꽃길', 'score': '5.0', 'reviews': [{'date': '2022.04.10.', 'review': '도곡-매봉-양재 까지 주변에 예쁜 카페도 많고 산책하기 좋아요', 'id': 2576}], 'geometry': None, 'jibun_addr': '서울 강남구 도곡동 468'}\n"
     ]
    },
    {
     "name": "stdin",
     "output_type": "stream",
     "text": [
      " \n"
     ]
    },
    {
     "name": "stdout",
     "output_type": "stream",
     "text": [
      "서울 강남구 대치동 513-3\n",
      "{'id': 1072, 'name': '양재천 은행나무길', 'score': '0.0', 'reviews': [], 'geometry': None, 'jibun_addr': '서울 강남구 대치동 513-3'}\n"
     ]
    },
    {
     "name": "stdin",
     "output_type": "stream",
     "text": [
      " \n"
     ]
    },
    {
     "name": "stdout",
     "output_type": "stream",
     "text": [
      "서울 강남구 역삼동 765-22\n",
      "{'id': 1078, 'name': '도곡로327공영주차장', 'score': '5.0', 'reviews': [{'date': '2021.04.20.', 'review': '', 'id': 2582}], 'geometry': None, 'jibun_addr': '서울 강남구 역삼동 765-22'}\n"
     ]
    },
    {
     "name": "stdin",
     "output_type": "stream",
     "text": [
      " \n"
     ]
    },
    {
     "name": "stdout",
     "output_type": "stream",
     "text": [
      "서울 강남구 역삼동 640-10\n",
      "{'id': 1152, 'name': '현대주차장', 'score': '5.0', 'reviews': [{'date': '2021.12.16.', 'review': '', 'id': 2896}], 'geometry': None, 'jibun_addr': '서울 강남구 역삼동 640-10'}\n"
     ]
    },
    {
     "name": "stdin",
     "output_type": "stream",
     "text": [
      " \n"
     ]
    },
    {
     "name": "stdout",
     "output_type": "stream",
     "text": [
      "서울 강남구 역삼동 738-8\n",
      "{'id': 1154, 'name': '현대주차장', 'score': '0.0', 'reviews': [], 'geometry': None, 'jibun_addr': '서울 강남구 역삼동 738-8'}\n"
     ]
    },
    {
     "name": "stdin",
     "output_type": "stream",
     "text": [
      " \n"
     ]
    },
    {
     "name": "stdout",
     "output_type": "stream",
     "text": [
      "서울 강남구 역삼동 626-23\n",
      "{'id': 1179, 'name': '현대주차장', 'score': '0.0', 'reviews': [], 'geometry': None, 'jibun_addr': '서울 강남구 역삼동 626-23'}\n"
     ]
    },
    {
     "name": "stdin",
     "output_type": "stream",
     "text": [
      " \n"
     ]
    },
    {
     "name": "stdout",
     "output_type": "stream",
     "text": [
      "서울 강남구 언주로86길 12 지하주차장 진입 후 바로 좌측\n",
      "{'id': 1211, 'name': '현대까르띠에710아파트 전기차충전소', 'score': '0.0', 'reviews': [], 'geometry': None, 'jibun_addr': '서울 강남구 역삼동 710'}\n"
     ]
    },
    {
     "name": "stdin",
     "output_type": "stream",
     "text": [
      " \n"
     ]
    },
    {
     "name": "stdout",
     "output_type": "stream",
     "text": [
      "서울 서초구 반포동 1342\n",
      "{'id': 1290, 'name': '서초현대4차아파트 201동 맞은편 대여소', 'score': '0.0', 'reviews': [], 'geometry': None, 'jibun_addr': '서울 서초구 반포동 1342'}\n"
     ]
    },
    {
     "name": "stdin",
     "output_type": "stream",
     "text": [
      " \n"
     ]
    },
    {
     "name": "stdout",
     "output_type": "stream",
     "text": [
      "서울 서초구 서초동 1552-23\n",
      "{'id': 1402, 'name': '서초현대 제1주차장', 'score': '0.0', 'reviews': [], 'geometry': None, 'jibun_addr': '서울 서초구 서초동 1552-23'}\n"
     ]
    },
    {
     "name": "stdin",
     "output_type": "stream",
     "text": [
      " \n"
     ]
    },
    {
     "name": "stdout",
     "output_type": "stream",
     "text": [
      "서울 강남구 삼성동 143-37\n",
      "{'id': 1426, 'name': '현대타워 주차장', 'score': '0.0', 'reviews': [], 'geometry': None, 'jibun_addr': '서울 강남구 삼성동 143-37'}\n"
     ]
    },
    {
     "name": "stdin",
     "output_type": "stream",
     "text": [
      " \n"
     ]
    },
    {
     "name": "stdout",
     "output_type": "stream",
     "text": [
      "서울 강남구 삼성동 148-6\n",
      "{'id': 1461, 'name': '현대백화점 무역점 별관주차장', 'score': '0.0', 'reviews': [], 'geometry': None, 'jibun_addr': '서울 강남구 삼성동 148-6'}\n"
     ]
    },
    {
     "name": "stdin",
     "output_type": "stream",
     "text": [
      " \n"
     ]
    },
    {
     "name": "stdout",
     "output_type": "stream",
     "text": [
      "서울 강남구 학동로4길 15 동화히스토리 1층 103호\n",
      "{'id': 1836, 'name': 'CU 논현동화점', 'score': '3.7', 'reviews': [{'date': '2022.03.17.', 'review': '최고', 'id': 5244}, {'date': '2020.12.14.', 'review': '사장님이 너무 친절하세요 짱짱', 'id': 5245}, {'date': '2020.02.12.', 'review': '야간에 일하시는분 포인트결제해달라니까 적립으로하고나서 하는말이 결제말고 적립으로해서 현금이나 카드로결제해야된다고 말함.  포인트결제방법을 찾아보는 노력도안하고 매너도없고 서비스 꽝이네요', 'id': 5246}], 'geometry': None, 'jibun_addr': '서울 강남구 논현동 122-8'}\n"
     ]
    },
    {
     "name": "stdin",
     "output_type": "stream",
     "text": [
      " 서울 강남구 학동로4길 15\n"
     ]
    },
    {
     "name": "stdout",
     "output_type": "stream",
     "text": [
      "서울 강남구 대치동 912-7\n",
      "{'id': 2136, 'name': '토마토폴학원 주차장', 'score': '0.0', 'reviews': [], 'geometry': None, 'jibun_addr': '서울 강남구 대치동 912-7'}\n"
     ]
    },
    {
     "name": "stdin",
     "output_type": "stream",
     "text": [
      " \n"
     ]
    },
    {
     "name": "stdout",
     "output_type": "stream",
     "text": [
      "서울 강남구 개포동 169-3\n",
      "{'id': 2230, 'name': '개포까치공원', 'score': '0.0', 'reviews': [], 'geometry': None, 'jibun_addr': '서울 강남구 개포동 169-3'}\n"
     ]
    },
    {
     "name": "stdin",
     "output_type": "stream",
     "text": [
      " \n"
     ]
    },
    {
     "name": "stdout",
     "output_type": "stream",
     "text": [
      "서울 강남구 도곡동 455\n",
      "{'id': 2231, 'name': '도곡까치공원', 'score': '5.0', 'reviews': [{'date': '2022.08.28.', 'review': '근처에서 찍은 사진 근처에서 찍은 사진 그네는 없지만 미끄럼틀 있고 모래놀이도 가능해요', 'id': 7703}], 'geometry': None, 'jibun_addr': '서울 강남구 도곡동 455'}\n"
     ]
    },
    {
     "name": "stdin",
     "output_type": "stream",
     "text": [
      " \n"
     ]
    },
    {
     "name": "stdout",
     "output_type": "stream",
     "text": [
      "서울 강남구 도곡동 455 운동기구옆(좌)\n",
      "{'id': 2232, 'name': '도곡까치어린이공원 음수대2', 'score': '0.0', 'reviews': [], 'geometry': None, 'jibun_addr': '서울 강남구 도곡동 455'}\n"
     ]
    },
    {
     "name": "stdin",
     "output_type": "stream",
     "text": [
      " \n"
     ]
    },
    {
     "name": "stdout",
     "output_type": "stream",
     "text": [
      "서울 강남구 도곡동 455 운동기구옆(우)\n",
      "{'id': 2233, 'name': '도곡까치어린이공원 음수대1', 'score': '0.0', 'reviews': [], 'geometry': None, 'jibun_addr': '서울 강남구 도곡동 455'}\n"
     ]
    },
    {
     "ename": "KeyboardInterrupt",
     "evalue": "Interrupted by user",
     "output_type": "error",
     "traceback": [
      "\u001b[1;31m---------------------------------------------------------------------------\u001b[0m",
      "\u001b[1;31mKeyboardInterrupt\u001b[0m                         Traceback (most recent call last)",
      "\u001b[1;32m~\\AppData\\Local\\Temp/ipykernel_42796/3954392568.py\u001b[0m in \u001b[0;36m<module>\u001b[1;34m\u001b[0m\n\u001b[0;32m      4\u001b[0m     \u001b[0mprint\u001b[0m\u001b[1;33m(\u001b[0m\u001b[0mi\u001b[0m\u001b[1;33m)\u001b[0m\u001b[1;33m\u001b[0m\u001b[1;33m\u001b[0m\u001b[0m\n\u001b[0;32m      5\u001b[0m     \u001b[0mprint\u001b[0m\u001b[1;33m(\u001b[0m\u001b[0mnew_kakao\u001b[0m\u001b[1;33m[\u001b[0m\u001b[0mi\u001b[0m\u001b[1;33m]\u001b[0m\u001b[1;33m)\u001b[0m\u001b[1;33m\u001b[0m\u001b[1;33m\u001b[0m\u001b[0m\n\u001b[1;32m----> 6\u001b[1;33m     \u001b[0mcheck\u001b[0m \u001b[1;33m=\u001b[0m \u001b[0minput\u001b[0m\u001b[1;33m(\u001b[0m\u001b[1;33m)\u001b[0m\u001b[1;33m\u001b[0m\u001b[1;33m\u001b[0m\u001b[0m\n\u001b[0m\u001b[0;32m      7\u001b[0m     \u001b[0mgeo\u001b[0m \u001b[1;33m=\u001b[0m \u001b[0mget_long_lat\u001b[0m\u001b[1;33m(\u001b[0m\u001b[0mcheck\u001b[0m\u001b[1;33m)\u001b[0m\u001b[1;33m\u001b[0m\u001b[1;33m\u001b[0m\u001b[0m\n\u001b[0;32m      8\u001b[0m     \u001b[0mnew_kakao\u001b[0m\u001b[1;33m[\u001b[0m\u001b[0mi\u001b[0m\u001b[1;33m]\u001b[0m\u001b[1;33m[\u001b[0m\u001b[1;34m'geometry'\u001b[0m\u001b[1;33m]\u001b[0m\u001b[1;33m=\u001b[0m\u001b[0mgeo\u001b[0m\u001b[1;33m\u001b[0m\u001b[1;33m\u001b[0m\u001b[0m\n",
      "\u001b[1;32mD:\\anaconda3\\lib\\site-packages\\ipykernel\\kernelbase.py\u001b[0m in \u001b[0;36mraw_input\u001b[1;34m(self, prompt)\u001b[0m\n\u001b[0;32m   1004\u001b[0m                 \u001b[1;34m\"raw_input was called, but this frontend does not support input requests.\"\u001b[0m\u001b[1;33m\u001b[0m\u001b[1;33m\u001b[0m\u001b[0m\n\u001b[0;32m   1005\u001b[0m             )\n\u001b[1;32m-> 1006\u001b[1;33m         return self._input_request(\n\u001b[0m\u001b[0;32m   1007\u001b[0m             \u001b[0mstr\u001b[0m\u001b[1;33m(\u001b[0m\u001b[0mprompt\u001b[0m\u001b[1;33m)\u001b[0m\u001b[1;33m,\u001b[0m\u001b[1;33m\u001b[0m\u001b[1;33m\u001b[0m\u001b[0m\n\u001b[0;32m   1008\u001b[0m             \u001b[0mself\u001b[0m\u001b[1;33m.\u001b[0m\u001b[0m_parent_ident\u001b[0m\u001b[1;33m[\u001b[0m\u001b[1;34m\"shell\"\u001b[0m\u001b[1;33m]\u001b[0m\u001b[1;33m,\u001b[0m\u001b[1;33m\u001b[0m\u001b[1;33m\u001b[0m\u001b[0m\n",
      "\u001b[1;32mD:\\anaconda3\\lib\\site-packages\\ipykernel\\kernelbase.py\u001b[0m in \u001b[0;36m_input_request\u001b[1;34m(self, prompt, ident, parent, password)\u001b[0m\n\u001b[0;32m   1049\u001b[0m             \u001b[1;32mexcept\u001b[0m \u001b[0mKeyboardInterrupt\u001b[0m\u001b[1;33m:\u001b[0m\u001b[1;33m\u001b[0m\u001b[1;33m\u001b[0m\u001b[0m\n\u001b[0;32m   1050\u001b[0m                 \u001b[1;31m# re-raise KeyboardInterrupt, to truncate traceback\u001b[0m\u001b[1;33m\u001b[0m\u001b[1;33m\u001b[0m\u001b[0m\n\u001b[1;32m-> 1051\u001b[1;33m                 \u001b[1;32mraise\u001b[0m \u001b[0mKeyboardInterrupt\u001b[0m\u001b[1;33m(\u001b[0m\u001b[1;34m\"Interrupted by user\"\u001b[0m\u001b[1;33m)\u001b[0m \u001b[1;32mfrom\u001b[0m \u001b[1;32mNone\u001b[0m\u001b[1;33m\u001b[0m\u001b[1;33m\u001b[0m\u001b[0m\n\u001b[0m\u001b[0;32m   1052\u001b[0m             \u001b[1;32mexcept\u001b[0m \u001b[0mException\u001b[0m\u001b[1;33m:\u001b[0m\u001b[1;33m\u001b[0m\u001b[1;33m\u001b[0m\u001b[0m\n\u001b[0;32m   1053\u001b[0m                 \u001b[0mself\u001b[0m\u001b[1;33m.\u001b[0m\u001b[0mlog\u001b[0m\u001b[1;33m.\u001b[0m\u001b[0mwarning\u001b[0m\u001b[1;33m(\u001b[0m\u001b[1;34m\"Invalid Message:\"\u001b[0m\u001b[1;33m,\u001b[0m \u001b[0mexc_info\u001b[0m\u001b[1;33m=\u001b[0m\u001b[1;32mTrue\u001b[0m\u001b[1;33m)\u001b[0m\u001b[1;33m\u001b[0m\u001b[1;33m\u001b[0m\u001b[0m\n",
      "\u001b[1;31mKeyboardInterrupt\u001b[0m: Interrupted by user"
     ]
    }
   ],
   "source": [
    "# geometry가 없는 경우 반대로 검색\n",
    "# 즉, 지번 주소로 geometry 검색\n",
    "for i in check_geo:\n",
    "    print(i)\n",
    "    print(new_kakao[i])\n",
    "    check = input()\n",
    "    geo = get_long_lat(check)\n",
    "    new_kakao[i]['geometry']=geo"
   ]
  },
  {
   "cell_type": "code",
   "execution_count": 67,
   "id": "ccb7ca48-450b-4b6f-95c2-489c27c95452",
   "metadata": {},
   "outputs": [
    {
     "name": "stderr",
     "output_type": "stream",
     "text": [
      "100%|█████████████████████████████████████████████████████████████████████████| 3129/3129 [00:00<00:00, 1042744.10it/s]\n"
     ]
    }
   ],
   "source": [
    "# delete\n",
    "final_kakao = {}\n",
    "for i,j in tqdm(new_kakao.items()):\n",
    "    if j['geometry']:\n",
    "        final_kakao[i]=j"
   ]
  },
  {
   "cell_type": "code",
   "execution_count": 80,
   "id": "3c57fabd-8174-4547-80fd-5ea93d841a5a",
   "metadata": {},
   "outputs": [],
   "source": [
    "def check_format(data:Dict):\n",
    "    #ids = []\n",
    "    #review_ids = []\n",
    "    new_data = {}\n",
    "    for i,b in tqdm(data.items()):\n",
    "        assert type(i)==str\n",
    "        assert type(b['name'])==str\n",
    "        assert type(b['score'])==str\n",
    "        if '.' in b['score']:\n",
    "            score = b['score']\n",
    "        else:\n",
    "            continue\n",
    "        name = b['name']\n",
    "        geometry = b['geometry']\n",
    "        if b.get('jibun_addr'):\n",
    "            jibun_addr = b['jibun_addr']\n",
    "        else:\n",
    "            continue\n",
    "        new_data[i.strip()]=dict(name=name, score=score, geometry=geometry, jibun_addr=jibun_addr) \n",
    "        new_data[i.strip()]['reviews']=[]\n",
    "        for rev in b['reviews']:\n",
    "            assert type(rev['review'])==str\n",
    "            review = rev['review']\n",
    "            assert type(rev['date'])==str\n",
    "            try:\n",
    "                if rev['date'][4]=='.' and rev['date'][7]=='.':\n",
    "                    date = rev['date']\n",
    "                    new_data[i.strip()]['reviews'].append(dict(date=date, review=review))\n",
    "                else:\n",
    "                    continue\n",
    "            except:\n",
    "                continue\n",
    "            #assert type(rev['id'])==int\n",
    "            #review_ids.append(b['id'])\n",
    "    print(f'{len(data)} ---> {len(new_data)}')\n",
    "    return new_data"
   ]
  },
  {
   "cell_type": "code",
   "execution_count": 68,
   "id": "eb7a3360-6710-4510-a762-b24989dfc1f3",
   "metadata": {},
   "outputs": [
    {
     "name": "stderr",
     "output_type": "stream",
     "text": [
      "100%|██████████████████████████████████████████████████████████████████████████| 3129/3129 [00:00<00:00, 164566.04it/s]"
     ]
    },
    {
     "name": "stdout",
     "output_type": "stream",
     "text": [
      "3129 ---> 3129\n"
     ]
    },
    {
     "name": "stderr",
     "output_type": "stream",
     "text": [
      "\n"
     ]
    }
   ],
   "source": [
    "final_kakao = check_format(final_kakao)"
   ]
  },
  {
   "cell_type": "code",
   "execution_count": 69,
   "id": "bdb06b47-f87c-49a8-82fb-180223d3d546",
   "metadata": {},
   "outputs": [],
   "source": [
    "def make_ids(data):\n",
    "    id = 0\n",
    "    review_id = 0\n",
    "    for i,j in data.items():\n",
    "        j['id']=id\n",
    "        id+=1\n",
    "        for rev in j['reviews']:\n",
    "            rev['id']=review_id\n",
    "            review_id+=1\n",
    "    return data"
   ]
  },
  {
   "cell_type": "code",
   "execution_count": 70,
   "id": "de00a788-ab3a-443d-9f66-801be110ba17",
   "metadata": {},
   "outputs": [],
   "source": [
    "final_kakao = make_ids(final_kakao)"
   ]
  },
  {
   "cell_type": "code",
   "execution_count": 71,
   "id": "466b024b-0c72-4637-9fff-412b32f9e3cd",
   "metadata": {},
   "outputs": [],
   "source": [
    "json.dump(final_kakao, open('final_kakao.json','w',encoding='utf-8'), ensure_ascii=False)"
   ]
  },
  {
   "cell_type": "markdown",
   "id": "f98068d3-e422-4008-90ad-76462980b200",
   "metadata": {},
   "source": [
    "## BM25\n",
    "### BM25 학습 - doro명 주소 "
   ]
  },
  {
   "cell_type": "code",
   "execution_count": 75,
   "id": "6845657b-f012-48bd-b8f0-857f0043ee7e",
   "metadata": {},
   "outputs": [],
   "source": [
    "tokenized_corpus = [(i+' '+j['name']).split(' ') for i,j in final_kakao.items()]\n",
    "tokenized_corpus += [(j['jibun_addr']+' '+j['name']).split(' ') for i,j in final_kakao.items()]\n",
    "bm25_id_to_db_id = {}\n",
    "c=0\n",
    "for i,j in final_kakao.items():\n",
    "    bm25_id_to_db_id[c]=j['id']\n",
    "    c+=1\n",
    "for i,j in final_kakao.items():\n",
    "    bm25_id_to_db_id[c]=j['id']\n",
    "    c+=1\n",
    "bm25 = BM25Okapi(tokenized_corpus)"
   ]
  },
  {
   "cell_type": "code",
   "execution_count": 76,
   "id": "f8cc0895-995e-4666-809c-7d3ff2848900",
   "metadata": {},
   "outputs": [],
   "source": [
    "pickle.dump(bm25, open('kakao_bm25','wb'))\n",
    "pickle.dump(bm25_id_to_db_id, open('kakao_bm25_id_to_db_id','wb'))"
   ]
  },
  {
   "cell_type": "code",
   "execution_count": 59,
   "id": "2ebb6fe4-3054-4b51-b461-aa8ebba0b1f0",
   "metadata": {},
   "outputs": [],
   "source": [
    "def retrieve(bm25, bm25_id_to_db_id, query):\n",
    "    tokenized_query = query.split(' ')\n",
    "    doc_scores = bm25.get_scores(tokenized_query)\n",
    "    sorted_idx = np.argsort(-doc_scores)\n",
    "    result = [i for i in sorted_idx]\n",
    "    output = []\n",
    "    for i in result:\n",
    "        tmp = bm25_id_to_db_id[i]\n",
    "        if tmp not in output:\n",
    "            output.append(tmp)\n",
    "    return output"
   ]
  },
  {
   "cell_type": "markdown",
   "id": "d7a16e9b-995c-425a-adb1-a3b5476884f4",
   "metadata": {},
   "source": [
    "# mango"
   ]
  },
  {
   "cell_type": "code",
   "execution_count": 63,
   "id": "c9e84643-f2b5-499d-aeb3-759a9d076a81",
   "metadata": {},
   "outputs": [],
   "source": [
    "mango_data = json.load(open('./output/seoul/mango/강남구_output_mango_score.json'))"
   ]
  },
  {
   "cell_type": "code",
   "execution_count": 64,
   "id": "eefb7a05-2145-45fc-925a-fb53ada6a106",
   "metadata": {},
   "outputs": [],
   "source": [
    "def mango_review(data:Dict):\n",
    "    output = {}\n",
    "    id = 0\n",
    "    review_id = 0\n",
    "    for i,a in tqdm(data.items()):\n",
    "        for j in a:\n",
    "            if j is None:\n",
    "                break\n",
    "            name = j['score'].split('\\n')[0]\n",
    "            score = name.split()[-1]\n",
    "            try:\n",
    "                score = str(float(score))\n",
    "                name = ' '.join(name.split()[:-1])\n",
    "            except:\n",
    "                score = '0.0'\n",
    "            name = re.sub('[()]','', name).strip()\n",
    "            tmp = j['detailed_info'].split('\\n')\n",
    "            doro_addr = None\n",
    "            jibun_addr = None\n",
    "            for tmp_i in tmp:\n",
    "                if tmp_i.startswith('주소 '):\n",
    "                    doro_addr = re.sub('주소 ', '', tmp_i).strip()\n",
    "                elif tmp_i.startswith('지번 '):\n",
    "                    jibun_addr = re.sub('지번 ','',tmp_i).strip()\n",
    "            post_processed_reviews = []\n",
    "            if j['review']:\n",
    "                for review in j['review']:\n",
    "                    tmp = review.split('\\n')\n",
    "                    date = tmp[-2]\n",
    "                    date = re.sub('-','.',date)\n",
    "                    text = ' '.join(tmp[3:-2])\n",
    "                    post_processed_reviews.append(dict(id=review_id, review=text, date=date))\n",
    "                    review_id+=1\n",
    "            if doro_addr is not None:\n",
    "                output[doro_addr]=dict(name=name, score = score, doro_addr=doro_addr, jibun_addr=jibun_addr, reviews = post_processed_reviews)\n",
    "    return output"
   ]
  },
  {
   "cell_type": "code",
   "execution_count": 113,
   "id": "b2bf5d87-d943-4ff7-84a0-e597a88ce0ea",
   "metadata": {
    "tags": []
   },
   "outputs": [
    {
     "name": "stderr",
     "output_type": "stream",
     "text": [
      "100%|███████████████████████████████████████████████████████████████████████████| 1325/1325 [00:00<00:00, 15458.93it/s]\n"
     ]
    }
   ],
   "source": [
    "mango =  mango_review(mango_data)"
   ]
  },
  {
   "cell_type": "code",
   "execution_count": 114,
   "id": "0c0e26e8-94cf-489b-ac35-0217e6aa1b85",
   "metadata": {},
   "outputs": [
    {
     "name": "stderr",
     "output_type": "stream",
     "text": [
      "100%|████████████████████████████████████████████████████████████████████████████████| 408/408 [00:29<00:00, 13.99it/s]\n"
     ]
    }
   ],
   "source": [
    "for i,j in tqdm(mango.items()):\n",
    "    long_lat = get_long_lat(i)\n",
    "    j['geometry']=long_lat\n",
    "\n",
    "check = []\n",
    "for i,j in mango.items():\n",
    "    if j['geometry'] is None:\n",
    "        check.append((i,j))"
   ]
  },
  {
   "cell_type": "code",
   "execution_count": 115,
   "id": "ec027008-d5c0-4a14-bde6-507dd5623a28",
   "metadata": {},
   "outputs": [
    {
     "name": "stderr",
     "output_type": "stream",
     "text": [
      "100%|████████████████████████████████████████████████████████████████████████████████| 408/408 [00:32<00:00, 12.44it/s]"
     ]
    },
    {
     "name": "stdout",
     "output_type": "stream",
     "text": [
      "there is no jibun address - 67\n"
     ]
    },
    {
     "name": "stderr",
     "output_type": "stream",
     "text": [
      "\n"
     ]
    }
   ],
   "source": [
    "mango = get_jibun_addr(mango)"
   ]
  },
  {
   "cell_type": "code",
   "execution_count": 125,
   "id": "78067c4b-0507-49c2-b735-2e663dc611c7",
   "metadata": {},
   "outputs": [
    {
     "name": "stdout",
     "output_type": "stream",
     "text": [
      "no jibun - 42\n",
      "no geo - 4\n"
     ]
    }
   ],
   "source": [
    "check_jibun=[]\n",
    "check_geo=[]\n",
    "for i,j in mango.items():\n",
    "    if not j['jibun_addr'] :\n",
    "        check_jibun.append(i)\n",
    "    else:\n",
    "        if j['jibun_addr'] is None:\n",
    "            check_jibun.append(i)\n",
    "    if not j['geometry'] :\n",
    "        check_geo.append(i)\n",
    "print(f'no jibun - {len(check_jibun)}')\n",
    "print(f'no geo - {len(check_geo)}')"
   ]
  },
  {
   "cell_type": "code",
   "execution_count": 126,
   "id": "611aef4b-9bb4-45ba-b2e3-0a49e93bea1e",
   "metadata": {
    "collapsed": true,
    "jupyter": {
     "outputs_hidden": true
    },
    "tags": []
   },
   "outputs": [
    {
     "name": "stdout",
     "output_type": "stream",
     "text": [
      "서울특별시 강남구 논현로87길 41 104-2호\n",
      "{'name': '죠샌드위치 역삼포스틸점', 'score': '0.0', 'doro_addr': '서울특별시 강남구 논현로87길 41 104-2호', 'jibun_addr': '', 'reviews': [{'id': 6370, 'review': '샌드위치는 실한편! 클럽샌드위치 추천받았어여 5300원이에요. 딱히 맛있지는 않아요. 그냥 엄마가 해준 정도의 맛.. 역삼에 서브웨이가 생겼으면 좋겠어요 차라리 2015-12-07', 'date': '+4'}], 'geometry': ['127.033517148', '37.498832393']}\n"
     ]
    },
    {
     "name": "stdin",
     "output_type": "stream",
     "text": [
      " 서울특별시 강남구 역삼동 735-11 1F\n"
     ]
    },
    {
     "name": "stdout",
     "output_type": "stream",
     "text": [
      "\n",
      "서울특별시 강남구 역삼로 136 1F\n",
      "{'name': '죠샌드위치', 'score': '0.0', 'doro_addr': '서울특별시 강남구 역삼로 136 1F', 'jibun_addr': '', 'reviews': [], 'geometry': ['127.034510108', '37.494203641']}\n"
     ]
    },
    {
     "name": "stdin",
     "output_type": "stream",
     "text": [
      " 서울특별시 강남구 역삼동 834-44 1F\n"
     ]
    },
    {
     "name": "stdout",
     "output_type": "stream",
     "text": [
      "\n",
      "서울특별시 강남구 압구정로 162 1F\n",
      "{'name': '에그드랍 압구정점', 'score': '3.3', 'doro_addr': '서울특별시 강남구 압구정로 162 1F', 'jibun_addr': '', 'reviews': [{'id': 24091, 'review': '에그드랍 별 생각없었는데 오랜만에 먹으니까 또 맛있네여? 이삭토스트랑은 또 다른 맛ㅇㅇ 왜 집에서 해먹으면 요런 맛이 안날까 빵 구울 때 버터도 잔뜩 발라주시고 만드시는거 직접 구경하다가 먹으니까 더 맛있는거 같았음 토스트 안에 재료가 다양하게 들어가서 그런지 하나 만드는 데 정성이 꽤 들어가더라구요. 맛있게 잘 먹었습니당ㅇㅇ', 'date': '2022.01.20'}, {'id': 24092, 'review': '달달한 계란샌드위치집 비슷한 가게(에그***)에 비해 달달합니다 아침이나 간식으로 먹기 좋습니다', 'date': '2020.10.04'}, {'id': 24093, 'review': '요기요로 맛집배달을 시켜보았다... 따뜻하고 부드럽고 고소하고 혼자 다했다 완전 맛있음 냠냠 또 시켜먹을꼬야 ', 'date': '2020.03.11'}, {'id': 24094, 'review': '빵이 촉촉하다. 먹기 불편하고 아래로 갈수록 빵밖에 안남아서 아쉽긴하다. 커피를 많이 먹으러 가는곳', 'date': '2019.12.31'}, {'id': 24095, 'review': '먹은 거: 베이컨더블치즈(3,900원) 맛 보통 가성비 좋음. 친절함 보통. 매장 깔끔함.  양은 좀 적은 편. 푹신한 스크램블 에그의 식감이 좋다. 아메리카노를 포함해도 4,800원이라는 훌륭한 가격.', 'date': '2019.10.12'}, {'id': 24096, 'review': '끼니 떼우기 좋은 토스트집! 생각보다 식사시간에 손님이 많아서 조금 기다리실 수 있습니다!! 베이컨이나 햄 무난하게 많이 먹었던 것 같은데 단짠단짠하니 맛있습니다!! 드실 때 소스나 계란 흐르지 않게 조심해서 드셔야할 듯해욯ㅎ 이삭토스트나 에그드랍도 지점별로, 또 알바생분들에 따라 맛의 차이가 미세하게 있는데 압구정점은 무난한 것 같습니다!!  식사시간에 자리에 앉으시려면 타이밍을 잘 맞추셔야 할 것 같습니다아ㅏ', 'date': '2019.07.23'}, {'id': 24097, 'review': '데리야끼와 아보카도 먹어보았는데 둘다 괜찮은 편이지만 고기와 데리야끼양념을 싫어하지 않는사람이면 전자로', 'date': '2019.05.29'}, {'id': 24098, 'review': '에그드랍 압구정점  가게안이 넓지는 않다 몇명 못앉지만 회전율은 빠르다  친구는 샌드위치, 나는 샐러드를 시켰다  친구말로는 샌드위치가 너무 달고 짠맛이라고 했다 건강한맛은 아닌듯하지만 그만큼 가격이 저렴하고 가볍게 즐길수 있을 듯 하다 단짠 좋아한다면, 무난하게 먹을듯  샐러드는 딱 예상한 맛이었다 2019-03-09', 'date': '+1'}, {'id': 24099, 'review': '베이컨 치즈 버거: 이 버거의 생명은 폭신폭신한 빵입니다.  브리오슈빵을 1/4만 남기고 잘라 버터에 노릇노릇 구워, 속에 스리라차 소스를 바르고 에그 스크램블&햄&베이컨&치즈&야채를 넣은 이 버거는 이미 너무 유명해져 인스타 피드에 자주 등장하는 단골손님이 되어버렸습니다.  저렴한 가격이 큰 메리트이나, 버거 1개를 먹으면 뭔가 아쉬운 양이 단점입니다. 넉넉한 양의 소스와 폭신한 에그 스크램블이 흐르지 않도록 빵을 완벽히 가르지 않고 1/4을 남기는 배려를 했지만, 많은 사람들이 머리를 90도 틀어 같은 포즈로 버거를 먹는 모습을 심심치 않게 볼 수 있습니다. 또한 살짝 구운 베이컨이 잘 잘리지 않아 당황할 수 있으니 잘 베어서 드시길 추천합니다.  +추가로 선택할 수 있는 마늘소스를 적극 추천합니다. 달콤한 마늘소스가 발린 빵을 노릇노릇하게 구어, 같은 토핑이 올라가는데 정말이지 갈릭브레드는 사랑입니다:)  샌드위치를 매장에서 1개 먹고 3개를 포장했는데, 빵이 금방 눅눅해집니다. 당황하지 말고 후라이판에 살짝 구우면 다시 바삭바삭하게 드실 수 있습니다.', 'date': '2019.01.29'}, {'id': 24100, 'review': '요즘 여기저기 많이 보이길래 궁금하던차에 압구정점을 가봤는데 만족해서 틈틈이 간단히 먹으러 가고 있어요!  폭신폭신하고 고급스러운 길거리 토스트 느낌? 소스도 마음에 들어서 좋았어요! 2900원~ 4600원으로 금액도 부담스럽지 않더라고요.  아보홀릭은 늦게가면 품절이라 또 굳이 일찍 가서 사먹어봤는데 ㅎㅎ 맛있고 비쥬얼적이긴 한데 먹기 힘들어요... 자꾸 떨어지려고 하고 위에만 있어서 처음에 먹고 나면 아보카도도 그냥 없는 거고...  앞으로는 계속 베이컨 더블 치즈를 사먹을 것 같습니다. ㅎㅎ', 'date': '2019.01.18'}], 'geometry': ['127.027429646', '37.526338107']}\n"
     ]
    },
    {
     "name": "stdin",
     "output_type": "stream",
     "text": [
      " 서울특별시 강남구 신사동 579-3 1F\n"
     ]
    },
    {
     "name": "stdout",
     "output_type": "stream",
     "text": [
      "\n",
      "서울특별시 강남구 선릉로161길 17 1F\n",
      "{'name': '고트델리', 'score': '4.3', 'doro_addr': '서울특별시 강남구 선릉로161길 17 1F', 'jibun_addr': None, 'reviews': [{'id': 2708, 'review': '*요약: 잠봉뵈르는 약하고, 파스트라미는 강하고, 피자는 아주 그냥 때려박는!!! 스프 맛집...  소금집델리를 필두로 사랑받고 있는 잠봉뵈르 맛집으로 익히 알고 있었다. 서촌이 본점인지 신사가 본점인지는 정확히 모르겠지만, 신사에 가끔 갈때마다 지나게 되어 벼르고 있던 방문.  어디까지나 개인적이지만 서촌과 신사의 매장분위기가 꽤 다른것이 서촌은 줄 이만큼 서는 집 두 곳(런던베이글뮤지움과 함께)이 마주선 느낌인데다 식당보다는 카페에 가까운 느낌을 주는 것 같고, 신사 쪽은 좀 한산한 레스토랑의 느낌이 강했다.  첫방문에서는 파스트라미 샌드위치와 오늘의 스프였던 버섯 크림스프를 주문했다. 파스트라미 샌드위치의 진한 육향과 살짝 리프레쉬해주는 정도의 머스타드, 피클이 상쾌했다. 뭔지 몰랐는데 향긋한 향이 딜이라고 했다. 밸런스가 굉장히 좋았다.  여기에 크림스프가 압권이었는데, 꾸덕한 버섯크림스프에 트러플오일까지 요즘 사람들이라면 싫어할 수 없는 맛.  두번째 방문에서는 잠봉뵈르, 피자, 그리고 오늘의 스프였던 호박스프를 시켰다.  잠봉뵈르는 소금집의 그것보다 감동이 덜했다. 맛있었지만 만약 잠봉뵈르만 먹는다면 아마도 소금집에 갈 것 같았다. 피자가 정말 강했다. 피자는 먹는 족족 너무 맛있다를 연발했는데, 안시켰으면 큰일나는 맛. 잠봉 자체의 시즈닝이 소금집에 비해 조금 약한 편이라, 버터보다는 짭짤한 치즈와 궁합이 더 맞았던 거 같다.  호박스프도 달달하니 크리미하고 기분좋은 외국 어딘가 외할머니가 끓여주실 거 같은 편안한 맛이었다. (우리 할머니는 중식을 하셨고, 외할머니는 소고깃국밖에 안끓이시지만)  신사에서 빠르게 맛난 걸 먹고싶다면 또또또 갈듯. 잘먹었습니다! 2022-11-17', 'date': '+9'}, {'id': 2709, 'review': '최근평이 별로라 기대를 안했더니 꽤 괜찮았다. 잠봉뵈르, 루벤, 고트베이글이랑 코울슬로 추가했는데 전반적으로 양이 조금 적은 느낌이긴 하지만 맛은 괜찮았다. 비슷한 메뉴를 하는 집들에 비해 아주 인상적인 맛은 아니지만 조금 저렴해서 괜찮은가 싶기도 했다. 빵이 생각보다 조금 별로긴 했는데 포장해서 시간이 좀 지나고 먹으니 어쩔 수 없는 것 같기도... 미리 네이버로 메뉴 주문도 되고 그대로 픽업하면 되는건 편했다. 피자 메뉴가 좀 궁금했는데 다음에 기회되면 매장에서 먹어보기로... 2022-09-12', 'date': '+4'}, {'id': 2710, 'review': '아담한 가게에서 햄을 이용한 다양한 샌듸치와 피자를 맛볼 수 있는 곳. 뭔가 가게가 목재들로 코지한 느낌이다. 메뉴 중에는 피자가 아주 맛있었고 스프는 메뉴엔 없지만 오늘의 스프가 준비되어있는데 아주 진하고 맛있다. 꼭 주문! 샌듸치는 잠봉뵈르 맛났고 나머지는 좀더 꺼끌한 질감의 햄이라서 내 취향은 아니었음. 전체적으로 간이나 재료가 좋고 가격도 무난. 어울리는 주류도 여러가지 있어서 곁들이기 좋다. 주말 일찍가면 바로 착석가능인데 좀만 지나면 웨이팅이 상당했음. 2022-07-30', 'date': '+1'}, {'id': 2711, 'review': '제 입맛엔 간이 조금 약했는데 엄청 짠 햄보다는 나으니 적당히 소스랑 먹기에 좋았어요 빵이맛있고 양도 적당했어요 옆테이블 베이글도 많이 먹고있던데 다음에 가면 베이글을 먹어볼거예요', 'date': '2022.06.24'}, {'id': 2712, 'review': '압구정 로데오역 근처 가게! 주말 점심으로 먹으러 갔는데 오후 12시가 지나니 웨이팅이 생겼다. 주문한 잠봉 뵈르와 고트 베이글은 맛있었다. 잠봉 뵈르로 유명한 소금집과는 약간 결이 다른 편! 세트로 주문한 감자튀김도 맛있었다!', 'date': '2022.04.21'}, {'id': 2713, 'review': '한입 가득 채워 넣을 수 있는, 두툼한 샤퀴테리 샌드위치를 판매하는 델리숍  샌드위치는 파스트라미, 루벤, 잠봉 등 훈연 햄을 메인으로 하고 있고, 샌드위치 외에도 피자 메뉴가 하나 준비되어 있다 물론 이 역시도 샤퀴테리(잠봉)가 올려져 있다  잠봉뵈르가 유명한 곳이지만, 개인적으로 이집은 좀 더 와일드한 맛(?)의 파스트라미 샌드위치 메뉴가 더 돋보이는 것 같다  \"묵직하다\"라는 표현이 맞을 것 같은, 정말 고기로 가득가득 쌓여올려진 푸짐한 샌드위치가 나온다 매장에서 직접 염지, 숙성, 훈연한 덕인지 고기의 진한 풍미가 입안을 가득 메꾼다  잠봉뵈르피자 메뉴도 인기라 해서 주문했는데 도우가 쫀쫀하니 맛있다 진한 치즈와 트러플 오일 향이 베여있는 피자로, 이전에 마늘쫑이 올라간 버전이 특색 있었던 거 같긴 하다ㅠ 그래도 강렬한 맛의 샌드위치와 페어링 하긴 좋은 부드러운 맛의 메뉴였다  기본적으로 모든 메뉴들이 염도가 어느 정도 있는데 내 입에는 괜찮았다  by #류흥로그 2022-04-03', 'date': '+1'}, {'id': 2714, 'review': '~~~~~잠봉뵈르 투어를 다니는 중~~~~~  현재 저의 최애는 소금집인데, 최애를 새로 갱신하고싶어서 잠봉뵈르로 유명한 곳들을 도장깨고있습니다.  오픈런해서 일요일 점심 웨이팅 없이 먹었어요!  입천장 까질까봐 완전 조심히 먹어서 제 입천장은 살아남았습니다!  전 잠봉뵈르, 올드스쿨 파스트라미를 먹었고 사이드로 코우슬로와 스프를 먹었습니다.  제가 어떤 음식점에 애정을 갖게되는 것은 늘 코우슬로.... 코우슬로 아쉬웠어요... 고트델리에서 제일 아쉬운 것 코우슬로..... 코우슬로만 맛있었다면..... 스프는 가성비 좋다고 생각합니다! 오뚜기 느낌 노노  사실 빵은 나쁘지 않았는데 소금집에 비해서 햄이 좀 아쉬웠습니다. 뭔가 그냥 햄.....  괜찮다와 맛있다 사이에서 고민했지만 괜찮다가 된 이유는 청결.. 그날 처음 그자리에 앉은 사람인데 의자에 묻어있는 음식물?소스? 바닥에도 무엇인가가 꽤 굴러다니는 것이 좀 아쉬웠어요', 'date': '2022.02.25'}, {'id': 2715, 'review': '■ 고트피자 / 잠봉뵈르  압구정로데오역 5~6번 출구 근처에 위치한 파스트라미 및 잠봉 샌드위치 전문점. 워낙 유명하다보니 호기심이 생겨 친구랑 방문한 곳이다.  선주문 선결제고, 번호를 부르면 음식을 받아가는 형식. 사람도 많고, 식당 직원분들도 분주하게 음식을 만들며 (매우 바빠보였다) 손님 번호를 외치는지라 차분하게 음식을 먹을 수 있는 분위기는 아니었다. 물과 간단한 사이드는 셀프. 나름 합리적인(?) 가격을 위해 서비스를 최소한으로 줄인 것 같아 보였다.  주문한 메뉴는 고트피자와 잠봉뵈르인데, 너무 기대를 많이 했는지 조금 아쉬운 부분이 남는 대표 메뉴들이었다.  트러플향으로 추정되는 엄청난 감칠맛. 짭쪼름하고 쫀득한 고트피자. 한 입 먹자마자 흡입할 정도로 맛있는 피자였지만 다른 곳에서도 찾아볼 수 있는 맛이었던 것 같다. 베스트 메뉴 중 하나로 꼽히는 고트피자. 물론 정말 맛있었지만, 열풍을 불러일으킬 정도의 임팩트는 아니었다.  잠봉뵈르도 맛있있지만 대체로 건조했다. 바게트와 잠봉이 맛을 잡아주는 핵심 역할을 해야하는데, 그러기엔 부드러움과 촉촉함이 부족했다. 바게트는 바삭하다...라고 하기보다는 좀 딱딱했고, 잠봉에서 고기 특유의 풍미와 스모키한 훈연향이 약한 편이었다.  결론은, 높은 인기도 때문에 지나친 기대를 가지고 가면 살짝 실망할 수도 있는 그런 집!', 'date': '2022.01.23'}, {'id': 2716, 'review': '고급진 햄맛의 잠봉뵈르 였습니다', 'date': '2021.12.29'}, {'id': 2717, 'review': '미국재질로 가득 차 있는 찐 델리카트슨  Greatest Of All Time Taste! 항상 최상의 맛을 제공하겠다는 뜻이 담긴 샌드위치 전문점 고트델리. 다양한 샌드위치를 기본으로 피자와 몇가지 사이드 메뉴를 판매한다.  외관부터 미국 느낌 물씬 풍기는 게 인기 있을만 하다 싶었다. 외관 만큼이나 내부도 힙했다. 철제 프레임의 나무 테이블과 의자, 곳곳에 놓인 감각적인 소품들이 제대로 미국재질이 느껴지게 했다. 뭔가 무심한듯 빈티지한 소품들을 툭툭 던져 놓은 것 같았지만 내눈에는 멋져보였다.  샌드위치에 사이드 3가지(하우스피클, 프렌치프라이, 머쉬룸스프)중 1가지를 택할 수 있는 세트메뉴도 있다. 난 올드스쿨 파스트라미에 머쉬룸스프를 추가했다.  올드스쿨 파스트라미 크리스피하게 구워진 호밀빵에 스모크향 가득한 파스트라미와 피클, 딜이 들어가 있다. 거기에 홀그레인 머스타드소스. 직접 만드신 파스트라미와 딜향이 잘 어우러져서 좋았지만 내입에는 좀 짠감이 있었다. 하지만 그럼에도 불구하고 맛있었다는 것! 요건 맥주랑 함께해야 더 좋겠다 싶다. 피자가 참 먹음직스럽던데 다음엔 맥주에 피자먹으러!  올드스쿨 파스트라미 9.0 +세트 3.5 매일 11:30 - 22:30 서울 강남구 선릉로161길 17 2021-11-26', 'date': '+5'}, {'id': 2718, 'review': '짝꿍이 좋아하는 고트델리 초창기엔 사람 없었댔는데 어느덧 인기가 많아져서 이제 대기가 엄청나다. 드디어 가봄.. 주말 점심시간 애매하게 도착해서 진짜 한참 기다리느라 인내심이 바닥났고 이날을 기점으로 올 겨울은 그 무엇도 줄서서 먹지 않으리라 다짐했다.  파스트라미를 먹었어야하는데 긴 기다람에 판단력이 흐려져 잠봉뵈르를 주문했다. 먹다보니 느끼해져서 후추를 좀 뿌려줬으면 좋았을거같고, 세로로 길게 잘려서 그런건지 실제로 그런것인지 소금집보다 내용물이 좀 적게 느껴졌는데 나는 이게 적당해서 딱 좋았다. 세로로 자른 것도 마음에 듬.  양송이스프는 양이 무슨 애기용마냥 적었는데 양송이도 많고 영양가득 느낌이라 좋았다. 커피는 콜드브루만 판매하는 듯 한데 콜드브루라떼 부드럽고 산미도 크게 강하지 않아 샌드위치랑 잘어울렸음. 따뜻한것도 팔았으면 하는 아쉬움이 남는다.  짝꿍의 베이글은 먹어도 먹어도 줄지 않는다고 했음. 고트델리 수십번 먹은 지역주민피셜 파스트라미가 진리라고 한다. 그러나 굳이 웨이팅 한시간씩 할 정도는 아니고 여유로운 브런치먹기에 적당한 느낌.', 'date': '2021.11.12'}, {'id': 2719, 'review': '오픈 초기와 현재 음식에 차이가 있다고 한 리뷰를 봤던 기억이 나요. 차이에 대한 리뷰를 다녀온 뒤에 봤는데, 저는 제가 다녀온 때에도 충분히 만족스러웠어요. 델리카트슨을 실제로 가본 적은 없는데 제가 생각하던 것보단 조금은 더 트렌디하고 영한 느낌이었어요.  “올드스쿨 파스트라미”☆ - 이전 사진들과 비교해서 하얀 소스가 좀더 많아진 느낌인데, 저는 소스류들 좋아해서 맛있게 먹었어요. 파스트라미와 함께 들어있는 딜과 피클이 킥! 요 둘 조합 없었으면 심심할 뻔 했어요. 또 먹고 싶네요  “고트피자” - 피자에 대한 호평이 많아서 기대했는데 생각보다 향도 덜하고 심심하다고 느꼈어요. 맛이 없었던 것은 아니고 샌드위치류가 더 맛있게 느껴졌을 뿐입니다.  루벤이나 파스트라미 샌드위치는 거의 먹어볼 기회가 없었는데, 이런 델리가 생겨나 서울 고메씬에 다양함을 가져다주는 것 자체가 충분히 좋아요. 2021-10-25', 'date': '+9'}, {'id': 2720, 'review': 'So goooooood. Had the coleslaw pastrami and pizza. Both tasted great. I want to go back to try the regular reuben sandwich. 2021-10-20', 'date': '+3'}, {'id': 2721, 'review': '너무 기대를 했나..빵이 좀 아쉬웠다. 올드스쿨파스트라미는 허브향?이 강해서 기억에 남고 파스트라미는 부드럽고 간도 적당해서 좋았으나 빵이 바삭촉촉하지 않고 눅눅?한 게 좀 아쉬웠다. 잠봉뵈르는 버터가 무염버터였던 것 같은데 잠봉도 안 짠편이어서 담백하다면 담백하고 심심하다면 심심한? 바게트빵은 너무 바작해서 입천장이 까졌다ㅠ 와인을 합리적인 가격에 글래스로도 마실 수 있는 점은 너무 좋았다! 빵을 좀 보완하면 좋겠지만 가공육맛 자체는 굿굿굿! 2021-09-30', 'date': '+6'}, {'id': 2722, 'review': '파스트라미가 맛있어요:-)  근처에서 밥 먹고 호캉스할 때 와인이랑 저녁대신 가볍게 먹으려고 올드스쿨 샌드위치 하나 사서 포장해갔어요. 많이 붐빈다고 들었는데 주말인데도 식사시간이 아니라 그런지 자리가 아주 널널하더라구요.  포장한 지 몇시간 지나서 먹어서 식었던 터라 크게 기대하지 않고 먹었는데.. 저는 맛있었어요! 일단 소스도 맛있었고 딜 허브도 좋아하는 허브라 맛있었구요. 특히 적당히 기름지면서 감칠맛 도는 파스트라미가 제일 좋았어요:-) 여태껏 먹어봤던 파스트라미 중에서 가장 맛있었던 것 같아요.  양은 작아보였는데 와인이랑 같이 먹어서 그런지 하나 사서 양이 보통인 친구랑 저랑 둘이서 나눠 먹었는데 생각보다는 양이 괜찮았네요. 회사에서 그렇게 멀지 않아서 그런지 점심시간에 후딱 다녀오기에도 괜찮을 것 같아요. 재방문의사 O 2021-09-27', 'date': '+2'}, {'id': 2723, 'review': '투데이 커피 / 양송이수프 / 올드스쿨 파스트라미 / 루벤 / 잠봉뵈르', 'date': '2021.08.30'}, {'id': 2724, 'review': \"G.O.A.T.까진 아니지만... 강남에서 좋은 가성비의 델리를 먹을 수 있다는 것에 만족! . 한 가닥 한다는 델리 매장들은 죄다 강북에 있어서 강 아래 사람은 델리 맛보기가 힘들죠. 그나마 남부터미널에 메종조가 있긴 한데 거기는 매장에서 식사하는 게 불가능에 가까운지라... 그러던 와중에 압구정에 신상 델리가 오픈했다는 반가운 소식을 듣고 친구랑 방문해 보았습니다. Go to deli... 렛츠 고투 고트델리... . Goatt는 'Greatest of all time taste'의 약자라고 합니다. 실제로 영미 문화권에서는 메시, 마이클 조던, 톰 브래디 같이 한 스포츠에서 역대 최고 수준의 업적을 남긴 선수들을 두고 'G.O.A.T.'라고 지칭하죠. 염소 이모티콘과 함께... 암튼 사장님의 큰 포부를 엿볼 수 있는 상호네요. . 평일 점심에 갔더니 웨이팅 없이 바로 들어갈 수 있었어요. 다만 음식이 나오는 데 오래 걸려서, 이게 주말마다 펼쳐진다는 지옥 웨이팅의 원인이 아닐까 싶습니다. -------- ♤ 고트 피자 (16,000₩) 진한 치즈와 오일 향이 확 풍기는 피자입니다. 일단 냄새가 너무 좋았어요. 얼마 전 다른 분의 리뷰에서 맛이 변했다는 혹평을 읽고 걱정을 했는데, 저는 맛있게 먹었습니다. 델리 뒤에 '만쥬'가 붙는 냄새 원툴 음식이 있는데, 다행히 델리 앞에 '고트'가 붙은 놈은 그렇지는 않더라고요. 이전에는 치즈가 적고 마늘쫑이 올라갔던 모양인데, 느끼한 거 싫어하시는 분들은 예전 스타일이 마음에 드실 거 같아요. 그렇지만 저는 기름이 아닌 치즈에서 오는 느끼함은 좋아하는지라 잘 먹었습니다.  ♤ 루벤 (9,000₩) 피자가 있으니 차갑고 담백한 샌드위치가 잘 어울릴 것 같아서 루벤을 주문했어요. 친구는 루벤이 더 맛있다고 그랬는데 저는 조금 심심하다는 느낌이 들었습니다. 조금 더 다채롭고 불량한 맛을 기대했던 걸까요? 그래도 나름 맛있게 먹었습니다. -------- 이 정도까지 인기있을 만한 곳은 아닌 것 같지만, 압구정이라는 장소에서 좋은 가격에 준수한 델리를 먹을 수 있다는 것 자체에 점수를 주고 싶어요. 멀리서 와서 웨이팅해가면서 먹을 정도는 아니지만, 근처에 있으면 종종 방문했을 듯 하네요! . ★★★★ 2021-08-22\", 'date': '+6'}, {'id': 2725, 'review': '가게 분위기는 완벽, 음식 맛은 괜찮다 정도였던 것 같아요! 벽장식부터 메뉴판까지 사장님이 인테리어에 진심이었다 싶은...ㅎㅎ 저희는 루벤 샌드위치, 피자를 시켜먹었습니다.  피자가 나오는데 엄청 오래 걸리더라구요, 그래도 받자마자 트러플 향이 확 나서 기분은 좋아졌어요, 짭짤한 햄이 토핑의 전부더라구요! 다른 후기 사진에는 마늘쫑도 있던데! 그치만 햄이 꽤 맛있고 생각보다 짜지 않게 무난히 맛있긴 했어요... 근데 킥이 부족해서 마늘쫑 다시 넣으시는 게 좋을듯ㅎㅎㅎ 도우는 조금 애매해서 피자 꼬다리 조금 남겼어요ㅠ  루벤 샌드위치가 더 좋았던 것 같아요, 빵이 쫀득바삭하니 잘 구워져있었고 아무래도 소고기랑 사워크라우트가 잘 어울리기도 하고 피자보다 다양한 맛이 나서 좋았어요!  마지막으로 잠봉 먹어보러 재방문은 할 예정이긴 합니다! 샌드위치류는 점심으로 무난히 먹기 좋은 것 같아요, 웨이팅이 있거나 멀리서 찾아오실 필요는 없고 근처 근무하시면 스윽 방문하기 좋을듯 ', 'date': '2021.08.21'}, {'id': 2726, 'review': \"<맛집이 되는 것보다 어려운 꾸준히 맛집이기> <알려지기보다 훨씬 쉬운 건 잊혀지는 것>  압구정 로데오 인근의 델리. 자세한 설명은 생략한다. 저번 리뷰에서 마이 했다.  ----------------------------------------------------------------------------------  자세한 설명은 앞서 말한 대로 생략합니다. 좀 심각한 수준으로 형편없는 매장이 된 걸 오늘 확인하고 와서... 오픈 초 작성된 호평 가득한 리뷰들만 믿고 더위 속에 겨우 이런 음식 먹기 위해 줄 서는 분이 더는 없으셨음 하는 마음에 쓰는 리뷰거든요. 본인 또한 그 호평 가득 리뷰를 썼던 사람으로서 맘이 좋진 않지만 어쩌겠습니까. 잘못된 길을 가고 있는 식당이 문제지.  맛본 음식... 올드스쿨 고트 피자 레몬 에이드 콜드 브루  올드스쿨 샌드위치_ 내가 오픈 초기 방문해 아주 맛있게 먹은 기억이 있는 녀석인데.. 오늘 받은 올드스쿨은.. 주재료인 파스트라미부터 전의 반도 안 되는 양만 들어 있고, 딜은 내기 전 급하게 쑤셔 넣은 건지 두세 가닥이 가생이에 꽂혀 있는.. 게다가 농도 조절 망한 소스가 대충 발라져 하단 빵까지 아작낸.. 그런 샌드위치였다.  고트 피자_ 피자는 더했으니... 받아든 피자에 얼룩덜룩하면서도 바작하고 아주 약간의 쫄깃함도 있어 그냥 먹어도 맛있던 도우는 온데간데없었다. 에어리하게 파삭하지도 아예 밀도감 있게 쫄깃하지도 않은,.. 하다 만 반죽으로 만든 식빵 느낌의 도우만 있었다. 충분히 들어간 마늘쫑으로 풍미, 식감 모두 개성 있게 훌륭해 술술 넘어갔던 토핑 파트는 또 어디 간 건지.. 이제 지겹다 못해 역한 트러플 오일 향만 잔뜩 나는.. 잠봉 부스러기 올린 기름 덩어리가 있었다.  접객_ 접객은 전반적으로 나쁘지 않았다.  총평_ '이제 맛집으로 소문 났으니까 재료 줄여서 대충 만들어도 계속 사람들 많이 오겠지? 좋은 리뷰들 많이 쌓였으니까 우리집은 쭉 장사 잘 될 거야. 대충 날림 장사해도ㅋㅋ'  이렇게 생각하셨다면.. 크게 잘못 생각하신 겁니다. 대표님.  PS)그 분에게 지금도 미안하다. 호들갑 떨고 칸막이 설치는 커녕 테이블 간격 확보도 안 된 곳 데려 가서, 쓰레기 음식 먹게 했다. PS2)깊은 빡침이 담주까지 리뷰 쓰는 거 쉬려고 한 사람 망플 켜게 했고 이 리뷰 쓰게 했다. 2021-08-15\", 'date': '+2'}, {'id': 2727, 'review': '존맛탱!! 파스트라미 샌드위치 맛집 발견~!~!!! 오아시스 루벤 샌디치를 최고로 외치고 다녔는데,,고트델리가 그 자리를 위협하네요,,  올드스쿨 파스트라미 세트- 12,000₩ 루벤 샌드위치 세트- 12,000₩ 세트에는 하우스피클이랑 감자튀김을 선택했어요  그냥 먹자마자 넘 맛있어서 깜짝 놀랐어요,,올드스쿨 파스트라미는 약간 두껍게 햄을 넣어주셔서 고기맛 제대로 느끼면서 먹었네요,, 샌드위치안에 다 딜을 넣어주시는거 같은데 ,,아 넘 잘어울려요 진짜 짱맛!!!  하우스피클이라고 해서 읭? 하면서 주문했는데 ㅋㅋㅋ정말 장아찌더라구요 마늘쫑,오이고추,오이 등등 다양한 채소랑 너무 달지 않게 만든 피클 진짜 맛있었어요!! 개운하게 느껴질정도로 ㅋㅋ! 제 남자친구는 마늘쫑 피클에 반해서 열심히 드셨다는,,,  그냥 정말 맛있는 샌드위치 ,,,꼭 드셔보세요 발렛도 된다고요 ~! 최근에 찾은 샌드위치 가게중에 젤 맛있었어요 리뷰 쓰는데 또 먹고싶네요,.또 먹으러 가야겠어요 ㅎ', 'date': '2021.08.09'}, {'id': 2728, 'review': '압구정로데오에서 잠봉보르가 먹고싶다면! 매번 지나갈때마다 사람이 많길래 궁금했던 가게인데 잠봉뵈르 맛집이었네요~ 사람들이 포장 많이 해가시더라구요~ 친구랑 가서 하나는 잠봉뵈르 하나는 다른메뉴 시켰는데(1번) 잠봉이 더 맛있었어요! 가게는 카멜커피처럼 빈티지스러운 인테리어에요~', 'date': '2021.07.21'}, {'id': 2729, 'review': '재방문의사도 있고 친구들에게도 많이 추천하고 있는 <압구정로데오 맛집, 고트델리>  잠봉뵈르 맛집으로 알고 있던 압구정로데오 고트델리에 방문했습니다~! 잠봉뵈르 일단 기본으로 주문하고 인스타에서 많이 본 고트피자도 함께 주문했는데, 웬걸 너무 맛있어요!  프로슈토는 그냥 잠봉뵈르처럼 바게트와 먹거나 아니면 와인 안주로 많이 먹잖아요. 이렇게 피자처럼 먹는건 처음인데 하나도 안짜고 그렇다고 심심하지도 않고 도우와 치즈랑 조화가 잘 어우러지는 느낌이었어요.  일요일 저녁인데 저희 정말 운좋게 웨이팅없이 바로 들어갔네요 :) 테이블이 많지는 않지만 맥주와 함께 일요일 마무리하는 저녁으로 먹기 딱 좋은 행복한 맛이에요! 2021-07-19', 'date': '+2'}, {'id': 2730, 'review': '잠봉뵈르가 가끔 생각나면 안국에 있는 소금집을 가곤 하는데, 접근성이 좋지 않다보니 늘 아쉬운 마음이 있었다. 그런 와중에 너무 반가웠던 고트델리!  소금집에서 제일 좋아하는 메뉴인, 잠봉뵈르 맛은 따라가지 못해 다소 아쉬웠지만, 코울슬로 파스트라미와 루벤 샌드위치는 정말 맛있게 먹었다. 개인적으로 루벤은 고트델리가 더 맛있었다. 파스트라미와 소고기도 알찬데다 코울슬로와 야채 소스 등과의 조합도 좋았다. 세트메뉴를 주문해 프렌치프라이, 피클, 수프를 추가해서 먹었는데, 사이드 메뉴도 너무 맛있었다. 특히 수프와 피클은 완전 내스타일!  또한 압구정이라는 위치 감안시, 가격도 너무 착한 편이어서 만족도가 배가 된 듯하다. 웨이팅만 길지 않다면 자주 방문하고 싶은 곳이다. 2021-07-13', 'date': '+3'}, {'id': 2731, 'review': '신상 맛집은 못 참지. 웨이팅이 극악이라는 글을 많이 봐서 일요일 오전 11시, 오픈 30분 전에 갔다. 감사하게도 서있을 필요 없이 이름을 적으면 돼서 이름 적고 앤아더스토리즈 가서 옷 구경하다가 5분 전에 갔다. 내가 1등이었고 오픈 때쯤 되니까 만석 되고 2팀 정도 못 들어왔던 것 같다.  제일 인기 많은 것 같은 창가 자리! 더워서 그런지 열려있지는 않았다. 왠지 여기 앉으면 웨이팅하는 분들과 아이컨택할까봐 걱정됐는데, 사람이 엄청 많은 정도는 아니어서 그런지 크게 부담스럽지는 않았다. 그늘이 창문 앞으로 져서 이 쪽에 많이 계시는 것 같다.  잠봉뵈르(9.0)가 핫하다길래 시키고, 루벤(9.0), 양송이 수프(3.5), 투데이 커피 아이스(4.0) 주문. 가서 선불로 주문해야 해서 조금 혼잡스러웠다. 테이블 간격도 넓은 편은 아닌데, 가게 내부가 아늑하면서도 조잡스럽지 않은 느낌!  샌드위치라서 금방 나올 줄 알았는데 오픈 직후여서 그런지 조금 기다렸다. 잠봉뵈르는 입천장이 까질 것처럼 아자작 소리나는 단단한 바게트. 버터가 느끼하지 않고 빵을 부드럽게 해주는 역할을 한다. 루벤은 특히 빵이 맛있었는데, 살짝 바삭하면서 부드러운 게 주인공인 햄과 사워크라우트를 잘 살려주는 식감. 수프는 개인적으로 그냥 그랬고 (급식수프맛...) 커피는 조금 더 강해도 될 것 같았다. 피클은 추가로 주문해야 하는데 옆에 마늘쫑 피클?이 의외로 괜찮았음.  웨이팅을 각오할 정도만 아니면 좋을 텐데, 그래도 다음에 재방문 의사 있다! 압로에 갈 일이 많은데 신선한 맛집이 생겨서 행복할 따름. 2021-06-23', 'date': '+3'}, {'id': 2732, 'review': '한줄평: 압구정의 핫한 직접만든 샤퀴테리를 사용하는 델리 맛집. 예랑pick은 고트피자!  빗속을 뚫고 모여서 1시간반을 웨이팅한 우리들 칭찬합니다 (자화자찬). 여길 방문하려거든 11시30분 오픈시간 맞춰서 오기를 추천합니다 ----- 양키스버거 자리에 생긴 < Goatt Deli > 위치만 같은 줄 알았는데, 알고보니 양키스버거 만든 분들이 뭉쳐서 만들었다고 한다. 직접 훈연한 파스트라미를 사용해서 샌드위치를 만들고, 루벤 같은 경우는 수비드한 고기가 들어간다.  #코울슬로파스트라미 #잠봉뵈르 #루벤샌드위치 #고트델리피자  이렇게 주문해서 먹었음! 내가 주문한건 코울슬로 파스트라미 였는데, 스모크향 가득한 파스트라미와 적당히 상큼하게 버무러진 코울슬로 조화가 꽤 좋앗음! 게다가 코울슬로를 적양배추로 만든것도 인상적이었음! 참고로 파스트라미는 소 양지머리 (brisket) 부위를 후추 코리앤더 등 향신료로 양념해 염지한 뒤 훈연한 것임.  잠봉뵈르도 조금 잘라서 먹어봤는데, 꽤 맛있었다! 고소한 버터랑 잠봉햄이랑 밸런스가 꽤 좋은! 피자가 맛있다고 하던데 정말 맛있었다 ㅠㅠ 시그니처 소스와 치즈가 진짜 맛있어 ㅠㅠ 게다가 샤퀴테리도 너무 부드럽고 맛있다!  전반적으로 잠봉과 파스트라미가 짜지 않아서 참 좋았음! 한국인 입맛에 잘 맞게 만드신거 같음! 게다가 정말 부드럽고 맛있었따 헤헷. 정말 극악 웨이팅만 빼면, 내부 앤티크한 아이템이나 레트로 감성도 참 좋았음!  instagram @yeh_rang #먹히영 2021-06-22', 'date': '+10'}, {'id': 2733, 'review': '음 압구정 로데오에 이런곳이 생기다니 ㅎㅎ 압구정 로데오라고하면 요새는 임대 표시가 더 많이 붙어있는 빈 가게들이 떠오르는데 요런 가게들이 한 개씩 생기면서 주변 상가에도 활기를 불어넣지 않을까 생각해요.  인스타에서 보다 간 고트델리. 뉴욕에서 자주먹던 카츠델리가 생각나 오리지날로 주문하고 스프라이트와 프렌치프라이를 시켰어요 샌드위치는 약간 짠 편인데 개인차 좀 있을 거 같고 일단 저는 인테리어가 빈티지한게 넘 맘에 들더라고요 이곳. 오픈키친이라 만드는거 볼 수 있다는 것도 좋고요  잠봉뵈르 먹으러 재방문할 예정입니다 2021-06-15', 'date': '+10'}, {'id': 2734, 'review': '사진을 못찍었지만 아주 맛있어서 남기는 리뷰! 샌드위치가 유명하지만 고트피자와 감자를 맛보았다 화덕화덕한 맛의 피자는 내가 좋아하는 쫀뜩하고 고소한 피자도우 약간 탄듯한 맛이 더 좋았다! 감자도 느끼함 없이 프래쉬하게 먹을 수 있었다 담에는 방문해서 먹어보고싶다 이번엔 포장 이였지만!', 'date': '2021.05.26'}, {'id': 2735, 'review': \"섬세한 샌드위치가 있는 곳  보드람하면서 짭쪼롬한 맛이 왠지 무뚝뚝하고 덩치 큰 요리사가 재료하나하나 잘게 잘라 세심하게 만들법하다 했는데 실제로 샌드위치 만들고 계신 분이 그러하시네요?  분위기는 샌드위치 집보다는 맥주집스러워요. 사슴뿔스러운 나무뿔 샹들리에는 뭔가 남성스러운 느낌도 나는데 막상 샌드위치는 왜이렇게 정성스럽고 귀엽뽀짝한지요.  양상추 대신에 자리한 새싹? 야채비주얼부터 재미있었는데 빵자체가 생각보다 너무 부드러워서 좋았네요. 요즘 잠봉뵈르나 샌드위치하면 입 천장 까질만큼 껍데기 딱딱한 아이들만 먹다가 빵이 바삭한 느낌이 느껴지면서도 부드럽고 촉촉한 걸 먹으니 생각보다 의외다 싶었습니다. 좋은 의외였어요.  거기에 안에 들어있는 햄은 또 있는 그대로 짭쪼름이 느껴지는데 이게 또 짜지는 않네요?  잠봉뵈르들어가는 두 가지는 이미 솔드 아웃이라 루벤샌드위치(9.0) 올드스쿨샌드위치(9.0) 세트-프렌치프라이(3.0) 콜라(3.0) 오늘의 커피(3.5) 요 조합으로 먹었는데 둘다 정말 맛있었고 개인적으로는 파스트라미 맛이 확 느껴지는 올드스쿨샌드위치가 '호' 였습니다.  압구정 답지 않게 또 가격은 왜이렇게 착한지요. 매우매우 만족했습니다. 큰 창으로 들어오는 바깥 바람도 넘 좋아요~ 2021-05-20\", 'date': '+2'}, {'id': 2736, 'review': '3.4/5  완벽한 가게 분위기, 맛은.. 잘 모르겠어요..   요즘 먹스타들 사이에서 스멀스멀 리뷰가 올라오더니 어느새 핫한 곳이 된 것 같아요. 평일 점심 12시 40분 쯤 갔는데 30분은 기다렸어요.  가게 내부는 정말 잘 꾸며놨더라구요. 해외감성 가득해서 매장 구경하는 재미가 있었어요.  저희 일행은 이런 메뉴에 막 익숙한 사람들이 아니었고 그런 저희가 느끼기엔 충분히 호불호가 있겠다..했어요ㅎㅎ 저희는 호!!는 아니었던걸로..!  저희는 올드스쿨 파스트라미, 코울슬로 파스트라미, 잠봉뵈르를 각각 시켰어요. 이 동네에서 9000원에 식사 해결해서 놀랐어요. (+3000원 해서 수제피클, 프렌치프라이 추가했습니다)  일단 제가 먹은 잠봉뵈르는 버터가 너무 많이 들어있었어요. 그래서 1개쯤 먹으니 뭔가 느끼하고 물리는 맛이었어요. 잠봉햄은 꽤나 평범했습니다. 소금집델리와 비교가 되더군요!  코울슬로 파스트라미를 먹은 친구는 세트로 수제피클도 골랐는데요,, 코울슬로와 피클의 조합이 입 안을 절여지게 만들었다구 하더라고요ㅋㅋㅋ무슨 느낌인지 알 것 같은 느낌ㅋㅋ 코울슬로가 진짜 많아서 맛이 너무 강력했어요!!  인스타 후기 보고 기대를 많이 했지만 기대 이하였습니다. 제 스타일의 메뉴가 아니었던걸로! 2021-05-18', 'date': '+4'}, {'id': 2737, 'review': \"⭐⭐⭐⭐☆ 올드스쿨 파스트라미 (9.0) . 최근 망플을 비롯해 가장 핫한 서울의 델리가 아닐까! 공간, 분위기, 그리고 맛까지 정말 만족스러웠던 곳 고트델리. . 음식 이야기를 하기 이전에 분위기 이야기를 하지 않을 수가 없다. 정말 진퉁 앤티크. 한국이라고 말 안했으면 뉴욕 소호 골목길 어느 델리집이라고 해도 분명 속았을 법 하다. 빈티지 가구와 소품, 조명과 소재까지 선택이 절묘하다. 오픈형으로 된 주방은 '델리'라는 식당의 카테고리 답게 즉석으로 맛있는 음식이 나오는 것을 실시간으로 구경할 수 있게 해주며 탁 트이게 열어버린 매장의 3면은 좁은 공간임에도 개방감을 가득 준다. . 이날 주문한 첫 번째 메뉴 올드스쿨 파스트라미. 샌드위치의 경우 바삭한 빵 사이에 터프하단 느낌이 들 정도로 붉은빛의 소고기가 차곡차곡 쌓여있었다. 고기는 강렬한 염도를 가지고 있었는데, 이부분에서 다소 호불호가 갈릴 수 있겠으나 개인적으로는 좀 덜 짰다면 더 좋았겠다고 느꼈던. 하지만 사이에 들어간 머스타드와 딜이 주는 향긋함은 고기와 완벽한 조합을 자랑했다. 조금 세던 염도 역시 먹다보면 혀가 적응되고, 음료랑 같이 즐기기 시작하면 금방 잊혀져서 나쁘지 않았음 ㅎㅎ . 두번째 메뉴는 고트피자. 아무리 샌드위치 전문점이라지만 이런 비주얼은 주문하지 않고는 못배기게 만든다 정말. 웬만한 화덕피자 전문점 저리기라 할 정도의 도우, 살짝 그을려 쌉싸래한 크러스트, 그리고 잘게 찢어올려 짭짤함이 너무 좋았던 햄. 특이하게도 위에 잘게 썰린 마늘쫑이 올라가는데 매콤함이 은은하게 깔리면서 씹는 맛까지 더해져 킥이 제대로였다 진짜. 확실히 음식을 어떻게 설계해야 하는지 아시는 분들이 하시는 곳이라 느꼈던 포인트. . 메인 메뉴에 3000원을 추가하면 fry 혹은 피클을 추가할 수 있다. 무조건! 피클은 추가하길 추천한다. 씨를 싹 빼 매운맛을 제거했지만 고추의 향이 그대로 살아있는 고추피클. 역시 씹는 맛과 풍미가 살아있는 마늘쫑에 향긋한 샐러리까지. 메인메뉴와의 궁합이 정말 지대로다. . 창가자리에 앉아 지나가는 인파를 구경하며 먹어도, 안쪽의 아늑한 자리를 잡아도 모두 좋다. 오픈한지 그리 오래 되지 않았지만 쏟아지는 인기를 너무나도 이해할 수 있었던 방문. 정말 꼭 다시 방문해보고 싶다. 2021-05-18\", 'date': '+4'}, {'id': 2738, 'review': '평일 점심 방문.  압구정로데오역 근처 델리. 샌드위치를 메인으로 피자와 가벼운 사이드 메뉴를 판매한다. 맛집 평가에 큰 주축으로 자리한 감성성을 평가하자면 매우 훌륭하고 절대적인 맛으로 보자면 샤퀴테리를 전문으로하는 델리 샌드위치에는 밀리지만, 이 근방에서 이런 분위기에, 이 가격에, 이런 샌드위치를 먹을 수 있는 곳은 여기 밖에 없기 때문에 그 희소성이 높은 곳. 나만 해도 메종조는 휴무일이고 소금집은 먼데, 고트델리는 연중무휴에 가깝기까지 하니 비오는 날 장화까지 신고 방문한 거 아니겠는가.  맛되디님의 주말 한 시간 반 웨이팅에 놀라 평일 점심 오픈어택 감행. 11시 27분쯤 도착하니 아직 오픈 전이라 앞에 두 팀이 대기 중이었고 금방 입장해서 자리 잡을 수 있었다. 평일 12시 전까지는 비교적 수월하게 앉을 수 있는 것으로 보인다. 주문은 카운터에서 하고 주문번호를 부르면 직접 픽업하는 시스템. 샌드위치를 직접 만드는 시간이 좀 걸리는지 11시 30분에 주문한 걸 20분을 기다려 받아볼 수 있었다. 글래스 와인은 레드만, 컨벤셔널과 내추럴 각 한 종류씩 판매.  ✔️다섯 종류의 샌드위치에는 기본 피클이 같이 서빙된다. 세트로 하우스 피클, 머쉬룸 수프, 감자튀김을 추가할 수 있고, 하우스피클의 경우 직접 만든 4종류의 피클이 나온다고 한다. 주문한 샌드위치 둘 다 같은 호밀빵을 사용하는데, 림님이 지적한대로 토스트가 덜 되어 특히 오늘처럼 비가 주륵주륵 오는 날에는 습기에 더 눅눅해지는게 아쉬운 포인트. 델리 감성은 충만하니 빵의 바삭함만 추가할 수 있을까요?  ▪️올드스쿨 샌드위치 9,000원 (프렌치 프라이 세트 +4,000원) ⭐️ 직접 훈연한 두툼한 파스트라미를 층층이 쌓고 딜과 피클, 홀그레인 머스타드를 곁들인 올드스쿨 샌드위치. 풍족하게 들어간 딜과 파스트라미가 가장 돋보이지만 기타 재료들이 충실하게 맛의 밸런스를 뒷받침하는 메뉴다. 2018년에 한창 들었던 스톡홀름 출신의 밴드 Urban Cone의 Old School을 배경음악 삼아 먹었다.  추가한 감자튀김에 도는 온기는 추적추적 내리는 빗줄기 속에서도 바삭바삭한 식감을 한층 더 살려준다. 고기 기름에 튀겨냈는지 베어물었을 때 올라오는 풍미에 순식간에 도취된다. 간도 짭짤하여 셀프 스테이션에 비치된 소스 없이 감튀 자체의 맛을 즐기는 것도 좋다.  ▪️루벤 샌드위치 9,000원 부쳐스 클럽의 루벤이 20,000원, 소금집의 루벤이 14,000원인 걸 생각하면 고트델리의 감튀 포함 12,000원 루벤은 훌륭한 가격이다. 다만 맛은 가격에 걸맞는 정도로, hot보다는 cold에 가까운 미적지근한 온도에 러시안드레싱과 사워크라우트, 딜에 밀린 콘비프의 풍미가 혀에 느껴질 듯 말 듯한 정도.  P.S. 구비한 와인이 어떤 종류인지 메뉴에 간단하게라도 써놓으면 좋겠다. 주문하면서 직원에게 물어 본 바, 내추럴과 컨벤셔널 레드 와인이 한 종류 씩 있다는 것 외에는 와인 품종이 뭔지, 맛이 어떤지에 대한 설명을 전혀 못하셔서 물어본 내가 당황스러웠다. 가게 입장에서도 저 두 와인을 셀렉한 이유와 주문한 샌드위치에 잘 어울리는 와인을 추천할 수 있다면, 적어도 와인을 마시고 싶은 손님이 판매하는 와인이 어떤 맛인지 몰라 주문을 안 하게 되는 일은 방지할 수 있지 않을까.  2021-05-17', 'date': '+7'}, {'id': 2739, 'review': '오후 늦게가 되니 배가 출출해 뭐라도 먹으러 나가고 싶긴 한데 비가 내려선지 선뜻 안 나가게 되고 딱히 당기는 메뉴도 없던 차에 망플을 보니 마침 맛되디님이 올리신 여기 고트델리의 리뷰가 눈에 띔.  맛되디님의 리뷰에서 보니 양키스버거를 운영하는 업체에서 연 가게라시던데 난 지나다니면서 양키스버거는 자주 봤었지만 딱히 내 타입의 버거는 아닐 것 같아 패스했었는데 여기 고트델리의 메뉴는 샌드위치류와 피자여서 궁금했고 가게 인스타 계정도 있길래 들어가보니 피드에 재료 소진으로 솔드아웃이란 내용도 보이길래 혹시나 헛걸음을 할까 가게에 전활해보니 지금 오시면 다 맛보실 수 있다고 하셔서 맘이 급해짐.  인기가 있는 가게에다 날씨까지 좋았다면 쉽게 맛보기 힘들텐데 마침 어중간한 시간대인데다 비도 내려서 지금 바로 들러봐야겠다고 생각하고 가족인원에게 같이 가겠냐고 하니 비가 와선지 그냥 집에 있고 싶다고 해서 나 혼자 나섬.  아마 먼 곳이었으면 가고싶다에 세이브만해뒀었겠지만 마침 집 근처여서 비에 신발이 젖을까 하바이아나스 쪼리를 끌고 가게로 향하면서 뭘 먹을까 고민을 하다 비도 오고 우중충한 분위기여서 샌드위치보단 따뜻한 피자가 딱이겠다 함.  집 근천데다 가게 위치도 알아 순식간에 가게 앞에 도착했는데 비가 와서 한가할까했는데 그래도 인기 있는 가겐지 쉽게 열리진 않았던 옛날 미국 느낌의 가게문 손잡이를 좀 힘을 주어 당기니 열렀고 가게 안으로 들어서니 테이블의 반 정도는 차있었음.  이미 메뉴는 정하고 온 거여서 카운터로 바로 직진해 고트피자를 먹고 갈거라고 부탁드리고 QR코드 체크인 후 가게 한편엔 서비스 테이블이 있어 레몬이 담겨진 물을 따라 창가쪽 2인 테이블에 앉음  기다리면서 슥 둘러보니 가게 인테리어는 지금은 리사르커피 청담점으로 바뀐 예전 카멜커피의 것과 비슷한 느낌이고 손님들은 젊은 여자손님들이 대부분이었고 손님들이 주문한 샌드위치류가 준비되서 가져온 걸 슥 보니 아마도 라이브레드를 이용한 것 같은 샌드위치류는 구워졌는데 구워진 비주얼이 지금은 재단장중인 양재동 원스타 올드패션드 햄버거의 주말 한정메뉴였던 패티멜츠같이 잘 구워진 느낌은 아니었어서 좀 더 잘 굽거나 아니면 차라리 안 굽고 내어주는 게 나을 것처럼 보임.  바게뜨빵을 이용한 잠봉 뵈르나 잠봉 프로마쥬도 기대보단 볼륨감이 충분히 좋게 보이는 정도는 아니지만 가격도 좋고 이런 메뉴를 내놓는 가게가 집 근처에 생긴 것만으로도 감사해서 입틀막함.  점차 손님들이 더 들어오고 내가 주문한 고트피자가 준비될 쯤엔 테이블이 다 참.  고트피자를 가져와 슥 보니 난 좀 더 아담한 사이즈라고 생각했는데 흔한 피자가게의 2-3인용 정도의 사이즈여서 2인이 나눠먹기에 딱히 부족할 것 같진 않은 느낌이고 비주얼은 미국 피자이기보단 이탈리아 피자의 느낌임.  한 조각을 들어 맛을 보니 비주얼대로 신선한 모차렐라와 포카치아 빵 느낌의 쫀득한 피자 도우가 좋아 미소가 지어지고 토핑으로 올라간 잠봉햄이 훈연한 거여선지 스모키함과 동시에 고트 시그니처 소스는 디종 머스터드와 마요네즈의 베이스 같은데 톡 쏘는 머스터드의 맛과 마요네즈의 고소함과 뒤에선 은은한 달달함도 느껴져서 시그니처 소스라기보단 이 가게에서 파는 샌드위치류 같은데 흔히 베이스로 들어가는 머스터드나 마요네즈를 피자 소스로도 쓴 느낌임.  그래선지 피자 가게에 가면 보는 메뉴 중에 상단에 있기보단 주로 하단쪽에 위치하는 좀 색다른 맛의 피자 느낌으로 잠봉을 취급하는 가게의 특징을 잘 살린 메뉴로 느껴짐.  전체적으로 배도 출출하던 차에 딱히 생각나는 메뉴가 없었는데 맛되디님의 리뷰를 보고 따뜻한 피자가 당겨 급 들러봤는데 볼륨감도 나름 좋고 맛도 준수해 재방문해서 다른 메뉴들도 맛보고 싶은 기분 좋은 방문이었음. 2021-05-16', 'date': '+18'}, {'id': 2740, 'review': \"<델리카트슨> <아쉬움 순삭하는 피자> <비 오는 날엔 피자를 드세오>  문래동을 근거지로 세를 불린 양키스 사단의 뉴 업장. 이번에 들고 온 양키의 식문화는 델리!  ---------------------------------------------------------------------------------  델리. 델리카트슨(delicatessen)의 줄임말. 바로 또는 렌지 조리만 해서 먹을 수 있는 음식, 그런 음식을 주로 취급하는 식당.  국내에선 백화점 식품관이 아니고서야 보기 어려운 게 요 델리인데.. 얼마전 홀릭 림님 리뷰로 처음 접한 이 신상 가게는 업장 컨셉으로 보나 메뉴로 보나 찐델리였다. 샤퀴테리아가 슬슬 식상해지려던 차에 새로 생긴 찐델리라니!  리뷰 정독하자마자 가고싶다 바로 눌렀던 듯. 델리라는 참신한 플랫폼에 혹하고, 파스트라미를 때려 넣은 대표 메뉴 '올드스쿨'의 비주얼에 혹해서 안 누를 수가 없었다. 하필이면 또 준수한 파스트라미를 내는 캘리포니아키친앤크래프트펍이 생산을 멈춰버리는 바람에;; 몇 달이 넘도록 보지 못한 찐파스트라미 샌드위치의 비주얼에.. 그냥 손가락이 나가버린 것.  그리고 어제! 컨설턴트님 리뷰에서 본 브런치 전문점 어프로치(역시 가고싶어 해둔 곳)랑 고트델리를 두고 어딜 갈까 고민하다가.. 비도 오고! 어프로치는 극악의 웨이팅을 견뎌야 먹을 수 있을 것 같아서..ㅋ 고트델리로 결정하고 출발함!  고트 델리- 양키스 버거, 양키스 피자 등 양키스로 시작하는 여러 브랜드를 성공시킨 바 있는 양키스 사단이 론칭한 델리 브랜드. 매장에서 쓰는 파스트라미, 잠봉은 모두 매장에서 직접 만든다고. 하나 있는 피자 메뉴도 대충 만들지 않겠다는 건지 제대로 된 화덕도 갖춰져 있는 건 덤. 기본적으로 주문과 동시에 조리해 서브하는 시스템에 따라 운영되고 있어, 뼛속까지 오리지널 델리라기엔 그냥 식당스러운 부분도 없진 않은 곳이지만 터프한 육가공품 요리들로 구성된 메뉴만큼은 델리의 그것 그대로다.  공간- 공간은 델리보다는.. 짙게 깔린 우드톤, 사슴뿔을 연상시키는 오더, 리턴 섹션의 조명에 전반적으로 아늑한 것이 미쿡이나 캐나다 국립 공원 식당 느낌이다. 산장 겸 식당 공간 같기도 하고. 근데 또 디테일 엄청난 셀프바나 키친템 덕후들 정신 못 차리게 할 만한 아이템들로 가득한 주방 선반 보면 델리 공간스러움도 없진 않은.. 묘하고 매력적인 공간.  맛본 음식- 고트 피자, 콜라  호기롭게 출발해 도착한 네 시 반, 식당 내부와 웨이팅 줄을 가득 채운 힙쟁이들을 보고 깨달았던 것 같다. 아.. 이미 핫플이구나 여기.. 어프로치랑 다를 바 없는 곳이구나..  어찌 되었든 일단 왔으니 먹고 가긴 해야 할 것 같아 명단에 이름을 적고 기다리길 무려 한 시간 반! 그러나.. 그렇게 고생고생해서 여섯 시에 입장해, 잔뜩 허기진 상태로 주문했을 때 돌아온 말은 그야말로 청천벽력이었다ㅠ.. 올드스쿨, 루벤, 코울슬로 파스트라미 품절..  그래서, 아쉬운 대로 고트 피자를 주문함! 잠봉뵈르랑은 권태기라..ㅎ  고트피자_ 고트델리표 잠봉, 마늘쫑을 넉넉히 올려 구운 특제 피자다. 일등 공신은 마늘쫑! 마늘쫑의 나이스 어시로 피자에서 만나기 어려운 토독토독 터지는 식감이 느껴지는데 긴 말할 것 없이 훌륭하고, 잠봉의 짭짤하면서도 좋은 풍미와 적당히 기름기 머금은 마늘쫑이 선보이는 하모니도 기막히다.  도우도 수준급. 미국식보다 이탈리아식에 가까워 얼룩덜룩하고 이를 대면 바삭 개겨보다가 이내 쫀득하게 감긴다. 밀가루 풋내는 당연히 없고. 풍성한 토핑을 아우르는 리더쉽을 갖추고 있는 건 물론이고 자체적으로도 빛난다.  앉았던 그릇에 기름을 거의 남기지 않을 만치 담백한 것과, 머스터드랑 후추가 충분히 들어간 건지 중간중간 톡 쏘는 것처럼 알싸함이 느껴지는 것도 매력 포인트다. 염도는 살짝 높은 편이나, 은은한 훈연향, 후추 맛과 어울림이 좋기 때문에 역시 큰 문제는 아니라고 생각한다. 전반적으로 흠 잡을 데 없이 맛있는 피자!  입에 입성하자마자 들어올릴 때까지만 해도 남아있던 파스트라미 샌드위치를 못 먹는 것에 대한 아쉬움을 순삭해버렸다. 빗소리 브금 삼고 지나가는 압구정 멋쟁이들 뮤비 삼아, 정말 맛있게 먹었다!  서비스- 핫플이자 맛집이라 가게가 정신 없지 않은 순간이 별로 없는데, 다들 접객이면 접객, 웨이팅 관리면 웨이팅 관리, 다 척척 해내신다. 뭐, 셀프로 제공되는 서비스가 많아 그런 것도 있겠다만 감안해도 훌륭한 편. 내가 기다리는 동안에도 웨이팅에 지쳐 예민해진 가족 팀이 다른 팀을 먼저 입장시킨 걸로 오해해 성질 내는 일 포함.. 별 일 다 있었는데 전부 능숙하게 해결하셨던 걸로 기억한다.  총평- 핫함이 가실 날 없는 압구정로데오역 근방에 있고 매장이 개성 있고 예쁜 곳이기도 해서 저스트 핫플 아냐? 오해하는 분들이 계실까봐 말하자면 아니다. 진짜다. 제일 중요한 음식 맛으로 충분히 진짜다.  아직 오픈 초기라 예약이 안 되는 건 분명 아쉬운 점이지만, 감수하고 방문할 가치가 충분한 곳. 재방문 의사도 있다. 브런치 먹으러 가도, 낮술하러 가도 실패 없을 곳이니 더 핫해지기 전에(근데 이미 핫한 거 같아..), 가쟈! 고트델리로!  PS)도착 때 이미 맛나게 샌드위치에 스며드는 중이시던 4인 팀.. 웨이팅하다가.. 들어가서.. 다 먹고 나올 때도 딥토킹 중이셨다. 최소 세네 시간을 뻐긴 거. '저 분들도 웨이팅하다 들어갔을 테니..', '또 돈 내고 먹는 거 여유롭게 먹고 싶은 맘은 다 같은 거니까..' 생각하면서 이해해 보려 했으나 솔직히.. 지금도 이해 안 간다. 아니 뭔 파인다이닝이나 바 왔나;; 웨이팅 심한 식당에선 정도껏들 합시다.. PS2)다 먹은 테이블에는 직원분들이 눈치 주셨으면 좋겠다. 앞서 말한 팀 테이블, 웨이팅 삼십 분 경과 시점에 이미 남은 음식은 없었음.. 하도 어이 없어서 그 때부터 나 다 먹고 나갈 때까지 대체 뭐 하느라 안 나가나 가끔 스캔했는데 화장 고치기, 아이패드로 뭐 보기, 남은 와인 방울 혀에 묻혀 주기 등등.. 참 가지가지 하더라.. PS3)예약제 도입이 시급합니다. PS4)맛있는 음식이 채워준 행복감과, 빡침이 두루 가득한 상태에서 쓴 리뷰라 그런가.. 롤러코스터 리뷰네.. 죄송합니다.. PS5)방금 혼자 재방문해서 올드스쿨도 맛봤다. 폭발하는 딜 향도 좋고, 감칠맛, 구수한 맛, 짭쪼름함이 조화를 이룬 맛도 아주 좋다. 캘포키 것처럼 강하고 중독적인 맛이라기보다 자극이 적당해 앉은 자리에서 두 개는 거뜬히 해치울 수 있을 것 같은 맛이다. 그 분이랑 오픈 시간 맞춰 또 갈 거라서 자세한 샌드위치 리뷰는 그 때 하겠다ㅎㅎ PS6)모든 메뉴 품절 걱정 없이 먹으려면 늦어도 한 시 방문 추천한다. 피자 먹은 날, 내 다음 손님 주문을 끝으로 재료 소진, 영업 종료 표지판이 걸렸다. PS7)피자 주실 때, 케이크 아이싱할 때 쓰는 원판에 올린 접시에 담아 주시는데.. 원판 깊이가 얕고, 접시랑 사이즈가 딱 맞는 것도 아니라 들고 갈 때 심히 위태위태하다. 피자 서빙 방식은 재고해 보시는 것도 좋을 것 같습니다 사장님. 2021-05-16\", 'date': '+14'}, {'id': 2741, 'review': '요근래 가본 집 중에 최고! 평일 점심 오픈 때 맞춰 갔고 12시가 되니 웨이팅이 두세 팀 정도 되었다.  잠봉뵈르, 루벤샌드위치, 고트피자. 탄산이 싫어 그냥 고른 아이스티 맛에 놀람. 레시피를 알고 싶을 정도로.. 잠봉뵈르가 집에 가면 생각날 것 같아 포장했는데 몇 시간지나서 먹어도 또 맛있었다. 루벤샌드위치, 조금 자극적이었던 걸 빼면 수비드한 촉촉한 소고기와 딜의 풍미는 너무 좋았다. 고트피자, 홀그레인머스터드소스에 맛난 것만 토핑했으니 말해 뭐해~ 착한 가격으로 이런 맛을 즐길 수 있으니 더 맛있.. 2021-05-12', 'date': '+3'}, {'id': 2742, 'review': '압구정 신상 델리, 이제 국내에도 델리가 하나씩 생기나 보다 델리 샌드위치라니, 참을 수 없지! 주말 점심 때 방문했는데 웨이팅이 아주 조금 있는 정도 빈티지 가구로 가득채운 매장의 인테리어는 누가봐도 이런류의 매장을 많이 방문해본 사람의 솜씨이다 외벽을 크게 메우고 있는 delicatess을 보는 순간 기분이 좋다 아 나는 델리가 왜 이리 좋은지 샌드위치 중심에 피자 메뉴 조금, 그리고 주목할만한 점은 직접 만든 피클! 뉴욕의 몇몇 유명 델리가 직접 만든 피클로 단숨에 유명해졌음을 감안할 때 옳은 결정이 아닐 수 없다  양송이 스프 - 은근한 트러플향과 베이컨으로 맛을 살린 스프  코울슬로 파스트라미 - 느끼함을 잡아주는 코울슬로와 파스트라미 샌드위치의 밸런스가 좋다 이 동네에 1만원 이하의 이런 퀄리티의 샌드위치라면 매주 사먹으러 올 수도 있을 것 같다 곁들여 나온 마늘쫑 피클이 의외로 별미이다  루벤 샌드위치 - 역시 맛있으나 코울슬로 파스트라미보단 과한 소스 때문인지 밸런스가 살짝 떨어진다 두 샌드위치다 아끼지 않고 넣은 딜의 향미가 참 좋다  눅눅한 샌드위치를 참 싫어하는데 두 샌드위치 다 그 정도는 아니었지만 토스트가 좀 더 되었으면 좋겠다 싶었다 두 샌드위치의 맛이 약간 겹쳐서 재방문 시엔 잠봉이나 기본 파스트라미를 주문해 볼 계획 곁들여 나온 오이 피클은 최고까진 아니지만 그런 대로 괜찮았다  브라우니 - 단 걸 워낙 싫어해서 디저트는 영 취향이 아니지만 브라우니 특유의 질척(?)하고 꾸덕한 텍스쳐를 싫어하는 내가 맛있게 먹었다 겉은 거의 쿠키같이 바삭하고 속은 적당한 단맛의 꾸덕함이다 다음에 와도 또 시켜 볼 계획  전체적인 분위기가 좋고, 맛도 좋은데 가격마저 좋았다 한 가지 정말 아쉬웠던 점은 사이드로 chips이 아닌 fries만을 제공한다는 점, 델리 샌드위치엔 크리스피한 칩을 꼭 같이 곁들여야 하는데 약방의 감초가 빠진 기분, 또한 반조리 혹은 조리 음식을 따로 팔지 않기 때문에 완전한 델리라고 말하기엔 2프로 아쉽지만 그래도 좋아라 2021-05-06', 'date': '+12'}, {'id': 2743, 'review': 'The pizza was made with super high quality ingredients. This man is an artist at work.', 'date': '2022.10.25'}], 'geometry': ['127.038956576', '37.527273188']}\n"
     ]
    },
    {
     "name": "stdin",
     "output_type": "stream",
     "text": [
      " 서울특별시 강남구 신사동 662-14 1F\n"
     ]
    },
    {
     "name": "stdout",
     "output_type": "stream",
     "text": [
      "\n",
      "서울특별시 강남구 테헤란로 231 조선팰리스 24F\n",
      "{'name': '조선델리더부티크 조선팰리스점', 'score': '4.3', 'doro_addr': '서울특별시 강남구 테헤란로 231 조선팰리스 24F', 'jibun_addr': None, 'reviews': [{'id': 2744, 'review': '조 신하게 머리를 넘기며 선 이 고운 자태로 한껏 끼를 부리며 그녀는 말했다 델 리러올꺼지? (아니)  맛10 친절10 청결10 주문메뉴: 바나나케이크 (5만)  생일에 케이크가 빠지면 섭하지... 조선델리 쪽으로 전화로 주문해서 홍연으로 올려달라 하자 흔쾌히 도와주셨다. 레터링은 무료인데, 글씨가 무척 인간적이다. 모르는 사람이 보면 내가 썼다 생각할 그런 글씨.  조선델리더부티크는 조선팰리스 24층에 위치해있다. 1914라운지앤바도 24층에 함께있다. 심지어 바로 옆에 있으니 참고!  데코는 엄청 심플한데, 케이크를 가르면 바나나가 그득하다. 빵과 빵 사이에는 크림인데, 대부분 바나나라고 보시면 된다. 향도 진하고, 맛도 진하고, 초코나 딸기 케이크만 엄청 먹었는데, 바나나 케이크는 또 처음인데 만족스러웠다. 2022-12-08', 'date': '+6'}, {'id': 2745, 'review': '케이크 살 일 있을 땐 고민 없이 조팰 생크림 케이크!! 샤인머스켓도 딸기도 맛있는데 둘 중엔 딸기가 풍미가 좋아 더 취향임 크리스마스 케이크도 예약했는데 빨리 먹어보고 싶다앙', 'date': '2022.12.07'}, {'id': 2746, 'review': '쇼트케이크란 스펀지 위에 생크림을 바르고 간단한 과일을 얹은 아주 간단한 케이크다. 하지만 언젠가부터 이 간단한 케이크를 하이엔드급 케이크로 만든 곳이 있었으니 바로 신라와 조선호텔 계열의 베이커리들이다.  고급 밀가루를 활용해 스펀지(빵) 자체도 부드러우면서 고소한 맛을 내고 질 좋은 우유를 활용해 만든 생크림에서 은은하고 고급진 단맛이 퍼지는 꾸덕하면서도 부드러운 맛, 거기다 우리나라 최고의 신선한 제철과일을 올려 만든다. 여름이면 망고와 포도, 겨울이면 딸기 등 지나칠 수 없는 제철 메뉴가 되어버린 호텔 케이크들.. 당시 호텔이 오픈하고 얼마 되지 않고 딸기 케이크를 먹었었는데 기본기가 탄탄한지 신라나 쇼토에 꿀리지 않는 아주 맛있는 케이크를 먹을 수 있었다.  하지만 여전히 가격은 좀 심하다고 생각한다...', 'date': '2022.10.14'}, {'id': 2747, 'review': '조선델리의 무화과케이크 먹어봤어요. 지금은 무화과와 샤인머스캣 두 종류가 나온다고 하세요.  올해 먹을 무화과 다 먹어본 것 같네요 하하 우선 크림과 촉촉한시트 무화과 이렇게 한 입 먹으니 너무너무... 맛있네요? 신선한 무화과가 아낌없이 들어가 무화과 맛이 은은하면서도 오래 남네요.  위에 장식부분에는 청 무화과를 대부분 데코 하신 것 같고 안쪽은 여러종류 섞어 있어요. 기회가 된다면 드셔보세요!', 'date': '2022.10.01'}, {'id': 2748, 'review': '일년 전 부산웨스틴조선에서 먹은 바나나케익은 내 인생케익이었다. 토요일 강남 결혼식에 가기 전 들른 조선팰리스. 케익은 역시 조선호텔이지, 하면서 조각케익 먹으러갔는데 아쉽게 홀케익만 있어서... 빵 몇개와 음료를 마시고 나왔다. 케익의 명성엔 조금 부족하지만 베이커리류도 부족함 없었고 (개인적으로 도넛은.. 노티드가 더 맛있었다) 아이스초코는 내가 마셔본 쪼꼬중 젤 맛있었다. 우유거품이 부드러워서 참 좋았던... 다른 손님들 보니, 브런치가 괜찮은듯하다. 마음속에 저장!', 'date': '2022.08.05'}, {'id': 2749, 'review': '신라호텔에 망고생크림 케이크가 있다면 조선델리에는 바나나생크림 케이크가 있어요! 고오급진 도쿄바나나맛의 바나나생크림 케이크! 도쿄바나나를 좋아하시는 분이시라면 조선델리의 바나나생크림 케이크는 꼭 한번 드셔보셔야해요. 2022-04-20', 'date': '+4'}, {'id': 2750, 'review': '오 ~~~~ 기대 안했는데 너무너무 맛있었다. 특히 코팅된 딸기가 달달~ 하니 행복해지는 맛! 다음엔 홀케이크로 사서 가족들이랑 먹어야겠다~ 미니케이크는 25,000원이고 둘이서 먹기 딱 좋다. 우린 저때 배부르기도 했고 곁들인 와인이 하필 또 달아서 다 먹지 못했다 아쉽...', 'date': '2022.01.29'}, {'id': 2751, 'review': '기념일 케익살때 항상 강남에서 살만한 곳이 없어 멀리 신라호텔이나 포시즌스까지가야했는데 이제 조선팰리스에서 사가면 될듯하다  개인의 호불호가 있겠지만 가성비 창렬인 쿠키나 빵류 보단 재료 듬뿍듬뿍 들어간 케익이 폼나고 맛있어보인다.. 홀케익은 6-7만원대  샤인머스캣 쇼트케익(2만2천원)도 맛있어보이는데 그보다 3000원 비싼 망고케이크(2만5천)가 아주 맛있다고 하니 다음방문 때 사가야겠다 2021-10-17', 'date': '+9'}, {'id': 2752, 'review': 'Love the Shine Muscat cake. The cream and cake were done simple and right. The natural flavors of the Shine Muscat were the star. A good portion!', 'date': '2022.11.11'}], 'geometry': ['127.041628345', '37.503624540']}\n"
     ]
    },
    {
     "name": "stdin",
     "output_type": "stream",
     "text": [
      " 서울특별시 강남구 역삼동 676 24F\n"
     ]
    },
    {
     "name": "stdout",
     "output_type": "stream",
     "text": [
      "\n",
      "서울특별시 강남구 남부순환로 2729 2F\n",
      "{'name': '존쿡델리미트 시그니처점', 'score': '0.0', 'doro_addr': '서울특별시 강남구 남부순환로 2729 2F', 'jibun_addr': None, 'reviews': [{'id': 2776, 'review': '고기가 맛있다 상품들도 좀 있고 매장이깔끔', 'date': '2022.11.14'}, {'id': 2777, 'review': '레토르트맛이다 비비고 조리한 느낌', 'date': '2020.12.05'}], 'geometry': ['127.044569276', '37.486340960']}\n"
     ]
    },
    {
     "name": "stdin",
     "output_type": "stream",
     "text": [
      " 서울특별시 강남구 도곡동 180-14 2F\n"
     ]
    },
    {
     "name": "stdout",
     "output_type": "stream",
     "text": [
      "\n",
      "서울특별시 강남구 언주로 640 1F\n",
      "{'name': '델리아마도르 임피리얼팰리스서울', 'score': '0.0', 'doro_addr': '서울특별시 강남구 언주로 640 1F', 'jibun_addr': None, 'reviews': [], 'geometry': ['127.035884313', '37.514081394']}\n"
     ]
    },
    {
     "name": "stdin",
     "output_type": "stream",
     "text": [
      " 서울특별시 강남구 논현동 248-7 1F\n"
     ]
    },
    {
     "name": "stdout",
     "output_type": "stream",
     "text": [
      "\n",
      "서울특별시 강남구 봉은사로 150 1F\n",
      "{'name': '호텔삼정델리', 'score': '0.0', 'doro_addr': '서울특별시 강남구 봉은사로 150 1F', 'jibun_addr': None, 'reviews': [{'id': 2792, 'review': '먹어본 크림빵 중에서는 여기 크림빵이 제일 맛있다. 빵을 그다지 즐기는 편이 아님에도 불구하고 여기 크림빵은 인정! 풍부한 유지방이 입과 위장을 강타한다(ㅋㅋㅋ)', 'date': '2016.12.16'}], 'geometry': ['127.031156787', '37.505920539']}\n"
     ]
    },
    {
     "name": "stdin",
     "output_type": "stream",
     "text": [
      " \n"
     ]
    },
    {
     "name": "stdout",
     "output_type": "stream",
     "text": [
      "\n",
      "서울특별시 강남구 도산대로 117 1F\n",
      "{'name': '슈퍼막셰 커피앤델리 신사역점', 'score': '0.0', 'doro_addr': '서울특별시 강남구 도산대로 117 1F', 'jibun_addr': None, 'reviews': [], 'geometry': ['127.021238248', '37.517186152']}\n"
     ]
    },
    {
     "name": "stdin",
     "output_type": "stream",
     "text": [
      " 서울특별시 강남구 신사동 514-18 1F\n"
     ]
    },
    {
     "name": "stdout",
     "output_type": "stream",
     "text": [
      "\n",
      "서울특별시 강남구 논현로106길 54 1F\n",
      "{'name': '델리또치킨24시', 'score': '0.0', 'doro_addr': '서울특별시 강남구 논현로106길 54 1F', 'jibun_addr': None, 'reviews': [], 'geometry': ['127.038748576', '37.507142384']}\n"
     ]
    },
    {
     "name": "stdin",
     "output_type": "stream",
     "text": [
      " \n"
     ]
    },
    {
     "name": "stdout",
     "output_type": "stream",
     "text": [
      "\n",
      "서울특별시 강남구 논현로38길 22 2F\n",
      "{'name': '리츠델리피자', 'score': '0.0', 'doro_addr': '서울특별시 강남구 논현로38길 22 2F', 'jibun_addr': None, 'reviews': [], 'geometry': ['127.043324174', '37.485222456']}\n"
     ]
    },
    {
     "name": "stdin",
     "output_type": "stream",
     "text": [
      " 서울특별시 강남구 역삼동 656-19 2F\n"
     ]
    },
    {
     "name": "stdout",
     "output_type": "stream",
     "text": [
      "\n",
      "서울특별시 강남구 압구정로 151 1F\n",
      "{'name': '신전떡볶이 강남압구정점', 'score': '0.0', 'doro_addr': '서울특별시 강남구 압구정로 151 1F', 'jibun_addr': None, 'reviews': [{'id': 2808, 'review': '맛이 너무 들쭉날쭉', 'date': '2019.12.31'}], 'geometry': ['127.025327875', '37.526968228']}\n"
     ]
    },
    {
     "name": "stdin",
     "output_type": "stream",
     "text": [
      " 서울특별시 강남구 압구정동 426 1F\n"
     ]
    },
    {
     "name": "stdout",
     "output_type": "stream",
     "text": [
      "\n",
      "서울특별시 강남구 남부순환로359길 27 1F\n",
      "{'name': '신전떡볶이', 'score': '0.0', 'doro_addr': '서울특별시 강남구 남부순환로359길 27 1F', 'jibun_addr': None, 'reviews': [{'id': 2812, 'review': '완전 맛있네요 매운거 못드시는 분들은 안 매운거 시켜서 드시고 같이간 친구들도 그렇고 저도 그렇고 김밥보단 참치마요덮밥이랑 국물이 비벼 먹는게 더 맛있었어요 ㅋ 좁으니까 포장이나 배달도 괜찮을듯..', 'date': '2016.03.30'}], 'geometry': ['127.035900454', '37.486508757']}\n"
     ]
    },
    {
     "name": "stdin",
     "output_type": "stream",
     "text": [
      " 서울특별시 강남구 도곡동 950-8 1F\n"
     ]
    },
    {
     "name": "stdout",
     "output_type": "stream",
     "text": [
      "\n",
      "서울특별시 강남구 선릉로111길 11 1F\n",
      "{'name': '로칼커피 선정릉역점', 'score': '0.0', 'doro_addr': '서울특별시 강남구 선릉로111길 11 1F', 'jibun_addr': None, 'reviews': [{'id': 2815, 'review': '오 첫 리뷰인가...LOKAL커피 체인인듯 함. 이 자리 까페 왜 싼지 모르겠지만 쌈. 아메리카노 3000원, 라떼 3500원, 싱글오리진/아인슈패너 5000원, 로스팅을 직접 하셔서 커피가 맛난 듯한 느낌적인 느낌. 인스타 갬성이라 테이블 낮음, 평일에 사람 엄청 많음. 라떼 우유 비린 맛이 났는데 원래 우유 비리긴 하나 다시 생각해보니 일부러 안 섞어먹어서 그런 듯 하다. 에스프레소랑 우유 섞어마시면 얼음 녹으면서 점점 맛이 변한다며 섞어 마시지 말래서 안 섞어 먹었더니 그런거겠거니 (여기 말고 다른 바리스타피셜...)', 'date': '2019.05.11'}], 'geometry': ['127.042598154', '37.510601561']}\n"
     ]
    },
    {
     "name": "stdin",
     "output_type": "stream",
     "text": [
      " 서울특별시 강남구 논현동 278-2 1F\n"
     ]
    },
    {
     "name": "stdout",
     "output_type": "stream",
     "text": [
      "\n",
      "서울특별시 강남구 봉은사로 438 1F\n",
      "{'name': '매머드익스프레스 봉은사로선정릉점', 'score': '0.0', 'doro_addr': '서울특별시 강남구 봉은사로 438 1F', 'jibun_addr': None, 'reviews': [{'id': 22804, 'review': '스시키에서 나와 근처에서 커피 한 잔을 마실까 싶던 차에 전에 지나치면서 보고 망플에 등록도 했던 여기 매머드 익스프레스 봉은사로 선정릉점에 들러봄.  매머드 익스프레스의 커피는 맛은 흔한 스벅 정도의 맛은 되면서 볼륨감과 가격이 좋아 좋아하는 가겐데 키오스크에서 콜드브루 라지 사이즈를 주문함.  금방 준비되서 받아 들고 가게를 나와 한 입 빨아 마시니 콜드브루는 물과 희석을 안 하는 줄 알았는데 뭔가 물과 희석한 듯 깔끔한 맛과는 별개로 비교적 밋밋한 맛이어서 오늘은 좀 별로네 함.  오늘 경험은 별로의 느낌에 가깝지만 그래도 보통은 좋고 가격이 좋아 괜찮다로.. 2022-07-04', 'date': '+3'}], 'geometry': ['127.047844122', '37.511200854']}\n"
     ]
    },
    {
     "name": "stdin",
     "output_type": "stream",
     "text": [
      " 서울특별시 강남구 삼성동 114-1 1F\n"
     ]
    },
    {
     "name": "stdout",
     "output_type": "stream",
     "text": [
      "\n",
      "서울특별시 강남구 강남대로94길 15 2F\n",
      "{'name': '만랩커피 강남역점', 'score': '3.5', 'doro_addr': '서울특별시 강남구 강남대로94길 15 2F', 'jibun_addr': None, 'reviews': [{'id': 20679, 'review': '강남역에서 넓고 콘센트 많은 카페라고 해서 간건데 생각보다 규모가 작고 콘센트도 많지 않아 당황했어요.. 그래도 커피가 생각보다 저렴한게 장점인 듯. 스페셜티 원두를 쓰고 선택지도 많은 것까지도 좋아요. 근데 향이 너무 안 나서 원두 이름 적어놓은게 약간 민망쓰~', 'date': '2022.02.22'}, {'id': 20680, 'review': '강남에서 작업하기 좋은 카페:-)  한참 강남에서 일끝나고 학원다닐때 시간 때우려고 종종 갔었던 카페예요. 강남역 11번 출구 부근에 있는 카페입니다.  가게도 넓은 편이고 강남역 부근 치고 자리도 널널해서 눈치 안보고 작업하거나 공부하기 괜찮은 곳입니다. 빈브라더스는 가끔 만석일 때가 있는데 그럴때 가요 ㅋㅋ 저는 항상 아이스 아메리카노만 주문했었는데 사실 커피 맛은 그냥 무난합니당..ㅋㅋ  강남 주변에서 카페에 자리 없을 때 유용해요. 하지만 저는 요즘 강남역 자체를 잘 안가서.. 재방문의사△', 'date': '2021.08.24'}, {'id': 20681, 'review': '근처에 모임이있어서 가게 된 곳! 가격도 착하고 양도 많고!! 치즈케이크가 진짜 존맛탱!!!!!! 강력추천 하고싶습니다!!!!!!주말에 또 가서 치즈케이크 먹을꺼에요~~사장님 항상 밝으시고 넘 친절해요!!', 'date': '2020.10.23'}, {'id': 20682, 'review': '4/5  짤막히만 먼저 적자면 강남에서 저렴한 가격, 괜찮은 맛, 낮지않은 천장높이, 많은 콘센트. 부담없이 친구들이랑 혹은 혼자 작업할 때 오기 좋음 데이트로는 분위기로 오는게 아니라서 쏘쏘할듯? 강남역과 가까워서 좋음  자세히 적어보자면 커알못이다 보니 카페를 찾을 때 부수적인 게 중요하게 와닿는다 스페셜티 원두를 쓴다는데 가격이 좀 너무 심히 낮아 의구심은 듬 그렇지만 내부가 깔끔 깨끗, 화장실 좋음 노트북을 안써서 와이파이 속도를 모르는게 조금 아쉽 ㅠ 테이블 간격은 바깥자리(콘센트 있는) 넓진 않음. 일요일 1시 반에는 1/3차있었는데 3시 기준 절반 차있음. 이정도면 적당햇음. 근데 거의 다 차니까 시끄러움ㅋㅋㅋ  아인슈패너 같은 경우는 너무 쓰지도 달지도않은 아래의 커피와, 적당한 달달함과 쫀득함이 있는 크림층. 커피가 좀 더 진해도 좋을 듯 싶지만 충분히 만족스러웠다. 3900원의 가격치고 (주문시 잔(양)이 작은데 괜찮냐 물어봄) 이정도 퀄리티면 괜찮음. 누구에게 먹으러 가라고 추천하진 않겠지만 개인적으로는 다시 와서도 재주문 의사 있음. 이태원 만랩커피는 지하가 갬성갬성해서 괜찮네 했던거같은데 그런 느낌은 아님 무튼 강남에서 현재 맘 속에 괜찮은 카페가 몇 없는데(3개...) 하나 추가되었다 2019-07-07', 'date': '+9'}, {'id': 20683, 'review': '저렴한 가격에 좋은 원두를 사용하는 만랩. 지점을 늘리기 전에 이태원 어딘가를 헤매이다가 마셔보고 괜찮은 곳이다 생각했었는데요. 강남역에 있길래 들어가 봤습니다(사실 ‘두씨형제’강남점 커피를 마시려고 찾다찾다 못찾고). 평소에 중남미 원두를 선호하고 에티오피아 아리차 예가체프 코케허니 시다모 전부 좋아하다보니 싱글오리진 메뉴 중에 에티오피아를 선택. 코체레는 아마도 단일로는 처음 마셔보지 않았을까 싶은데 에티오피아산 마셔본 모든 품종 중에 산미가 가장 강하고 호불호 갈릴 맛이군요. 굉장히 느끼한 걸 먹고난 뒤에 마셔서 잘 마셨지만 공복이나 평상시에는 다른 걸 선택하게 될 예정...ㅋㅋ(뭐 하기야 커피취향은 주기적으로 돌고돌긴 하겠지만 그래도 대체로,당분간) 만랩 이태원은 미술관 느낌에 데이트하는 사람들이 많았고 을지로2가는 통유리에 휴식을 취하는 분위기였다면 여긴 (저 빼고)모두가 스터디 중...2층의 조용한 분위기였습니다. 2019-03-11', 'date': '+4'}, {'id': 20684, 'review': '넓고 강남역에서 가깝고 가격도 싸서 기대안했는데도 너어무 고소하고 맛있는데다가 용량도 큰 라떼까지ㅎㅎㅎㅎㅎ 주말이라서 사람이 너무 많았던 거만 빼면 정말 좋았다 앞으로 자주 방문하게될듯!', 'date': '2018.05.14'}, {'id': 20685, 'review': '밀크티랑 티라미수먹었는데 제 취향은 아니네요...... 너어어어어무 과하게 달아요...... 그나마 둘 중엔 밀크티가 나아요 티라미수는 와우...그냥 샤니빵 위에 코코아가루 뿌린 느낌 .. . .. 수수커피 가려다가 새로운 곳 방문해보자 하고 온건데 그냥 수수커피갈껄....ㅎ 밀크티가 가격대비 양은 많아요..  ', 'date': '2018.05.13'}, {'id': 20686, 'review': '마망갸또 갔는데 자리가 없어서 돌아다니다가 무작정 들어온 \"만랩커피\". 리뷰 쓸 때서야 만랩커피라고 읽는 다는 것을 알았다... 여기 은근 공간도 넓고 커피가 싸고 맛있다!! 3천원에 꽤 꼬숩한 플랫화이트를 먹을 수 있다!! 티라미수도 내 입에는 맛있었당! 시트가 꽤 촉촉하고 크림산이 높다. 근처에서 밥먹고 들릴 카페로 추천! 담엔 사람들이 많이 마시고 있던 말차어쩌고를 먹어봐야지.', 'date': '2018.02.22'}, {'id': 20687, 'review': '안달아서 조아따... 마차의 부드러운 맛이 좋았다.', 'date': '2017.10.19'}, {'id': 20688, 'review': '우지말차플랫? 먹었어요. 뭔가 이름이 더 길었는데 생각이 안나네요. 요즘 플랫화이트 먹으면 손바닥 높이의 작은 잔에 주듯이 이 음료도 작은 테이크아웃잔에 나오는데 왠지 귀엽더라구요. 맛도 달달하고 말차맛이 나는게 마음에 들었어요! 양 많으면 배부르니까 식후에 가벼운 입가심으로 좋을 듯해요.', 'date': '2017.07.13'}], 'geometry': ['127.028574265', '37.499653046']}\n"
     ]
    },
    {
     "name": "stdin",
     "output_type": "stream",
     "text": [
      " 서울특별시 강남구 역삼동 818-11 2F\n"
     ]
    },
    {
     "name": "stdout",
     "output_type": "stream",
     "text": [
      "\n",
      "서울특별시 강남구 도곡로17길 29 1F\n",
      "{'name': '커피플라이', 'score': '0.0', 'doro_addr': '서울특별시 강남구 도곡로17길 29 1F', 'jibun_addr': None, 'reviews': [{'id': 3101, 'review': '여긴 배민으로 시켜먹는거랑 가게에서 먹는거랑 가격 차이가 없어서(심지어 배민으로 주문하면 서비스도 있음 ㅋㅋ) 직접 가서 먹으면 손해보는 기분이 많이 들었다 ㅋㅋ', 'date': '2016.12.21'}, {'id': 3102, 'review': '복잡한 강남역이 싫다면 추천. 조용한 주택단지에 있어 책읽기 좋은 곳. 커피도 배달이 가능하고 가격도 저렴한데 양도 많다.', 'date': '2016.06.04'}], 'geometry': ['127.036654768', '37.493285467']}\n"
     ]
    },
    {
     "name": "stdin",
     "output_type": "stream",
     "text": [
      " \n"
     ]
    },
    {
     "name": "stdout",
     "output_type": "stream",
     "text": [
      "\n",
      "서울특별시 강남구 봉은사로4길 23 2-3F\n",
      "{'name': '까치양조장 강남점', 'score': '0.0', 'doro_addr': '서울특별시 강남구 봉은사로4길 23 2-3F', 'jibun_addr': None, 'reviews': [{'id': 4518, 'review': '떡볶이파스타가 진짜 너무 떡볶이소스다..^^ 나는 그저 매콤한 로제파스타 같은게 먹고샆엇는데 떡볶이국물에 떡빼고파스타 넣은 맛.. 과자중에 떡볶이과자가 잇는데 그거랑 똑같은 향이다 ㅠ ㅋㅋ 좀 싸구려파스타맛 같앗다', 'date': '2021.10.01'}, {'id': 4519, 'review': '모임하기 좋은 곳!!', 'date': '2020.05.03'}, {'id': 4520, 'review': '분위기 좋고 친절한데 음식은 그닥 맛있진 않았음...', 'date': '2019.12.25'}, {'id': 4521, 'review': '강남역에 분위기 좋은 와인바 찾기 은근 힘든데 여기는 안에가 예쁘더라구요! 워낙 꽃도 많고 예쁘게 꾸며놔서 cf같은 것도 종종 찍고 대관도 많이 한다고 해요. 플레이트 맛있었고 와인은 가격에 비해 (한 잔 5000-7000원 정도) 마실만 했어요 :)', 'date': '2019.12.15'}, {'id': 4522, 'review': '결론: 분위기 괜찮다. 글라스로 와인 시킨다면 가성비좋다. 그러나 영수증을 잘 확인하자.  처음 갔을때, 예쁘고 아늑한 분위기가 좋았어요~ 그리고 글라스와인이 저렴해서 가격에 놀랐고요. 하지만 글라스 와인은 맛이 좋지는 않았고, 안주류는 작고귀여운 크기였답니다. 딱 두명이서 저녁식사 후 앞에두고 먹기 좋을 정도. 병으로 시키면 맛이 조금 더 나았어요. 결정적으로 마지막에 주인으로 보이는 분이 계산실수를 했는데, 카드 들고 오면 취소해준다고 말하고 사과가 없어서 좀 의아했어요.', 'date': '2019.11.29'}, {'id': 4523, 'review': '저렴하게 와인한잔하기 좋아요', 'date': '2019.09.25'}], 'geometry': ['127.026707956', '37.503299243']}\n"
     ]
    },
    {
     "name": "stdin",
     "output_type": "stream",
     "text": [
      " \n"
     ]
    },
    {
     "name": "stdout",
     "output_type": "stream",
     "text": [
      "\n",
      "서울특별시 강남구 압구정로4길 11 1F\n",
      "{'name': '패티앤베지스', 'score': '4.6', 'doro_addr': '서울특별시 강남구 압구정로4길 11 1F', 'jibun_addr': None, 'reviews': [{'id': 4649, 'review': '망플 수제버거 맛집 1등(?)에 당당히 이름을 올리고 있는 패티앤베지스 드디어 방문을 하게 되었다!  패티앤베지스의 현재 대표메뉴이자 가장 유명한 메뉴는 더블딥블루치즈버거일 것이다. 패티앤베지스는 햄버거에서 패티의 중요성을 강조하며 이름은 패티와 야채의 균형을 잡겠다는 의미를 그리고 더블딥 버거는 이벤트성으로 한시적으로 우리 패티가 이토록 좋다!!!!를 주장하기 위해 만든 버거가 성공하며 만들어진 대표메뉴라고 한다.  방문 전에 사진으로 내부사진을 봤을 때는 되게 힙한 느낌이 강해보였는 대 실제로 방문하니 리모델링을 했는 지 그런 느낌을 찾기는 어려웠고 고급스러운 버거집의 느낌이 나는 식당이었다.  방문해서 당연히 대표메뉴인 더블딥 블루치즈버거와 베이컨치즈버거를 시켰다. 더블딥 치즈버거는 번에 무식하게…. 오직 패티 2장을 끼워둔 버거로 여기에 블루치즈를 뿌려서 먹는 버거다. 패티는 듣던 대로 고기를 너무 잘게 갈지 않아서 적당히 씹는 맛과 겉은 바삭하게 구우면서 속은 육즙이 살아있는 최고의 패티였다. 하지만 첫입 두입까지는 끝내주는 패티맛으로 최고였지만 갈수록 패티가 식고 또 과도한 지방으로 고지혈증…. 걸릴 것 같은 맛이었다. 그래도 뒤에도 못 먹을 맛은 아니었고 맛은 좋았다.  전체적으로 맛있는 최고의 수제버거 맛집이었지만 클래식한 버거를 먹어야 객관적인 비교가 가능할 것 같다. 현재로서는 아직 파이어벨의 레오버거를 능가하는 맛은 아니었다.', 'date': '2022.11.29'}, {'id': 4650, 'review': '매장이 클래식한 분위기로 너무 예쁘게 돼 있어서 놀랐어요! 테라스도 있어서 선선한 계절엔 더 좋을 것 같아요ㅎㅎ  버거는 야채 없이 오직 고기 패티만 있으면서, 버거에 치즈를 찍어 먹는 딥버거로 주문! 육즙 좔좔 고기 패티가 너무 맛있었어요ㅠㅠ 근데 제 입맛에는 이미 짭짤해서 치즈는 잘 안 찍어 먹게 되더라고요. 그리고 안 찍어 먹어도 맛있기도 하고요ㅋㅋ 치즈는 체다랑 에멘탈 골랐는데 에멘탈이 훨씬 좋았어요!  베이컨치즈버거도 맛있긴 하지만, 역시 고기 패티만 있는 게 훨씬 맛있어요ㅋㅋㅋ 2022-11-24', 'date': '+2'}, {'id': 4651, 'review': '여기 재미있어...  딥버거 ( 싱글딥, 블루치즈): 여기는 버거 번이 촉촉하고 부드럽고 버터리한 브리오슈번 아니고 약간 쫀쫀한 곡물?빵이네요. 저흰 싱글딥으로 해서 패티 한 장이었어요. 패티는 고기 잡내도 없고 쥬이시한 편이었고 촉촉하면서 부드럽고 씹는 맛도 어느정도 있더라고요. 블루치즈 딥은 생각보다 블루치즈의 꼬릿한 향이 강하지 않아서 무난히 잘 먹을 수 있었어요.  아보카도살사버거볼(비프): 바닥에는 곡물이 깔려있고 병아리콩, 채소, 구운 버섯, 브로콜리 등이 있었다. 아보카도와 토마토살사도 있어서 매우 실해요. 제 취향입니다. 이것저것 먹을 수 있어서 참 좋아요. 곡물 식감도 좋고, 패티야 뭐 말모말모  칠리치즈프라이즈(미니해쉬): 감자튀김 저세상 바삭함입니다. 완전 바삭 바삭해요. 이렇게 바싹한 해쉬는 처음이여... 칠리소스는 안느끼하고 감칠맛 좋았고!! 사워크림이랑 같이 먹어도 느끼하지 않더라고요.  다 잘 먹고 가게를 나왔는데, 갑자기 에어드롭으로 4장의 사진이 왔어요. 저희가 시킨 메뉴들 사진인데 주방에서 찍은 구도였어요. 왜 줬는지는 모르겠지만 감사해요. 너무 재미있네요. 오픈런해서 주셨나, 우리가 너무 열정적으로 햄버거 사진을 찍어서 주셨나. 재미있군요.ㅋㅋ 2022-11-23', 'date': '+7'}, {'id': 4652, 'review': '버거 치고 가격대가 나간다 싶었는데 패티가 스테이크만큼 두껍다! 식당이름 패티 앤 패티로 바꿔야 할 듯  머쉬룸 버거:  버터에 지글지글 구운 번, 캐러멜라이징한 양파와 구운 버섯, 미디엄레어로 구워진 두툼하고 짭짤한 패티, 크리미하지만 할라피뇨가 가미되어 느끼하지 않은 화이트 소스. 한입 베어물자마자 육즙이 입 안 가득 차고 곧이어 모든 재료들이 조화롭게 어울린다! 거기에 미쿡이 생각나는 엄청난 염도ㅎㅎ 개인적으로 후추를 더 가미해 먹는 것이 덜 느끼했다.  아보카도 살사 버거:  아보카도와 토마토를 도톰하게 썰어넣은 살사가 가득한 아보카도 살사 버거~ 살사의 신선함이 패티의 느끼함을 완전히 잡아줘서 맛의 균형과 식감이 좋다. 고수를 싫어하는데 여기 들어가는 건 상큼하고 거부감이 없었다.  가격에 비해 버거가 작다고 생각했는데 오산이었다. 배고픈 상태의 중식가 두명(대식가까지는 아니므로…)이 갔는데도 든든히 배 채우고 왔으니 말이다. 작지만 강한 녀석들!  다른 종류의 버거 모두 먹어보고 싶을 만큼 만족스러운 곳이다.', 'date': '2022.11.22'}, {'id': 4653, 'review': '점심 때 우연히 지나가다 오래전에 가고싶다 눌러둔게 생각나서 들어갔는데 패티도 번도 정말 인상적이었던 패티엔베지스. 저는 베이컨치즈버거, 일행은 클래식버거 고르고 칠리치즈프라이도 함께 주문!  패티의 두께와 흘러나오는 육즙도 남달랐지만 입안에서 고기입자가 씹히는게 두드러지게 느껴질만큼 컸던 패티는 처음이라 놀랐어요. 과장 더해서 스테이크 먹는 것 같더라구요? 번도 부드럽고 쫄깃한 버터리한 브리오슈번이라 맛있었구요, 그릴드 정도도 아니고 아예 카라멜라이즈 된 양파가 들어있어서 치즈, 베이컨과의 조합이 단짠단짠 좋았습니다.  소스는 마요네즈와 함께 치미추리 소스같은게 들어가 있는 것 같았는데 정확히는 모르겠네요~ 무튼 전체적인 맛도 소스 합도 좋았어서 만족! 그리고 제가 아메리칸 피클을 싫어해서 햄버거든 샌드위치든 피클은 죄다 빼고 먹는데, 두툼한 패티와의 조화 너무 좋아서 최초로 안빼고 먹었습니다..ㅋㅋㅋ 딥치즈버거랑 고민했는데 후회없어요! 프라이에 올라가는 칠리도 맛있더라구요ㅎㅎ  신선한 채소는 하나도 없지만ㅋㅋㅋ 패티 자체가 채소보다는 치즈나 구운양파가 들어있는 묵직한 스타일의 조합이 훨씬 더 어울릴 것 같다는게 제 생각이에요. 육즙 가득한 치즈버거가 드시고 싶은 날 추천드릴게요 ◡̎', 'date': '2022.11.02'}, {'id': 4654, 'review': '10월 10일 방문, 오후 6시 이전에 갔을 땐 4테이블 정도 차있었는데 메뉴 나오고나서 보니까 테이블이 꽉 차있었다.  베이컨치즈버거(12.9), 머쉬룸치즈버거(닭 패티로 변경, 11.9)와 미니 해쉬(4.9)를 주문. 음료로는 펩시제로(2.5)를 골랐다. 미니 해쉬는 그냥 테이터 탓츠 아닌가 싶었는데 식감이나 맛은 비슷했던 듯.  일단 여기 버거는 번부터가 맛있었다. 베이컨치즈버거의 패티는 소고기 100% 패티이긴하나 다른 곳의 소고기 패티와 그렇게 많이 차이나지 않는다 느꼈고 맛을 가르는 건 번이 아니었을까 싶다. 소고기 패티의 육향과 베이컨이 잘 어울렸고 수분 또한 풍부해서 전혀 퍽퍽하지 않았다. 머쉬룸치즈버거는 그릴드 치킨이 패티였는데 베이컨치즈버거의 소고기 패티에 거의 밀리지 않는 맛이었다. 딱 먹고 드는 생각은 닭이 소고기에 뒤지지 않을 수가 있구나 싶었다.  재방문의사 있음.', 'date': '2022.10.19'}, {'id': 4655, 'review': '폭력적인 맛. 밸런스는 갖다 버리고 파워로 때려 부수는 버거다. 프로레슬링으로 비유하자면 숀 마이클스, 크리스 제리코, AJ 스타일스 같은 테크니션이 아닌, 골드버그, 브록 레스너, 케인 같은 파워하우스를 보는 느낌이랄까. -------- ♤ 더블 딥 버거 (블루 치즈) (13,900₩) 가게의 이름이 잘못됐다. 패티 앤 베지스가 아닌, 패티 앤 패티로 명명해야 되지 않을까 싶다. 스모키한 향이 뿜어져 나오며, 육즙이 뚝뚝 흐르는 헤비급 패티에는 빵 외에 다른 고명이 필요 없다. 빵도 뭐 사실 손잡이 정도의 의의가 있다. 여기에 느끼하고 꼬릿한 블루 치즈까지 끼얹고 한 입 물어 뜯으면, 초크슬램을 얻어맞은 듯한 짜릿한 감각이 온 몸을 타고 흐른다. 난 적어도 아직까지는 우리나라에서 이 맛을 넘볼 버거는 만나지 못했다.  ♤ 칠리 치즈 프라이 (해쉬) (7,900₩) 칠리 치즈 프라이도 빼먹어선 안 될 메뉴이다. 여기서 한 가지 팁이 있다면, 프렌치 프라이를 해쉬로 바꿔서 먹을 수 있다. 특히 배달시킬 때는 프라이보다 해쉬를 추천하는데, 배달와서도 눅눅해지거나 식지 않아 맛이 잘 유지된다.  ♤ 제로 펩시 (2,500₩) 요즘 내 인생에서 빼놓을 수 없는 제로 칼로리 음료. 제로 코크는 라임 펩시가 진리다. -------- 올해 상반기, 패티 앤 베지스 배달이 오는 곳에서 일해서 행복했다... 2022-10-16', 'date': '+13'}, {'id': 4656, 'review': '.', 'date': '2022.09.25'}, {'id': 4657, 'review': '분위기 좋고 야채없이 패티와 치즈만 선택해서 버거로 먹을 수 있는 것도 특이하고 무엇보다 맥앤치즈가 짱 2022-09-24', 'date': '+1'}, {'id': 4658, 'review': '고기와 채소. 패티앤베지스. 전에도 추천받았지만 들릴 기회가 없어 미루다 날 잡고 방문한 가게. 가게의 이름부터 패티에 대한 뜨거운 진심이 느껴지는 곳이다. 주문한 버거는 싱글딥+에멘탈 치즈. 패티의 사이즈를 키우거나 갯수를 추가할 수도 있었지만 첫 도전이라 베이식한 아이로 도전하기로 했다. 치즈는 4종류가 있었는데 체다, 에멘탈, 블루, 머스터드?가 있었다. 고민하다 에멘탈을 골랐다. 7시에 방문해 웨이팅은 없었고, 약간의 기다림 끝에 버거를 받았다. 상상 이상의 버거가 나왔다. 정말 딱 번 패티 번 그리고 디핑치즈. 굉장한 비쥬얼에 놀라고 좋은 패티의 향에 두 번 놀랐다. 이런 패티를 구우면서 가게 내부로 고기 냄새가 퍼지지 않게 하는 환기 시스템에 놀라움 마음을 갖으며 치즈를 부었다. 치즈는 생각외로 꾸덕해서 쭈욱 흐르는 그런 텍스쳐는 아니였다. 오히려 덩어리 진 느낌. 버거를 한 입 물자마자 느꼈다. 달라도 다르다. 따뜻하고 육즙이 풍부하며 육향, 식감, 번의 맛부터 치즈까지 뭐 하나 떨어지는 구석 없이 완벽한 조화를 이룬다. 버거를 먹는 것이 아닌 패티를 육즙까지 다 먹기 위해 번을 잡고 먹는 그런 기분이다. 고기를 좋아하고 버거를 좋아한다면 과연 싫다할 수 있을까 싶은, 여태 먹어본 버거 중 손 꼽히게 만족도가 높았던 그런 식당이다. 사진만 보고 마음에 알 수 없는 죄책감을 느끼며 방문을 미루던 내가 후회되는 순간이였다. 따지고 보면 그냥 치즈버거와 크게 다를 것도 없는데 말이다. 만족스럽게 버거를 먹는 도중 작은 조명을 직원분이 가져다 주셔서 뭐지 하던 찰나에 가게 조명이 꺼지며 분위기는 배가 됐다. 뭐 하나 빠지지 않는 식당이다. 술을 좋아한다면 버맥하기 이만한 장소가 있을까 싶다. 다음 방문엔 어떤 조합으로 먹어야할지 고민하며 버거를 마무리했다. 너무나 만족스러웠고, 버거에 진심, 패티에 진심, 특히 평소 치즈버거를 선호한다면 꼭 방문해봐야할 집이다.', 'date': '2022.06.28'}, {'id': 4659, 'review': '혜성처럼 등장해 선풍적인 인기를 끌은 수제버거집. 가고 싶긴 했었는데 홀릭이셨던 샤이님께서 추천해준 후배를 형이라고 불렀다는 소리에 찾게 되었다.  일단 가장 기본적인 버거 스타일로 먹었는데 ..? 그정돈 아닌거 같은데? 하며 일단 흡입. 밸런스는 좋지만 딱히 크게 맛있다고 느끼진 않았는데 이곳의 진가는 딥치즈소스에서 나온다. 약간의 모자란 맛을 치즈가 보충해주면서 육즙과 육향이 폭발하는 패티의 개성이 인상적이다. 야채에 가려졌던 패티의 맛이 중심이 되는 이 스타일로 먹어야 이걸 느낄 수 있음. 이름이 패티앤베지스인데 베지가 별로인 안타까운... 개인적으로 2021 햄버거 No.1 이었음.', 'date': '2022.06.08'}, {'id': 4660, 'review': '강남권에서 최애 버거집입니다 못온 사이에 인테리어도 엄청 고급지게 바뀌었네요 햄버거 & 와인 진리인데 사장님 복받으세요 컵와인이라도 감지덕지 기분좋게 낮술 고고 패티 육즙이 미친맛인 버거집입니다 꼭 방문해서 드셔보시길 고기고기한 메뉴도 좋고 버섯들어간거도 추천', 'date': '2022.06.04'}, {'id': 4661, 'review': '여기는 패세권... 패티앤베지스가 배달이 되어서 주문해 보았다.  ♤ 하와이안 와사비 (10,900₩) ♤ 더블 딥 버거 (13,900₩) ♤ 미니 해쉬 (4,000₩) ♤ 치즈 칠리 프라이 (7,900₩)  매장 방문시에는 대부분 더블딥 버거를 먹었는데, 배달 주문하면 딥이 식을까봐 다른 버거를 시켜봤다. 그런데 딥소스는 사실 전자렌지에 돌려먹으면 되니 그냥 더블딥 버거를 시키자.  일반 버거 중에선 호평이 많았던 하와이안 와사비를 시켜 봤는데, 와사비 소스가 패티엔베지스 특유의 숯불맛 나고 촉촉한 패티와 은근 잘 어울렸다. 패티야 뭐 말할 것도 없이 훌륭하고, 베이컨도 맛있었다. 그렇지만 역시 근본은 더블 딥 버거에 블루 치즈다.  치즈 칠리 프라이는 처음 먹어 봤는데, 소스 맛이 기가 막힌다. 혈관도 막히겠지만... 프라이를 해쉬로 변경하는 옵션이 있으니 시도해보자. 2022-05-22', 'date': '+2'}, {'id': 4662, 'review': '고기에 진심인 햄버거전문점. 두툼하지만 질기지 않고 육즙 가득한 짭짤한 패티. 생양파와 겨자잎으로 풍미를 더하고, 토마토는 쥬시한 맛과 산미를 더해 밸런스 좋은 기본 버거를 판다. 패티에 자부심이 느껴지는 곳 답게 두툼한 패티 두 장으로 꽉 채운 버거도 있고, 토마토나 양파가 들어간 햄버거를 좋아하지 않는 느끼한 버거파 들이 만족할만한 머쉬룸버거 등도 판매한다. 첫 입은 정말 강렬하다. 짭짤하고 육즙 폭발하는 패티와 부드러운 버거번, 아삭하고 상큼한 토마토, 양파, 겨자잎의 밸런스가 너무 좋았다. 그렇지만 먹을수록 당기는 감칠맛 보다는 밸런스에만 집중한 듯한 느낌에 아쉬운 부분도 있다. 가로수길에서 햄버거를 찾는다면 단연 이 곳을 떠올리겠지만 햄버거를 너무 좋아하는 나로서는 다른 선택지도 매력적이다!', 'date': '2022.04.22'}, {'id': 4663, 'review': '베이컨 토마토 버거 먹었고 제 입맛엔 조금 짰지만 워낙 싱겁게 먹는 사람이라..아마 외식 즐겨하시는 분들껜 딱 좋을 맛일거에요 녹진한 치즈의 풍미랑 달콤버터리한 번이 너무 맛있었어요! 다음에는 클래식한 버거나 아보카도로 먹어보려고요!', 'date': '2022.03.20'}, {'id': 4664, 'review': '딥버거 주문 다양한 수제버거집을 가봤지만, 이곳은 확실히 패티가 남다름  2번방문 머쉬룸 버거 주문 역시 맛있음 2022-03-15', 'date': '+1'}, {'id': 4665, 'review': '짱 두꺼운 번과 짱 두꺼운 패티가 만드는 입속의 축제  수제버거집들을 다니다 보면 포크와 나이프로 썰어먹는 형식이 많은데 개인적으로는 버거는 수제든 아니든 두 손으로 쥐고 크게 한 입 베어물어야 한다고 생각하는데 이곳의 버거는 정말 두 손으로 쥐고 야무지게 한 입 베어먹기에 완벽한 크기여서 매우 만족스러웠다.  번과 패티가 매우 두꺼워서 베어물기 어려워 보이지만 생각보다 크기가 컴팩트하고 번이 부서지는 빵이 아니고 쫀득한 식감에 찰기가 있어 잘 부서지지 않기 때문에 가루가 날리지 않아 먹기에 부담이 없다. 그러나 번은 정통적인 버거빵 번을 좋아하는 사람도 있을 것이라 호불호는 갈릴 수 있겠다.  종류가 아주 많진 않았지만 모두 맛있어보여 배 용량 한계인 3개까지 억지로 먹었는데 모두 패티와 구성 재료의 조화가 뛰어나 흠을 잡을데가 없었다. 버거 속 재료들이 작은 버거 크키에 비해 가득 들어있어 아주 만족스러웠다.  머쉬룸치즈의 입안 가득 담기는 치즈와 버섯의 맛도 좋았고 아보카도살사의 뭉큰~한 아보카도 맛도 좋았지만 개인적으로는 하와이안 와사비를 최고로 꼽았는데 그릴드 패티외 파인애플이 훈제향의 기분좋은 기름끼를 품고 있어 처음 베어물었을 때 육즙과 과즙이 입안에 느끼하게 들어오는데 그 때 갑자기 이게 뭐지? 싶은 와사비가 입안을 상쾌하고 깨끗하게 정리해준다. 이렇게 느끼하면서 깔끔한 맛은 처음 느껴봐서 그 완벽한 조화에 박수를 쳐주고 싶을 정도였다.  이곳은 기억해 뒀다가 모든 메뉴를 다 먹어볼 때까지 여러번 들릴 예정이다.', 'date': '2022.01.10'}, {'id': 4666, 'review': '점심이 너무 늦어져서 급하게 브레이크 타임 없는데 찾아서 갔었음 알고보니 유명한 곳이었고,,, 클래식과 사워크림살사를 주문 둘 다 엄청 맛있었다...', 'date': '2022.01.07'}, {'id': 4667, 'review': '패티앤베지스가 아니라 패티앤패티.  ♤ 더블 딥 버거 (블루 치즈) (12,900₩) + 베이컨 찹 추가 (400₩)  마치 함박스테이크를 보는 듯한 압도적인 두툼함의 패티가 특징이다. 그런데 그게 두 개. 번은 개인적으로 내 취향은 아니지만, 패티의 맛만 놓고 보면 여기를 따라올 곳이 없다고 생각한다. 숯불향 가득하고 육즙 좔좔 흐르는 엄청난 패티. 최근에 방문했을 때는 겉이 조금 타서 아쉽기도 했으나, 여전히 훌륭했다.  지금까지는 딥 버거만 먹어봤는데, 다음에 오면 다른 버거들도 먹어봐야겠다. 패티앤베지스에서 항상 패티만 먹고 베지스를 먹어본 적이 없네...  ★★★★ 2021-12-02', 'date': '+7'}, {'id': 4668, 'review': '#먹어서응원 여기는 진짜 강추하는 찐버거맛집 신사동에 버거집 은근 많지만 여기처럼 육즙이 풍부하고 맛있는집은 손에 꼽힌다고 봐요 햄버거 패티는 9할이 패티니까~ 야채 들어간 햄버거 좋아하지만 여기 고기고기한 햄버거도 강추입니다 머쉬룸 버거 고고', 'date': '2021.11.25'}, {'id': 4669, 'review': '양심상 5키로 뛰고 먹었습니다  *일부러 찾아갈만한가요? 그럴만하다  1. 맛 이상하게 클래식이나 딥버거보다 하와이안와사비(9,9)가 궁금하여, 그걸로.  지인은 클래식(7,9)으로 하고 미니해쉬+블루치즈딥 추가  종종 와사비가 들어간 음식을 먹으면 와사비가 그 구역의 미친X의 되어, 모든 맛을 흡수하는 현상이 생기곤 하는데... 어림도 없지 패티가 다 개패버린다.  정말 적당히를 모르는 궁극의 깡패패티.  5키로를 달려온 터라, 맥주랑 함께 한입 입에 담자마자 감탄사 폭발  가끔 진짜 음식으로 화풀이하고 싶은 날, 크게 추천할 만 하다.  해쉬브라운은 그냥 아는 맛! 블루치즈딥은 감자보다는 역시 버거랑 어울렸다(부어먹음)  2. 분위기  적당히 힙한 분위기. 각지고 네온네온. 창가자리가 기분이 좋다.  3. 총평 기왕 살찔거면, 납득이 가는 음식으로 살찌자  뭘 했다고 쪘지 우울할 바에는 패티엔베지스로 그래 찔만했다 하고 논리정연한 돼지가 됩시다  혼밥+친구+맥주한잔 올 굿!  #길티플레져 #깡패패티 #술먹기엔비싸 #포장해서한강가도좋을듯 ', 'date': '2021.11.19'}, {'id': 4670, 'review': '버거가격이 한두푼도 아니고 ㅠㅠ..패티 너무 태워서 쓴맛이 느껴져서 슬펐음 패티 구울때 더 신경써야할듯 그것만 아니면 나름 괜찮음', 'date': '2021.11.10'}, {'id': 4671, 'review': '아.. 아…. 너무 가보고싶었던 곳인데 마침내 방문했다. 두꺼운 소고기 패티가 눈에 띄였는데 고기랑 치즈만 있는 버거는 아쉽게도 사라진 것 같고 대신 머쉬룸 버거를 주문했고 친구는 과카몰리 버거를 주문했다. 과카몰리보단 버섯 버거가 훨씨이이인 더 맛있었다. 고소한 스테이크과 버섯의 궁합은 짱짱 영국에서 베스트 3 안에 드는 버거를 다 먹고 돌아왔지만 진또배기는 한국에 있었다.', 'date': '2021.09.12'}, {'id': 4672, 'review': '머쉬룸버거 먹었는데 패티가 너무 촉촉하다 신기할 정도였다 치지하고 진한 패티에 집중하고자 한다면 정말 최고의 선택일 듯 하다', 'date': '2021.09.09'}, {'id': 4673, 'review': '맛있는 수제버거가 먹고싶어서 와봤다 머쉬룸 무슨버거였는데 기억이안난다..  역시맛있다! 사실 고기 패티가 얇고 바삭한타입의 버거가 먹고싶어서 고민을 좀 했었는데 여기는 패티가 엄청 두꺼운데도 겉면이 바삭바삭해서 신기했다. 고기가 담백한 대신 버섯이 간이 있는편이라 밸런스가좋았다!', 'date': '2021.07.28'}, {'id': 4674, 'review': '패티엔베지스  오늘 갑자기 수제버거가 먹고싶어서 가로수로 날라갔다. 주말이니까 먹고싶은거 다먹고 평일에 고단함을 보상할꺼야  패티가 진짜 미치긴했다 그냥 다진고기 패티 느낌이 아니라 진짜 내가 고기 먹고 있구나를 느끼게 해주고 빵 역시 맛있다  전체적으로 햄버거가 싱거운데 치즈디핑소스를 꼭시켜먹어서 먹으면 치즈는 언제나 옳고 짠맛으로 간도 맞춰준다  원래 감튀 안좋아하는데 이집 감튀 맛있다.. 추가해서 꼭 드세요 오랜만에 제대로된 햄버거 먹으니까 다시 기분도 좋아지네', 'date': '2021.07.18'}, {'id': 4675, 'review': \"패티앤베지스_버거부문 Best  최근방문_'21년 7월  1. 어제 '맛의미학'님 리뷰를 보고 더 미룰 것도 없이 오늘 출동을 했다. 시국이 시국인만큼 매장에서 먹지는 못하고, 오픈시간에 맞춰 도착해 테이크아웃을 했다.  2. 딥버거를 너무너무 먹어보고 싶었는데, 이미 없어진 메뉴라 하고, 끝내 고른 것이 버섯치즈 버거, 시금치페스토 버거, 살사소스+사워크림 프라이즈와 체다 디핑소스를 샀다. 돌아오는 차 안에서 그 진한 육향이 퍼져.. 힘들게 참고 들어왔다.  3. 처음 한입 먹고서 눈으로 보던것.. 이상의 맛이어서 감탄할 수밖에 없었다. 1) 버섯치즈 버거 : 먼저 패티가 반칙수준이다. 여태 먹어본 버거중에 패티는 여기가 최고인것 같다.. 버섯도 구운버섯인데 생각보다 향이 강해 역시나 조화롭다. 2) 시금치패스토 버거 : 시금치패스토, 루꼴라가 패티와 같이 조화롭게 어울려 맛있다. 뭘해도 결국 최고는 패티다. 3) 살사사워 프라이즈 : 감자튀김과 소스는 이곳저곳에서 먹어보던것과 크게 다른느낌은 아니다.  4. 패티가 모든 것을 다한다. 빵사이에 딴것 다 필요없고 패티두개만 넣어줘도 맛있게 먹을수 있을것 같다. 육즙 육향 뿜뿜 터지는 이런 패티는 싫어할래야 싫어할수가 없다. 모든 버거가 다 맛있을 수밖에 없는곳이다.  ※ 결론 패티 최고 2021-07-10\", 'date': '+4'}, {'id': 4676, 'review': '✨강남권 최고의 버거맛집  -주문메뉴 : 클래식버거 8,900 (비프), 베이컨치즈버거 11,400 (비프) -추천코스 : 우유니아이스크림,마망갸또  저는 버거 먹을 때 번과 패티만 보는데요 둘다 적당히 촉촉하면서 괜찮았어요 버거 전체적으로 촉촉함이 살아있어서 목넘김도 쉽고 맛있게 잘 먹었어요 패티의 불향과 약간의 육즙도 좋았구요! 달거나 짜지도 않아서 좋았습니다! 패티가 약간 두꺼운편인데 정말 잘 구웠더라구요  아쉬운 점이 있다면 책상을 대충 닦으시더라구요 그냥 분무기 뿌리고 걸레질 쓰윽 한 번ㅠㅠ 좀 더 청결했으면 좋겠는 마음입니다!', 'date': '2021.07.09'}, {'id': 4677, 'review': 'SNS에서 본 두꺼운 패티와 흘러넘치는 치즈가 들어간 수제버거의 비주얼에 압도되어 홀리다시피 방문했다. 핫플이라 해서 웨이팅을 우려했지만 저녁 피크타임에 방문했음에도 다행히 자리가 많이 있었다. (생각보다 포장해가는 사람이 많다.)  사실..주문 방법을 잘 몰랐던 것 같다. 키오스크로 주문을 하는데, 원하는 ‘치즈 딥버거’를 못 찾아 한참 헤맸다. 결국 더 치즈버거 주문…(딥블루치즈는 추가가 불가능한 상태였다.)  막상 버거를 눈앞에서 영접하니 생각보다 커보이지 않았다. 사진으로 봤을 때는 약간 ‘헐크버거’ 느낌이었는데 그렇게까지 압도적이진 않았다. 두 장이나 들어간 패티는 육즙과 함께 불향이 강하게 베어있는데 약간 호불호가 갈릴만한 맛이었다.  기대가 컸다보니 만족보단 실망감이 앞섰다. SNS를 통해 어느 정도는 과대포장 되어 홍보된 경향이 있는 듯. 패티앤베지스보다 괜찮은 수제버거집이 훨씬 많다는 걸 알아서인지 수제버거의 신세계를 경험했다는 식의 반응이 나오지 않았다.   ℹ️ 맛: 3.5/5 가격: 더치즈버거 6.9 클래식버거 8.9 아보카도살사버거 9.9  ℹ️ 위치: 신사역 8번출구 운영시간: 11:30am-10pm 웨이팅: 없음 분위기: 아메리칸 패스트푸드점st 2021-06-13', 'date': '+3'}, {'id': 4678, 'review': '맛있어요! 채식주의자마저 고기 먹을 맛!', 'date': '2021.06.12'}, {'id': 4679, 'review': '육즙이 가득하다못해 넘쳐흐르는 찐패티 버거 찌이인한 버거를 느끼고 싶다면 여기다', 'date': '2021.05.22'}, {'id': 4680, 'review': '\"묻고 더블로 가\" Shut Up And Double Up  @주관적 평점 4.3  군침도는 압도적인 비쥬얼의 사진을 발견. 아니 잠시만, 이 존재가 서울에, 그것도 가로수길에 있다고? 익숙한 외관, 거장을 알아보지도 못하고 지나치기만 했던 내 자신이 한심해진다. 그냥 펍이겠거니 하고 이름도 안보고 지나쳤단 말이지. 미쳤구나. Spectacular figures. In Korea? Garosu-gil? So UNPREDICTABLE. I just passed it all the time, didn\\'t even try to see what the name was. Ediot.  살짝 유럽풍의 외관. 허나 내부는 다운타운 브루클린에 있을법한 펍의 분위기. 힙한 노래 속 버거를 주문한다. 흥이 절로 난다. 시그니처 메뉴는 딥소스 버거 더블딥 시리즈. Quite European exterior. But the interior felt like a hippy pub in Downtown Brooklyn. Ordering in hip musics. The typical menu in here is Double Dip line of Dip Sauce Burger.  이집 버거는 패스트푸드가 아니다. 슬로우푸드다. 조리시간이 다소 길지만 기다림의 낙이 있다. 정크푸드도 인스턴트도 아니다. 하나의 식사다. It\\'s not the Fast-food we\\'ve commonly known. It\\'s Slow-food. It was served slowly for gorgeous beef patties. So can wait even a few more minutes. I\\'d say again this is totally not a junk food. Just one proper meaty meal.  1. 더블딥 블루치즈 13,900₩ 여자 주먹만한 사이즈의 번에 튼실한 패티 두 덩어리가 들어간 버거. 그와 같이 곁들이는 블루치즈 딥이 나오는데 살짝 굳어서 나왔다. 그덕에 아름다운 비쥬얼은 물건너 갔지만 뭐 비쥬얼이 다는 아니니까. 한입 먹는데 육즙이 줄줄 흐른다. 와, 잘게 다지지 않은 패티라 중간중간 스테이크 덩어리들이 기분 좋게 씹힌다. 어떻게 고기만 들어있는데 안느끼하지? 오히려 생각보다 담백하다 느낄정도. 아쉬운건 블루치즈 향이 안쎄다. 그래서 더 좋아할 사람들도 있겠지만 이 블루치즈 러버는 마냥 아쉬웠다.  2. 시금치 페스토 버거 12,900₩ 더블딥 버거가 무시무시한 육식공룡이였다면 이 버거는 몰래 몰래 육식하는 초식공룡이랄까. 시금치페스토와 루꼴라의 씁씁한 맛이 인상적인 버거. 자극적이지 않은 약간의 그리너리한 맛을 선사한다. 개성은 있으나 패티 향 그득한 더블딥의 원펀치가 너무 얼얼해서 묻혀버리고 만다.  3. 크런치 프라이 3,500₩ 놀라운 감자튀김. 칩이 언제부터 다 같은 칩이었나. 이곳의 칩은 저세상 클라쓰를 보여준다. 이름값 정말 제대로 하는 칩. 아니 프라이. 거친 겉면, 카삭콰삭 소리를 내며 씹힌다. 속은 또 부드럽다. 패티 두목님의 오른팔 다운 맛.  4. 더블딥 에멘탈 13,900₩ 1번과 딥만 바뀌고 같은 버거. 에멘탈 역시 시간 조금 지나면 금방 굳지만 블루치즈보다는 묽은편. 이것 역시 에멘탈 특유의 강한 향은 없다.  5. 더블팁 체다 13,900₩ 4번과 마찬가지로 딥만 다른 같은 버거. 근데 체다 딥은 세가지 딥중에 제일 묽고 부어먹기 좋다. 그리고 체다의 진한맛이 잘 느껴져서 좋았다. 다음엔 체다로.  6. 미니해쉬 3,500₩ 그냥 해쉬.  총평은 정말 육스러운 버거였다. 아직도 가끔 그 스모키하고 무거운 존재감이 불쑥불쑥 떠오른다. 다른 버거 역시 괜찮지만 시그니처의 위력은 못 이기기에 그 순간만큼은 곽철용이 되어 묻고 더블로 가는 것을 추천. 2021-05-17', 'date': '+7'}, {'id': 4681, 'review': '입구부터 힙하네여 ㅎㅎㅎ 망플 리뷰를 참고하며 시켜보았어요 테이크아웃해서 먹느라 식은 버거를 먹었음에도 맛있네요 에멘탈 치즈를 추가한건 정말 옳은 선택이었어요 언제 꼭 매장에서 먹고싶네요!!!!! 2021-05-06', 'date': '+1'}, {'id': 4682, 'review': '육즙 폭탄이래서 갔었는데, 내껀 조리가 잘못된 걸까 살짝 건조하고 탄내났다', 'date': '2021.04.17'}, {'id': 4683, 'review': '버거로 유명하다고해서 방문해봤어요~ 햄버거 사이즈는 작은 편이었지만 다 먹으니 그래도 배는 부르더라구요.  하지만 고기에서 저는 냄새가 났기 때문에 낮은 점수를 줄 수 밖에 없네요~ 소고기인데 냄새가 나는 경우는 처음이라..  저도 다른 분들이 느꼈던 그 맛을 느껴보고싶습니다. 고기 패티만 2개 들어간 건 야채가 없어서 나중에는 느끼해서 다 못먹더라구요  제스타일은 아니었던 걸로! ㅎㅎ 2021-04-05', 'date': '+5'}, {'id': 4684, 'review': '야채가 하나도 없는데도 어쩜 이렇게 맛있을수 있는건지! 정말 신개념의 버거 느낌이었다ㅎㅎ 블루치즈더블패티를 주문했는데, 두꺼운 패티가 2개 인데도 전혀 헤비한 느낌도 아니고, 야채가 없는데도 전혀 느끼하거나 퍽퍽하지 않고 맛있었다. 패티가 촉촉하고, 육즙이 팡팡 터지게 잘 구워내서 인것 같다. 블루치즈와의 조화도 너무 훌륭했다!  친구가 주문한 아멘탈치즈도 먹어봤는데, 그냥 무난한 맛이었다. 블루치즈더블패티 추천합니다. 싱글패티는 왠지 부족할것 같아요ㅎㅎ 2021-03-31', 'date': '+3'}, {'id': 4685, 'review': '아보카도먹었어요 맛있고 음식도 빠르게 나왔어요', 'date': '2021.03.31'}, {'id': 4686, 'review': '나쁘지 않았어요. 패티가 두꺼워서 그런지 음식 나오는 시간이 오래 걸리는 편입니다. 버거보다는 맥앤치즈가 맛있었어요.', 'date': '2021.03.30'}, {'id': 4687, 'review': '맛있습니다', 'date': '2021.03.03'}, {'id': 4688, 'review': '예전부터 넘 궁금했던 곳 가로수길의 좀 외진 곳에 위치하고 있었다. 신사역과 압구정역의 정말 중간 쯤?! 패스트푸드 점처럼 캐주얼한 분위기이고 터치주문을 받는다  홀릭 분들은 대개 딥소스 버거를 드셨던데 ㅎㅎ 난 클래식 버거 중에 하와이안 와사비를 선택했다! 그리고.. 맛있었지만 베스트 초이스는 아니었을 것 같다 다른 메뉴 먹어보지 않았지만.. 워낙 육향이 장점이고 그리지 앤 치지 가 장점인 곳인거같은데 약간 상큼달콤하고 와사비가 알싸한 버거를 예상했던 이 버거는 육향을 뿜뿜!! 하기에도 그렇다고 와사비 코찡! 하기에도 파인애플이 그 모든걸 융합시켜주기에도 애매한 메뉴인 듯 하지만 맛은 있었다 ㅋㅋㅋㅋ 번이 호밀번처럼 호두도 들어 있고 그렇던데 맛있었당! 다음에 또 간다면 다른 메뉴 도전하거나 와사비 강하게 달라고 할 듯 2021-02-27', 'date': '+1'}, {'id': 4689, 'review': '더블딥/에멘탈치즈로 픽! 나에게 블루치즈는 좀 자극적이라 에멘탈치즈로 먹었더니 딱 좋았다. 채소 한톨도 들어가지 않아서 느끼하면 어쩌지 너무 퍽퍽하면 어쩌지 했는데 이것은 기우였다. 육즙가득하고 두툼한 패티 자체가 두장이나 있는데 굉장히 부담스럽거나 먹기 힘들거나 그렇진 않았다. 다만 이런 버거가 익숙하지 않아서 약간 신기했다고 해야하나. 같이간 친구는 적당한 스모크향?도 좋고 다 좋고 굉장히 만족스럽다고 했고 나같은 경우는 치즈가 하나 더 있었으면 더 맛있게 편하게 먹을 수 있지 않았을까 싶다. 먹기 조금 불편했지만 고기맛을 제대로 느낄 수 있었고 든든히 잘 먹은것같다. 2021-02-24', 'date': '+2'}, {'id': 4690, 'review': '육즙이 장난아니긴한데 조금 물림', 'date': '2021.02.23'}, {'id': 4691, 'review': '한줄평: 과하다 생각마시고 두 장! 가세요:)  전 블루치즈와 패티 두 장 옵션으로 맛보았습니다. 에멘탈 보다는 아무래도 블루치즈가 제 입맛에는 더 맞았고 프라이즈도 2종 시켰는데 이미지의 프라이즈가 제겐 베스트였어요:) 패티가 과하지않을까 계속 고민하며 주문했는데 오히려 한 장 주문한 친구는 아쉬움을 느꼈어요, 야채나 치즈 등이 따로 없으니 두 장 옵션을 꼭 선택해보시길 바랍니다!', 'date': '2021.02.14'}, {'id': 4692, 'review': '무식한 고기고기 헐크패티 버거. 야채는 조연, 번은 손잡이일뿐. 두툼한 미디엄 레어 패티의 몸자랑. 평가: 4.3/5.0 무식하다! 맛있다! 육즙 줄줄 시뻘건 두툼 패티! 스시의 맛은 곧 회이듯, 버거의 맛은 곧 패티이다. 그 당연한 사실을 강력하게 깨닫게 해주는 곳.  벌써 두번째 방문중인 패티앤베지스. 패티엔베지스는 무슨... 이건 그냥 패티앤패티다.  이놈보소... 야채나 빵을 압도하는 보통 패티의 2~3배는 되보이는 두께. 순쇠고기의 시뻘건 익힘까지... 고기에 대한 대단한 자신감이 아닐 수 없다.  깔끔하게 먹을 생각은 집어치우자. 촉촉함과 쫄깃함이 가득한 이 거친놈을 해치우고 나면 당신의 손은 육즙 범벅이 되어 끈적끈적 할 것이다.  ★메뉴: 큰 의미가 있을까? 야채는 그저 조연일 뿐.  ☆더블 패티: 더블딥등의 메뉴를 선택하면 이 괴물 패티가 두장이나 들어가서 나온다. 너무 커서 먹기조차 쉽지 않다. 패티 한장조차 이미 충분하다. 하지만 육즙의 무게를 감당할 수 있다면.... 감히 더블을 시켜라.   2021-01-26', 'date': '+2'}, {'id': 4693, 'review': '비트코인이 $40,000를 돌파한것 만큼 놀라운 맛의 버거를 먹고왔다. 입꼬리가 전고점을 뚫다못해 치솟아올랐다. 피부가 고무였으면 입꼬리가 정수리 위까지 솟구치게할만한 버거를 파는 이곳은 가로수길 패티앤베지스다. - 카니보어들의 성지다. 당신이 만약 고기를 좋아한다면 이곳은 꼭 한번 가봐야하는 곳이라 생각한다. 이름이 patty and veggies인데 시그니처인 이 버거에는 눈뜨고 찾아봐도 야채가 없다. 패티앤패티스가 적절한 이름이지 않을까 싶다는 생각을 혼자 하며 WlsEk처럼 혼자 키득댔다. - 패티는 오리지널 그 자체다. 정통파이다. 이렇게 두꺼운 패티를 속까지 고루고루 익혔는데도 불구하고 겉은 전혀 타지않았다. 심지어 크리스피한편도 아니고 딱 육즙만 알맞게 가둔 정도. - 포르쉐를 처음 타봤을때의 느낌이 들었다. 여태까지 먹었던 버거가 소나타라면 이건 파나메라gts급 버거다. 외계인의 고혈을 짜내서 만든 초지구급 작품이다. - 더블딥 버거 두개에 블루치즈, 에멘탈치즈를 주문했다. 둘다 꼭 먹어봐야하는 맛이다. 각기다른 매력을 지녔다. 세번째 동영상 소리키고 들으면 되니 다음으로 감튀에 대해 설명하겠다. - 칠리치즈 프라이즈 는 감튀 위에 칠리소스와 치즈 그리고 다진양파와 사워크림. 맛이없을 수 없는 맛이니 설명은 유튜브에서 해주겠다. 프로필링크 구독 좋아요 댓글 이젠RG? - 치명적인 단점 한가지가 존재한다. 일단 콜라가 펩시다. 평소에 치킨먹을때도 갓카콜라가 아닌 펩시가 오면 먹선생은 차라리 생수를 마신다. 음...노스트레스버거도 과거 펩시였다 코카콜라로 바뀐 후 혼자 흐뭇했는데... - 사진만 봐도 침이 줄줄 흐른다. 먹은지 10시간 지나도 배가 아직도 안꺼지는 국밥 뺨따구 두대 때릴정도의 든든함을 가진 이 버거는 10점 만점에 9.5점입니다. 콜라만 코카콜라였으면 10점일듯. - #패티앤베지스 #수제버거 #수제버거맛집 #치즈버거 #햄버거 #햄버거맛집 #버거 #버거맛집 #신사동맛집 #신사맛집 #가로수길맛집 #가로수길맛집 #논현동맛집 2021-01-21', 'date': '+2'}, {'id': 4694, 'review': 'yum yum . . 야채 거의 없지만 패티 맛으로 승부! 오히려 버거 안에 내용물 너무 많아서 먹기 힘든 것보다 이런게좋당', 'date': '2021.01.21'}, {'id': 4695, 'review': '두툼한 패티와 빵으로만 구성된 원초적인 버거! 은근하게 불향이 올라오고 그 두께만큼 그득 육즙을 품은 촉촉한 패티가 뭐니뭐니 해도 포인트다. 치즈 딥을 듬뿍 묻혀 먹으면 좀더 패스트푸드 같은 느낌이 물씬. 리뷰보고 욕심부려서 더블패티로 시켰는데, 생각보다 양이 많고, 한 입에 먹는 게 너무 힘들었다.. 싱글패티만 시켜도 충분하니 욕심부리지 말자! 사이드로 추천하는 메뉴는 사워크림 살사 미니 해시브라운. 별 기대안했는데 의외의 JMT. 햄버거와 함께 즐기면 풍성함이 배가된다. 2021-01-06', 'date': '+8'}, {'id': 4696, 'review': '프라이는 평범  패티 괜찮다', 'date': '2021.01.03'}, {'id': 4697, 'review': '클래식버거 존맛', 'date': '2020.12.26'}, {'id': 4698, 'review': '#가로수길 #신사동 #패티앤베지스  \"와!!! 뭐가 이리 맛있어~~\"  1. 요즘 장안의 화제가 되고 있는 <패티엔베지스>를 안먹어 볼 수가 없다. 버거를 많이 좋아하진 않았던 이유가 우리나라에 맛있는 버거가 없어서... 였는데, 요즘엔 아주 잘 만든 수제버거집들이 속속 생기며 버거도 꽤 훌륭한 외식 아이템이 되었다. 당연히 이집 시그니쳐인 돌직구 승부템 <더블패티딥>으로 주문을 했다. 블루치즈로...  2. 비주얼은 요즘 말로 <미쳤다> 보통 버거집의 두 배 정도 두께의 패티가 두 장 올려져 있고 스모크향이 솔솔 난다. 마치 라이브 비디오를 보고 있는 것 같이 육즙이 패티에서 줄줄줄 세어 나오는 모습이 실시간으로 목격이 된다.  3. 맛을 보면 불향이 훅 치고 들어오면서 조금은 과하게 카라멜라이즈된 패티의 겉면이 느껴진다. 마치 스테이크의 강렬한 시어링의 느낌이다. 고기의 질감과 함께 살짝 단단한 카라멜라이징 파트가 치감을 증가시킨다. 그러면서 줄줄 느껴지는 육즙(사실 지방..)이 풍미를 증가시킨다. 단맛 없이 육향과 불맛으로만 승부를 하는 엄청난 패티다. 그것도 두 장.  4. 여기에 꼬릿한 제대로된 블루치즈 딥이 짭짤함을 더한다. 더 짜게.. 더 강렬하게 하드코어 버거를 완성한다. 짜다는 느낌이 아니라 잘 만든 이탈리안 처럼... 풍미가 폭발을 한다.  5. 예전에 미국 살 때 코스트코에서 냉동 비프패티를 사다 소금 후추 간만 하고 구워 빵 사이에 넣고 캐첩만 뿌려 먹는 나만의 시그티쳐 버거가 있었다. 고기맛만을 즐길 수 있는 세상 좋아하는 맛의 스타일인데, 이집은 그 맛의 고급 버전으로 완벽하게 나에게 선사를 했다. 완전 땡큐다.  6. 이집 버거의 강점을 요약해 보면  - 스테이크 같은 강렬한 시어링: 육즙을 가두고 불향과 치감을 증가시킨다.  - 적절한 지방비율로 인한 육즙 폭풍: 줄줄줄 흐르는 지방과 육즙의 혼합 쥬스가 맛이 없으면 채식주의자.  - 질감 살린 다진 고기의 치감: 너무 곱게 갈지 않은 패티의 고기가 고슬한 패티의 식감을 극대화한다. 마치 일반 패티가 동그랑땡 식감이라면, 이집 패티는 칼로 잘 다신 떡갈비다.  - 소금과 후추로만 간을 한 직구 승부: 단맛이 뭐 필요하냐... 제대로된 버거는 소금과 후추만 있으면 된다.  - 육즙의 흥건함을 받쳐주는 최적의 곡물번: 패티가 아무리 맛있어도 그걸 못받쳐주는 번은 실패다. 브리오슈 같은 번은 여기 절대 어울리지 않는다. 달고 흐물거릴게 뻔하다. Rye가 포함된 것 같은 곡물 번의 강렬함이, 이 쥬시한 패티를 굳건하게 버텨낸다.  7. 그런데... 난 이집에 <별로>를 줄 수 밖에 없다. 본인이 식사를 하고 난 뒷자리에 두 분, 그 옆에 세 분의 손님이 더 있었는데 자리 정리를 하는 분께서(신입 교육 중으로 보임) 다른 한 분을 가르치며 세재 스프레이를 시원하게 세 방 뿌리며 테이블을 딱아 낸다. 마침 낮이라 채광으로 분무되는 비말이 제대로 보이는데, 뒷 손님과 불과 50cm, 그 옆 손님과 불과 1m 수준의 거리다. 다섯 분은 본인들의 의지와 상관 없이 세재를 드셨다.  아무리 맛있는 식당이라도 나의 평가 원칙은 치켜야 한다. 너무 맛있게 먹고 일어나면서 목격한 청소 모습에 본인의 마음은 솔직히 찢어졌다. 이 맛있는 곳에 <별로>의 평가를 줘야하다니....  이곳 관계자 또는 사장님께서는 본인의 SOOT , 정돈프리미엄 등의 리뷰를 참고하셔서 세재나 소독재를 스프레이로 분무하며 청소하는 것이 얼마나 위험할 수도 있다는 것을 인지해 주셨으면 한다. 더 좋은 식당으로 발전하기 위한 작지만 작지 않은 조언이 되길..  PS: Jㅐ님 사진 따라하려다 실패! ㅎㅎ 2020-12-08', 'date': '+5'}, {'id': 4699, 'review': '가로수길에 위치한 수제버거 집 \"패티앤베지스\". 불필요한 것들을 없애고나니 직선과 직각만 남은 몬드리안의 그림처럼, 햄버거도 가장 본질의 것만 남기고 보면 결국 패티만 남는 것이다. 완전 강추 : D  \\'더블딥 에멘탈\\'. 시그니쳐 버거. 정말 직관적인 버거ㅋㅋ 번과 번 사이에 다른 건 다 빼고 패티만 두장 들어가요. 녹은 에멘탈 치즈는 따로 나와서 직접 넣어 먹는 방식. 솔직히 보기에도 맛없을 리 없는 햄버거인데 생각했던 것보다 훨씬 맛있었어요!! 버거 두께 때문에 한번에 입으로 먹는 건 좀 힘들었지만 패티가 진짜 맛있어서ㅠㅠ 원래 햄버거가 고기 요리였지 싶을 정도로 맛있더라구요ㅎㅎ  \\'사워크림살사프라이스\\'. 여기 이름은 패티앤베지스인데 베지스는 어디에!? 감튀도 감자니까 야채다ㅇㅇ 역시나 맛있었던 프라이스!!  분위기도 힙!하고 갠춘. 외힙이 꽤 크게 흘러나오는데 나이가 들어서 그런지 스피커 앞에 앉았더니 어지러워서 자리 옮겼어요..ㅠㅠㅋㅋ 어릴 땐 안 그랬는데.. 뭐 어쨌든!! 이거 먹으러 가로수길 찾아간 게 아깝지 않을 정도로 대만족!!', 'date': '2020.12.06'}, {'id': 4700, 'review': '힙한 인테리어로 채워진 아담한 가게 수많은 고뇌속에 겨우 선택한 메뉴 정말 하나같이 다 맛있어 보여서 고르기 너무 힘들었다.  #싱글딥 블루치즈 모짜렐라 딥같은 느낌을 생각했지만 버터크림같은 제형이었다. 블루치즈는 뭐...맛없없 아닙니꽈... 생각보다 되게 조그맸다 ㅋㅋ 다 못먹을까봐 걱정했는데 괜한 걱정쓰 빵이 얇고 작아서 고기의 맛에 집중할 수 있었다. 육즙가득한 패티 생각보다 스모크향은 많이 나지 않았다. 쉑쉑이랑 비교하면 거의 스모크 향이 안 나는 것 같이 느껴진다.  #머쉬룸 치즈 샐러드볼 쉑쉑 머쉬룸버거 생각하고 시켰는데 약간 괜히 시킨 느낌...ㅎ 그냥 버거시킬껄 스테이크 패티 하나와 옥수수,병아리콩,치즈,살사,브로콜리가 담겨져 있고 밑에 귀리같은게 있는데 본인은 귀리 알러지가 있어서 거의 다 남겼다...안에 뭐 들어가는지 표기되어 있으면 좋았을 것 같다. (내가 못 본건가...) 올리브오일 같은게 소스로 나오는데 느끼해서 핫소스 뿌려먹음 ㅎㅋ  #크런치 프라이즈  여러분 감튀는 꼭 드세요 제 인생 감튀를 여기서 만났습니다,,, 이름에 크런치가 괜히 들어가는게 아닙니다 정말 극강의 바삭함을 느껴보고 싶으시다면 무조건 시키십시오....! 위에 치즈같은 토핑있는 메뉴도 있는데 일단 기본 감튀를 먹어봐야 합니다!!  #레몬에이드 사장님이 직접 레몬을 짜서 만들어 주시는 것 같았다. 레몬향 레몬에이드가 아니라 신선한 레몬의 맛을 느낄 수 있다. 콜라보다 이게 더 상큼하고 입을 개운하게 해줘서 좋은 것 같다! 근데 얼음이 많고 음료는 적어서 한 잔가지고는 모잘라...!   결론 버거는 내 입맛에 쉑쉑이 더 맛있었지만 감튀는 예술인 곳 근데 아직 결론 내리기에는 먹어봐야할 다른 메뉴가 많다', 'date': '2020.11.29'}, {'id': 4701, 'review': \"바디빌더가 옷을 안 입고 기름칠만 하고 나오는 이유는? 당연히 공들여 만든 몸을 과시하기 위함이다. 여기의 패티도 마찬가지다. 그 맛을 느끼는 데 있어 야채는 걸리적거릴 뿐. 반짝반짝 윤을 내기 위한 치즈 디핑 소스만 있으면 충분하다.  더블딥 블루치즈 (13,900₩)  가격이 좀 사악하긴 하다. 본인 같은 가성비충의 머리 속에는 '이 돈으로 프렌차이즈 더블패티 버거 두 개 먹을 수 있는데...' 생각부터 앞선다. 하지만 치즈 디핑을 듬뿍 발라 한 입 베어무는 순간 생각이 바뀐다. 프렌차이즈 버거 5개랑 바꾸자고 해도 안 바꿔 줄 맛이다.  분명 고기랑 번밖에 없는데도, 느끼하지도 않고 계속 먹을 수 있을 것 같다. 번은 보송보송하면서도 마이야르 반응이 잘 일어나 고소하고, 그 안에 들어간 잣은 톡 쏘는 풍미를 더해 준다. 패티는 육즙이 콸콸 넘쳐흐르고, 탄내 없는 훈연향의 슈퍼노바. 블루 치즈 디핑은 고소함을 더해주면서도, 가벼운 편이라 느끼하다는 생각이 들지 않았다. 다른 치즈도 당연히 먹어보고 싶지만, 왜 많은 분들이 블루 치즈로 드셨는지는 일단 알 것 같다.  하루빨리 재방문하고 싶지만, 내 지갑과 혈관의 안녕을 위해 조금 미루는 걸로...  ★★★★☆ 2020-11-24\", 'date': '+5'}, {'id': 4702, 'review': '극찬을 할 정도인가..? 싶은?? 인스타그램에서 엄청 자주보이고 망플 리뷰도 좋아서 한 3일을 고심하다 갔어요 근데 맛은 그냥 그럼^^.... 블루치즈 소스는 진짜 꼬릿꼬릿하니 맛있었는데 정작 햄버거가 탄맛이 너무너무 많이나고 짠맛도 단맛도 없는 ..? 걍 육향과 탄맛 그래서 전체적으로 쓰다고 느껴졌어요 저는 음식이 탄거에 예민한 편이라(발암물질,,ㅎ) 번을 벗겨서 패티를 보니 역시나 타서 검정색이 된 부분이 많더라구요,,진짜탐 감튀는 얇아서 바삭바삭해서 좋았고 해쉬브라운볼도 맛있었어요 살사소스 존맛 ! 펩시 맥스도 있어서 좋았지만 햄버거가 별루,, 한번 가본걸로 만족할게요 차라리 쉐이크쉑이 더 맛있는듯 ㅎ 발렛 가능해요', 'date': '2020.11.19'}, {'id': 4703, 'review': '한국에서 미디엄레어 패티의 햄버거를 먹을수있는 몇안되는 집. 런던 캠던마켓에서 미디엄레어 패티를 처음 접했을때 충격이였는데 한국에서 이런 맛을 다시 느낄수 있는것이 너무 감사하다. 육즙이랑 육향이 가득하고 밸런스가 아주 좋다. 오리지널은 꼭 먹어보시길.', 'date': '2020.11.03'}, {'id': 4704, 'review': '호평이 가득한 패티앤베지스! 마침 가로수길이라 다녀왔어요. 역시! 왜 칭찬일색인지 먹어보니 알겠더라구요!  저녁에 가니 식당 내 번쩍번쩍한 네온사인과 크게 울리는 음악 덕분에 들어서자마자 흥분이!! 이런 올드펑키함은 버거와 항상 잘 어울린다고 생각합니다ㅎㅎ  “딥소스버거-싱글딥 에멘탈” - 넘 맛있어요!!!!!! 빵 부분 먼저 먹었는데, 너무 잘 구워졌어요. 끝부분이 살짝 바삭해요, 부침개의 바삭한 끝부분을 포기할 수 없는 것처럼, 이 곳 번의 끝부분도 놓치지 않을거에요~;) 별다른 소스 없이 패티를 먹었는데, 향신료의 향이 크게 느껴지지 않아 좋았어요. 순수패티♡ 그리고 치즈를 찍어?! (사실 발라)먹어봤는데, 에멘탈치즈라 그런지 보통 먹는 버거보다 한 단계 높은 버거의 풍미가 느껴지는 것 같아요. 조금더 고급스러운..?! 체다치즈를 선택했다면 원래 우리가 아는 버거맛이 날 것 같네요.  오랜만에 빠른 시간 내에 재방문하고 싶은 곳을 찾았네요~ 2020-10-29', 'date': '+8'}, {'id': 4705, 'review': '헤이~~~패티앤베지쓰~~~넘 맛있쓰~~~패티가 아주 두껍고 씹히는 맛이 죽여주는걸~~~??? 머쉬룸과 소스의 조합 끝내조~~~ 힙하구 넘 최고야. 고다치즈 소스..? 넘 빨리 굳어서 초큼 곤란해쮜만~~~베지쓰 맛있우니까 봐줘쓰~~ 2020-10-25', 'date': '+1'}, {'id': 4706, 'review': \"〰️총점: (4.6/5), 재방문 의사 yes  ✔Comment  인생 버거 one of 세 손가락. 프레쉬한 버거가 먹고 싶을 땐 '다운타우너', 제대로 헤비하고플 땐 바로 이곳.  ✔Taste  '시그니처 딥 버거'의 어이가 없을 정도로 심플한 비주얼에 방문하긴 했으나 내가 그걸 안 시킬 건 알고 있었다ㅋㅋ 앞다퉈 독특하고 화려한 비주얼을 내놓으려 혈안인 요즘! 빵과 패티, 그 기본적인 것들에 얼마나 자신이 있으면 이토록 단조로운 구성을 내놓는단 말인가? 뭐든 맛있을 수밖에 없겠다 생각으로ㅎㅎ  클래식한 걸 먹어볼까 했으나, 갑자기 페스토 소스 + 발사믹 + 치즈 조합이 당겨서 '시금치 페스토 버거'를 비프로 주문. 그래도 시그니처를 안 먹어볼 순 없으니 페스토 소스가 덜 묻은 쪽을 딥소스에 찍어 먹으면 일타이피(일타삼피)를 할 수 있지 않을까 해서 '블루치즈', '에멘탈치즈' 딥소스 추가. 결과는 대성공... 폭신폭신한 버거번 사이 굉장히 두툼한 패티가 먹음직스럽게 구워져 나오는데, 그 맛이 예술이다. 겉이 꺼슬할 정도로 구워져 있지만 안 쪽은 미디움 웰던 정도의 굽기라 육즙이 꽉 갇혀 있음. 베어 물면 쥬씨하고 촉촉하고 부드럽다. 블루치즈는 특유의 쿰쿰한 냄새가 나는 곰팡이(?) 치즈기 때문에 호불호가 갈리곤 하는데, 나는 의외로 불호 쪽. 미국에서부터 좋아하던 치즈인데 왜인지 요즘은 덜 끌린다. 첫 맛은 독보적인데 먹을수록 거북해서랄까... 아니면 아빠가 너무 블루치즈를 남발해서?ㅎㅎ 아무튼 그래서 풍미는 덜하지만 담백하고 고소한 에멘탈치즈 소스가 훨씬 좋았다. '사워크림 살사 프라이즈'는 딱 기대를 충족시켜주는 맛 정도. 감튀는 역시 얇은 게 진리다.  ✔Service  굉~장히 친절하시다. 키오스크로 주문을 하고 번호가 되면 트레이를 받아오는 시스템에서 친절도를 느낄리 만무한데 그 와중에도 진정성이 느껴질 정도. 메뉴 주문이랑 물 때문에 몇가지 문의 드렸는데, 하나하나 정성껏 대답해주시는 게 느껴짐.  ✔Mood  펑키하다ㅋㅋ 그렇다고 힙하진 않고, 동네 끝에 있는 오래된 미국 패스트푸드점 같음.  ✔Only for 일리  얼마나 맛있었으면 혼자가서 먹었다가 엄마 나오시라고 한 뒤, 동일한 구성으로 사드림ㅎㅎ 엄마도 맛있다고 하셨다. 고기 별로 안 좋아하시는데, 냄새 하나도 안 난다고 좋아하심!  ➰추천 메뉴: 시금치 페스토 버거(12,900), 에멘탈 치즈 딥소스(1,900)  #패티앤베지스 #일리인생맛 #랜덤리뷰 2020-10-16\", 'date': '+1'}, {'id': 4707, 'review': '약간 실망했다 더블패티 에멘탈 치즈로 먹었는데 뭔가 좀 아쉬웠다. 내가 햄버거를 좋아하는게 아닌가 라는 생각까지 들었다. 내 취향에 안맞는 버거 같다.', 'date': '2020.09.28'}, {'id': 4708, 'review': '느끼할 수도 있다는 것을 무서워하지 않는 버거집이었다. 느끼할만큼 패티와 치즈를 즐겨라!  다운타우너는 번, 패티, 채소의 신선함 등등의 밸런스 안에서의 맛을 추구한다면 패티앤베지스는 어마어마한 육질의 패티애 집중하는 수제버거집이다.  더블딥 버거시리즈는 패티와 치즈에 모든 정성을 쏟아부은 버거다. 야채는 하나도 없고 번위에 육즙 팡팡 두꺼운 패티가 두개! 그리고 그 위에 치즈를 발라먹는다.  아보카도살사는 어느정도 밸런스를 갖춘 버거인데 살시소스가 거의 느껴지지 않는 수준이었다 그럼에도 아보카도 만으로도 버거의 느끼함을 중화시켜주어 잡아주었다  다음에 온다면 싱글딥치즈버거를 먹을 것 같다. 여기는 다른 버거보다 딥 시리즈 버거를 드셔보길 추천! 발렛 가능', 'date': '2020.09.22'}, {'id': 4709, 'review': '인스타 -@taste10good .  신사 #패티앤베지스 . 버거장인엑 추천받은 맛집 2탄 . 패티와 인테리어에 온 정성을 다한 햄버거 집. 패티가 매우 두꺼우며 패티와 빵만을 구성으로 한 딥소스버거를 대표메뉴로 하고 있는 특이한 곳이다. . 딥소스버거는 패티 개수에 따라 싱글딥, 더블딥으로 나뉘며 소스가 3가지(에멘탈, 체다, 블루치즈)로 구성된다. . 패티를 한입 배어무는 순간 패티에서 나오는 풍미와 불향이 예술인 곳 이다. 패티를 배어먹는 순간의 감정이 잊혀지지 않는 곳이다. . 다양한 메뉴를 맛보기 위해 버거를 세개 시켰더니 말미에는 살짝 느끼했던 곳이다. . 총평하자면 소스는 블루치즈 외에 2가지(에멘탈, 체다)를 추천드리며, 더블보다는 싱글딥을 추천드린다. . 또한 개인적으로 딥소스버거보다 야채가 함께든 클래식버거가 더 맛있었다. 하지만 패티와 번으로만 구성된 특색있는 버거라 두가지 모두 드셔보시길 추천드립니다. . 메뉴정보: 딥소스버거(싱글, 더블) - (₩8,900, ₩13,900) 싱글딥버거추천 클래식버거 - ₩8,900 추천', 'date': '2020.09.21'}, {'id': 4710, 'review': '근래 가장 애정하는 버거집이다.  패티의 존재감도 좋지만 번도 맛있다.  블루치즈딥 체타치즈딥으로 먹엇는데.  너무 맛있어 순식간에 먹어치웟다.  몇일전 에그슬럿의 내상이 말끔히 치유되었다. 2020-08-21', 'date': '+4'}, {'id': 4711, 'review': '오호... 인스타에서 몇번 보이길래 방문해봤는데 생각보다 맛있어서 놀람?!  시그니처는 only 패티 and 치즈 햄버거다. 사실 육즙을 찐으로 느끼려면 더블패티로 먹어야 하는데... 배가 그다지 고프지 않은 상황+원래 싱글패티만 먹어도 충분히 배부른 사람이라 그냥 싱글패티로 주문했다. 치즈는 블루치즈!  오호... 일단 패티가 육즙폭ㅋ발이다. 오랜만에 찐으로 맛있는 패티인듯! 그리고 블루치즈를 뿌려먹거나, 찍어먹어도 되는데 은근 잘 어울린다. 꼬릿한 치즈랑 먹으니 느끼함도 조금 중화되는 듯함?  감튀도 칠리치즈후라이즈로 시켰는데 토핑도 많고 낫밷했다  여기서는 무조건 패티+치즈로 주문하세용 2020-08-15', 'date': '+7'}, {'id': 4712, 'review': '큰임팩트는 없었던 패티앤베지스... 워낙 인스타에서 인생버거니 역대급이라는 말에 기대치가 너무 올라갔었던 터라 물론 만족시키기도 힘들었겠지만 그래도 이건 좀 너무 물타기인것같다. 진짜 딱 패티와 번으로만 구성된 버거. 예상가는 맛이다. 혹평을 하자면 일부로 과하게 패티를 구우신건가 탄맛과 불향이 쓸데없이 너무 강하다. 내가 기대한 버거는 이게 아니었는데ㅠㅠ 많이 아쉬운 맛이다. 그러다고 가격이 저렴한것도 아니고 엄청 비싸기까지... 앞으로 인스타는 믿지않는걸로', 'date': '2020.08.02'}, {'id': 4713, 'review': '몇 년 전에 논현동?에 있을 때 가족들이랑 다같이 좋아하던 곳이었는데 이번에 가로수길에 재오픈했네요!! 블루치즈 버거를 진짜 맛있게 먹었어서 이번에도 찾았는데 아쉽게도 블루치즈 디핑으로만 팔더라구요ㅜㅠ 그래도 디핑에 찍어먹으니 블루치즈 향이 더 잘 느껴졌던 것 같아요ㅎㅎ 채소 하나 없는 버거에 육즙 가아아아아득한 패티가 아주 길티하면거 황홀한 맛이었어요ㅎㅎㅎㅎ 2020-07-29', 'date': '+7'}, {'id': 4714, 'review': '(물론 주관적이지만) 내 버거계 최상위 탑 티어  약 4-5년 전부터 먹어온 패티앤베지스를 이제는 가로수길에서 매일 즐길수 있다는 것은 크나큰 행운이다. 직관적인 패티의 맛, 각각의 특색있는 버거들 그리고 곁들여 마시는 하이볼 한잔.. 많은 버거집이 있지만, 본질에 충실한 버거를 맛보고 싶다면 당장 신사동으로 가보자', 'date': '2020.07.26'}, {'id': 4715, 'review': '힙하고 맛있다.  패티와 번의 충실함으로도 완벽한 버거를 완성할수 있음을 증명한 곳 2020-07-12', 'date': '+7'}, {'id': 4716, 'review': '★풀때기 한장 없는 풍만한 패티의 맨몸 승부★ 평가: 4.3/5.0 #블루치즈 더블딥: 번 더블패티 치즈소스 끝... 야채따위는 필요없다는 이 거만함.. 수영복만 입고 나와서 근육 자랑하는 머슬마니아 출전 선수마냥 고기고기만으로 진검승부를 보다니 패티에 대한 대단한 자신감이 아닐 수 없다. 가로수길 맛집을 찾아보다가 콜린비님의 리뷰를 보고 도저히 참을 수 없어 충동방문한 이곳...  ㅡ패티: 그 자신감을 인정한다. 꽤나 괜찮은 수준. Nose: 불향가득 머금은 패티는 마치 직화로 구운 것 같이 스모키하다. 연탄구이 고기등에서 맛볼수 있는 그런 스모키함. Palate: 간이 너무 과하지 않고 삼삼한 수준. 특히 패티가 기름지지 않은데, 지방많은 부위보다는 근육질 부위를 쓴 모양이다. 길버트 같이 지방질 많고 부드러운 패티를 기대하는 사람에게는 다소 퍽퍽할 수 있을 식감. 육즙을 최대한 살리는 미디엄 정도로 구웠기 때문에 살짝 퍽퍽한 식감임에도 육즙은 엄청나다. 먹다보면 고기육즙이 쥬륵쥬륵 흘러나온다.  ㅡ치즈소스와의 콜라보: 간이 삼삼한데다가 지방기가 없어 살짝 퍽퍽한 패티의 버거이다. 그런데 이 약간의 퍽퍽함은 치즈소스와 만날때 기분좋은 조합이 된다.  100% 자연산 수입치즈 소스. 수제버거집에서 이정도 퀄리티의 치즈를 쓰는 곳은 처음본다. 버거에 100% 자연산도 아닌 그냥 토스트치즈 한장 올리는 데도 많은데 구리구리한 곰팡내가 나는 이런 정통 유럽치즈를 녹여서 주다니... 정말 만족스러웠다. 제대로 발효시킨 곰팡이 치즈는 우리나라 청국장처럼 진하고 꼬리꼬리한 향이 난다. 그런 곰팡내가 살아있는 블루치즈 소스! 1900원에 소스 양을 더 늘려먹을 수 있다.  ㅡ번: 번에 참깨 한알 없다. 패티와 치즈에 더욱 집중하게 만드는 심플함... 푹신해서 좋다. 다만 호밀빵인데 5점만점에 4점이 안되는 맛이라 살짝 아쉽다. 푹신은 한데 쫀쫀한 식감은 덜하다.  #가식성(eat-ability)의 아쉬움. 더블딥은 맛은 있지만 좀 먹기가 너무 힘들다. 두툼패티 두장이라 입을 크게 벌려 먹는데 좀 힘들었다. 같이온 지인은 싱글딥으로 먹었는데 딱 만족스럽다고 했다. 다음번에는 패티한장 싱글딥으로 먹어볼 듯...  #하이볼: 버거에 하이볼 같이 먹을 수 있는 곳 많지 않은데, 하이볼이 메뉴에 있어 행복했다. 제임슨 하이볼: 6900원. 시럽따위 넣지 않은 깔끔한 맛이며 레몬을 좀 많이 뿌려서 살짝 새콤했던 하이볼. 하이볼은 너무 차게 먹으면 술향이 안난다. 얼음적은 하이볼이라 만족스러웠던 곳. 2020-07-07', 'date': '+2'}, {'id': 4717, 'review': '저녁을 먹고 집에 들어가려고 보니 여기 패티앤베지스가 생각나 들러보기로 함.  이 가게의 시그니처 버거 느낌인 치즈 딥 버거는 흔한 수제버거와 차별화되는 느낌이었고 특히나 쿰쿰짭짤함을 좋아해서 블루치즈 딥을 선택해서 맛보고 싶었음.  가게는 전에도 여러번 지나치면서 보면 가게 한 쪽 벽면이 거울로 되어 있어 마치 실제 가게 크기의 두 배인 것처럼 보여 가게가 큰 가 싶지만 실제론 그리 크진 않은 편이었음.  가게문을 열고 들어가면 키오스크 두 대가 보이고 주문을 하면 메뉴가 주방에 전달되는 방식인데 치즈 딥 버거가 궁금하긴 했지만 그 외에 다른 다양한 버거는 어떤 종류가 있나 궁금한데 메뉴 이름으로 어느 정도 상상은 되지만 그래도 어떤 재료가 들어가는 지 궁금한데 그런 설명이 안 보여 혹시 따로 볼 수 있는 메뉴가 있는지 주방 쪽에 문의를 하니 따로 준비된 메뉴는 없다고 하심.  주방 옆 코너 천장에 달린 TV에 메뉴들이 하나씩 소개되는 화면이 계속 로테이션 되는데 내가 보고 싶은 메뉴가 나올때까지 기다리기가 힘들고 막상 보고 싶은 메뉴가 나와도 금방 또 다른 메뉴로 넘어가 다른 버거류에 대해 아는 건 포기하고 그냥 치즈 딥 버거를 먹기로 함.  키오스크에서 더블 패티는 너무 두툼해 보여 먹기에 힘들까 그냥 싱글딥 블루치즈를 선택하고 어떤 후렌치 후라이즈인지는 모르겠지만 그래도 나름 좋을까 기댈하며 크런치 후라이즈 그리고 음료는 닥터페퍼는 안 보여 마운틴 듀를 주문함.  키오스크에서 주문번호가 인쇄된 영수증이 나오고 테이블에 와서 앉아 가게를 둘러보니 미국 힙합 노래같은 게 흘러나오고 한 쪽 벽에 네온싸인으로 꾸며있는 걸 보니 JOHN맛이라고 쓰여있는 게 보여 재밌다고 생각함.  유리창쪽엔 바 테이블이 있고 유리창 밖 패티오에도 테이블이 있음.  조금 기다리니 아까 메뉴가 로테이션되며 보여지던 TV에서 소리가 나길래 뭐지하며 보니 거기에 주문번호가 뜨면 가지러 가는 거였음.  내가 주문한 걸 가지러 주방쪽으로 가 케첩과 스트로, 냅킨, 물티슈 등을 같이 챙겨 테이블로 돌아옴.  싱글딥 블루치즈 버거를 살펴보니 통밀 번인 것 같은 수수한 느낌의 번은 살짝 구워졌고 치즈딥 버거와 어울리는 느낌인데 패티는 사진 등에서 보면 제법 두툼한가 싶어 혹시나 먹기에 불편할까 싶어 싱글 패티인 싱글딥 버거를 주문한 건데 도톰하지만 의외로 아담한 사이즈여서 한 손으로 잡고 먹을 수도 있을 것 같은 느낌이었고 패티를 보니 팬이 아닌 그릴에서 구운 느낌으로 그릴 마크가 보임.  블루치즈 딥은 제법 넉넉한 양이어서 충분히 즐길 수 있을 정도의 느낌이고 눈을 돌려 크런치 후라이즈를 보는 순간 통밀 번 느낌의 번과 그릴 마크가 선명한 패티 그리고 전체적으로 아담한 사이즈 때문이어선지 뭔가 고메이 버거 느낌이 들게 하는 버거의 비쥬얼과 너무나 언밸런스인 싼 느낌의 비쥬얼이어서 확 깨는 느낌임.  디트로이트식 피자를 내놓는 모터시티에서도 똑같은 시판 제품을 튀긴 크런치 후라이즈를 내놓지만 담겨 나오는 스테인리스 스틸 컨테이너나 딥 소스 등이 나름 신경 써서 플레이팅되어 허접해 보이는 느낌은 아닌데 이건 너무 생으로 아무것도 없이 시판 제품을 튀겨서 그대로 내온 느낌이어서 버거의 비쥬얼과 안 어울려 인상이 찌그러지는 느낌임.  크런치 후라이즈의 맛은 다들 아는 맛인데 다만 미리 튀겨놓거나 한 건 아닌 건 좋지만 치즈 딥 버거의 뭔가 고메이 버거 느낌 비쥬얼에는 뭔가 껍질채 튀긴 좀 도톰하거나 아니면 최소한 얇지 않은 두께의 후렌치 후라이즈가 어울릴 것 같은 느낌인데 얇은 크런치 후라이즈는 가볍고 싼 느낌이어서 안 어울려 뭔가 고메이 느낌의 후렌치 후라이즈를 기대했던 나는 실망함.  하지만 후렌치 후라이즈를 맛보러 온 게 목적은 아니어서 치즈 딥 버거로 눈을 돌려 버거를 들고 블루치즈 딥에 푹 찍어 한 입 베어 무니 블루치즈의 쿰쿰짭짤한 맛과 불향이 좋은 치즈 딥 버거의 궁합은 나름 좋은데 기대 이상의 특별함은 아닌 딱 생각했던 그 맛 정도였음.  버거의 사이즈가 어제 맛봤던 원스타 올드패션드 버거보단 확실히 아담해 금방 먹고 남은 블루치즈딥에 평소에도 케첩에 찍어 먹는 것 보단 랜치 소스나 마요네즈에 후렌치 후라이즈를 찍어 먹는 걸 좋아해서 크런치 후라이즈를 찍어 먹고 블루치즈딥을 다 비우곤 케첩에 찍어 먹고 자리에서 일어남.  혹시나 음료 리필이 되는지 주방에 문의를 하니 아마도 사장님이신 것 같은 분은 원래는 안 되는 것 같은 느낌인데 리필을 해주신다고 해서 리필을 부탁드려 코카콜라는 없어 펩시콜라가 든 컵을 들고 가게를 나옴.  전체적으로 패티만 든 치즈 딥 버거의 비쥬얼이 흔한 수제버거의 비쥬얼과 다르고 느끼함을 거의 못 느끼고 쿰쿰짭짤함도 좋아해서 궁금해 들러봤는데 치즈 딥 버거는 나름 괜찮았지만 동네가 동네여선지 사이즈가 아담하고 맛도 특별함이 느껴지는 건 아닌데다 난 수수하고 클래식하면서도 아담하기보단 적당한 사이즈의 버거가 좋아 어제 들렀었던 원스타 올드패션드 버거나 이태원 캘리키친의 햄버거가 더 낫게 느껴졌고 궁금증을 푼 걸로 만족한 걸로.. 2020-07-06', 'date': '+21'}, {'id': 4718, 'review': '“함부르거의 깊숙한 펀치”  #햄버거 19세기 미국으로 이민해온 독일 사람들이 먹던 함부르크식 스테이크가 빵 사이에 끼워진 것이 함부르거(Hamburg-er), 즉 햄버거의 시초다.  전 세계로 퍼져나가며 셀 수 없이 많은 배리에이션이 생긴 음식. 그만큼 다양한 재료들이 사용되고, 이 과정에서 밸런스가 붕괴된 햄버거들이 양산되면서 번 - 패티 - 베지스 사이의 균형감이 햄버거의 가장 중요한 미덕처럼 여겨지고 있지만, 햄버거의 탄생 과정을 고려했을 때 나는 햄버거는 뭐니뭐니 해도 패티가 맛있어야 한다는 (편협한) 생각이 있다.  #패티의 반란 국내에 수제 버거집이 범람하면서 특별한 개성을 가진 햄버거들이 나타나고 있는데, 한 가지 반가운 건 패티의 존재감을 강조한 햄버거들의 약진이다.  스테이크 하우스에서 팔던 햄버거를 스핀오프한 ‘볼트 버거 하우스’, 이름부터 작정한 ‘미트앤번버거샵’, 클래식 미국 갬성의 ‘원스타올드패션드햄버거’ 등등. 그리고 이 중 내 취향을 저격하며, 가장 강렬한 인상을 남긴 곳은 ‘패티앤베지스’다.  #더블딥블루치즈 도톰하게 부푼 번 사이에 포악한 패티 두 개가 겹쳐져 있다. 거기에 채소 따위가 낄 틈은 없다. 패티에서는 마이야르 반응이 뭔지 확실히 알 수 있는 강렬한 풍미와 우악스럽게 씹히는 고기의 식감을 느낄 수 있다.  채소를 끼얹어야 할 것 같은 이 햄버거 위에 꾸덕한 치즈딥을 끼얹는다. 두툼한 고기 위로 치즈가 뚝뚝 떨어지는 모습을 보고 있노라면 갈 때까지 가보자는 심정이 든다. 짙은 발효향과 육향의 만남은 정말 아찔하다. 햄버거 좀 먹어봤다고 뻐기다가 한 대 얻어맞은 기분.  사이키델릭한 네온사인과 래퍼들을 그린 그래피티로 꾸미고, 한 쪽 벽면을 거울로 채워 공간감을 키운 인테리어도 탁월하다. 야심한 여름 밤 가로수길 뒷편의 여유로움은 덤.  - 맛팁: 딥치즈버거에는 토마토 살사와 사워크림이 들어간 해시브라운이나 레몬 퐁당 코로나 맥주로 상큼함을 더하자  instagram: colin_beak 2020-07-04', 'date': '+3'}, {'id': 4719, 'review': '가장 인상적인 패티가 함께 한 버거다. 딥치즈 버거 메뉴가 다른 곳에서 보기 어려운 이 집의 특색 있는 메뉴인데, 번 사이에 패티만 두고 치즈 소스를 찍어 먹게 만든 버거다. 패티 두개에 에멘탈 치즈 소스를 같이 주는 더블 딥 에멘탈 버거를 주문했다. 두꺼운 패티 두개가 들어가는데 한 입 베어무니 고기가 입 안에 가득 차고 육즙이 풍부하게 터져 나온다. 두꺼운 고기 패티가 퍽퍽함 전혀 없이 부드럽고 고기 맛 자체가 굉장히 풍부하다. 번은 크게 인상적이지 않은데 가게 이름이 번앤패티앤베지스는 아니니까 어쩔 수 없는 부분이다. 딥 치즈 소스도 아주 맛있다. 유치한 치즈 소스가 아닌 풍미가 진한 진득한 치즈다. 패티와 정말 잘 어울린다. 혈관 막히는 맛. 근래 먹은 버거 중 가장 특색 있고 가장 기억에 남는 맛있는 버거집이다.', 'date': '2020.06.30'}, {'id': 4720, 'review': '[가로수길 Patty&Veggies. 패티앤베지스] 육즙가득한 패티가 매력적인 버거맛집. ⠀ ※3줄평: 1. 이 집의 시그니처, 딥소스버거의 더블딥에멘탈 버거 order. (버거의 핵심인 패티, 번, 치즈만 있음) 2. 육즙 빵빵 터지는 두툼한 패티가 매력적. 패티에서 그릴의 불향 가득하고 고기잡내 없었어요 3. Bun 도 soft하면서 패티와 잘 어울림. 치즈는 3가지 선택가능. (에멘탈, 체다, 블루치즈) ⠀ ※메뉴: ○ 더블딥 에멘탈 13.9 ○ 크런치 프라이즈 3.5 ⠀ *패티앤베지스 *서울 강남구 압구정로4길 11 1층 *02-541-3443 *매일 11:30 - 22:00  주문마감 21:30 (구정, 추석 당일 휴무) *발렛가능 ⠀ 2020-06-23', 'date': '+13'}, {'id': 4721, 'review': '-가로수길 수제버거 장인  가로수길 수제버거투어의 세번째는 패티앤배지스입니다. 퇴근길 마지막에 있는 식당이라 유혹이 상당했습니다. 버거투어가 아니더라도 언젠간 한번 가봐야지 할 정도로 가게 외관도 근사합니다. 매장은 네온 빛 때문인지 저녁에 방문하면 상당히 사이키델릭합니다. 저녁 방문을 추천드립니다. 패티앤배지스는 새로 오픈했는데도 몇달간 손님이 없는 모습이 참 안타깝더라구요. 그런데 요즘은 가장 핫한 매장이라죠? 최근에 손님이 늘자 사장님께서 패티의 품질 관리 때문에 폐관수련을 떠났다는 사실…  메뉴선택은 키오스크에서 가능합니다. “패티앤베지스”,”세인트그릴”이 이런 시스템을 갖추고 있는데 저는 제품 사진을 볼수 있어서 편했습니다.  저의 선택은 언제나 클래식! PV클래식으로 했습니다. 패티는 증량은 안되는 대신 기본 중량이 150g이라 낭낭합니다. 고기 종류만 소고기와 치킨 중에 선택가능해요. 이곳은 “번 앤 패티 앤 베지스”라 불러도 되지 않을까요. 다들 이곳의 페티를 1등공신으로 뽑는데 번도 만만치 않은 씬스틸러였습니다. 호밀 번이 부드러우면서도 밀도감이 있어 씹는 맛이 좋습니다. 큼지막하게 썰린 아보카도와 토마토 살사가 들어갔음에도 질척이지 않고 햄버거다운 밸런스를 끝까지 잘 유지해 줬습니다.  패티를 한입 베어물면 감탄이 나옵니다. 두툼하고 육즙가득이 가득해서 입안가득 퍼지는 만족감… 이게 진짜 길티플레져구나. 베지보다도 페티가 더 신선하게 느껴질 정도니까요. 이정도 재료관리와 그릴링을 생각하면 다소 높은 가격과 음식 나오는 속도는 아쉬울 것이 없습니다. 이곳의 버거는 확실히 페티의 임팩트가 강하지만 번,배지,소스의 밸런스 역시 좋았습니다.  들고 먹을 수 있게 유산지를 제공하는 것도 마음에 드는 부분이었습니다. 가로수길에서는 “페이머스버거”와 “패티엔베지스”가 유산지를 주고 “세인트그릴”이 버거를 담아 먹는 버거트레이를 줍니다. 모든 재료를 한번에 조화롭게 즐길 수 있는 것이죠.  버거투어를 진행하면서 저는 경험적으로 칼로 썰어먹는 버거보다 한번에 들고 먹는 버거가 더 맛있다는 것을 깨달았습니다.  다만 얇은 크런치 형태로 제공되는 프라이즈는 곁이 빨리 마르고 뻑뻑해서 별로였습니다. 제가 크런치 형태보다 통통한 웨지스타일을 좋아해서 그럴지도 모르겠네요. 일회용 용기에 서빙되는 것은 가격대를 생각하면 아쉬운 부분입니다. 방문했을 때가 코로나 절정기라 직원 거의 없이 사장님 한분만 일하시고 계셔서 어느정도 이해가 되기도 했습니다.  이곳은 소스에 찍어먹는 딥소스버거도 인기가 많은 것 같아요. 다음에 방문하면 도전해보고 싶습니다. 빨리 다시 열어줬으면 좋겠어요. 2020-06-11', 'date': '+2'}, {'id': 4722, 'review': '육즙 팡팡 터지는 패티와 개성 넘치는 채소 구성과 번이 말 다 했다. 좀 새로운 스타일의 버거처럼 느껴졌는데 요즘 꽤 핫해진 모양.  손님들이 몰려 퀄리티 유지가 힘들어 당분간 휴업한다는 이야기도 들림.  아무튼 최근 먹은 패티 중 아주 좋았음. 새로운 스타일의 버거 원한다면 방문을 권함. 2020-06-05', 'date': '+4'}, {'id': 4723, 'review': '와 키오스크에서 메뉴 훑어볼때부터 이건 무조건 맛있다는 확신이 들었는데 간만에 정말 맛있는 버거를 먹었네요! 상호명대로 패티와 베지가 탁월합니다. 베어물때부터 기분좋게 두꺼운 비프패티는 겉은 살짝 러프하게 그을렸고 속은 부드럽지만 식감이 살아있는데, 육향과 풍미가 훌륭합니다. 브리오슈번에 질려있었는데 살짝 거친식감의 얇은 번도 맘에 들고요. 번이 육즙에 너무 무너지지도 않아 좋았습니다. 무엇보다 산미와 고소함, 식감을 배가시켜주는 각종 야채와 소스 조합이 노련하기 그지없어요. 주문한 스피니치페스토버거는 이미 그 자체로 완성형인 패티에 페스토와 발사믹의 달콤짭짤함과 신선한 토마토, 루콜라가 고소한 모짜렐라까지 어우러져서 순식간에 해치워버렸습니다. 일행의 하와이안와사비 버거도 파인애플과 와사비크림 조합이 잘어울렸구요. 전체적으로 밸런스 좋은, 뛰어난 조리가 돋보이는 버거였습니다. 스눕독, 쿨리오 등 반가운 이름들이 줄이어 나오는 올드힙합 비지엠도 좋네요ㅎㅎ', 'date': '2020.05.09'}, {'id': 4724, 'review': '원래 논현동에 있었지만 가로수길 쪽으로 이전! 한가지만 먹어보았기 때문에 짧은 리뷰. 존재감 확실한 패티가 마음에 들었다. 완전 취향은 아니지만, 이런 패티를 하는 버거집이 잘 없다. 요즘 트렌디한건 대부분 얇아서.. 평소 브루클린을 가장 좋아하지만 패티만 따지면 이런 패티가 취향임.  패티는 좋았지만 번은 취향에서 아주 약간 벗어났고, 사이드로 주문한 감자류는 평범. 주문은 키오스크. 딥소스 버거와 클래식 버거 2종으로 나뉜다. 클래식 버거는 베이컨 치즈나 그린 살사.. 어쩌구 여튼 평범한 버거의 형태로 다양한 채소와 다양한 재료. 9,900~12,000원 선. 비프/치킨/새우 패티를 선택할 수 있는 것 같다. 비프만 먹을거라 딱히 자세히 보지 않음.  딥소스 버거는 번 사이에 멋진 패티만 들어있고 치즈딥을 따로 줌. 종류는 에멘탈, 체다, 블루치즈. 싱글 패티 또는 더블 패티. 저는 더블딥 블루치즈를 먹었고.. 비록.. 앗 이것은 고지혈증! 각이 잡혔으나 좋아하는지라 맛있게 먹었습니다. 13,900원. 패티는 딱히 굽는 정도는 선택하지 않고, 나온대로 먹었는데 속은 맛있었음. 너무 느끼하거나 페퍼 범벅이거나 하지 않음. 조금 부서지는 부드러운 스타일인데, 번도 촉촉해지며 나중에는 좀 무너져서 손으로 잡고 천천히 먹기는 갈수록 어려워졌음. 그러므로.. 빨리 세입 정도에 먹자. 살짝 덜 뭉크러지면 좋을듯.  주차는 가게 앞에 세워두고 직원에게 문의하면 발레 됨. 화장실은 바깥 건물. 엄청 멋진 버거인데 사진 잘찍기가 좀 어려워서 아쉬움. 버거 좋아하는 사람한테는 완전 추천. 슬프게도 음료는 코카콜라가 아니고 펩시 패밀리임.  근데 베지스 부분이 거의 없는데(장점) 패티 앤 치즈딥이라고 바꿔야 하는거 아닌지 ㅋㅋㅋ 2020-04-28', 'date': '+1'}, {'id': 4725, 'review': '맛있음 번도 소스도 좋고 근데 내가 싫어하는 소스 범벅. 패티도 겉을 좀더 바싹 구워주면 좋겠다. 라고 인스타에 썼더니 말하면 조절된다고 디엠이왔다. 키오스크 주문에는 선택도없고 처음갔는데 당연히 정도를 모르니 다른 인스타보고 그렇게 깔끔하게 나올줄 알았지뭐. 주문단계에서 조절가능하게 바꾸면 좋겠다. 일단 기본적으로 가격대가 높은편인데 세트도 없어서 좀 부담스런 가격이다.', 'date': '2020.04.11'}, {'id': 4726, 'review': \"Very meaty. Very nice Mailard reaction. Reminds you of the kind of burger you'd get at a barbeque.\", 'date': '2022.11.08'}, {'id': 4727, 'review': '세로수길에 있는 수제버거집. 두툼하고 육즙 가득한 패티가 퀄리티도 좋아 맛있게 먹었다. 싱글딥 체다와 더블딥 블루치즈로 먹었는데, 치즈가 패티 속에 줄줄 흐르게 나올 줄 알았는데 찍어먹는 형태라 기본 치즈와 패티만으로도 즐기고, 치즈를 더 많이 추가하여 즐길 수 있게 골라 먹을 수 있어 오히려 좋았음. 칠리치즈 프라이와 맥앤치즈는 당연히 맛이 없응 수 없는 맛. 같이 먹은 건 아니지만 위스키도 같이 마실 수 있도록 옵션이 꽤나 다양했음.', 'date': '2022.07.30'}], 'geometry': ['127.020292707', '37.522055161']}\n"
     ]
    },
    {
     "name": "stdin",
     "output_type": "stream",
     "text": [
      " 서울특별시 강남구 신사동 525-2 1F\n"
     ]
    },
    {
     "name": "stdout",
     "output_type": "stream",
     "text": [
      "\n",
      "서울특별시 강남구 테헤란로39길 51 1F 102호\n",
      "{'name': '쏭타이', 'score': '4.4', 'doro_addr': '서울특별시 강남구 테헤란로39길 51 1F 102호', 'jibun_addr': None, 'reviews': [{'id': 4728, 'review': '— 저도 비건 지향이긴 한디, 속은 편한디 뭔가 심심해요 —  맛…있긴 하다! 아무래도 비건메뉴가 주류를 이루다 보니 고기가 들어있는 메뉴는 없고, 기름져봤자 푸팟퐁커리 정도임!  팟씨유와 삐여우완 주문. 삐여우완이 탕수육이라길래 태국식 탕슉은 어떤 맛일까 기대했으나 두부를 튀긴 것이었다……  팟씨유는 조금 매콤하면서 짜장맛이 좀 났는데, 두부와 버섯으러 중화! 색감 예쁜 삐여우완은 자그마한 조각들이 여럿 모이고, 야채가 모였지만 탕수육에서 기대했던, 기름지거도 잔여감이 남는 그런 맛은 아니었다. 왜냐하면 둘다 두부사용 비건이었기 때문…  맛있게 먹었고, 속도 편했지만! 비건/논비건 옵션을 둘다 넣는 것은 어떠한지 살포시 제안해 본다.  그 밖에 잘꾸며 놓은 인테리어와 조명. 음식 미감은 매우 좋았다 2022-11-22', 'date': '+7'}, {'id': 4729, 'review': '아담하지만 분위기 좋고 맛도 적당한 곳 똠얌꿍, 쏨땀은 특유의 쿰쿰함이 부족해 아쉬웠는데 뿌팟퐁커리는 게가 바삭해서 맛있게 먹었음', 'date': '2022.09.18'}, {'id': 4730, 'review': '쏭타이요? 제가 먹어본 똠얌꿍 중에 최고였어요,,, (태국에 가본 적은 없읍니다,,) 똠얌꿍국수+애피타이저(텃만꿍) 셋트에 음료 하나 주문했는데 정확히 이 순서대로 나오긴 했으나... 메인이 넘나 맛있는 관계로 모든 것이 ㅇㅋ', 'date': '2022.07.29'}, {'id': 4731, 'review': '역삼과 선릉 사이의 애매한(?) 위치의 태국 음식점. 비록 전 그냥 먹었지만 비건메뉴들이 있고 비건으로 선택할 수도 있는게 인상적이었어요. 그리고 서버분들이 엄청 친절하세요. 분위기도 좋고 맛도 있는데 가게가 큰 편은 아니라 점심시간에 자리 잡기 힘든게 단점..ㅠㅠ', 'date': '2022.06.29'}, {'id': 4732, 'review': '똠양꿍 진짜 맛있네요 다음엔 푸팟퐁커리 먹어봐야겠어요', 'date': '2022.06.03'}, {'id': 4733, 'review': '- 한줄평 : 전반적으로 괜찮았던 타이 레스토랑  강서만큼 맛집이 별로 없는 역삼 일대... 그래도 괜찮다는 타이 식당이 있다고 해서 방문.  쏨땀, 팟타이랑, 레몬 글라스 들어간 수프 같은걸 시켰는데 전반적으로 맛있게 먹었다.  특히 계산하고 나갈 때 설탕에 굴린 건빵을 주셔서 그날 저녁 소중하게 잘 먹었따...ㅋㅋ 2022-01-22', 'date': '+6'}, {'id': 4734, 'review': '#비건 대존맛... 그리고 분위기좋음!  비건메뉴 제대로 내놓는 태국음식점 똠양꿍이랑 탕수육먹었는데 둘다 비건옵션가능해서 바꿔먹었다. 똠양꿍의경우 비건변경하면 단지 버섯들만 다채로워지는 경우가 있었는데 이곳은 콩으로 만든 어묵, 두부?들이 다양하게올라가있어서 재밌었다! 그리고 그 건더기들이 다 실하고 맛있어서 비건 제대로하는구나 싶었다!  탕수육은 콩고기로바꿨는데 부드럽지만 씹는맛있는... 찢기는맛이있는것같기도한... 콩고기중에서 맛없는건 되게맛없는데 여긴 거부감이 1도안드는 맛이였다. 아니 오히려 좋아! 탕수육 소스도 새콤달콤 맛있었고 마늘부터해서 다양히 있었던듯  여기 양 꽤만타ㅎㅎ 사진보다 조금협소한 느낌이들지만 아늑하고 그리고 생각보다 세련되고 고급진 느낌이 나는 공간이였다! 재즈가흘러나오는 태국음식점...ㅎㅎ 예약안했으면 바테이블갈뻔했는데...바테이블은 그 나름의매력이있어보였음  사실 생일에 간곳인데 좋아하는 사람이랑 맛도있고 분위기도좋은 곳에갈수있어서 너무 행복했다~~아 행복해~~~', 'date': '2021.11.17'}, {'id': 4735, 'review': '❤︎요리 하나하나 다 맛있었던 태국요리집  맛있는 식당을 가서 음식을 여러개 시켜도 모든 음식이 다 정말 맛있는 경우는 생각보다 드물다. A는 너무 맛있는데 B는 살짝 아쉽네..그치만 전반적으로 다 맛있으니 맛있다!인 경우도 사실 있는데 여긴 정말 시킨 메뉴 모두 만족스러워서 회사 점심시간이였는데도 주말텐션이 되었다.  팟타이+똠양꿍+텃만꿍이 나오는 점심 세트를 시켰다.  팟타이는 정말 새우가 오동통한게 씹는맛이 일품이였다. 사실 팟타이는 태국요리집을 가면 무조건 시키는 메뉴인데 여기 팟타이는 소스도 물론이고 면과 숙주 쪽파 계란이 아주 조화롭게 잘 섞여 정말 만점을 주고 싶은 팟타이였다.  똠양꿍도 시큼한 맛이 적당하게 나면서도 국물에서 깊은 맛이 났는데 호불호가 꽤 갈리는 메뉴인데 개인적으로 불호인 사람도 여기 똠양꿍은 한번은 츄라이 해볼만하지 않나 생각했다. 식당에 따라 유난히 향신료향이 매우 심하게 나는 경우도 있는데 여긴 딱 적당했다.  텃만꿍도 참 별미인 메뉴이다! 새우살을 넣어 튀긴 메뉴인데 새우가 아주 듬뿍들어있어 새우 본연의 맛도 잘 느껴지고 바삭바삭함 튀김의 식감과 매력적인 기름진 맛도 잘 느껴졌다. 다소 기름진 맛이 물린다면 같이 제공된 양배추를 아삭아삭 씹으면 재충전된다! 가게에서 직접 만든 소스도 맛있었다.  그러고보니 다 새우새우한 메뉴를 시켰는데 전반적으로 여기는 모든 메뉴 내에 있는 새우들이 실해서 기분이 좋다!  요즘 다시 태국요리가 땡기는데(사실 안땡기는 요리는 없지만..ㅎㅎ) 가까운 시일내에 다시 재방문 하고 싶은 곳이다!! 2021-10-30', 'date': '+1'}, {'id': 4736, 'review': '한줄평: 비건옵션이 있는 역삼의 맛있는 태국음식 전문점  태국음식이 땡기던 어느 날, 역삼에서 지인을 만나야해서 방문. 내부 인테리어 진짜 태국 느낌 뿜뿜. 점심 때 11시40분에 갓는데 워크인 자리 한 테이블 빼고 다 착석 또는 예약완료였음. 우리 뒤로 온사람들 다 웨이팅 걸림.  이곳에서는 비건옵션도 가능하다고 한다. 2명이서 뭘 먹을까 하다가 뿌빳뽕커리를 주문. 양이 좀 있다 그래서 그거에 내가 좋아하는 쏨땀만 곁들여서 주문했다.  뿌빳뽕 커리 내가 좋아하는 꾸덕하고 진한 스타일 소스에 소프트쉘크랩이 넘 부드럽고 맛있다~ 같이 간 일행도 맛있다고 냠냠! 쏨땀도 내가 좋아하는 매콤하고 아삭한 스타일. 완전 성공!  instagram @yeh_rang #먹히영 2021-06-23', 'date': '+5'}, {'id': 4737, 'review': '맛나용', 'date': '2021.05.17'}, {'id': 4738, 'review': '비건 친구랑 같이 갈 곳을 찾다가 쏭타이가 모든 메뉴 비건 옵션이 된다고 해서 찾아갔다. 그린커리, 닭,,, 튀김(?), 팟타이를 주문했는데 셋 다 매우 만족! 다른 태국 음식점에 비해 많이 자극적이지도 않고 좋았다. 특히 비건 고기가 신기했다.', 'date': '2021.03.27'}, {'id': 4739, 'review': '팟타이, 뿌빳풍커리, 무쌉 모두 다 굿!!! 2021-03-27', 'date': '+4'}, {'id': 4740, 'review': '이 곳의 팟타이는 정말 최고입니다! 국물이 흥건하거나 면이 질척거리거나 너무 짜기만한 팟타이에 지쳐가던 중 쏭타이의 적-당한 국물과 적당한 뽀송함과 적당한 단짠은 아주 큰 기쁨을 주었습니다. 팟타이 짱짱 이틀연속먹어도 맛있더라구요. 후식으로 주시는 직접 튀긴 건빵도 맛있어요.. 그리고 정말 친절하세오.', 'date': '2021.03.20'}, {'id': 4741, 'review': '요즘 배달이 참 잘되어서 좋다. 이곳도 가보고 싶었는데 배달을 시작하셨길래 냉큼 시켜보았다! 팟타이 1인분만 시켰는데 양 진짜 많아서 다 먹고 배 터지는 줄 알았다.. 게다가 맛도 좋음.. 너무 짜지 않아 간이 딱 좋다 위에 올라가는 토핑들은 약봉지에 싸서 오는데 그런 센스도 참 좋은 것 같다. 다음에는 다른 메뉴도 도전해보고싶음', 'date': '2021.02.18'}, {'id': 4742, 'review': '배민 채식 쪽에 있길래 배달해 봄. 배달 가능 지역 범위가 좀 넓은 편인거 같다. 비건똠얌꿍에 누들버전으로 주문했는데 버섯이 아주 가득하고 유부볼도 있어서 분명한 비건식이라 만족스러웠다.하지만 유부볼은 좀 달달해서 똠얌꿍에는 별루..해물 들어간 버전에는 새우가 큼직하다고 하니 참고. 고수가 풍족해서 마음에 들었고 쌀국수면도 양이 어마어마하다. 고수는 팟타이용인지 모르겠지만 따로 더 챙겨주기까지 하셔서 다음날에 라면이랑 먹음ㅎ 아마 빼달라고 하면 빼주시지 않을까. 치킨팟타이, 새우팟타이 주문한 일행도 만족했으므로 전반적으로 맛있는 태국음식점이라고 땅땅띠리땅. 서비스로 온 건빵튀김도 달달해서 간식으로 제격이었다.', 'date': '2020.12.31'}, {'id': 4743, 'review': '조리시간이 좀 길다는거 빼곤 단연 최고! 인테리어 맛 모두 짱짱', 'date': '2020.09.26'}, {'id': 4744, 'review': '여기 진짜 맛집이네요 세트로 시켰는데 다 맛있었어요 팟타이 똠양꿍 고로케같은거 전부 추천해요! 특히 새우고로케같은 메뉴가 있었는데 존 맛!!', 'date': '2020.07.25'}, {'id': 4745, 'review': '<맛있는 음식, 좋은 인테리어, 최고의 친절>  언주역, 선릉역 사이쯤에서 망플 켜면 이곳이 맨위에 보인다. 간만에 태국 음식이 땡기기도 해서 약속을 이곳으로 잡았다.  가게 분위기가 좋다. 그래서 여성분들이 대부분이었다. 방문했을때 11시 20분이었는데 한 테이블만 사람이 있기에 한가한가 했더니 20분 정도 지나자 밖 테라스 자리까지 만석이 되었다.  테이블에 꽃과 와인병, 잔으로 장식을 해놓았는데 태국 분위기랑 상관없이 여성 고객 타겟인듯..  일단 팟타이, 쏨땀, 돼지고기볶음덮밥 을 주문했다.  #팟타이 달달하니 맛있다. 새우, 치킨, 비건 중 하나를 골라야 하고 난 치킨을 골랐다. 치킨살이 적당히 들어갔고 면도 쫄깃하다. 양념 간이 적당해서 젓가락질을 멈출 수 없다.  #쏨땀 이거야 뭐 어디서 먹어도 맛있는데 가격이 좀 있는편이어서 같이간 일행은 별로 좋아하지 않는듯 했다. 그래도 태국 음식 먹을때 김치 먹듯이 곁들여주는걸 좋아하기 때문에 주문하지 않을 수가 없었다.  #돼지고기볶음덮밥 태국에 놀러가면 팟타이랑 이 덮밥은 주식처럼 즐길 정도로 개인적으로 선호하는 음식이다. 고기도 양념이 좋았고 채소 비율도 적당했다. 아쉬운점은 썰어놓은 오이가 오래된듯 퍼석거렸고 밥이 좀 적었다. 밥이 적다기 보단 채소와 고기가 많아 밥이 모자른 느낌? 결국 공기밥을 추가로 주문해서 클리어했다.  사실 맛도 있지만 여기 서버의 친절함은 이 곳을 꼭 다시 찾게 만들것 같다. 웃는 얼굴에 기분이 좋아지는 시간이었다.', 'date': '2020.06.18'}, {'id': 4746, 'review': '역삼역 근처에 베트남 쌀국수집은 몇 있지만 괜찮은 태국 음식점이 별로 없어 아쉬웠는데, 이태원 쏭타이가 역삼에도 생겨서 오픈 날짜에 맞춰서 다녀왔습니다.  1. 똠얌꿍: 새콤달콤매콤. 맛있게 매워요.  태국에서 즐겨 먹던 똠얌꿍을 그리워하고 있던 찰라. 단번에 이 메뉴를 시켰어요. 만약 태국 음식이 처음이면 조금 생소한 맛일 수도 있지만 한번 먹으면 자꾸 생각나는 디쉬입니다. 레몬그라스 향이 반가운 새콤달콤매콤한 스프에요. 토마토 스프와 어쩌면 조금 닮은 이 똠얌꿍에는 큰 새우가 들어가 있는데 이게 또 고소하니 맛있어요. 제 미국 친구는 임신하고 내내 똠얌꿍이 그렇게 먹고 싶었다고 할 만큼 매력적인 음식입니다.  메뉴에도 나와 있듯이 태국 고추 2개=매워요. 하지만 캡사이신 매운맛이 아니라 맛있게 매워요. 매운 거 못 드시는 분들은 매운맛을 조절해달라고 요청하시면 덜 맵게 드실 수 있다고 하니 참고해주세요.  2. 팟타이: 기본에 충실. 조금 달아요  이제는 많이 볼 수 있는 팟타이, 태국 음식을 시작하는 사람이라면 가장 기본적으로 시도할만한 디쉬입니다. 얇은 쌀국수에 콤콤한 피쉬소스와 새우,숙주,두부,달걀을 볶은 볶음국수인데, 저는 개인적으로 팟타이에 생명은 넉넉한 피쉬소스와 위에 올라가는 땅콩이라고 생각합니다. 피쉬소스가 호불호가 갈려서 그런지 기본 디쉬에는 적당량이 들어가 있고 메뉴와 함께 기호에 맞춰서 추가할 수 있도록 땅콩,피쉬소스,크러쉬드 고추, 설탕을 따로 주시니 알맞은 비율을 찾는 것이 좋을 것 같아요.  분위기: 한쪽이 바(bar)처럼 되어있고 메뉴에도 알콜메뉴가 많이 있습니다. 어둑어둑한 분위기에 재즈 음악과 태국 음식의 조합은 성공적인 데이트를 부릅니다:)  + 개인적으로 팟씨유가 없는 것은 매우 아쉬움 :(  +오픈 날이라고 사장님께서 타이티를 서비스로 주셨어요. 달달한 타이티도 좋았지만, 무엇보다 종이 빨대를 주시는 점이 참 좋았습니다.  저는 개인적으로 태국 길거리에서 저렴하게 호르르 먹는 태국 음식이 더 익숙하지만, 한국 태국음식점들은 (특히 이태원 발) 중간보다는 높은 프라이스 포인트 + 이색적인 분위기가 하나의 문화가 된 듯싶어요. 2019-01-29', 'date': '+2'}, {'id': 4747, 'review': 'Good Thai', 'date': '2020.11.16'}], 'geometry': ['127.040267523', '37.505695299']}\n"
     ]
    },
    {
     "name": "stdin",
     "output_type": "stream",
     "text": [
      " 서울특별시 강남구 역삼동 664-32 1F\n"
     ]
    },
    {
     "name": "stdout",
     "output_type": "stream",
     "text": [
      "\n",
      "서울특별시 강남구 강남대로102길 30 1-3F\n",
      "{'name': '썸띵어바웃커피', 'score': '4.1', 'doro_addr': '서울특별시 강남구 강남대로102길 30 1-3F', 'jibun_addr': None, 'reviews': [{'id': 4898, 'review': '두번째 방문하게 된 썸띵어바웃 커피. 솔직히 의견은 많이 변하진 않았어요.. ㅎㅎ  이번엔 평일 점심 시간에 가서 그런가 너무 한가해서 너무너무 좋았어요. 주말에는 진짜 폭탄이라 ㅠㅠ 그래서 그런지 여유를 가질 수 있어서 좋았어요.  디저트 종류도 바쁜 주말보다 선택이 많았어요.  바닐라 마들렌) 마들렌 중간에 바닐라 덩어리(?)같이 있었어요. 전체적으로 좀 더 부드러웠으면 좋았을텐데 살짝 뻑뻑했어요. 맛은 괜찮았어요.  카라멜 스콘) 딱딱한 스콘... 위에 카라멜이 강해서 살짝 탔나? 싶을 생각이 들었던거 같아요. 이거는 추천은 안해요,  전체적으로 조금 아쉬운 집이지만 주말 피해서 가면 낫배드 한것같아요! 2022-11-23', 'date': '+2'}, {'id': 4899, 'review': '커피 마시면서 친구와 수다떨기 좋은 곳. 오래 전에 오고 재방문함. 밥먹고 나와서 위치적으로 여기가 제일 자연스러워서 이쪽 카페들을 많이 찾게 되는듯 하다. 디저트 종류도 많아서 구경하는 재미, 고르는 재미가 있다.  공간도 넓은데 1층, 2층, 3층까지. 아무래도 메뉴주문을 2층에서 하고 계단으로 이동해야하는 게 좀 번거롭긴 하다. 아예 진동벨 음료 받아서 이동하는 것이 현명함. 3층에 쇼파자리도 있어서 장시간 수다떨기 최적화 되어있는데 창가자리가 좀 춥다.  평일 점심에는 많이 붐비지 않아서 시끄럽지 않고 더 좋네. 주문했던 무화과 치즈케이크는 느끼하지 않고 담백하면서 부드럽고 산뜻했다!!', 'date': '2022.10.15'}, {'id': 4900, 'review': '강남역 근처 카페를 가야하는 일이 생기면 여기만 오게된다 절때 저렴한 곳은 아니다 음료 하나에 7~8천원이니.. 밥값... 국밥가격..  그렇지만 매장이 넓고 케이크가 맛있었던 기억에 계속 가게되는 디저트 맛집! 케이크가 시기에 따라 바뀌는데 다 엄청난 연구 끝에 나온 결과물이라는게 먹다보면 보인다 그래서 계속 방문하게 되는게 아닐까..? ㅎㅎㅎ  저녁늦게 방문하면 케이크 품절 100%!', 'date': '2022.09.04'}, {'id': 4901, 'review': 'ㄱㅊ', 'date': '2022.08.19'}, {'id': 4902, 'review': '초당옥수수케이크랑 레몬마들렌, 스콘 다 맛있었어요~ 다양한 종류의 디저트가 있어서 매번 갈때마다 설레는 마음으로 고르네요 음료값은 비싸지만 카페도 크고 디저트 먹고 싶을때마다 찾게 되는거같아요! 1층 계단 아래쪽으로 큰 거울이 있어서 전신사진찍기 좋습니다', 'date': '2022.07.31'}, {'id': 4903, 'review': '글쎄요...? 인스타 광고 때문에 유명해져서 그런가 저는 솔직히 맛집인지 모르겠어요 ㅎㅎ  일단 내부는 큰데 주말에는 자리가 너무 없어서 한참 헤맸어요...  디저트는 너무 귀여워서 어떤걸 고를지 고민을 오래했는데 제 선택이 별로였던가....  크럼블) 빵부분은 푸석하고 맛은 그닥 그랬어요. 위에는 요거트 같은 상큼한 맛이였는데 전체적으로 어울리는 맛인지는 모르겠어요 생각보다 심심하더라구요  역시 인스타 광고는 인스타 광고를 했다~ 2022-07-19', 'date': '+2'}, {'id': 4904, 'review': '강남서 놀다가 휘낭시에 먹고싶다고 노래하는 친구를 위해 방문한 카페! 점심으로 차돌에 쏘맥을 해서 상큼한 걸 먹고싶어 레몬갸또케이크도 골라봤다 음료는 나는 아메리카노, 친구는 자몽에이드로 픽!  초코소금휘낭시에는 위에 초코코팅이랑 소금이 단짠으로 절묘해 굿굿 근데 반절만 초코소금이고 나머지 반절은 그냥 일반 휘낭시에인 듯. 휘낭시에 자체에서 견과류맛이나서 꼬수워 맛있긴했다 대신 촉촉함이 좀 부족한 게 아쉽  레몬갸또는 밑은 약간 꾸덕하고 위에 크림엔 갈린 레몬이 들어가있어 엄청 상큼했다 앞부분에 있는 레몬크림은 단맛이 좀 더 강한 편이고 제일 밑에있는 빵은 레몬맛 없는 그냥 시트!  아메리카노는 약간 쓴 편이었고, 자몽에이드는 안먹어봐서 모르겠다 하하 평일인데도 사람 디게많던데 인기가 꽤 많은 것 같다 디저트가 생각보다 먹을만해서 나중에 재방문 할 수도 있을 것 같음 근데 넘 비싸긴하다 후 강남물가 무슨일 . 아메리카노 (₩6,000) 자몽에이드 (₩7,500) 레몬요거트 갸또 (₩8,000) 소금초코 휘낭시에 (₩2,800) . 맛 ★★★★ 가성비 ★★ 총점 ★★★ 2022-07-12', 'date': '+2'}, {'id': 4905, 'review': '강남역에서 이 정도의 여유를 주는 공간이라면.  (베이커리에 대한 기대치는 좀 더 낮춰도 괜찮지 않을까?) 2022-05-23', 'date': '+1'}, {'id': 4906, 'review': '커피 맛은 쏘쏘, 디저트는 굿! 커피가격 좀 사악한듯... 3층으로 되어있고 넓고 인테리어가 ㅇㅖ뻐요 근데 중간에 해골은 왜있는지 이해불가지만 무튼 서비스도 친절하고, 가게가 넓어서 그런지 평일 저녁에 가도 자리가 널널해서 좋아요~', 'date': '2022.05.19'}, {'id': 4907, 'review': '인스타에서 말차디저트가 많은거 보고 방문했는데, 제가 방문했던날은 아쉽게도 말차 디저트는 하나도 없었어요 아쉬운대로 음료를 말차종류로 주문했는데, 음료도 디저트도 모두 맛있었어요:) 공간도 널찍해서 여유로웠어요!', 'date': '2022.05.14'}, {'id': 4908, 'review': '디저트가 전체적으로 맛있었던 곳, 아메리카노 하나에 디저트 2,3개 필수인 디저트카페  *분위기-깔끔하고 예쁜 분위기에 자리도 많아서 꽤 많은 사람이방문하는 것 같아요 야외에도 자리가있고 안쪽에도 소파나 의자등의 자리가있어 편히 방문하기 좋은 듯합니다 *가격-무난한 강남역 디저트 카페 가격이에요 ..! *음식-디저트류가 보는 재미도있고 맛도 전반적으로 맛있어서 만족스럽습니당 아메리카노도 딱 디저트랑 먹기 좋믄 맛 ... 가면 디저트 뿌시게되는 곳 ㅠㅠ  크게 뛰어나다 라기보다는 전체적인 밸런스가 좋아요 이미 재방문해본 경험이 있기에 , 무난히 강남역 디저트카페 찾으신다면 추천해볼만한 카페! 2022-01-31', 'date': '+5'}, {'id': 4909, 'review': '3.9/5  요약 : 당충전하기에도, 진하고 단 맛을 느끼기에도 좋은 케익/스콘 류가 많은 카페. 사람이 워낙 많아 재방문 의사는 애매,  무려 삼층짜리 건물인데, 자리가 항상 꽉 차있어서 가보지 못했던 곳. 이날도 자리가 만석이었는데, 마침 한 테이블이 나가는 걸 보고 착석할 수 있었다.  뭔가 유럽풍의 인테리어, 다양하게 많은 디저트들. 케익도 많고 구움과자도 많고, 다양한 맛의 헤비한 스콘들도 많다. 대치쪽의 브라운..무슨 카페랑, 레이어드가 함께 생각나는 내부 구성이랄까.  #황치즈휘낭시에 #애플시나몬바질스콘 #이름은까먹은 케이크하나  한동안 황치즈 빵이 유행을 탔었다고 전해들었다. 이젠 빵순이에서 멀어졌다는 걸 실감한게, 유행 한참 지나고 나서 그거 유행이었어-라고 들을때? 황치즈 휘낭시에는 큰 감흥이 없었어서 패스.  애플시나몬 바질스콘은 은근히 바질향이 많이 나서 좋았다. 오히려 별 기대 안했던 바질스콘이 나쁘지 않았음.  케익은 로투스 치즈케익 뭐 그런 이름이었는데, 자극적인 맛이었으나 생각나는 치즈/로투스 라는 맛을 잘 만들어서 괜찮았다. 특히 바닥이 진짜 달달했던 걸로 기억.  전체적으로 엄청 달고 자극적인 맛은 맞지만 조화롭지 않고 인위적이진 않아서 나쁘지 않았다. 너무 안에 사람도 많고 테이블이 작아 재방문 의사는 잘 모르겠으나, 당분 충전하기에는 엄지 척', 'date': '2022.01.31'}, {'id': 4910, 'review': '3층까지 있어서 자리는 많은데 사람이 너무 많아서 원하는 자리에 앉긴 힘들 수 있어요ㅠㅠ 2층에서 주문하면 되는데 2층 올라가자마자 너무 예쁘고 디저트 종류가 많아서 보기만 해도 행복 ㅎㅎ 디저트 종류별로 여러가지 골라봤는데 다 맛있어요!! 다음에 다른 것들도 다 먹어보고 싶네요 ㅋㅋ 저는 말차케이크랑 누네띠네 휘낭시에가 젤 맛있었어요!  #위드인기맛집', 'date': '2022.01.16'}, {'id': 4911, 'review': '#강남역카페 #썸띵어바웃커피 ───────────────────── 썸띵어바웃커피 @something_about_coffee_ 강남구 강남대로102길 30 1~3F 흑임자 치즈 케이크 8.0 피스타치오 마들렌 3.3 딸기스콘 4.5 아이스아메리카노 5.5 ───────────────────── ❇ 한참 전에 다녀온 곳인데 지나가다 빵이 많길래 들어감..ㅎ 층마다 분위기가 다름 노상? 느낌을 내는 곳도 있음 할매입맛 저격 제대로 당한 흑임자 치케 ✨달지않고 시큰한 크림치즈가 입맛을 돋군다 (좋은 의미) 이 외 피스타치오 마들렌과 딸기 스콘은 무난,, ☕️커피는 약간의 산미와 진함으로 나름 깔끔하고 맛났음 같이 간 사람들은 재방문의사 없음,,⁉️ (강남역에 마땅히 갈만한 곳이 없어 그 뒤로도 갔던 나인걸 할매입맛 저격한 케이크가 생각나서,,,,,헤) ⠀ ───────────────────── ⓒ Oinks_Picks. All Rights Reserved. ⠀', 'date': '2021.12.27'}, {'id': 4912, 'review': '규모도 크고 베이커리 종류도 다양해서 오기 전에 별로 기대가 없었는데 방문해보고 너무 놀랐다..ㅋㅋㅋ 빵들도 잘 커버 되어 있어서 약간 안심되는 마음이 있었다 ㅋㅋㅋㅋ 블루베리 케이크랑 다른 디저트를 주문했는데 케이크가 생각보다 너무 괜찮았다..ㅋㅋ 강남역에서 맛본 디저트 중 가장 제대로 된 디저트였던 거 같다. 케이크는 치즈가 꾸덕꾸덕하고 블루베리 크림도 엄청 인위적인 공장맛은 안 나서 맛있었다. 인테리어를 막 감상하고 그러진 않았지만 그렇게 엄청 좁은 느낌은 아니어서 더 마음에 들었다', 'date': '2021.12.17'}, {'id': 4913, 'review': '강남역의 이런 big bakery 는 그냥 크기빨일 것 같은 괜한 느낌이 있는데, 요즘은 아닌듯. 복작복작 혼잡스런 이 카페 안에서 비주얼과 더불어 맛까지 뽐내는 디저트들. 레몬요거트 케익과 생크림스콘을 시켰다.  무엇보다 크림이 많이 느끼하지 않아서 맘에 들었다. 나는 상큼한 류를 썩 좋아하지 않는편이라 레몬요거트크림케익은 쏘쏘였지만 평소 이런 류를 좋아하는 사람이라면 틀림없이 좋아할 맛! 강남역에서 괜찮은 베이커리와 커피를 곁들일 곳을 찾는다면 이 카페를 적극 추천할 것 같다! 2021-12-08', 'date': '+2'}, {'id': 4914, 'review': '소중하다 소중해! 강남역 인근 디저트 맛집  강남역 인근에는 정말 많은 음식점과 카페가 있어왔지만 기대에 못미치는 곳이 많은 게 사실이었다. 하지만 요 몇년간 그래도 꽤 괜찮은 곳들이 많이 생겨난 것 같다. 그중에 하나! 차라리 프렌차이즈 카페에 가는 게 훨씬 나았던 카페 불모지 강남역에 나타난 디저트가 꽤 괜찮은 카페! 썸띵어바웃커피이다. 정체를 알 수 없는 저 핑크해골만 빼면...  썸띵어바웃커피는 1층부터 3층까지 넓은 공간을 사용하고 있다. 날씨가 좋은 날에는 2층과 3층의 테라스 공간에서 커피와 디저트를 즐길 수도 있다. 마들렌부터 휘낭시에, 파운드,스콘, 케이크 등등 디저트의 종류가 정말 다양하게 준비되어 있는데 다들 맛도 꽤 준수한 편이다. 특히 이곳은 크림 스콘이 인기가 많은데 스콘의 가운데에 크림이 가득 채워진 비주얼이 압권이다. 맛만큼 디저트들의 비주얼도 신경을 써서 강남이 아닌 어디에 있어도 디저트 맛집으로 인기를 끌지 않았을까 싶다.  초당옥수수치즈케이크 그리고 이곳의 다른 매력포인트는 계절마다 새로운 메뉴를 내놓는 다는 점. 계속해서 새로운 맛을 선보이기 위해서 연구하고 있다는 느낌이 들어 좋다. 7월에는 초당옥수수 스콘과 초당옥수수 치즈케이크, 초당옥수수 휘낭시에를 만날 수 있었는데 내가 맛본건 초당옥수수 치즈케이크. 치즈케이크 안에 초당옥수수가 알알이 박혀있고 그위에 크림과 크럼블, 초당옥수수가 올라가 있다. 베이스가 되는 치즈 케이크와 크림이 기본적으로 맛이 좋았는데 거기에 초당옥수수와 크럼블이 적절히 포인트가 되어서 정말 맛있게 먹을 수 있었다. 하지만 이제 시즌 종료료료료... 그래도 다른 디저트들도 충분히 맛있을 테니까 시즌마다 다녀올 이유는 충분하다!  크림스콘 4.5 초당옥수수치즈케이크(시즌종료) 8.5 매일 11:00 - 22:00 서울 강남구 강남대로102길 30 2021-12-01', 'date': '+8'}, {'id': 4915, 'review': '강남에서 주로 방문하던 카페들이 사라져버려 새롭게 발굴하고자 첫 발걸음을 뗀 곳. 우선 2층을 올라가면서 보이는 케이크 진열대는 감탄이 나올정도로 잘 꾸며져있었다. 케이크 모양들도 예쁘고 3층에 걸친 전체적 인테리어와 야외석을 포함해 다양한 형태의 좌석들도 상당히 인상적이었다. 하.지.만. 아메리카노가 너무 충격적으로 맛이 없었다..... 좋게보자면 라이트하게 케잌등과 곁들여먹기 좋다고 할 수 있겠지만 거의 아무맛이 안나는거에 가까워서 동네카페보다도 못한 느낌.... 휘낭시에도 좀 퍽퍽하다고 생각되었다. 주력메뉴들인 케잌을 먹어보지 않은 상태에서 단언하기는 그렇지만 맛있는 카페라고 말하긴 어려울 것 같고, 예쁜 카페에서 수다떨거나 사진찍길 좋아한다면 괜찮을듯.', 'date': '2021.11.30'}, {'id': 4916, 'review': '사실상 갈만한 맛집이 부족한 강남역에서 가장 괜찮은 카페였습니다. 커피맛은 그저 그런 평범한 맛이었고 디저트는 다양하게 전시되어있어 확실히 이쁜 카페구나 라는 생각이 들었습니다. 디저트의 경우는 다른 곳보다 맛있었냐고 한다면 아니었습니다. 하지만 맛이 영 부족하지도 않았습니다. 하지만 다음에 먹는다면 케이크 위주로 먹을 것 같습니다. 다른 디저트들은 조금은 수분이 부족해서 퍽퍽하다는 생각이 들었습니다.', 'date': '2021.11.17'}, {'id': 4917, 'review': '다양한 구움과자들을 판매하는 강남역의 카페. 생각보다 크기도 크고, 음료나 베이커리류도 괜찮았어요! 크림브륄레 마들렌을 먹었는데 맛있었어요. 사실 자세한건 오래돼서 기억이 안남..', 'date': '2021.10.19'}, {'id': 4918, 'review': '굉장히 넓어 자리가 많아요, 케익&구움과자류도 많아 고르는 재미가 있습니다. 근데 먹어본 두 디저트 다 맛이 평법했어요 무화과 파운드 케이크는 약간 뻑뻑하고, 쑥 인절미 가또?는 쑥맛이 강하게 나서 좋았어요. 커피도 여느 카페에서 먹을 수 있는 아주 평범한 맛 이였습니다. 전체적으로 나쁘진 않았지만 재방문할 정도는 아닌것 같습니다~ 2021-10-11', 'date': '+5'}, {'id': 4919, 'review': '태어나서 먹어본 마들렌중에 가장 쓴 마들렌과  가장 딱딱한 레밍턴 케이크를 동시에 먹을 수 있었던곳이에요  정말 신선한 경험이였어요  내가 벽돌을 잘못시켰나? 전세계에서 수백군데의 레밍턴케익을 먹어본 레밍턴 덕후인데 진짜 상상도 못했던 레밍턴케이크입니다. 독보적이에요.  던지면 자동차도 부술 수 있을거같은 레밍턴케이크입니다.  근데 말차케익은 정말 맛있었어요.  홀에 나와있는 빵종류 말고 쇼케이스냉장고에 들어있는 케이크들은 다 어느정도 괜찮은거같아요.  레밍턴케이크의 정의를 다시쓴 대단한가게라 처음으로 리뷰남겨요.', 'date': '2021.09.30'}, {'id': 4920, 'review': '강남역 근처 넓고+디저트맛있고+예쁜곳 찾는다면 방문하기 가장 좋은 곳!! 여기 휘낭시에, 케이크, 크림스콘 고퀄리티이고 맛있다 단호박, 무화과 등 계절메뉴, 새로운 메뉴들이 자주 나와서 좋다~! 음료가격이 좀 있는데 평일 낮 이벤트가격으로 먹으니 좋았다! 주말엔 사람 많아서 평일 이른시간에 가니 정말 좋았던 곳', 'date': '2021.07.28'}, {'id': 4921, 'review': '인스타그램 둘러보기에 계속 떠서 저장해두었던 강남역 베이커리 썸띵어바웃커피! 케이크 비쥬얼이 너무 좋아서 가서 테이크아웃해서 먹었어요.   흑임자치즈케이크, 쑥인절미케이크, 말차갸또, 옥수수생크림스콘을 골랐습니다. 그중에서도 흑임자 치즈케이크 이 조화가 너무 신기했어요!!  4조각 사서 친구들이랑 같이 먹었는데 다들 비쥬얼에 감탄하고 맛에 두번 감탄해서 저도 너무 기분 좋았어요. 정말 맛있었고요! 나중에 또 사러 갈 의향있는 곳이에요.  케이크들 가격은 조금 비싸지만 맛도 있으니 이벤트?용으로도 괜찮을 것 같아요 :) 2021-07-25', 'date': '+10'}, {'id': 4922, 'review': '사실 강남 cgv 뒷골목에는 괜찮은 카페들 보다는 오래된 그냥 카페를 가여해서 가는 그런 카페들 밖에 없었는데 다 인테리어와 메뉴가 바뀌면서 너무 괜찮은 카페들이 많이 생겼어요 . 저번에 갔던 에이비 카페 바로 옆인 #썸띵어바웃커피 디저트에 이렇게 신경을 쓴다고? 할정도로 다양한 케이크와 음료들. . 홍차파운드와 크림치즈 휘낭시에를 먹었는데 둘다 훌륭했습니다 ☺️ 자리도 많고 넓고 소파나 빈백들도 테라스에 준비 되어있어 편한 카페', 'date': '2021.07.23'}, {'id': 4923, 'review': '괜찮다 맛있다 언저리인데, 위치를 생각하면 무난하게 맛있다 주겠음. 빵이 좀 많이 달아서 남겼다. 2층 3층까지 있으나 빈 자리는 찾기 힘들다.', 'date': '2021.07.10'}, {'id': 4924, 'review': '구움과자가 진짜 맛있어요!! 특히 휘낭시에류가 너무 맛있었습니다 ㅎㅎ 커피는 산미가 살짝 있어요! 아인슈패너 크림 쫀쫀하구 맛있어요', 'date': '2021.07.06'}, {'id': 4925, 'review': '강남역 주변에 요즘은 갈만한 큰 카페가 많이 생겨서 좋다. 메인 거리에서 살짝 안으로만 들어가면 프렌차이즈가 아닌 대형.소형 개인카페들을 많이 발견할수 있다. 빵등 베이커리류가 맛있다해서 기대했던 카페. 빵들의 비쥬얼도 어마어마하다. 배가 불러서 얼그레이 케익 하나밖에 못먹어봤지만 빵이 많이 건조한 느낌..시트지가 꾸덕하거나 서프트 한것도 아니구 푸석푸석했다ㅜㅜ 그래도 커피맛이 엄청 깔끔하고 좋아서 다시 가서 다음에는 다양한 마들렌을 먹어볼 예정 !! 2021-06-26', 'date': '+3'}, {'id': 4926, 'review': '아 가게에 분홍색해골 디자인은 도대체 왜? 가게에 들어가기 전에 이게 내가 궁금했던 그 썸띵어바웃커피가 맞나 싶었어요. 하얀 벽에 분홍색의 귀엽지도 무섭지도 않은 해골 심볼?이 있었거든요(당황) 인테리어와 좀 안어울리는 건데 뭐..깊은 뜻이 있었겠죠.  각설하고, 꿀바나나가 올라가 휘낭시에가 직원 추천 메뉴라고 써있어서 그거 시키고 쑥크럼블케이크, 크림브륄레마들렌 시켰어요.  배고팠다면 쑥크럼블도 맛있게 먹었을거같아요. 위에 크림이 100% 동물성크림은 아니지만 적당히 부드럽고 느끼하고 쑥의 쌉싸름한 맛이 느껴져서 괜찮았어요. 크럼블케이크도 무난무난했고요.  크림브륄레마들렌은 제가 마들렌을 별로 안좋아해서 잘 모르겠는데 그냥 겉이 토치한 맛, 가볍게 시켜먹기 좋은 맛이었어요.  그리고 기대 안했던 바나나휘낭시에...존맛이었어요. 호잇! 구움과자 하기 좋게 잘 익은 바나나를 아주 잘 구워내어 달콤한 바나나맛을 아주 잘 살렸어요. 휘낭시에 겉은 막 바삭하진 않았지만 그래도 바삭꾸덕 그 사이에 있었고 속은 촉촉했어요. 꿀바나나휘낭시에라 겉이 바삭하지 않았나? 뭐 아무튼 좋았어요. 맛이 아주 달달한 꿀맛과 바나나맛이 띵조합이었네요...★  커피는 그냥...커피. 2021-06-03', 'date': '+3'}, {'id': 4927, 'review': '카페 분위기에 어울리지 않게 뜬금없는 해골로고가 당황스럽긴 했지만...ㅋ 좋아하는 디저트가 맛있어서 만족스러운 곳! 그거슨 바로 레몬케이크와 레몬파운드 ㅋㅋ 레몬에 진심인 편입니다....ㅎ  둘중 뭘 고를까 하다가 에라모르겠다 하고 둘다 골랐어요 ㅎㅎ 근데 잘한 선택인것 같아요. 레몬케이크를 먼저 골랐는데, 레몬파운드가 더 맛있었거든요. 레몬케이크의 생명인 새콤달콤한 아이싱은 딱 좋았어요.  이 둘의 차이는 파운드. 마들렌도 맛 없는 곳이 많아서 잘 안 먹는 편인데, 여기도 좀 입안에 기름기가 느껴지는 텁텁함이 살짝 있었고, 퍽퍽하기도 했어요.  레몬파운드는 촉촉한 편. 입구앞 입간판에 문구에서 밀가루와 버터에 대한 자부심이 엄청 느껴졌는데, 이정도면 자랑해도 될것 같아요~  문제는 커피....강남역인걸 감안하더라고 이 퀄리티에 5500원이라니ㅠㅠ 진짜 웬만하면 다 잘 먹고 잘 마시는데, 이건 남겼어요... 한계였습니당 ㅎ.ㅎ 카페 내부의 인테리어나 조명 모두 좋은데, 해골이 지못미네요....ㅎㅎ;;', 'date': '2021.03.15'}, {'id': 4928, 'review': '레몬 파운드케이크랑 아이스 아메리카노를 주문했다. 아이그아메리카노가 5천원이 넘었는데 정말 1500원짜리 커피 맛이다. 신맛도 장난하니고 바디감이라고는 하나도 없는 이게 5천500원이야? 할정도의 맛이다. 처음으로 커피를 원샷때리지 못했다.  레몬 파운드케이크랑 레몬 마들렌 둘다 주문했는데 레몬 파운드 케이크가 더 맛있다. 신맛이 확 사로잡아 기분좋아진다. 커피말고 디저트 먹으러 가야하는 곳', 'date': '2021.03.14'}, {'id': 4929, 'review': '최근에 인스타에서 여기를 굉장히 자주 봐서 궁금했던... 인스타 핫플인데 강남역에 있어서 크게 기대하지는 않았는데 생각보다 괜찮았던 것 같네요! 일단 가게가 엄청 넓고 사람도 엄청 많습니다  케잌류가 더 유명한거같긴한데 배가 많이 고프지 않아서 그냥 크럼블 시켰어요. 딸기랑 생크림이 올라간 크럼블이었는데 달달하고 괜찮았어요. 근데 뭐 인스타에서 극찬할정도의 존맛은 아니구 그냥 강남역에서 괜찮은 디저트 정도~의 포지션  동생이 밀크티 시켰는데 너ㅓㅓㅓ무 달아서 두입먹고 못 먹었어요 ㅠ 음료는 그냥그런걸로', 'date': '2021.03.10'}, {'id': 4930, 'review': '다양한 디저트 그리고 커피!', 'date': '2021.02.08'}, {'id': 4931, 'review': '레몬요거트갸또 JMT! 다른 맛 갸또 못 먹어본 게 아쉽다..ㅠ 기대 안 하고 먹었는데 맛있더라 그리고 의외로 스콘, 크럼블류가 사진 찍기에는 매우 예쁜데 생각보다 평범한 맛이다. 아메리카노는 사알짝 비추.. ! 인테리어가 예뻐서 겨울에 와도 좋지만 여름에는 위층 테라스를 연다하니 분위기가 더욱 좋을 듯 하다. 알바생분들도 친절하심', 'date': '2021.01.26'}, {'id': 4932, 'review': '여기 정말 맛있지 않나요ㅠㅠ 11월 경 다녀온거라 메뉴 이름이 정확하진 않지만 쑥인절미갸또, 레몬갸또쇼콜라로 추정됩니다! 원래 단호박 메뉴를 먹으러갔는데 품절이라ㅠㅠ 아쉽지만 다른 메뉴를 주문했어요. 사진에서도 알 수 있듯이 사실 처음에는 2인이서 케이크 하나와 음료 두개를 주문했는데, 케이크가 너무 맛있어서 뒤늦게 쑥인절미갸또도 추가 주문했어요 ㅎ.. 둘이 한조각으로도 충분~~할만큼 크기도 크고 너무 맛있어요ㅠㅠ 저는 개인적으로 쑥인절미갸또가 더 취향이지만 레몬케이크도 맛있었어용 자꾸 생각나요.. 단호박케이크도 먹으러 한번 더 가긴해야하는데 멀어서 못가는게 슬프네요.. 빵 비율보다 크림 비율이 더 많아서 좋았어요 느끼할까봐 걱정했는데 걱정이 무색할만큼 두 접시 다 비웠습니다. 여기 구움과자 메뉴도 너무 많고 빵 냄새는 너무 좋고.. 하 솔직히 먹고 싶은 스콘도 많았는데 저녁 먹어야되서 케이크 두개로 참았습니다. 아, 가게는 3층? 2층?에 테라스까지 아주 넓어요. 곳곳에 예쁜 자리들도 많고요. 저는 케이크 먹으러 한번 더 가볼 생각입니다~~ 잘 있다가 갑니다~~', 'date': '2021.01.22'}, {'id': 4933, 'review': '■ 아메리카노 (5.5) 한 모금 쭉 마시면 일단 엄청 산미가 강하다는 느낌을 받는다. 곧이어 쓴맛이 치고 올라온다. 바디가 무겁진 않고 되게 가볍지만, 시고 쓴 아메리카노.  ■ 레몬파운드 (6.0) 위에 올라간 딸기는 거의 달지 않았지만 딸기 철이 아니니 감안하기로 했다. 필자는 가끔 레몬도 생으로 먹는데, 갑자기 궁금해져서 레몬도 먹어봤다. 별로 시진 않았는데 약간 씁쓸했다. 파운드 빵은 단단하고 치밀한 느낌이었다. 빵이 마른 건 아닌데, 원래부터 레시피가 좀 딴딴하도록 구워진 느낌. 빵이나 크림이나 레몬 맛은 옅었다. 그렇지만 빵은 집중 안 하고 먹어도 레몬 파운드인 것을 알 수 있을 정도의 레몬 향을 내었다. 필자는 가볍고 동실동실 뜨는 디저트가 좋은데, 위의 크림은 크림치즈여서 되게 꾸덕하고 진득했다. 생각해보니 진열장의 조각 케이크도, 레몬 파운드도 이 정도 높이의 크림을 쌓는데 생크림을 쓰면 유지하기가 보다 어려울테니 크림치즈를 쓰는 게 맞을 것 같다.  디저트는 먹을 때보다 고를 때 행복했다. 건물 한 채를 카페로 쓰고 테라스도 있어서 넓고 탁 트인 느낌을 받았다. 전체적으로 하얀색, 식물, 라탄, 나무 가구가 어우러져서 분위기가 좋..을 뻔했다. 빈백 의자는 한 눈에 보기에도 엄청 꾸질꾸질했고 식탁은 좀 더럽거나 기울어진 경우가 종종 있었다. 벽에도 뭐가 많이 묻어 있었는데, 가뜩이나 전체가 흰 벽이라 더 두드러졌다. 인테리어 특성 상 시설 관리가 어려울 것 같았지만 그래도 조금 더 신경을 쓸 필요가 있어 보였다. 오픈한 지 그리 오래 되지 않은 것으로 알고 있는데 벌써 이렇게 꼬질해진 것은 좀 슬픈 일이다.', 'date': '2020.11.18'}, {'id': 4934, 'review': '제가 진짜 좋아하는 쑥이 있는 카페! 강남역 근처에서 최근 많이 가는 곳!  사진은 쑥인절미 갸또! 위에는 인절미 크림, 중간에 쑥 가나슈, 밑에는 쑥 갸또에요. 인절미 크림은 그냥저냥이에요. 단 맛이 너무 적은 것 같아요! 인절미 맛이 강한 것도 아니고.. 그냥 크림.. 쑥 가나슈가 진짜 맛있어요! 근데 너무 적게 있어서ㅠㅠ 늘려줬으면 하는 바램.. 쑥 맛도 진하고 진짜 쑥 생초콜릿 느낌! 갸또는 괜찮아요. 쑥 맛 은은하고, 밀도 있는 파운드 케이크 느낌!', 'date': '2020.11.13'}, {'id': 4935, 'review': '너무 시끄럽다.. 목소리 올려 말하느라 목이 아프다. 맛도 그냥 그럼', 'date': '2020.10.10'}, {'id': 4936, 'review': '강남에 보기 드문 맛있는 케이크 집 디저트 종류가 참 많았구, 레몬 갸또 선택했는데 신맛이 정말 마음에 들었어요 새콤달콤하니 최고!!! 그리고 디카페인 커피를 팔아요 ㅠ 넘나 맘에 들었습니당❤️', 'date': '2020.09.27'}, {'id': 4937, 'review': '디저트가 맛있어보여서 간건데 생각보다 땡기는 종류가 별로 없네용  인절미크럼블은 완전 별로였고 의외로 휘낭시에가 괜찮았어요! 아아메는 시지않고 진해서 좋았고 달고나커피는 엄청엄청 달아서 디저트랑 같이 먹기엔 좀 부담스러웠어요  자리도 많고 잘꾸며놔서 일부러 찾아가진않아도 지나가다 들리긴 좋은곳같아요!', 'date': '2020.09.21'}, {'id': 4938, 'review': '조금 늦은 저녁식사를 하고 난 후 늦은 시간까지 수다 떨 수 있는 카페를 찾다가 우연히 발견한 곳. 대부분의 근처 카페들은 다 9시~10시쯤 마감이었는데 이곳은 11시까지 영업한다고 해서 들어갔다.  배부른 상태로 들어갔기에 넷이서 각자 음료만 하나씩 시키려다가, 케이크들이 이뻐보여서 블루베리 치즈케이크를 하나 나눠먹기로 했다. 근데 이 케이크... 너무 맛있는거다...! 위에 크림층은 부드러우면서 크림의 달달함과 베리의 상큼함의 조화가 훌륭하고 아래의 치즈케이크층도 적당히 꾸덕하면서 너무 달지도 않고 아주 맛있었음. 두 층의 조화도 좋다.  모두 함께 감탄해서 있는 케이크 종류 다 먹고 가자며 흑임자 치즈케이크와 쑥 인절미 갸또까지 시켜봄. 흑임자 치즈케이크는 흑임자의 고소함이 좋았으나 치즈의 풍미는 거의 느껴지지 않아서 평이했고, 쑥 인절미 갸또는 케이크 재료로는 흔치 않은 재료들을 나름 괜찮게 활용했지만 호불호가 갈릴 수 있는 맛이라 느껴졌다.  결론은 처음 시켰던 블루베리치즈케이크가 최고였던걸로..! 그렇지만 전반적으로 상호에 \"커피\"를 내세웠는데도 베이커리류가 다양하고 케이크들이 하나같이 괜찮아서 만족스러웠다.', 'date': '2020.09.03'}, {'id': 4939, 'review': '공간이 널널하지만 사람도 그만큼 많아서 자리 잡기도 힘들던 곳ㅜㅜ 강남역은 조금만 괜찮아도 항상 북적거리는 것 같아요. 디저트류가 와 맛있다 싶은건 아닌데 주변에 괜찮은 곳이 워낙 없으니 맛있다로! 2020-09-01', 'date': '+6'}, {'id': 4940, 'review': '강남역 중심가에 생긴지 얼마 안 된 카페. 벌써 두번째 방문이다. 4층정도까지 건물 전체가 카페인데 자리도 많고 그만큼 사람도 어마어마하게 많고 빵종류도 정말 많다.. 3충이랑 4층은 테라스석도 있어서 날씨 좋을때 앉으면 괜찮을 것 같다. 휘낭시에, 마들렌, 스콘, 케이크, 파운드케익까지 정말 내가 좋아하는 탄수화물들만 가득가득 파는곳.. 보고만 있어도 행복해지는 그런 곳이다 ㅎㅎ 그래서 빵고르기가 정말 힘들다는.. 여기는 올때마다 둘이서 마들렌 하나, 스콘하나를 먹을지 1인1스콘할지 고민되는데 결국 항상 스콘을 시킨다 ㅎㅎ 스콘을 파는 카페는 별로 없는 것 같아서.. ㅎㅎ  넓은 공간에 다양한 종류의 빵들까지 있는데 맛은 사실 괜찮다와 맛있다 중에 정말 고민되는 곳이다. 약간 공장형 카페(?)라고 해야하나.. 스콘 맛만 보면 엄청나게 특별할 것은 없는 스콘이다. 스콘 맛에 큰 기대를 갖고 가면 안되는 카페!!그치만 강남역 한복판에서 이렇게 다양한 종류의 스콘을 파는 카페도 없고, 테이블도 이렇게 많은 카페가 드물기도 해서.. 고민끝에 맛있다로!! ㅎㅎ  밥먹고 달달구리 땡길때 슬쩍 와서 테라스석에서 스콘 하나 놓고 수다 떨기 좋은 카페다 2020-08-28', 'date': '+2'}, {'id': 4941, 'review': '디저트 종류가 굉장히 많은 카페에요. 다 먹음직스럽게 생겨서 메뉴 고르는 데 한참 걸렸어요. 내부는 3층까지 있어서 엄청 넓고, 그만큼 사람도 많았어요. 테라스도 있는데, 여름엔 덥고 벌레가 잘 들어오니 비추입니다.음료와 케이크 모두 무난하게 맛있었어요!', 'date': '2020.08.25'}, {'id': 4942, 'review': '맛있는 디저트, 넓직한 공간, 분위기. 셋 다 마음에 드는 게, 강남역 인근에서 가기 좋은 카페 드디어 찾은 느낌이었어요. :)  흑임자 치즈케이크와 라떼&아메리카노를 주문해보았는데, 커피 맛은 무난한 편이고 흑임자 디저트는 직관적으로 딱 맛있다고 느낄 만큼 괜찮았습니다. ㅎㅎ 보이는 그대로 흑임자 맛이 진하면서 고소했고 치즈맛도 부드럽게 잘 나고 꾸덕한 스탈이라 맛있게 먹었어요!  여러모로 인기몰이를 할 요인이 많다보니 사람이 넘나 많아서 약간 정신없이 북적거리는 것 빼고는 다 넘 좋았던 것 같네요.', 'date': '2020.08.10'}, {'id': 4943, 'review': '썸띵어바웃커피> 프렌차이즈 가득한 강남역에 연남동 감성의 카페! 평일 낮에 방문했는데 1,2,3층 모두 꽉차있었다ㅠ 어렵게 자리잡음..ㅠㅠ 빵, 케익 종류가 많았다. 오픈형으로 빵은 디피해두었다! 크럼블이 유명하다는데 그건 못먹어봤다ㅠㅠ  @인절미쑥갸또 (8.0); 쑥이 엄청 찐하다. 쑥크림?이 특히ㅠㅠ 위에 인절미 크림 부분도 고소하니 맛있음 왕추천!!b 2020-08-06', 'date': '+3'}, {'id': 4944, 'review': 'My weekly Victoria cake review, this one is hongcha flavour but I cannot taste much tea flavour... it tastes like a regular Victoria cake. Not the best but still pretty good. There’s also many cakes, scones and madeleines in the selection. Spacious cafe, I believe has 3 floors. There’s also outdoor seating which would be nice during warmer weather. I think it’s one of the more popular cafes around the Gangnam area these days. 2021-02-17', 'date': '+1'}, {'id': 4945, 'review': 'Another new discovery in the neighborhood, spacious cafe with wide range of scones and cakes. Comfortable atmosphere and tasty scones, will surely visit often. Green tea einspanner was big for the price so overall not very expensive cafe at all. 2020-06-13', 'date': '+5'}], 'geometry': ['127.027815998', '37.502833891']}\n"
     ]
    },
    {
     "name": "stdin",
     "output_type": "stream",
     "text": [
      " 서울특별시 강남구 역삼동 618-16 1-3F\n"
     ]
    },
    {
     "name": "stdout",
     "output_type": "stream",
     "text": [
      "\n",
      "서울특별시 강남구 도산대로25길 43 1F\n",
      "{'name': '빵어니스타', 'score': '3.9', 'doro_addr': '서울특별시 강남구 도산대로25길 43 1F', 'jibun_addr': None, 'reviews': [{'id': 5243, 'review': '두부파운드는.. 집에서 해드세요…  그리고 빵어니스타에서는 타르트를 드시길 바랍니다… 마켓컬리에서 빵 이것저것 주문하는 김에 집에서 만드는 거랑 어떻게 다른지 궁금해서 한 번 사봤어요. 참고로 빵 어니스타의 빵들은 모두 비건입니다.  근데 크기가 아주 쟈그마하더라구요. 후기에서 양이 적다는 얘기를 보긴 봤는데 이정도일 줄은 몰랐네요. 비건 베이킹, 게다가 두부를 넣은 거라 잘 안부풀어서 그런지 일반 머핀의 1/3크기라고 보시면 될 것 같아요. 흑임자랑 단호박맛 각 하나씩 주문했었는데요. 달지 않고 두부로 만든 빵 특유의 단단하면서 뽀득거리는 신기한 식감 그대로더라구요. 맛에서도 두부맛이 그대로 느껴집니다.  집에서 만든 두부파운드랑 거의 차이가 없는데 두부 파운드 만드는 건 간단한 편이라서… 이 정도는 집에서 그냥 만드는 게 나을 것 같아요(두부 한모면 여기 파운드 여섯개는 만들 수 있어요). 대신 빵어니스타 타르트는 맛있어요. 여기 빵 드실거면 초코타르트 추천드립니다. 재구입의사X', 'date': '2022.06.22'}, {'id': 5244, 'review': '마켓컬리를 통해 먹어본 빵어니스타 v.2! 이번에는 타르트 4종 (세일 잘 안하는데 연말에 웬일로 하길래 겟) 과 단호박두부케이크를 주문했어요. 두부케이크 시리즈는 이전에 말차와 서리태 맛을 맛있게 먹었어서 이번에 단호박맛으로 재주문했어요. 타르트는 워낙 유툽과 인별그램에서 유명해서 구입!  #타르트 코코넛 밀크, 코코넛 오일 베이스의 타르트라서 타르트지와 필링에서 코코넛 향이 나요. 타르트지가 호불호가 갈리는데, 저는 호! 코코넛을 좋아해서 그런지 향이 거슬리지 않았고, 오히려 코코넛 맛이 은은하게 나서 저는 더 좋았어요.  완전 얼린 상태로 먹느냐, 살짝 해동하느냐, 완전 해동해 먹느냐에 따라서 맛이 달라지는 매력. 얼먹하면 맛있다고 많이 알려져 있는데, 저는 개인적으로 완전 상온 해동시켜 먹는게 제일 맛있었어요. 너무 차가우면 필링의 맛이 잘 안느껴지더라구요. 완전 해동시켜 부드럽게 먹는게 필링의 꾸덕한 식감도 있고 재료 본연의 맛이 잘 느껴져요. 단 한가지 아쉬운점은 해동시켰을때 타르트지가 너무 물렁? 촉촉? 하면서 잘 바스라진다는 점. 타르트지는 얼렸을때가 더 맛있는 것 같아요.  단호박, 말차, 초코, 쑥 이렇게 네가지 맛이 있어요. 제 베스트는 단호박! 필링에서 코코넛 맛이 다 기본적으로 나요. 초코는 고급스런 다크초콜렛 맛. 쑥은 진한 쑥라떼 맛! 말차맛도 너무 맛있었네요. (그러고보니 안맛있었던게 없구나...)  #두부케이크 이전 리뷰에서도 올렸듯이 식감이 너무 맘에 들어요! 두부의 담백한 맛이 어우러지면서 식감도 아주 묵직하면서 포근한 맛이에요. 포슬하면서 담백 묵직 꾸덕한 맛? 단호박 맛과 서리태 맛이 제 베스트입니다.  이상 빵에 진심이었던 리뷰 끝-! 2021-01-08', 'date': '+2'}, {'id': 5245, 'review': '비건베이커리에서 달다구리 포장!해 온걸 얻어먹었다. 단호박 타르트, 가나슈 타르트, 말차 스콘이었던걸로 기억. 가나슈가 꾸덕하고 진한 맛이 일반 타르트와 다르지 않아서 맛있었다. 단호박은 부드러웠던 기억.', 'date': '2020.12.31'}, {'id': 5246, 'review': '단호박 파운드 포장해서 먹은 후기 코로나로 포장만 가능해서 단호박파운드 구매함 일단 크기는 매우 작은 편 비건도 아니고 비건식도 싫어하지만 빵은 좋아해서 궁금해서 사봤슴 맛은 묘사하자면 하나도 안 달고... 딱 호박떡 맛이 납니다. 약간 오래돼서 찰기 없어진 호박떡과 99.9% 일치함 맛없는곤 아닌데 호박떡 맛이라면 훨씬 저렴한 Traditional한 K-비건 디저트인 호박떡을 먹겠습니다...', 'date': '2020.09.04'}, {'id': 5247, 'review': '흑임자쿠키 존맛탱.. 사진 찍는 것도 깜빡하고 반을 먹어버렸..', 'date': '2020.05.01'}, {'id': 5248, 'review': '말차 브라우니 (4,200) 빵이 손가락 세개만한 것들이 4천원대라 주저하게 되길래 맛만 보자 하고 하나 사먹어본 것이... 웬걸. 너무 맛있다. 녹차잼을 얼려서 부드럽게 먹는 기분. 말차 진짜 진하고 또 먹고 싶다. 비건 빵이라는게 믿기지 않는다. 이런 빵 맨날 먹고싶어 ㅠㅠ~~~~~!', 'date': '2020.03.13'}, {'id': 5249, 'review': '가로수길 간김에 참지못하고 또 들린 빵어니스타!  다시 먹어보니 초코타르트하고 비스코티가 정말 최고에요ㅠㅠ 특히 초코타르트!  처음에 먹었을땐 좀 다크하다고 느꼈는데 오히려 다크한 맛이 나중에 생각나게 하는 맛이여서 근처 갈때마다 길빵으로 먹고 있어요!ㅠㅠ 초코타르트 덕분에 다크초콜릿에 빠졌어요!  초코타르트랑 비스코티는 코코넛맛이 안느껴져서 호불호 덜탈거 같아요! 길빵으로 바로 드실분들은 꼭 얼린 초코타르트로 드세요!!', 'date': '2019.07.28'}, {'id': 5250, 'review': '최근에 가로수길 갔다가 녹차 디저트로 유명한 빵 어니스타 갔다왔어요! 압구정 빵 어니스타는 테이크아웃만 가능한 곳인데, 생각보다 매장이 작고 메뉴가 많지 않아요:)   맨 처음 갔을때 유명한 반반 브라우니랑 초코타르트를 구매해서 먹었어요!  초코타르트 겉부분은 기름지지 않고 바삭하고, 초코 부분은 단맛이 거의 없고 진해서 풍미가 잘 느껴졌어요 (얼린 초코타르트 달라고 하면 얼린거 주시니까 바로 드실분들은 얼린거 구매하시면 좋을꺼같아요!)  반반 브라우니는 단맛이 생각보다 강했고 코코넛 오일이 좀 느껴졌어요!브라우니보단 생 초콜릿같은 맛이였는데 말차 부분은 로이스 초콜릿 말차맛하고 비슷해요! (초코타르트가 반반 브라우니 초코보다 덜달고 고급진 맛이에요:) 브라우니 초코 부분이 말차 부분보다 훨씬 덜 달았는데 저는 개인적으로 말차 덕후라 말차가 더 맛있었어요!   두번째 방문했을땐 말차브라우니, 단호박 파운드, 말차 비코스티를 구매했는데 단호박 파운드랑 말차 비코스티가 너무너무 맛있었어요!  단호박 파운드는 빵떡 같은 느낌인데 맛이 진하고 부드러워요 말차 비코스티는 엄청바삭바삭하고 단맛이 없어서 계속 먹게되는 중독성있는 맛이에요!   아쉬운점은 밀도가 높다고 하지만 크기가 매우 작아서 배가 안불러요.. 적어도 3가지 정도 먹어야지 먹은느낌이 들어요.. 하지만 좋은 재료를 썼다는게 느껴져서 근처 가게되면 사갈꺼 같아요!   저는 단호박파운드랑 비코스티 추천드려요! 2019-07-17', 'date': '+1'}, {'id': 5251, 'review': '여기 빵 너무 맛있는데요? (*전지적 다이어터 시점)  식단조절하면서 제일 힘들었던 게 당이 너무너무 땡긴다는 거였어요. 그래서 왜 사람들이 다이어트하는 와중에 비건빵, 건강빵은 먹으면서 하는지 알겠더라구요ㅠ 예전부터 궁금했던 비건빵을 처음 먹어본건데 비쥬얼은 \"나 비건빵 아냐!\"라고 하네요ㅎㅎ 빵들을 보고 홀린 듯이 쑥파운드, 서리태두부케이크, 딸기타르트, 초코타르트, (친구가 사진도 찍기 전에 먹어버린ㅠㅠ) 반반브라우니 이렇게 다섯개나 사버렸어요ㅎㅎ 비건빵들은 대부분 코코넛오일이 들어가서 상온에서 잘 녹기 때문에 차갑게 먹는 게 맛있다고 하기에 일단 냉동실에 얼려뒀다가 꺼내먹었어요.  쑥파운드는 부담스럽지 않은 적당한 쑥향이 나고 고소하고 많이 안 달아서 좋았어요. 밀도는 꽤 높은데 쉽게 부스러질 스타일이에요.  서리태두부케이크는 파운드에 비하면 쫀득st. 이것도 정말 고소하고 달지 않지만 맛 없지 않은 맛이에요ㅠㅠ 달다고 말할 수도 없을정도로 은은하게 달아요. 이건 다른 빵들과 다르게 데워먹는 게 맛있대요ㅋㅋ 데우니까 좀 더 촉촉하더라구요. 식감은 대략 술빵.  딸기타르트 존맛ㅠㅠ 두부크림 위에 딸기가 올라간 거라 이게 어울릴까? 두부맛이 나면 별로일 것 같다고 생각했는데 두부크림인지 전혀 모르겠고 담백하고 라이트한 부드럽고 달콤짭조름한 크림치즈 같아요. 타르트지는 일반 타르트지랑 뭐가 다른지 전혀 못 느꼈어요. 그냥 와앙 배어먹으면 상큼달달해서 깔끔하게 클리어.  초코타르트도 박수~~ 진하고 꾸덕한 초콜릿이 그대로 타르트 안에 똭. 제가 원래 다크초콜릿, 카카오 56 이상을 좋아하는데 초콜릿에 설탕만 덜 들어가면 몸에 좋다더라구요. 이것도 단맛은 설탕으로 안 내고 다크초콜릿을 썼는지 딱 제 취향이었어요. 이것도 순삭.  반반브라우니는 말차+초코 조합인데 저나 친구나 초코가 좀 더 빵같아서 더 맛있게 먹었어요. 말차쪽은 코코넛오일이 많이 들어갔는지 너무 미끌미끌하고 거의 생초콜릿같은 식감이었어요. 초코쪽은 그래도 코코넛보다 초코의 정체정이 더 강하고 쌀가루가 어느정도 들어갔구나~싶은 식감이었어요.  대체로 다 맛있었지만 이곳 평점이 이 모양인건 아무래도 가격떄문이겠죠ㅋㅋ 다이어터에겐 이 돈 주고 사먹어도 아깝지 않은 맛있는 빵인데 일반식하는 사람들에겐 굳이 이 돈 주고 이거 먹느니 그냥 좋은 밀가루 쓰는 빵집 가겠다. 할 것 같네요ㅋㅋㅋㅋ 2019-03-18', 'date': '+10'}, {'id': 5252, 'review': '초코브라우니, 말차파운드 먹어보았습니다.  우선 초코브라우니는 굉장히 담백합니다. 그렇다고 해서 아주 건강한 맛이냐? 아닙니다. 모르고 먹으면 그냥 일반 브라우니와 다를 바 없다고 느낄 정도로 단맛이 강해요. 그래서 독특했고 저는 이 부분이 마음에 들었습니다.  다만 크기가 작은 데에 비해 부담스러운 가격이 단점인데, 재료 특성 상 어쩔 수 없는 부분이라고 생각해요. 하지만 작은 크기에도 불구하고 아마 두 번에 나눠 먹게 되실 거예요 앞서 말했지만 초코 브라우니..상당히 달거든요 한 번에 먹어치우기엔 좀 물리는 감도 있습니다.  그리고 말차파운드, 향이나 풍미로 보아 빵보다는 떡 같은 느낌이지만 식감은 퍼석퍼석해 잘 부스러집니다. 쫀득한 빵결을 선호하는지라 그닥 맛있다는 느낌은 못 받았네요.   결론: 초코브라우니가 기대 이상으로 괜찮아 다른 메뉴도 맛보고 싶어졌어요 재방문 의사 있습니다.', 'date': '2019.03.12'}, {'id': 5253, 'review': '한줄평: 밀가루 절제중인 다이어터 빵수니에게 빛과소금같은곳.  다이어트중이라 방문해본 빵어니스타 NO 밀가루 NO 설탕 NO 유제품 NO 달걀 이라는데, NO 글루텐은 아닌걸까?  하튼 가장 유명한 메뉴 중 하나인 단호박두부케이크 를 1개만 사가지고 왔다. 내가 빵집에 가서 1개만 샀다는 거 자체가 기적임 (.. )  엄청 부드럽고 촉촉했고, 사이즈 대비 가격은 좀 셌는데 맛있었다 ㅠㅠ 당연히 버터나 밀가루가 풍기는 그런 고소하고 깊은 풍미는 없지만 이런 건강한 재료로 만들었다고 생각하면 징짜 맛있는 맛! 게다가 단호박 맛도 진하게 느껴진다!  진짜 다이어트만 아니었으면 여러개 사서 쟁여놓고 먹고싶은 맛이다 ㅜㅜ 흑흑 여기 가본 다른 지인들은 이거 말고도 타르트 류도 맛있다고 하던데 다음에 방문해서 먹어봐야겠다 ㅠㅠ♡ 2018-08-13', 'date': '+4'}, {'id': 5254, 'review': '디저트를 건강하게 먹을 수 있다는 점에 너무너무너무나 가고싶었던 빵어니스타인데 압구정에 생겼다고 해서 다녀왔다.  엄청 큰 기대를 품고 전부 4만원어치가 넘게 사와서 집에서 먹었다. 두부케이크는 내 입맛에 딱 맞아서 너무 맛있었고 쑥 파운드는 쑥이 생각보다 강하지 않아서 괜찮았다. 문제는 너무 큰 기대를 했던 반반브라우니! 제 문제기는 하지만 저는 코코넛을 막 좋아하지는 않는편이라 그런지 맛이 없다기 보다 불호였어요! 초코부분은 그래도 먹었지만 말차부분은 못먹었고 타르트류들은 코코넛맛이 나고 설탕이 씹혀도 그냥 그 특색으로 먹긴 먹었어요! 아! 스콘도 제 스타일은 아니었어요. 저는 건강하게 먹는 스타일이 아닌가봐요 ㅋㅋㅋㅋ  코코넛이 싫으신 분들은 두부케이크류만 드시는게 좋을것 같아요! 2018-03-25', 'date': '+4'}, {'id': 5255, 'review': '압구정에 3호점을 낸 빵어니스타- 성공했네요 :) 현재는 가오픈 상태에요  기본적으로 1,2 호점에도 있는 파운드나 스콘도 있긴하지만 거기보단 종류가 덜했어요. 타르트나 초콜렛 종류가 이곳에는 추가가 되었지만 개인적으로 끌리진 않아서 기존에 있는 파운드종류들을 구매했어요  솔직히 요즘엔 맛있지만 다이어터들을 위한 곳들도 꽤 생겨서 예전보단 메리트가 줄어든거 같아요. 특히나 여긴 코코넛향 별로 안좋아하는 분들께는 추천드리진 않습니닷', 'date': '2018.03.12'}], 'geometry': ['127.025833243', '37.522331296']}\n"
     ]
    },
    {
     "name": "stdin",
     "output_type": "stream",
     "text": [
      " 서울특별시 강남구 신사동 553-25 1F\n"
     ]
    },
    {
     "name": "stdout",
     "output_type": "stream",
     "text": [
      "\n",
      "서울특별시 강남구 강남대로102길 46 1F\n",
      "{'name': '정월', 'score': '3.8', 'doro_addr': '서울특별시 강남구 강남대로102길 46 1F', 'jibun_addr': None, 'reviews': [{'id': 5273, 'review': '밖에서 보기보다 들어가서 더 좋고 1층보다 2층이 더 좋은 카페  나무와 타일의 레트로한 감성과 미로같은 공간, 테라스와 루프탑까지 갖춘 카페다. 겉에서 보기엔 그냥 주택을 개조한 카페구나 했는데 들어가보니 더 좋다. 공간 구석구석을 다르게 구성해두어서 앉고싶은 자리를 고르는 재미가 있다.  아메리카노를 주문했다. 고소한 원두로 골랐는데 꽤 신선하고 좋았다 기분 좋은 정도의 쌉쌀함과 구운 옥수수같은 달달한 향이 느껴지는 원두였다.  너무 붐비지만 않는다면 다음에도 고민없이 가볼만한 카페다 2022-10-24', 'date': '+2'}, {'id': 5274, 'review': '강남역에 위치한 카페 흔히 알베르 카페거리에 위치한 카페로 주택을 개조한 카페이다! 이 카페의 강점은 3가지! 첫번째 커피 메뉴가 상당히 이쁘다는 것 말차 가루가 올려진 읷 시그니처 커피의 비쥬얼과 맛 모두 훌륭했다. 두번째로 매장 인테리어가 너무 멋지다는 것! 2층 규모로 이뤄져있고 주택 개조다 보니 방도 2-3곳 있다. 프라이빗하게 즐길 수 있는 공간도 있어 좋았다! 마지막으로 야외 테라스 자리가 넓다는 것! 테라스 자리가 매장 앞과 옆으로 이뤄져있는데 요즘 같은 날씨에 방문하기 딱인곳! 2022-10-07', 'date': '+5'}, {'id': 5275, 'review': '강남역에서 가장 예쁜 카페가 아닐까 싶다. 언덕 한참 위쪽인데 일본식 정원 느낌에 내부는 가배도와 비슷하지만 훨씬 트여있는 느낌. 말차 아인슈패너(8,)- 정월 검색하면 가장 많이 뜨는 사진. 진한 말차라떼 위에 생크림 층을 얹고 가장 위층 중앙은 건조딸기 파우더, 주변은 말차 초콜릿으로 마무리. 생크림이나 초콜릿은 특별하게 맛있지는 않고 시판 느낌임. 해서 딸기파우더 비중을 살짝 올렸으면 좋겠다. 양은 적은데 말차라떼가 진해서 좋았다. 말차 다쿠아즈(3.8)- 음. 마찬가지로 크림에 신경쓴 느낌은 아니라 평범한 편. 그리고 냉동인지 파삭함이 좀 죽기는 했었다. 중간정도. 2022-07-20', 'date': '+11'}, {'id': 5276, 'review': '지나가다가 대나무 그늘이 시원해보여서 들어간 카페  2층 테라스에 나무그늘이 시원해서 좋았다  드립커피와 라떼를 마셨는데 가격도 비싸지않고 맛의 균형도 잘 잡혀있어서 만족했다', 'date': '2022.06.07'}, {'id': 5277, 'review': '근처에서 식사를 하고 카페를 가려고 하던 중 눈에 보인 곳이 바로 이곳 정월이라 들어갔다.  내가 마신 음료는 <녹차유자> 티. 그냥 일반 녹차 티백인데, 정월에서의 녹차 티백은 뭔가 은은하게 유자향이 나며, 덕분에 달지 않은 음료지만 달달한 향을 느낄 수 있었다.  그리고 이 카페의 실내 인테리어도 우드톤의 따듯한 감성 낭낭하고, 야외에도 자리가 있어 요즘같이 날씨 좋은 날에는 딱 좋은 곳이 아닌가 싶다. 가게 안쪽에는 꽤 넓은 단체석(?)도 있어 여럿이 가 차 한잔 하기도 좋은듯!  Instagram @mu._.eat', 'date': '2022.04.29'}, {'id': 5278, 'review': '티팟과 접시가 예쁜 카페정월♡  근처 정돈에서 돈까스를 먹은 영수증을 가져가면 할인을 해준다. 카페에 4명이 갔으면 돈까스를 4명이 다 1접시를 먹었어야 할인해준다ㅋㅋㅋ 좌석은 많은 편이고 인기도 많아서 북적북적했다. 정돈 먹고 오기 좋은곳!', 'date': '2022.02.23'}, {'id': 5279, 'review': '카페의 인테리어 분위기는 전체적으로 차분했습니다. 2층에는 여러 방으로 나눠져 있어 좋았습니다. 말차 아인슈패너, 바닐라다쿠아즈, 얼그레이쉬폰을 먹어봤습니다. 말차를 좋아하지 않는 편인데도 말차 아인슈패너가 정말 맛있었습니다.!! 보기에도 예쁘고 맛도 좋아요', 'date': '2021.10.08'}, {'id': 5280, 'review': '아인슈페너 돌체라떼 레드빈라떼 시켰습니다 세 메뉴 다 달달하니 맛있어요 아인슈페너 크림에서 우유맛이 많이 나서 엄청 고소하네요 레드빈라떼는 색이 연해서 기대하지 않았는데 팥맛이 진하게 나더라구요 맨 오른쪽 음료입니다 ㅎㅎ 팥빙수 다 먹어갈때 남아있는 국물 맛이랑 비슷했어요 맛있었어요 매장 넓고 분위기 좋아요 2층까지 있고 담요도 구비돼 있어서 에어컨 바람이 찼는데 잘 사용했어요 테라스 자리도 있어요', 'date': '2021.08.25'}, {'id': 5281, 'review': '드디어 정월에! 생각보다 언덕이 심해서 더운 날에 힘들더라구요.. 카페라도 시원해서 넘 다행. 배가 살짝 고파 얼그레이 쉬폰 하나 같이 주문했는데 쉬폰치고 너무 시트가 밀도있어 개인적으로 좀 아쉬웠어요. 제가 있던 공간도 좀 깔끔하지 않기도 하고ㅋㅋ 조금은 아쉬웠네요. 2021-06-15', 'date': '+4'}, {'id': 5282, 'review': '정돈 계열의 카페 정월! 더울 때 오긴 매우 힘들 듯한 위치.... 강남역 언덕 꼭대기 즈음입니다.  말차아인슈페너, 라임민트에이드, 엘더플라워 에이드, 당근케익과 얼그레이쉬폰 주문.  음료는 나쁘지 않았어요. 말차 아인슈페너는 먹으면서 콧김 뿜으면 말차초콜릿가루가 휘날림. (절대.. 제가 그랬다는 건 아닙니다.. 절대요...) 에이드는 초반엔 되게 알 수 없는 맛이었는데, 얼음이 녹으니 좀 괜찮아지더군요. 라임민트는 재료 때문인지 모히또와 후라보노껌 그 언저리의 맛이 나고, 엘더플라워 에이드는 풍선껌 맛이 나요.  케익 상태가... 그닥이었읍니다. 당근케익은 프로스팅이랑 시트가 너무 말라있었어요. 푸석한 당케라니.... 프로스팅이 굳어서 제대로 포크질도 안 되게 떨어져나오더라고요 ㅠㅠ. 얼그레이쉬폰은 맛도 괜찮고 그나마 나았어요.  insta: @hhhynie 2021-03-17', 'date': '+8'}, {'id': 5283, 'review': \"⭐⭐⭐☆☆ 아인슈패너 (6.0), 엘더플라워에이드 (6.0) . 정돈에서 오픈했다는 신논현역 인근의 카페. 정돈...정월.. 그다음 이름은 뭐지? . 분위기 맛집이다. 겉에서 볼 때는 개화기 주택이 연상된다면 안에 들어가면 갑자기 조명이 어두워지며 어느 숨겨진 동굴 속에서 커피를 마시는 듯한 착각이 든다. 안쪽 자리에 앉는다면 노출을 조금 낮춰 사진을 찍으면 굉장히 분위기있게 나온다. 혹은 날이 좋으면 바깥에서 대나무들 사이에서 환하게 사진찍어도 좋을 듯. . 아인슈패너는 쏘쏘 괜찮았다. 커피 농도도 좋았고, 크림도 되직하고 달달한게 조금씩 sip하기 딱 좋았던. 같이 갔던 친구가 주문한 엘더플라워에이드가 진짜 비주얼적으로 대박이었는데, 위에 식용 꽃들이 수북히 올라가 음료는 음룐데 마치 꽃다발을 들고 마시는듯한 착각이 나는.. 물론 이런 식용꽃들이 모두 그렇듯 아무 맛 없는 비주얼용이다. . 이 문단은 인스타에 올리지 않는 쓴소리. 인테리어가 '분위기'있긴 하지만 온갖 인스타 흥행공식의 잡탕이다. 입구의 대나무숲, 개화기 일본식 주택 인테리어에 갑자기 어두컴컴한 동굴식 석조 인테리어. 어울리지 않는 샹들리에와 잔뜩 무게가 들어가 도통 말 걸 수가 없는 힙한 직원분들.. 음료는 무난하고 사진찍기 좋은 곳이다. 그냥 인스타에 뜨는 카페들의 특징과 메뉴구성을 모두 조합해둔 것 같다. 엘더플라워에이드는 독특했음. . 사실 강남역에서 가장 좋아하는 골목이 이 CGV 뒤로 올라가는 언덕길이다. 모두가 알베르까지만 가쁜 숨을 내쉬며 올라가는데 딱 그정도가 좋았을듯. 감성 (x) 갬성 (o) 2021-02-25\", 'date': '+6'}, {'id': 5284, 'review': '20201031 방문  - 아인슈페너 (샷+우유) 6.0 크림이 엄청 달달하고 부드럽다. 물 대신 우유가 들어가서 더 달달하다. 스팀된 우유를 쓰는 것 같다. 고소해서 맛있다 :)  - 당근케익 6.5 실제 당근이 들어간 당근케익은 처음 먹어본다. 생각보다 조각 크기가 작아서 실망스러웠다. 너무 달지도 않고 괜찮았다. 왜인진 모르겠지만 뭔가 건강한 맛이 났다. 먹을 때마다 엄청 부서져서 먹기에는 조금 불편했다.  여름에 날씨 좋은 날 야외석에 앉아서 좋은 시간 보냈던 게 생각나서 재방문한 건데 이번 방문 때는 저번만큼 만족스럽진 않았다. 확실히 주말 저녁에는 자리가 남아있는 카페가 별로 없다ㅠㅠ 마음에 드는 자리는 많았지만 다 사람들로 차서... 강남역 주변 다른 카페에 비해서 분위기가 훨씬 더 조용하고 차분해서 좋다. 아무래도 맛보다는 분위기가 더 돋보이는 카페 같다.', 'date': '2020.11.08'}, {'id': 5285, 'review': '메뉴를 잘못 고른걸까 조금 아쉬워따.. 인테리어는 진짜 완전 갠취저격ㅜㅜ 사람 너무 많아서 자리 찾는 데 애먹음ㅠㅠ 이날은 크림이 안 땡겨서 일부러 아인슈페너 안 시켰는데 그냥 그거 먹어볼걸 아쉬븜ㅠㅠ 디저트도 냉동인지 뭔지 좀 깡깡하게 얼려있던거 같아서 비호... 그냥 기대했던거에 비해 전반적으로 아쉬웠음ㅠㅠㅠㅠ 2020-09-06', 'date': '+3'}, {'id': 5286, 'review': '2번 방문.  넓고 쾌적해요.  사람 적어서 좋아요.', 'date': '2020.09.04'}, {'id': 5287, 'review': 'TL;DR: 인스타 사진찍으러 + 다리 운동 하고싶을 때 - 개화기 감성인데 일본어 남발되있어서 무슨 컨셉인지 잘 모르겠다. - 2층으로 구성된 가정집을 개조해서 큰 홀 하나 있는게 아니고 방마다 테이블이 몇개씩 들어가 있어서 조용한 방도 있고 아닌 방도 있음 - 그냥 무난한 녹차라떼와 아이스 라떼였음 - 티라미수도 먹었는데 무난. 강남역이니까 핫한듯', 'date': '2020.08.31'}, {'id': 5288, 'review': '아닌슈페너랑 녹차 아인슈페너 맛있네요 위에 크림이 맛있었어요 고소하고 달달합니다. 마일스톤커피랑 비슷했어요! 인테리어도 예쁘고 화장실은 남녀 따로 있어요.', 'date': '2020.08.30'}, {'id': 5289, 'review': '카페 분위기는 일본교토느낌나서 인스타 갬성으론 짱이었다 분위기 좋으면 보통 음료 맛이 그저그런 경우가 많은데 말차?녹차?아인슈페너 맛은 JMT~~~다만 양이 좀 적었다는...ㅜㅜ', 'date': '2020.07.13'}, {'id': 5290, 'review': '굉장히 자연적이고 앤티크한 느낌의 카페였습니다 애초에 컨셉이 일본풍 찻집 같은 느낌이어서 그 부분은 좀 아쉽지만 레몬녹차는 맛이 참 좋더라구요 친구는 말차라떼 시켰는데 그것도 맛있었나봐요 다음에 또 방문할 의사는 있습니다', 'date': '2020.07.10'}, {'id': 5291, 'review': '돈가스맛집 정돈에서 차렸다는 카페 정월. 처음 들어설 때부터 와 분위기가 좋다 하고 자연스레 감탄했다. 우드톤에 따뜻한 느낌의 실내. 하지만 음료가 공간을 따라가지 못한다ㅠ 플랫화이트 넘 쓰고 아인슈패너는 비율이 별로다. 재방문은 안할듯.. 2020-05-31', 'date': '+5'}, {'id': 5292, 'review': '복잡한 강남 같지 않고 조용했던 카페 분위기도 좋고 커피도 맛있었어요!  강남에 유명한 카페 알베르에서 조금만 더 올라가면 있는데 사람들이 다 알베르로 가는지 여기는 비교적 한산하고 좋더라구요  테라스 석도 넉넉한데 예쁘게 꾸며져있어서 날씨 더 풀리고 밤에도 따뜻할 때 앉으면 좋을 것 같아요  내부도 넓직하고 좌석을 따닥따닥 붙여놓지 않아서 좋았어요. 구석구석 공간 활용을 잘 한 것 같아요  2층도 있는데 2층은 생각보다 좁고 좌석이 좀 붙어있어요 2층에도 테라스가 있던데 분위기 좋아보이더라구요  단체석도 있고 예약도 가능한 것 같아요! 단체로 와서 회의 같은거 하고 계시더라구요 여자화장실은 1층 남자화장실은 2층에 분리되어있고 화장실 넓고 깨끗했어요! 오랜만에 강남에서 마음에 드는 카페 발견했네요!! 2020-05-25', 'date': '+2'}, {'id': 5293, 'review': '[콘 라떼]  - 시즌 한정 메뉴라고 해서 사실 큰 기대는 안했다. 그리고 보통 이런 인스타st 분위기 카페는 맛이 없으니까. 그런데 웬걸, 너무 고소하고 맛있다. 라떼를 넘어서 묽은 수프를 마시는 듯한 느낌마저 들었다. 가격도 합리적인 편(6,000 KRW). - 분위기는 가배도랑 비슷한 느낌? 어쨌든 예쁘고 깔끔하다. - 최대 단점은 강남역 먹자골목 내부 깊숙한 곳, 언덕 거의 끝까지 올라와야 하는 이 곳의 위치. 위치 때문에 조금 망설여지지만, 그래도 나머지 요소들을 고려하면 충분히 재방문 의사 있다.', 'date': '2020.02.19'}, {'id': 5294, 'review': '분위기 좋고 맛 나쁘지 않은 신논현역 카페:)  정돈에서 강남 쪽에 카페를 새로 런칭했다고 해서 작년부터 가야지 했는데 마침 근처 갈 일이 있어서 다녀왔어요. 신논현역 5번 출구에서 주택가 쪽으로 올라가면 있어요. 시간이 꽤나 늦었었는데도 불구하고 자리가 없어서 저는 테이크아웃(10%할인) 했어요.  제일 궁금했던 말차아인슈페너로 주문했는데요. 위에 올라간 크림은 그냥 그랬어요. 크림이 되직한 편인데다 위에 라즈베리 가루, 말차 초콜릿 플레이크가 올라가서 일반 아인슈페너처럼 마시면 얼굴에 묻고 크림만 올라와요ㅠㅠ 한 입 마실 때 크림이랑 음료랑 같이 입에 들어오지가 않아서요. 따로 주신 스푼으로 위에 크림 먼저 다 떠먹고 음료는 따로 마셨어요. 대신 밑에 깔린 음료는 너무 달지 않고 말차의 쌉쌀함이 적당히 느껴져서 좋았어요.  널찍한 편은 아니지만 목조로 정갈하게 꾸민 분위기라 자리만 잡을 수 있으면 다녀오기 괜찮아요. 가격대는 저렴하진 않지만 정돈에서 먹거나 테이크아웃으로 먹으면 할인 받을 수 있어서 나쁘지 않은 듯 합니다. 재방문의사△', 'date': '2020.01.22'}, {'id': 5295, 'review': '** 돈가스로 유명한 정돈에서 선보인 카페  돈가스로 이미 대학로, 강남에서 성공적인 ‘정돈’에서 최근에 내놓은 카페이다. 프렌차인즈인지는 모르겠으나 우선은 강남역점에 오픈하여 망플 홀릭 쿠폰찬스로 좋은 기회로 다녀오게 되었다(!)  친구 한명과 총 둘이서 방문했는데, 우리는 일반 아인슈페너(6.0)와 말차 아인슈페너(7.0) 그리고 얼그레이 쉬폰 케익(6.5)를 시켰다.  정확히는 강남역 CGV 뒷골목으로 쭉 올라가면 카페들이 많은 거리에 위치해있어 강남역보단 신논현역과 더 가깝다. 나도 CGV 뒷골목 카페들은 무수히 가봤지만, “대체 언제쯤 나오지?” 라고 생각할 때 쯤이면 카페가 보이니 의심하지 말고 걷기ㅎㅎㅎ^^  ‘정돈’이란 브랜드는 프리미엄 돈가스를 추구하는 브랜드다. 말인 즉슨, 사람들이 비싼 가격을 지불하고 퀄리티 있는 돈가스를 소비하는 곳이다. 이 카페 역시나 마찬가지다.  카페 바깥에 대나무가 심어져 있고 전체적으로 ‘일본식 정원’ 컨셉으로 꾸며져 있었다. 천장에는 샹들리에도 걸려있고, 화장실에 소품 하나하나(!)까지도 꾸며 놓은 걸 보면 여유롭고 프리미엄 카페를 지향하는 곳인 듯 하다.  평소에 있으면 무조건 먹는 ‘아인슈패너’는 달았지만 무난무난하게 맛있었다. 워낙 아인슈패너쳐돌이라..ㅎ 다만 케익 맛이 조금 아쉬웠다. 얼그레이 쉬폰 케익에서 얼그레이 향은 매우 강하게 났지만 쉬폰케익을 입에 담자마자 주르륵 녹아버리는 맛 때문에 빵시트를 느낄 새가 없었던 걸로 기억한다 ㅎㅎ  강남역 물가 치고는 평범한(?) 수준의 가격이었지만 나에게 매일 먹기엔 약간 부담스러운 가격이다. 또 카페 내에 자릿수 제한(+과 미친듯한 대기..)때문에 친구 여럿이서 방문하기보단 두세명이서 방문할 것을 추천한다. 2019-09-23', 'date': '+5'}, {'id': 5296, 'review': '망플 이벤트로 다녀왔어요!  아이스 아인슈페너 하나랑 얼그레이 쉬폰 주문했어요. 아인슈페너는 일단 밑에 커피가 시지 않고 고소한 편이었어요. 크림도 느끼하지 않고 적당히 달달해서 카페인+당을 한번에 충전하는 느낌 ㅎㅎ 그날 저녁에 또 생각났어요. 얼그레이쉬폰은 그냥 평범했어요. 시트도 촉촉하지는 않았고 크림도 약간 단단하니 따로노는 느낌?  전체적으로 봤을때 음료는 맛있고 케익은 그저 그래요. 그렇지만 대나무숲이나 안에 인테리어가 편안한 느낌이어서 강남역에서 프렌차이즈카페 가기 싫을 때 갈 것 같아요. 대나무랑 공간 자체가 주는 느낌이 좋아요.', 'date': '2019.09.17'}, {'id': 5297, 'review': '[망고플레이트 시크릿 이벤트 후기] 우선 리뷰 기회를 주신 망플에 감사드리며..^^  일단 위치는 강남역보다 신논현역에서 가까우며.. 언덕을 좀 올라가다보면 우측에 가정 주택을 개조한 것 처럼 보이는 건물이 정월이며, 테라스가 이국적이며 인테리어가 아주 고풍스러우면서도 고급지며 깔끔하다. 그리고 대나무가 우거진 정원도 있어 멋스러움을 더했다.  혼자 방문했기에 메뉴는 한도 내에서 말차 아인슈페너와 당근케잌을 시켰다. 말차 아인슈페너는 화려한 비쥬얼을 가졌다. 맛은 무척 달았던 기억밖에 없으며, 당근케잌은 그냥 무난한 정도였다. 2층은 아직 오픈을 안했는지 staff only 로 되어 있어서 올라가보진 못했고 단체로 이용가능한 룸이 하나 있고 분리된 방같은 공간이 두군데 있었다. 나는 오픈 주방 바로 맞은 편 좌석에 앉았는데.. 좌석끼리의 공간이 좁아 주위 사람들의 대화가 선명하게 들려서 아주 불편했다. 그리고 비오는 날이라서 그런지 입구쪽에 바닥이 아주 미끄러웠다. 매트를 넓게 깔아서 불편함을 해소했으면 하는 개인적인 바람이다. 전반적으로 인테리어는 아주 훌륭한 편이다. 그러나 음식의 종류도 한정적이며 맛도 그렇게 훌륭한 편이 아니다. 솔직히 인별용 사진찍기엔 좋을지 모르겠지만 진정한 휴식을 위한 공간은 아니며 맛집이라고 할 수도 없다. 매번 언급하지만 망플이 너무 사진찍기용 까페나 디저트 까페쪽으로 편향되고 있는 점은 개인적으로 선호하지 않는다. 물론 인테리어와 분위기를 즐기러 까페를 방문하는 사람들도 많지만 나처럼 음식에 더 포커스를 맞추는 사람에겐 그렇게 좋은 곳은 아니라고 말하고 싶다. 2019-09-17', 'date': '+7'}, {'id': 5298, 'review': '더운 날씨 힐링되는 플레이스. 커피 원두도 다양하고 무엇보다 도심 속 아지트 같은 공간이 되기 충분한 카페인듯 하다.', 'date': '2019.09.16'}, {'id': 5299, 'review': '강남역에서 갈만한 카페로 완전 추천이에요 친구랑 앉아서 수다떨면서 계속 카페 이쁘다고 칭찬했을만큼 카페 내부 분위기가 좋았어요  평일에 방문해서인지 사람도 많지 않았고 분위기도 깔끔하고 커피맛도 만족이에요 아메리카노는 무난했는데 바닐라 라떼가 독특하게 맛있었어요ㅎㅎ 막 파우더로 만든 꾸덕한 단맛은 아닌데 가볍게 달달하면서 맛있었어요  단점은? 디저트가 딱히 특색이 없는것같아요 당근케이크가 6500원이었는데 다시 주문할정도로 맛있는 케이크는 아니었고 그냥 커피마실때 있으니 먹는정도...  그래도 전체적으로 만족합니다 :) 맛보다는 분위기가 만족! 2019-09-12', 'date': '+4'}, {'id': 5300, 'review': '이벤트로 다녀온 정월!  얼그레이케익이랑 당근케익, 아메리카노와 플랫화이트 먹었습니다  케익이 생각보다 괜찮았어요!! 둘다 무난하니 맛있고, 무엇보다 카페가 넘 이쁜것 인테리어가 좋고, 단체공간도 따로있어 오기 좋은 것 같아요,  커피맛은 쏘쏘.. 플랫화이트가 생각보다 그냥 그랬던 것 ㅜㅜ 아메리는 그래도 케익이랑 같이먹으니 좋은데 엉엉 그것이 아쉬움으 포인트.. 그리고 카페가 다른데보다 거리가 있어 언덕을 한참 올라온 것도..  그래두 내부 공간도 괜찮고 음료디저트 무난해서 강남역에서 식사후 근처라면 들리기 좋을 것 같아요!', 'date': '2019.09.11'}, {'id': 5301, 'review': '이벤트로 다녀왔는데 오 맛이땅 ㅠㅠ !! 당근케이크가 좀 작긴하지만 크림치즈 두껍고 자신의 본분에 확실한 크치, 당근, 견과류 맛 낭낭 추천해주신 아인슈페너 (우유+숏) 맛있었지만 조금 더 따듯하면 좋았을거 같다 그치만 위에 처음에 섞어먹는 폼?이 찌인하고 너무 맛있었당.. 나한텐..', 'date': '2019.09.11'}, {'id': 5302, 'review': '카라멜 카페라떼는 단맛이 지배하는 맛. 단맛을 좋아한다면 강하게 추천하고싶다. 문득 어릴적 먹었던 메가톤바가 생각나는 추억의 맛이 있었다. 이날 주문했던 다른 메뉴와는 다르게 커피 원두는 선택이 가능했다. ㅡ 얼그레이 케이크는 임팩트가 있는 맛은 아니나 그래서 달지 않아 달아도 달지않아도 어떤 음료와도 잘 어울렸다. 무난함. ㅡ 아인슈패너의 크림은 포근한 식감이라기보다 걸죽해서 입에 달라붙는다는 식감이 들어 독특했다.(아마도 이 집만의 개성일까?) ㅡ 말차아인슈패너는 정월의 시그니처. 말차 크림위로는 말차초콜렛이 눈오듯 쏟아져있고 가운데는 라즈베리란다. 언뜻 골프장같다는 생각. 초콜렛의 단맛과 라즈베리의 상큼한 맛이 잘 어울렸으며 음료인 말차쪽은 많이 먹어왔던 말차의 그 맛이다. 생각보다 재미있는 메뉴. ㅡ 정월의 인테리어는 일본풍 가정주택+레트로한 분위기를 낸 곳이었다. 한 쪽에는 일본식 정원 느낌은 연출한듯 했으며 나무바닥도 그러했다. 분위기 때문인지 여기저기 셀카를 찍는 모습도 보였다. ㅡ 망플이벤트로 다녀왔습니다. 2019-09-10', 'date': '+5'}, {'id': 5303, 'review': \"<홀릭 시크릿 이벤트 후기>  맛 4/5 , 가성비 3/5 , 쾌적함 4/5  총평 - 커피 잘 하고 분위기 신선하고 아늑하다. 일상적으로 방문하기는 조금 생경하지만 그래서 멋진 집  시도한 메뉴 : 아메리카노 HOT (레드 블렌드), 아인슈페너 ICE (옐로 블렌드), 초코무스 케이크 (도합 17.5)  강남역 11번 출구에서 구불구불 오르막길을 10분 정도 걸으면 나오는 커피집입니다. 강남역이지만 '오 강남역 상권에 이런 길도 있구나' 생각이 드는 낯선 위치에 있는 것이 장점일까요 아니면 단점일까요.  일본식 정원과 같이 꾸며둔 밖과 안이 인상적입니다. 가을에 날씨 좋을 때는 꼭 바깥 자리에 앉아 보고 싶어요. 안쪽 자리들도 일본의 개화기 시절 인테리어를 연상케 합니다. 대체로 커플로 와서 오붓함을 즐기기를 권하는 느낌의, 가볍진 않지만 아늑한 분위기입니다.  커피 메뉴를 주문할 때에는 블렌드 두 종류(레드, 옐로우)를 고를 수 있습니다. 아메리카노와 아인슈페너 모두 여느 커피 고수들이 한다는 집 못지 않게 훌륭했습니다. 초코무스도 부드럽고 깊은 풍미가 커피와 참 잘 어울렸습니다.  멋진 인테리어와 훌륭한 맛을 찾아 가도 분명 후회하지 않을 것이고, 좋아하는 사람하고 맛있는 거 먹으러 갈 때에도 멋진 선택일 거예요. 강남역 주변에서 밥 먹은 다음에 카페에 간다면 발걸음을 한 번 옮겨 보길 강추드립니당.  + 커피 외의 음료들도 있지만 역시 주력 메뉴는 커피인 것 같습니다.\", 'date': '2019.09.10'}, {'id': 5304, 'review': '*본 리뷰는 망고 테이스팅으로 방문한 리뷰입니다  포항항항 저도 드디어 망고 뭐시기를 하는 리뷰어가 되었습니다!! 탄짱 너무 멋있다!! 나 너무 멋있다!! 방문하기 전부터 막상 갔는데 별로면 뭐라고 리뷰를 써야 하나 전전긍긍했는데 그럴 필요 없이 만족스러웠던 정월입니다.  강남역은 상업지역과 주택가가 맞닿아있는데 상업 지역이 점점 넓어지는 기분이네요~ 브릭오븐 골목의 맨 위에 위치해 있습니다. 생각보다는 올라가는 데에 힘들지 않았어요! (춘화당을 다녀오니 웬만한 경사는 경사같지도 않은 탄짱^ㅇ^)   -저는 아이스 아메리카노 레드(5.0) 와 우유 아인슈페너(6.0) 과 당근케이크(6.5)를 주문했습니다! 말차 아인슈페너를 못 먹어 본것이 못내 아쉬웠는데 리뷰를 보니 그냥 아인슈페너가 더 좋은 선택이었던 것 같군요...!!!  -저는 정월 아인슈페너가 정말 맛있었어요!! 인생 아인슈페너!! 아~ 자고로 아인슈페너란 크림과 커피의 조화가 을매나 잘 어울리는지가 관건 아니겠습니까? 크림의 농도도 단맛도 적당했고 커피도 물 탄 맹맹한 맛이 아니고 존재감이 살아있으면서 함께 마실때 어느 하나가 죽지 않고 팽팽하게 기싸움을 하는 것이 고놈들 참 맘에 들더군요. ㅎㅅㅎ 마시면서 크림이 풀어지는 아인슈페너는 딱 질색인데 크림씨께서 꼿꼿하게 자리를 지키고 계셨습니다.  -아메리카노는 생각보다 산미가 강하지 않았어요! 저는 산미 원두를 좋아하지 않아서 마음에 들었고 시큼한 커피를 좋아하는 지인은 아쉽다했으니 이 부분은 취향 차이인듯 합니다.ㅎㅎ  -당케는 인상깊지는 않았지만 낫 밷!! 시나몬향이 강하지 않고 크림치즈와 시트가 조화로워요. 아쉬운 점이 있다면 양이 너무 작아요ㅠ 손바닥만합니다.    정월은 ✨인테리어✨에 공을 정말 많이 들인 것이 보였어요. 2층짜리 주택을 개조해서 2층은 정돈 사무실로, 1층은 카페로 리모델링을 하셨더라구요. 방이 세 개가 있는데 방마다 테마가 달라요!!!☄️ 분재화분이 있는 목조 가구 방도 있고, 카운터 옆에는 동굴 테마의 웅장한 자리들이 있고, 제가 있던 곳은 유리 창이 탁 트여서 대나무와 조명이 훤히 보이는 방이었습니다.  같이 간 지인이 인테리어를 참 좋아하는데 자본의 힘은 다르다며 혀를 내둘렀어요. 개인이 셀프 인테리어를 하다보면 무언가 어색한 부분이 생기고, 조잡해 보이기 쉬운데 일본풍이라는 큰 테마를 가지고 룸마다 다른 느낌을 준것도, 다양하고 멋스러운 소품들도 정말 인상깊었습니다. 완성도가 높네요bb  의도한 것이겠지만 정돈 할인 없이는 금액이 다소 높은 것, 음료와 케이크(!)의 양이 적은 것, 케이크 류가 다소 부실한 것만 보완하면 더할나위없는 카페가 되리라고 생각합니다. 재방문 의사 있으니 맛있다 드립니당~ 2019-09-10', 'date': '+6'}, {'id': 5305, 'review': '시그니처격인 말차랑 복숭아티 당케를 먹었어요. 당케는 촉촉함이 떨어져 아쉬운것 빼고는 맛있었어요. 말차는 대단히 달았던게 기억나고 복숭아티는 솔직히 비추요! 시럽이 적은건 아닐텐데 복숭아 과육이랑 액체사이의 단맛이 확연히 달랐어요. 휘휘 잘 저어 마셔도 그랬습니다. 인테리어가 괜찮고 작은 방도 2개있어서 덜 시끄러운듯 해요. 마당이 크게 있을거 같은데 아니더라고요. 큰창이 보이는 좌석이 한정적이라 아쉬웠어요.', 'date': '2019.09.09'}, {'id': 5306, 'review': '-망플 이벤트로 다녀왔습니다- 아메리카노, 말차아인슈페너, 라임민트에이드 - 아메리카노-옐로우 맛있었어요. 에프터없이 깔끔하고 고소했습니다. 좀더 진했으면 더 좋았을걸 아쉬웠어요. 그래두 제 입맛에 나쁘지 않았어요. . 말차아인슈페너 말차라떼 위에 크림올라가고, 크림위에 말차쵸콜렛이 사이드에 뿌려져있고 가운데는 라즈베리맛이었어요. 말차초콜릿과 라즈베리 가루의 조합이 나쁘지 않았어요. 크림이 그냥 휘핑크림느낌이었어요. 쫀쫀하지않고 그냥 크림. 별로 특별하지 않았어요. ㅎㅎ 말차라떼는 녹차맛이 강했습니다. . 라임민트에이드 풍선껌맛이에요. 이말 말고는 설명할 길이.. 나쁘지 않았습니다. . 카페 분위기도 좋고 사람없이 한적해서 좋았어요. 평일이라 그런가 싶기도 하구요. 망플 이벤트가 있어서 말차아인슈페너 주문했지만 그냥 내돈주고 먹기엔 비싸요. 비싼값을 하는진 모르겠어요. 2019-09-06', 'date': '+4'}, {'id': 5307, 'review': '망고이벵으로방문한 정월. 언덕빼기를 아주 오랜만에 넘어서 도착ㅋ 일본식 인테리어와 조용한 분위기  커알못 이니까 복숭아에이드!!  당케랑 초코무스 두개 다 하려다가 당케는 리뷰가 다들 그닥이라 패스.  오랜만에 초코케키 먹는구낭ㅋㅋ 노아베이커리케키 받는다고 알고갔는데 혹시나 몰라 케키 어디껀지 여쭈어보니 노아꺼라고.  알바생,직원들은 친절한 편이다. 실내도 깨끗하고~ 넘 심하게 떠드시는분들은 이곳의 분위기 하고는 좀 안어울렸당.  복숭아에이드는 달달하구마이~~ 초코무스는 역시 진하고 부드러운 초코의 맛. 케키 사이즈가 넘나 작구려ㅋㅋ  초코무스를 먹다보니 복숭아에이드는 안달당ㅋㅋ 안쪽 룸은 대관을 해도 될 자리가 마련되어있고 야외에서도 저녁 해질때 차 마시면 좋을것 같다. 2019-09-06', 'date': '+14'}, {'id': 5308, 'review': '망고플레이트 홀릭 이벤트에 당첨되어 다녀왔습니다.  평일 늦은 시간에 방문했다. 사실 강남역은 예전부터 많이 다녔던 곳이라 왠만한 카페는 다 가봤다고 생각했었는데, 골목 안쪽에 이렇게 고즈넉하고 조용한 카페가 자리하고 있었는지 전혀 몰랐다.  함께 간 지인도 공간이 참 여유롭다며 계속 앉아 있고 싶다고 할 정도. 넓은 테라스 공간을 갖추고 있고 내부엔 단체석을 포함, 다양한 앤티크 느낌의 공간들로 이루어져 있다.  말차 아인슈페너가 시그미처 메뉴인걸 몰라서 일반 우유 베이스의 아인슈페너와 복숭아 에이드 그리고 당근케이크를 주문했다.  아인슈페너가 살짝 느끼하긴 했으나 사실 그맛에 먹는거라....크림이 찐득해서 좋았다. 의외로 지인이 주문한 복숭아 에이드가 맛있어서 계속 한모금씩 뺏어먹었다. 당근케이크도 적당히 촉촉하고 맛있었다.  강남역임에도 한적하고 여유로운 분위기의 카페를 찾고 싶다면 추천한다. 특히 넓은 테라스를 갖추고 있는 만큼 요즘같은 계절에 방문하기 좋은 듯. 2019-09-02', 'date': '+5'}, {'id': 5309, 'review': '(망플 이벤트로 다녀왔어요!) 강남역 갈때마다 느끼지만 카페는 많지만 슬프게도 갈만한 카페가 없다. 프렌차이즈거나 좁거나 등등.. 정월의 장점은 요즘같은 날씨에 즐기기 딱 좋은 테라스와 공간별로 다른 느낌을 주는 내부 인테리어다. 일본풍인데 과하지 않은 깔끔함이 좋았다. 내가 갔을때는 아쉽게도 테라스자리와 내부 자리들이 많이 차 있어서 가장 긴 테이블이 있는 단체석에 앉을 수 밖에 없었다 (눈물)  고심해서 고른 메뉴는 말차라떼와 라임애플에이드, 추가로 당근케이크 였다. 말차라떼는 쌉싸름한 말차와 우유의 조합을 기대했는데 말차맛은 잘 안나고 엄청 단 밀크티를 마시는것 같았다. 아이스로 시켜서 얼음이 반이었다. 차라리 따뜻한게 나았으려나. 라임민트에이드는 시원하고 청량했지만 살짝 맹맹. 당근케이크는 무난쏘쏘 했다. 크게 맛있지도 그렇다고 맛없지도 않다.  음료나 디저트 맛을 크게 기대하지 않고 예쁜 공간을 즐기고 싶다면 추천한다. 2019-08-31', 'date': '+2'}, {'id': 5310, 'review': '망플 이벤트로 다녀옴. 말차아인슈페너와 당근케이크를 시킴.  말차는 위에 초콜렛과 딸기? 크림이 있음. 초콜렛은 녹차맛보다 화이트초콜렛 맛이 남. 녹차맛이 더 낫으면 좋겠음. 음료는 녹차가 상당히 진해서 좋음. 숟가락이 좀 짧아서 저어 먹는게 안 됨. 초큼 불편.  케이크는 내 입맛에 너무 맛있음. 위에 흰색? 버터? 가 너무 맛있음. 단거 싫어하는 사람은 너무 달수도 있겠음. 아아랑 먹으면 좋을 듯. 케이크 먹는 포크가 너무 작아서 잘 떠지지 않음. 음료랑 나온 숟가락으로 떠먹음.  전체적인 인테리어와 분위기는 너무 좋음. 화장실이 이렇게 크고 멋진 곳은 처음봄. 뭔가 방마다 테마별로? 방이 여러개?라서 둘러보는 재미가 있고 식물과의 조화가 멋짐.  스텝들은 친절했고 문제 없었음. 재방문의사 있음.  아. 신논현역 5번출구로 나와서 cgv쪽 그렇게 올라가는게 나음. 딴 곳으로 왔다가는 지옥 오르막길임. 2019-08-29', 'date': '+5'}, {'id': 5311, 'review': '차분하게 있을 수 있는 카페. 방마다 조도도 다르고 공간이 구분되는 단체석도 구비. 강남대로에서 걸어들어와도 쾌적함으로 충분히 위치의 불편함은 해소될만...  다른 후기에서 많이 나왔던 말차아인슈페너, 아메리카노, 당근케이크 주문. 디저트는 당근케이크, 초코무스, 얼그레이 쉬폰 딱 세가지.   솔티카라멜 라테가 후기마다 평이 달라서 궁금했으나 아인슈페너와 케이크가 다 단거라 아메리카노를 안시키면 느끼할 것 같았다. 결론적으로 아메리카노 시키길 잘했다.  말차아인스페너. 가격대비 양은 작지만 더 많았음 안되었을듯. 색도 이쁘고 녹차초컬릿도 훌륭하지만... 그리고 중상이상의 맛은 있었다.  당근케이크. 대체 왜 평이 그럴까 했다. 먹어보니 조화의 문제가 아니었을까 싶다. 아인슈페너랑 먹기엔 다른당근케이크보다 아이싱에 버터가 더 들어간건지 버터맛이 더 느껴졌다. 그러나 아메리카노랑 먹기엔 좋았다. 촉촉함도 내 입맛엔 적당했다.  아메리카노. 레드로 먹었는데 산미가 확 느껴질만큼 강하지않고 대중적이나...5천원이어야 할까...란 생각은 든다.  후기들을 보시고 계속 정월은 맛의 보완을 하시는 거 같다. 솔티카라멜라테가 짜다고 한 후기 이후 방문하신 분은 안짜다 하시고, 당근케이크가 촉촉하지 않다고 했던 후기 이후에 먹은 나는 당근케이크가 뻑뻑하게 느껴지지 않았으니까.. 그래서 이 근처에 온다면, 특히 여유시간이 많다면 지금은 뭐가 더 바뀐게 있나 궁금해서 내 발로 그 거리를 걸어서 갈 것 같다.  살짝살짝 .... 한 점. 디저트포크가 케이크를 먹기엔 작다. 시그니처메뉴와 조화되는 디저트가 있으면 좋겠다. 달달이 음료와 매치되는 디저트와 매칭시켜 주시면 재방문 의사 있다. 화장실이 참 이쁜데, 남녀구분 없이 한 명만 사용가능한 지금 상태라면 나중에 손님 더 많아지면 고민거리가 될듯. 자리 일부에 와이파이가 안된다.  외관과 인테리어는 일본느낌, 티슈나 간판에도 일본어가 많아서 일본 프랜차이즈인지 궁금하다. 사람들이 사진찍으러 많이 올 것 같은 카페였다.  <홀릭이벤트로 갔던 후기입니다.> 2019-08-27', 'date': '+2'}, {'id': 5312, 'review': '주식회사 정돈에서 낸 카페 “정월” 지겨운 강남에서 새로운 카페를 찾고있다면 가볼만한 곳. (강남역에 테라스 있고 프랜차이즈 아니고 갬성까지 터지는 카페가 은근히 없다ㅠㅠ)  다른 카페 비유는 좋지 않지만,,, 실내가 가배도 같다고 생각하고 있었는데 친구가 야외 자리 보고 키츠네카페 같다고 했다. 그러니까 안에 들어가면 일본 같고 바깥은 대숲이다 멋으로만 따지자면 실내가 더 나은데 요새 날씨가 감동적이라ㅠㅠㅠ따흑 ㅠㅠ 테라스에 자리를 잡았다. 실내는 구획별로 인테리어가 다른데 다 예뻐서 선택장애가 올 정도다! 물론 사람이 많을 땐 선택의 여지가 없겠지만. 화장실 있는 쪽 끝까지 가보시길...  그런데 정돈처럼 맛으로 감동을 주진 않는다. 쏘쏘한 커피와 쏘쏘한 당케였다. 음료 호평이 많던데 아아충이라 죄송해욥,,,,,ㅎ.ㅎ 예쁘기만 한 카페는 “도장깨기”에 의의가 있고 도장 깼으니 재방문은 안 할 듯 하지만 한번 가볼 가치는 있으니 “맛있다” 로!  모르겠다 . 정돈 영수증 지참하면 20% 할인이 되는데 정돈은 살면서 또 갈 것이므로 정돈 먹고나면 정월 생각이 날 수도..? 대나무가 좀더 무성해지면 더 예뻐질 것 같다. 대숲이 빽빽해질 때까지 오래 건재하세요...', 'date': '2019.08.23'}, {'id': 5313, 'review': \"언덕 길을 따라 꽤 오래 올라가다 보니 오른편에서 '정월'이라는 한자 간판이 눈에 들어왔다. 반짝거리는 조명과 푸른 식물들로 생동감 넘치는 입구. 덕분에 기대감 200% 도달. 날씨가 덥지만 않았어도 널찍한 테라스에 앉았을 텐데 아쉽다. 내부로 들어가자 다른 카페들과는 달리, 가로로 길쭉한 공간에 숨어있는 곳곳의 작은 방들이 눈에 띄었다. 가볍게 담소를 나눌 수 있는 편안한 공간뿐만 아니라 공부 또는 업무를 볼 수 있도록 따로 짜여진 방으로 크게 구분할 수 있겠다. 1인 1음료 주문 필수임을 기억하자. 얼그레이 조각 케잌, 말차아인슈페너, 꽃에이드를 주문했다. 가격은 약 2만원 이하. 말차아인슈페너는 먼저 말차색의 초콜릿과 크림을 떠 먹어야 한단다. 맛있어 흑흑(이것은 감동의 눈물). 꽃에이드는 섞어 마셔야 하는데 잘 섞이지 않는다. 이유는 모르겠다. 처음에는 생소한 맛이라 긴가민가했는데 마실수록 매력있더라. 케잌은 담백 그 자체. 크림이 맛있어서 합격! 도장 2개 찍혔는데, 언제 다 모아서 공짜로 먹을 수 있을까. 2층에 있는 돈가스 집 '정돈'도 나중에 가보고 싶다. 2019-08-22\", 'date': '+1'}, {'id': 5314, 'review': '구석구석 너무 예쁘다.인스타 감성이라지만 아무래도 좋아요. 이런 요정불 밑에 있는 사진은 자랑하게 되니까요. 인테리어도 구석구석 예쁘고 도심 속 도피처를 찾은 기분이었어요.  커피 원두는 레드(산미), 옐로우(초콜릿) 두 가지가 있는데 옐로우 골랐고 제 입에 잘 맞았어요. 말차 라떼가 시그니처 같은데 많이 안 달고 진하고 괜찮더라고요! 사실 이날 야근하면서 저녁 도시락 먹고 너덜너덜해진 상태로 친구 만난 거라 케이크에 기대가 컸는데 너덜해진 저를 맞춰주는 정도... 는 아니었어요... 저 크림 부분이 크림치즈처럼 꾸덕한 게 아니라 초콜릿 아이싱처럼 톡톡 부서지더라고요. 그래서 괜찮다로 깎았지만 분위기는 정말 좋았어요. 의외로 구석까지 자리가 있으니 화장실 있는 곳까지 쭉 들어와보세요! 2019-08-21', 'date': '+4'}, {'id': 5315, 'review': '강남역과 신논현역 사이에 위치한 카페 정월에 다녀왔어요. 개인적으로 사람 많은 동네를 정말 싫어해서 강남역을 잘 알진 못하지만 주변 가게들과 느낌이 많이 다르더라구요 ,, 좀 본격적인 인스타 갬성? 평일 저녁 7시쯤 웨이팅 없이 착석했고 8시쯤부터 만석이었어요.  음료는 말차라떼와 헤이즐넛 솔트라떼, 아메리카노를 시켰고 당근케이크도 추가 오더해서 먹었어요. 이 외에도 녹차를 가미한 티나 에이드 종류 등 가게 컨셉과 잘 어울리는 메뉴가 많았어요. 커피 메뉴도 핸드드립이 준비되어 있고 취향에 따라 원두도 선택할수 있어요. 시그니처 메뉴가 6500-7000으로 가격대는 좀 있는 편이구요.  말차라떼... 언더락잔이면 200ml? 많아봤자 250ml 남짓인데 진짜 너무 더워서 세모금만에 클리어했어요. 그래도 씁쓸한 말차의 풍미와 녹진녹진한 크림이 잘 어울려서 맛있게 먹었구 친구가 시킨 헤이즐넛 솔트라떼는 한 입 먹고 좀 당황했어요. 솔티캬라멜 정도의 맛을 상상했는데 진짜 짜요. 그냥 짰어요. 아메리카노는 고소한 원두를 골랐는데도 불구하고 산미가 많이 느껴져서 결론적으로 이 카페에서 고를수 있는 안전빵 메뉴는 티나 에이드 류가 괜찮겠다라는 생각이 들었어요. (먹어봐야 알겠지만...) 노아베이커리에서 가져왔다는 당근케이크는 거두절미하고 별로 입맛에 안 맞았어요. 빵은 까끌하리만치 푸석하고 위에 올라간 크림은 느끼하니 무거웠는데 원래 건강한 베이킹 지향하는 곳인건 알고 있었지만,, 전 그냥 안 건강하고 맛있는 빵이 더 취향인가봐요 ㅠ_ㅠ  인테리어는 정갈하니 예쁘고 좌석 구성도 좋아요. 단체 룸도 있고, 2-4인석이 다양하게 준비되어 있었어요. 너무 더워서 바깥 테라스 자리에 앉지는 않았지만 요즘은 조금 선선해졌으니 저녁에 가면 반짝반짝 조명 아래에서 예쁜 사진도 찍을 수 있어요. 다만 ,,,, 조금 (많이) 왜색이 짙어서 ,, 요즘 시국이 시국이니만큼 ,, sns에는 업로드 하지 않았어요 (´；ω；`)  음료와 베이커리는 평범했으나 아직 오픈 초기라 많이 붐비지 않고 스탭분들이 친절하셔서 괜찮다 드립니당.', 'date': '2019.08.19'}, {'id': 5316, 'review': '맛보다는 감성이 메인!! 강남역 일대의 바쁘고 정신 없는 분위기 속에서 한적함을 느낄 수 있는 곳입니다! 노래도 크게 시끄럽지 않았고, 익선동 느낌의 예쁜 인테리어가 좋았습니다ㅎㅎ 가장 유명한 말차 아인슈페너와, 녹차레몬 티를 주문했어요. 말차 아인슈페너 맨 위에는 녹차 초콜릿 가루와 산딸기..?로 추정되는 가루가 뿌려져 있고, 아래에는 크림이 있고, 그 아래에는 녹차라떼가 있어요! 제가 우려했던 대로ㅠㅠ 위의 크림이 너무 많더라구요,, 맛이 없다기 보다는, 음료의 밸런스가 잘 안 맞는다는 느낌이 들었습니당', 'date': '2019.08.16'}, {'id': 5317, 'review': '망고플레이트 당첨 돼서 다녀왔어요!! 분위기도 좋고 말차 아인슈페너로 유명해서 기대했는데 조금 실망스러웠어요ㅠ.ㅠ  *말차아인슈페너(7.0) 유명한 것 치고는 별로였어요... 말차가 엄청 진할 줄 알았는데 그렇진 않았고 위에 있는 말차 초콜렛이랑 크림 먼저 먹으라고 설명해주시는데 떠먹다 보니 느끼했어요.. 크림 자체는 부드러워서 좋았는데 밑에 말차 음료가 솔직히 스타벅스 말차 파우더보다 덜 맛있었어요ㅜ.ㅜ 딱히 기대는 안 하시고 가는게 좋을 듯 합니당...  *아인슈페너 샷+우유(6.0) 아인슈페너 선택지에 샷+물이랑 +우유가 있는데 더 헤비하게 먹고 싶으면 우유를 선택하라고 하셨어요! 우유로 골랐는데 진하고 맛있어서 시그니처인 말차 아인슈페너보다 만족스러웠어요ㅎㅎㅎ   분위기 자체는 정갈하고 좋아요! 건물 밖이 대나무로 꾸며져 있어서 사진 찍기도 좋고 카페 자체가 깔끔한 느낌이 들어서 조용히 얘기하기 딱 좋은 분위기입니다! 2019-08-14', 'date': '+3'}, {'id': 5318, 'review': '분위기 : 4.5/5. 맛 : 4.0/5 강남의 교토 대나무숲 느낌의 카페  이 카페는 분위기로 일단 반은 먹고 들어간다. 외관은 초록초록한 느낌으로 교토 아라시야마 대나무숲 느낌을 살렸고, 내부는 널찍하고 어두운 계열의 원목으로 꾸며 안정감을 준다. 개인적으로 이런 조용조용하고 안정감 있는 분위기를 좋아해 들어가자마자 마음에 들었다.  주문한 메뉴는 말차 아인슈페너와 얼그레이 케이크로, 말차 계열의 음료가 7000원으로 다소 가격대가 있는 편이었다. 아인슈페너는 먼저 크림과 위에 올려진 자색 가루와 녹차 초콜릿 가루를 함께 떠먹으면 된다. 달다구리 쳐돌이로서, 매우 달고, 말차 맛이 은은하게 퍼져 좋았다. 그 다음, 음료를 마시면 되는데 비주얼에 비해 꾸덕꾸덕한 느낌은 아니었다. 그러나 말차 맛이 매우 강해 이 또한 말차 쳐돌이로서 만족스러웠다. 비싸더라도 또 시킬 의향이 있는 메뉴였다.  다만, 케이크는 개인적으로 취향이 아니었다. 시트 사이에 층층이 크림이 적당히 도포된 것이 아니라 아이싱된 크림과 시트가 분리된 듯해, 좀 퍽퍽했다. 뭔가 말차와 일본의 느낌을 내고 싶었던 것 같은데 왜 말차 케이크는 없는지 의문이었다. 다음에 재방문한다면, 말차 아인슈페너가 매우 달기 때문에 이를 디저트로 하고, 입가심할 용도의 아이스 아메리카노를 시키는게 좋을 것 같다. 2019-08-14', 'date': '+2'}, {'id': 5319, 'review': '쓰다가 사진 찍고 돌아오니 앱 재시작해서 ㅜ 다시 쓰는 정월 후기입니다. 망플아 사진 고른 것만 말고 내용도 자동저장해주면 안 되니,,?  1. 오르막길에 지치려던 찰나,, 어둑어둑해서 여기에 무슨 카페가 있나 싶었는데 건물에 가렸다 갑자기 등장한 존예포스 풀풀 카페에 온 마음이 사르르 녹아버리고 말았습니다. 와 정말 이뻐요. 여러분들은 꼭 정돈 드시고 밤에 오셔야 해요. 당일 영수증 지참하면 할인 적용됩니다!  2. 저흰 쇼콜라(5.5), 밀크티(6.5)랑 얼그레이 쉬폰(6.5) 시켰어요. 메뉴는 사진 참고해주세요! 디저트는 총 3종류 있었는데 가격이 모두 동일해서, 친구 하나 저 하나 밴해서 골랐습니다 ㅋㅋㅋㅋㅋㅋ 일단 전 초코무스 밴했고, 결국 얼그레이 쉬폰으로 결정. 아 당근케잌 먹고 싶었는데,,  3. 사실 시켜놓고 보니 앗한게 밀크티랑 얼그레이 쉬폰이랑 겹치지 않을까? 걱정이 되는 게 사실이었어요. 그런데 나온 걸 보니 이쁜 건 차치하고 정말 맛있더라고요. 밀크티랑 맛이 비슷하면서도 너무 겹치지 않는 맛이어서 정말 맛있게 먹었습니다. 쇼콜라 마신 친구도 얼그레이가 초콜릿에 묻힐 줄 알았는데 전혀 안 그렇다고 신기해하더라고요. 망고플레이트 덕분에 좋은 곳 한 곳 더 알아 갑니다. 오늘도 1승. 2019-08-13', 'date': '+6'}, {'id': 5320, 'review': '정돈에서 20퍼센트 할인 받아 가기에 좋은 카페! 만약 원래 그대로 그 가격이라면 굳이....찾아갈 것까지는 없는 것 같다. 맛이 특별나게 맛있다기 보다는 그냥 적당한 가격의 적당한 인스타스러움에 적당한 맛! 정돈 할인 감안했을 때 괜찮은 듯', 'date': '2019.08.11'}, {'id': 5321, 'review': \"돈까스 맛집 '정돈'의 패밀리브랜드 카페 '정월'. 정돈에서 밥을 먹고 영수증을 지참하면 정월에서 음료 20% 할인을 해줘요. 정돈갔다가 정월가면 완벽한 코스입니다ㅎㅎ  카메라를 꺼내게하는 카페에요. 입구부터 하얀건물 옆에 대나무들이 있어서 정말 예뻐요. 내부도 넓고 분리된 공간마다 다양한 분위기의 테이블이 있어서 여러번 가서 여기저기 앉아보고 싶었어요. 테라스 자리도 있어서 날씨 좋아지면 수다떨기 좋을것 같아요.  @ 말차 아인슈페너 (7,000) 비주얼부터 예술이에요. 말차위에 우유크림과 초콜렛이 있어요. 처음에 초콜렛이랑 크림 먼저 퍼먹으라고 알려주셔서 먹어봤는데 우유크림이 짱짱이에요. 폭신폭신하고 부드러운 식감이에요. 말차는 조금 단 편인데 단거 좋아해서 괜찮았어요. 추천추천  @ 얼그레이 쉬폰 (6,500) 이건 별로였어요ㅠㅠ 빵이 퍼석퍼석하고 그냥 빵에 크림 발라놓은 느낌... 재방문하면 디저트류는 시도하지 않을 생각이에요. 음료만 추천합니다. 2019-08-04\", 'date': '+2'}, {'id': 5322, 'review': '#강남역 #카페 너무 예뻐서 내 사진 찍느라 바빠서 카페 사진은 퀄이..;;ㅎㅎ 탈강남역 카페다.. ㅜㅠ 정돈에서 돈을 많이 벌어서 이렇게 투자했나 보다 정돈 돈까스집에서 운영하는 곳이고 그래서 정돈 영수증 있으면 20% 할인도 해준다 개이득~~ 아니 진짜 테이블마다 느낌도 다르고 넘 잘해놔서 예쁘고 짱이다 아직 신상 카페라 그런지 사람이 그렇게 많지는 않은데 금방 사람 겁나 많아질 것 같다.. ㅠㅠ 음료 옵션도 많아서 좋았다!!  아이스 아인슈페너(5.5) 샷+물/샷+우유 옵션 다 가능한데 크림도 진짜 맛있고 밑에 아메리카노 조합이랑 진짜 잘 어울린다 잔도 예쁘고!  아이스 헤이즐넛솔트 라떼(6.0) 라떼도 옵션이 이것저것 진짜 많은데 솔트 맛은 어디로 간건지 실종..됐지만 이것도 나름 맛있었다! 괜찮.  커피 원두도 다양하게 고를 수 있고 라떼, 녹차 이런 기본 음료도 옵션이 되게 다양해서 신기. 밀크티 쇼콜라 에이드 메뉴 다 맛있을 것 같음. 카페가 되게 넓어서 야외/실내 분위기 다르고 실내도 방?마다 컨셉이 달라서 신기했다. 탈강남 느낌 특히 화장실이 끝장난다..ㅎㅎㅎㅎㅎㅎ  강남역 방문 시 정돈-정월 코스 추천합니다 팡팡', 'date': '2019.06.14'}, {'id': 5323, 'review': 'Great coffee, great interior. Cake was normal. Enjoyed the experience and will be back when I am in the area! 2019-09-21', 'date': '+4'}, {'id': 5324, 'review': 'the taste was not bad also not sooooo good. npthong special. only decoration and design is good.. this place only for take a picture... not bad but dont need go twice', 'date': '2019.08.17'}], 'geometry': ['127.028653291', '37.503632838']}\n"
     ]
    },
    {
     "name": "stdin",
     "output_type": "stream",
     "text": [
      " 서울특별시 강남구 역삼동 618-21 1F\n"
     ]
    },
    {
     "name": "stdout",
     "output_type": "stream",
     "text": [
      "\n",
      "서울특별시 강남구 논현로95길 30 1F\n",
      "{'name': '스파게티스토리', 'score': '0.0', 'doro_addr': '서울특별시 강남구 논현로95길 30 1F', 'jibun_addr': None, 'reviews': [{'id': 8734, 'review': '스파게티 스토리에요~ 가성비로 적당하게 먹을 수 있는 파스타 집이라 아시는분들은 다 아실거같아요 ㅎㅎ 스파게티가 4500~ 부터 시작하니 진짜 요즘같은 물가에 찾기어려운집이에요 ㅠㅠ저는 크림파스타를 시켰는뎅 맛도 나쁘지않고 양은 그렇게 많지는 않지만 적당했던거같아요 ㅎㅎ 은근 매장도 몇개있는거같은데 가성비 좋은 집 찾으시면 한번 들려보셔도 좋을거같아요!', 'date': '2022.06.12'}], 'geometry': ['127.033534587', '37.502014150']}\n"
     ]
    },
    {
     "name": "stdin",
     "output_type": "stream",
     "text": [
      " 서울특별시 강남구 역삼동 638-17 102호\n"
     ]
    },
    {
     "name": "stdout",
     "output_type": "stream",
     "text": [
      "\n",
      "서울특별시 강남구 압구정로 165 5F\n",
      "{'name': '일치프리아니 현대백화점 압구정본점', 'score': '3.4', 'doro_addr': '서울특별시 강남구 압구정로 165 5F', 'jibun_addr': None, 'reviews': [{'id': 14311, 'review': '어란파스타는 굿굿 피자는 실망', 'date': '2022.02.12'}, {'id': 14312, 'review': '웨이팅하다가 아사할 뻔,,, 웨이팅 걸어두고 옆에 태극당가서 빵 한 잔하세요...  평일 점심에 넘 배고파서 방문. 웨이팅 4팀밖에 없길래 냉큼 걸어두고 옆에 태극당가서 빵 사 옴. ..? 왜 대기가 안 줄지..?  결국 40분을 기다렸담니다 회전률 극악이에요... 엄마랑 저랑 들어갈 때쯤 손 떨었습니다...  해산물 토마토 파스타, 루꼴라 올라간 마르게리따 피자 시켰는데 둘 다 맛있었어요 특히 마르게리따 위에 방토가 맛있더라고요 새콤하니..  근데 바빠서 그런지 직원분들 서비스가 좀.. 뭔가 부탁하면 빠르게만 처리하려는 느낌..? 안 친절해요  맛은 있는데 회전률과 서비스 때문에 괜춘타.', 'date': '2022.01.09'}, {'id': 14313, 'review': \">>> 집앞이라 여러번 방문. 제일 맛있게 먹었던 건 야채리조또. 일치도 그렇고 남양유업 계열 이태리식당은 두루두루 무난.  >>> 팬시하진 않아서 '쇼핑 후 엄마랑 좀 잘 먹고 싶을 때 들리는 곳' ㅋ\", 'date': '2020.11.04'}, {'id': 14314, 'review': '무난하게 이탈리안을 먹을수 있는 곳. 피자 파스타 좋아하는 아이들과 가기 편해서 종종 가는데. 오븐에 구운 볼로네제 파스타 추천. 그외 다른 메뉴들은 다 비슷비슷 적당히 맛있음. 조용하고 웨이팅 별로 없음.', 'date': '2019.10.21'}, {'id': 14315, 'review': '라자냐와 어란파스타! 라자냐는 든든하지만 먹을 수록 피클이 필요하고 어란파스타는 오일 파스타지만 너무 매웠다!', 'date': '2019.09.28'}, {'id': 14316, 'review': '메뉴선택을 궁합좋게 잘한듯... 버섯 스테이크 크림리조또와 루꼴라피자 주문. 리조또는 질감도, 여러종류 버섯의 향기도 넘나 좋았는데 미듐으로 주문한 스테이크도 감탄나오게 부드럽고 육즙도 풍부하여 꿀맛이었음. 피자는 엄청 얇아서 바스라질 정도인데 루꼴라는 썰어서 샐러드처럼 먹고 피자따로 먹고 하니 느끼한 크림리조또랑 궁합이 좋았음. 가격대비 굉장히 맛있게 잘 먹고 나옴!', 'date': '2018.10.14'}, {'id': 14317, 'review': '이렇게 맛없는 음식이 또 있을까 싶었음. 면은 떡이고 소스는 싱겁고 새우도 비리고 맛의 밸런스가 전혀 없음.', 'date': '2017.03.25'}, {'id': 14318, 'review': '가성비 좋는 오늘의 디너 (50인 한정) 애용하는데, 두번째 사진의 토마토 스파게티 너무 맛있네요~ 스테이크도 나름 갠츈. 항상 기본은 하는 곳이라 실패가 적어서 좋은듯!', 'date': '2017.03.19'}, {'id': 14319, 'review': '항상 기본이상. 후회없이 나오는곳', 'date': '2017.02.21'}, {'id': 14320, 'review': '남양에서 하는 이탈리안 비스트로. 도산공원 앞 호암갤러리에도 있음. 기본은 하는 곳이라 어디갈지 망설여질 때 가면 좋음.', 'date': '2016.09.04'}, {'id': 14321, 'review': '기본이상을 항상 하는 곳. 현백 본점 식당가에 위치해있는데 듣기로는 남양에서 하는 식당이라고... 일단 서비스 하난 진짜 굳!! 가격대도 그리 높진 않았다. 친구들이랑 난 코스를 시켰다, 얼마였는지 기억은 안나지만 그렇게 비싼 코스는 아니었던 것 같다. 식전빵과 고구마 옥수수를 주는데 항상 빵만 먹는다ㅋㅋ 고구마나 옥수수 먹기엔 메인을 못 먹을까봐서ㅎㅎ 그리고 봉골레를 먹는데, 난 개인적으로 여기 봉골레를 좋아한다. 양도 코스인데도 낭낭하구 조갯살도 많이 들어가있당ㅎㅎㅎ 그리고 스테이크는 뭐 평범했다, 갠적으로 파스타가 더 맛있는듯!! 그리고 마지막으로 디저트까지 클리어! 엄청 특별하진 않지만 다들 다 맛있게 먹고 나올 수 있는 집인 것 같다.', 'date': '2015.11.25'}], 'geometry': ['127.027462003', '37.527374931']}\n"
     ]
    },
    {
     "name": "stdin",
     "output_type": "stream",
     "text": [
      " 서울특별시 강남구 압구정동 429 5F\n"
     ]
    },
    {
     "name": "stdout",
     "output_type": "stream",
     "text": [
      "\n",
      "서울특별시 강남구 선릉로146길 5 1F\n",
      "{'name': '현대정육식당', 'score': '3.5', 'doro_addr': '서울특별시 강남구 선릉로146길 5 1F', 'jibun_addr': None, 'reviews': [{'id': 6170, 'review': '새벽에.. 취해서.. 끌려온... 이곳... 어딘지도 모르게 맛있게 먹었다.... 사진 안 찍었으면 어쩔뻔', 'date': '2022.12.01'}, {'id': 6171, 'review': '김치찌개 맛집으로 알려진 곳인데 찌개는 평범하고 그보단 계란말이, 제육볶음이 더 맛있다. 밑반찬이 꽤 정갈하게 나오는 편이라 집밥 같은 백반이 먹고싶다면 추천하고 싶다. 지금은 코로나 덕분에 무뎌졌지만 24시간 영업이 큰 장점. 맨날 점심만 먹다가 저녁시간에 방문해 삼겹살, 찌개를 시도해봤다. 결론은 고기는 고기집에서 먹는걸로! ^^; 2021-12-20', 'date': '+1'}, {'id': 6172, 'review': '제육 김치찌개 계란말이 맛있다 하지만 맛집이라기보다는 걍 좀 잘나가는 동네 식당', 'date': '2019.01.08'}, {'id': 6173, 'review': '갈때마다 항상 똑같은 조합 = 차돌+김치찌개! 24시간 영업이었나 가물가물 기억은 안 나는데 대개 여기를 찾을때는 저녁을 건너뛰어서 밤에 답없이 배고픈 경우라 항상 아주 늦은 시간이었고... 김치찌개의 묵은지가 리얼루다가 밥도둑이당 흐흥 그리고 발렛됩니당', 'date': '2018.08.18'}, {'id': 6174, 'review': '한식이 생각날때 들리는 곳. 여기 김치찌개 정말 좋아해요', 'date': '2018.06.23'}, {'id': 6175, 'review': '김치찌개에 계란말이 굿굿', 'date': '2018.04.13'}, {'id': 6176, 'review': '김치찌개는 제 입맛에는 안맞았는데 끝까지 먹게되는 맛이었어요 목살김치볶음은 단맛이 강하고 매콤했구요 전체적으로 먹을만 했습니다. 2층 서빙하시는분이 좀. 나이가 있으셔서 주문하기 불편했네요 .끝.', 'date': '2018.02.18'}, {'id': 6177, 'review': '큰기교도없는데참맛있다', 'date': '2017.05.16'}, {'id': 6178, 'review': '로ㅓ', 'date': '2016.08.25'}, {'id': 6179, 'review': '아 모르겠다 모르겠어 왜죠 왜 수요미식회에 나온거죠', 'date': '2016.04.28'}, {'id': 6180, 'review': '점심시간에 김치찌개가 유명하대서 와봤는데 기본 반찬은 별로였고, 김치찌개는 나름 괜찮았음. 찌개에 들어간 두툼한 고기와 목살김치볶음은 굳. 그치만 솔직히 말해서 맛있다고 유명세탈 정도는 아님 ㅋ', 'date': '2015.10.29'}, {'id': 6181, 'review': '청담에서 그나마 가격 부담 없는집 요근래 수요미식회 김치찌개 출연 뒤 사람이 너무 많아졌는데 동네맛집이지만 멀리서 찾아올 정도는 아닌듯 개인적으로 목살김치볶음은 소주와 최고의 궁합', 'date': '2015.03.04'}, {'id': 6182, 'review': '어렸을 때부터 유명했던 집. 맛도 나쁘진않은데... 늘 생각하지만 그냥 동네 맛집.', 'date': '2015.01.24'}, {'id': 6183, 'review': '', 'date': '2013.07.24'}], 'geometry': ['127.040161478', '37.521911710']}\n"
     ]
    },
    {
     "name": "stdin",
     "output_type": "stream",
     "text": [
      " \n"
     ]
    },
    {
     "name": "stdout",
     "output_type": "stream",
     "text": [
      "\n",
      "서울특별시 강남구 테헤란로78길 16 1F\n",
      "{'name': '롤링핀 포스코사거리점', 'score': '0.0', 'doro_addr': '서울특별시 강남구 테헤란로78길 16 1F', 'jibun_addr': None, 'reviews': [{'id': 6187, 'review': '빵순이를 위한 롤링핀 집앞이라 자주 가는데 빵굽는 냄새가 너무 좋아여 오늘은 고구마식빵 픽해왔어요. 빵 종류가 은근많아서 매번 고르기힘들만 실패는 없었네요. 담백한 빵 가득하니 롤링핀식빵종류 드셔보세요. 추천합니다.', 'date': '2022.04.19'}, {'id': 6188, 'review': '시나몬롤. 버터프레첼.  버터프레첼은 짭쪼름하고 버터와 어우러지는 맛이 정말 맛남. 약간 앙버터느낌도 나지만 짠맛이 나서 좀 다른. 빵은 좀 딱딱하고 한입에 다 넣기도 애매하기도해서 조금 먹기 힘들었지만 그래도 맛났음. 시나몬롤은 시나몬향이 엄청 남. 그리고 달달해서 초등학생인 조카도 넘 잘 먹음ㅋㅋ 버터프레첼은 한입먹고 안먹더니 이건 계속 먹었음. 시나몬 향이 강해서 싫어할까 걱정했는데 엄청 좋아함.', 'date': '2019.05.18'}], 'geometry': ['127.055338352', '37.505062614']}\n"
     ]
    },
    {
     "name": "stdin",
     "output_type": "stream",
     "text": [
      " \n"
     ]
    },
    {
     "name": "stdout",
     "output_type": "stream",
     "text": [
      "\n",
      "서울특별시 강남구 논현로4길 36 1F\n",
      "{'name': '고다방', 'score': '0.0', 'doro_addr': '서울특별시 강남구 논현로4길 36 1F', 'jibun_addr': None, 'reviews': [{'id': 6269, 'review': '이름부터 인테리어까지 레트로 감성 가득. 컵도 큰데 가격도 괜찮다. 정말 좋은 카페인데 위치가 아쉬울 따름...', 'date': '2020.02.10'}], 'geometry': ['127.052931756', '37.473668092']}\n"
     ]
    },
    {
     "name": "stdin",
     "output_type": "stream",
     "text": [
      " \n"
     ]
    },
    {
     "name": "stdout",
     "output_type": "stream",
     "text": [
      "\n",
      "서울특별시 강남구 압구정로12길 6\n",
      "{'name': '커피빈 뉴가로수길점', 'score': '0.0', 'doro_addr': '서울특별시 강남구 압구정로12길 6', 'jibun_addr': None, 'reviews': [], 'geometry': None}\n"
     ]
    },
    {
     "ename": "KeyboardInterrupt",
     "evalue": "Interrupted by user",
     "output_type": "error",
     "traceback": [
      "\u001b[1;31m---------------------------------------------------------------------------\u001b[0m",
      "\u001b[1;31mKeyboardInterrupt\u001b[0m                         Traceback (most recent call last)",
      "\u001b[1;32m~\\AppData\\Local\\Temp/ipykernel_25084/2890668188.py\u001b[0m in \u001b[0;36m<module>\u001b[1;34m\u001b[0m\n\u001b[0;32m      3\u001b[0m     \u001b[0mprint\u001b[0m\u001b[1;33m(\u001b[0m\u001b[0maddress\u001b[0m\u001b[1;33m)\u001b[0m\u001b[1;33m\u001b[0m\u001b[1;33m\u001b[0m\u001b[0m\n\u001b[0;32m      4\u001b[0m     \u001b[0mprint\u001b[0m\u001b[1;33m(\u001b[0m\u001b[0mmango\u001b[0m\u001b[1;33m[\u001b[0m\u001b[0maddress\u001b[0m\u001b[1;33m]\u001b[0m\u001b[1;33m)\u001b[0m\u001b[1;33m\u001b[0m\u001b[1;33m\u001b[0m\u001b[0m\n\u001b[1;32m----> 5\u001b[1;33m     \u001b[0mcheck\u001b[0m \u001b[1;33m=\u001b[0m \u001b[0minput\u001b[0m\u001b[1;33m(\u001b[0m\u001b[1;33m)\u001b[0m\u001b[1;33m\u001b[0m\u001b[1;33m\u001b[0m\u001b[0m\n\u001b[0m\u001b[0;32m      6\u001b[0m     \u001b[0mmango\u001b[0m\u001b[1;33m[\u001b[0m\u001b[0maddress\u001b[0m\u001b[1;33m]\u001b[0m\u001b[1;33m[\u001b[0m\u001b[1;34m'jibun_addr'\u001b[0m\u001b[1;33m]\u001b[0m\u001b[1;33m=\u001b[0m\u001b[0mcheck\u001b[0m\u001b[1;33m\u001b[0m\u001b[1;33m\u001b[0m\u001b[0m\n\u001b[0;32m      7\u001b[0m     \u001b[0mprint\u001b[0m\u001b[1;33m(\u001b[0m\u001b[1;33m)\u001b[0m\u001b[1;33m\u001b[0m\u001b[1;33m\u001b[0m\u001b[0m\n",
      "\u001b[1;32mD:\\anaconda3\\lib\\site-packages\\ipykernel\\kernelbase.py\u001b[0m in \u001b[0;36mraw_input\u001b[1;34m(self, prompt)\u001b[0m\n\u001b[0;32m   1004\u001b[0m                 \u001b[1;34m\"raw_input was called, but this frontend does not support input requests.\"\u001b[0m\u001b[1;33m\u001b[0m\u001b[1;33m\u001b[0m\u001b[0m\n\u001b[0;32m   1005\u001b[0m             )\n\u001b[1;32m-> 1006\u001b[1;33m         return self._input_request(\n\u001b[0m\u001b[0;32m   1007\u001b[0m             \u001b[0mstr\u001b[0m\u001b[1;33m(\u001b[0m\u001b[0mprompt\u001b[0m\u001b[1;33m)\u001b[0m\u001b[1;33m,\u001b[0m\u001b[1;33m\u001b[0m\u001b[1;33m\u001b[0m\u001b[0m\n\u001b[0;32m   1008\u001b[0m             \u001b[0mself\u001b[0m\u001b[1;33m.\u001b[0m\u001b[0m_parent_ident\u001b[0m\u001b[1;33m[\u001b[0m\u001b[1;34m\"shell\"\u001b[0m\u001b[1;33m]\u001b[0m\u001b[1;33m,\u001b[0m\u001b[1;33m\u001b[0m\u001b[1;33m\u001b[0m\u001b[0m\n",
      "\u001b[1;32mD:\\anaconda3\\lib\\site-packages\\ipykernel\\kernelbase.py\u001b[0m in \u001b[0;36m_input_request\u001b[1;34m(self, prompt, ident, parent, password)\u001b[0m\n\u001b[0;32m   1049\u001b[0m             \u001b[1;32mexcept\u001b[0m \u001b[0mKeyboardInterrupt\u001b[0m\u001b[1;33m:\u001b[0m\u001b[1;33m\u001b[0m\u001b[1;33m\u001b[0m\u001b[0m\n\u001b[0;32m   1050\u001b[0m                 \u001b[1;31m# re-raise KeyboardInterrupt, to truncate traceback\u001b[0m\u001b[1;33m\u001b[0m\u001b[1;33m\u001b[0m\u001b[0m\n\u001b[1;32m-> 1051\u001b[1;33m                 \u001b[1;32mraise\u001b[0m \u001b[0mKeyboardInterrupt\u001b[0m\u001b[1;33m(\u001b[0m\u001b[1;34m\"Interrupted by user\"\u001b[0m\u001b[1;33m)\u001b[0m \u001b[1;32mfrom\u001b[0m \u001b[1;32mNone\u001b[0m\u001b[1;33m\u001b[0m\u001b[1;33m\u001b[0m\u001b[0m\n\u001b[0m\u001b[0;32m   1052\u001b[0m             \u001b[1;32mexcept\u001b[0m \u001b[0mException\u001b[0m\u001b[1;33m:\u001b[0m\u001b[1;33m\u001b[0m\u001b[1;33m\u001b[0m\u001b[0m\n\u001b[0;32m   1053\u001b[0m                 \u001b[0mself\u001b[0m\u001b[1;33m.\u001b[0m\u001b[0mlog\u001b[0m\u001b[1;33m.\u001b[0m\u001b[0mwarning\u001b[0m\u001b[1;33m(\u001b[0m\u001b[1;34m\"Invalid Message:\"\u001b[0m\u001b[1;33m,\u001b[0m \u001b[0mexc_info\u001b[0m\u001b[1;33m=\u001b[0m\u001b[1;32mTrue\u001b[0m\u001b[1;33m)\u001b[0m\u001b[1;33m\u001b[0m\u001b[1;33m\u001b[0m\u001b[0m\n",
      "\u001b[1;31mKeyboardInterrupt\u001b[0m: Interrupted by user"
     ]
    }
   ],
   "source": [
    "# 수기로 검색\n",
    "for address in check_jibun:\n",
    "    print(address)\n",
    "    print(mango[address])\n",
    "    check = input()\n",
    "    mango[address]['jibun_addr']=check\n",
    "    print()"
   ]
  },
  {
   "cell_type": "code",
   "execution_count": 128,
   "id": "fc709e67-f4cb-47a0-ba98-e5dfcb4b0d63",
   "metadata": {},
   "outputs": [],
   "source": [
    "new_mango = {}\n",
    "# 수기로 검색\n",
    "for address,j in mango.items():\n",
    "    if j['jibun_addr'] is not None:\n",
    "        if j['jibun_addr']:\n",
    "            new_mango[address]=j"
   ]
  },
  {
   "cell_type": "code",
   "execution_count": 130,
   "id": "6dd130db-052e-46f0-84bf-d2c7ace667f8",
   "metadata": {},
   "outputs": [
    {
     "name": "stdout",
     "output_type": "stream",
     "text": [
      "no jibun - 0\n",
      "no geo - 2\n"
     ]
    }
   ],
   "source": [
    "check_jibun=[]\n",
    "check_geo=[]\n",
    "for i,j in new_mango.items():\n",
    "    if not j['jibun_addr'] :\n",
    "        check_jibun.append(i)\n",
    "    else:\n",
    "        if j['jibun_addr'] is None:\n",
    "            check_jibun.append(i)\n",
    "    if not j['geometry'] :\n",
    "        check_geo.append(i)\n",
    "print(f'no jibun - {len(check_jibun)}')\n",
    "print(f'no geo - {len(check_geo)}')"
   ]
  },
  {
   "cell_type": "code",
   "execution_count": 134,
   "id": "722a45f8-6a72-416f-a694-1b64e1c97bcf",
   "metadata": {
    "collapsed": true,
    "jupyter": {
     "outputs_hidden": true
    },
    "tags": []
   },
   "outputs": [
    {
     "name": "stdout",
     "output_type": "stream",
     "text": [
      "서울특별시 강남구 압구정로46길 46 현대카드 쿠킹라이브러리 1F\n",
      "{'name': '현대카드 쿠킹 라이브러리델리', 'score': '4.3', 'doro_addr': '서울특별시 강남구 압구정로46길 46 현대카드 쿠킹라이브러리 1F', 'jibun_addr': '서울 강남구 신사동 645-22', 'reviews': [{'id': 26209, 'review': '괜찮다. 간장달걀 +아보카도+명란. 아보카도와 명란은 각각 추가금 발생. 근데 이걸 먹으러 올 내용은 아닐듯', 'date': '2022.08.31'}, {'id': 26210, 'review': '<테라스 카페 맛집> 우리는 점심을 먹은터라 1층 카페 입성 현대카드로 결제시 10프로 할인 커피신선하고 산미적당 밸런스 굿 무엇보다 테라스가 좋았고 다양한 쿠킹북을 읽으며 좋은시간을 보냈다', 'date': '2022.06.02'}, {'id': 26211, 'review': \"의외의 까눌레 맛집이라 쓰는 리뷰. 얼그레이 까눌레(3,000), 바스크 치즈케이크 (7,000), 카페라떼(6,000) 주문.  여기서 저녁도 먹고 바로 디저트도 먹었다. 현대카드로 결제 시 전 메뉴 10%할인되고, 1층 델리는 현대카드 비소지자도 이용 가능하다. 얼그레이를 그렇게 좋아하지 않는다는 걸 얼마 전에 알아서 까눌레는 조금 고민했는데 잘 시킨 것 같다.  자리로 가져다주는데 나이프 없이 포크만 두 개 준 건 조금 아쉬웠다. (많이 안 먹어봤지만) 지금까지 내 까눌레 원탑은 제주도 토투가였는데, 여기 까눌레를 먹으며 그곳이 생각났다. 겉면이 일정하게 얇고 과자처럼 바삭하며, 안은 촉촉했다. 좀만 두꺼우면 자르기 힘들고 바삭이 아니라 딱딱해지는데 그 선을 잘 지켰다. 또 얼그레이 향이 그렇게 강하지는 않아 거부감 없이 먹었다. 라떼는 폴바셋 원두를 쓴다. 온라인 메뉴판에는 싱글오리진도 있던데 그걸로 시켜본다는 걸 깜빡했다. 바스크 치즈케이크는 겉면은 잘 탔는데 빵 부분이 바스크치고 쫀쫀한 식감은 아니라 조금 아쉬웠다. 그냥 치즈케이크로서는 맛있는데 내가 기대한 '바스크' 랑은 좀 다른 정도? +) 밀가루가 많이 들어가지 않았을까 싶다.\", 'date': '2022.01.21'}, {'id': 26212, 'review': '앉는 자리는 불편하지만 그래도 인테리어 느낌 있어서 좋아요. 음식 플레이팅도 좋고 맛도 괜찮아요! 매뉴 구성도 다양해서 좋구요. 그리고.. 가격이 착한 편이에요..', 'date': '2021.08.23'}, {'id': 26213, 'review': '현대카드 쿠킹 라이브러리에서 낮맥~ 도산공원 근처 카페들이 죄~ 다 웨이팅 잔뜩이라 사람 없는 곳 찾다 들어왔다. 주말에도 사람이 많지 않으니 아직 유명하진 않은듯??? 1층은 현대카드 고객 상관 없이 이용할 수 있다 디저트류는 많지 않지만 분위기도 좋고 인테리어 예뻐서 재방문 의사 완전 있음!!!', 'date': '2021.07.10'}, {'id': 26214, 'review': '#현대카드쿠킹라이브러리 선생님께서 가자고 하셔서 간 쿠킹라이브러리. 1층은 현대카드 소지하지 않아도 입장해서 식사 가능하고 2층부터는 카드 확인 후 목에 패스카드 걸고 입장. 12시 좀전에 가서 밖에 서있다가 정시에 입장함. 입장할 때 몇팀 더 있었음. 바로 밖으로 나가서 테라스자리 차지함. ㅎㅎ - 다섯명 기준 배불렀음 ⭐️파스트라미 번앤롤 다섯명이서 나눠먹느라 정말 조금씩 먹었는데도 맛있음이 느껴짐. 배이컨이 짜지 않고 맛있었고 옆에 조금나온 감자튀김도 느끼하지 않고 맛있었음. ⭐️소시지 뢰스티 소금집과 콜라보 했다고 해서 소시지에 대한 기대가 있었음. 아니나다를까 소세지 너무맛있고 밑에 감자가 정말 맛있다고 감탄하며 먹었던. 화룡점정 계란. 싱싱함의 끝판왕. ⭐️판체타 파스타 면 익힌 정도도 좋았고 맛도 좋음. 여기는 계란이 싱싱해서 맛의 8할을 좌지우지 하는듯. 노른자 색깔을 보라....! ⭐️달걀밥 우리가 집에서 먹을수 있는 계란밥. 조금 더 건강한 느낌 정도? ⭐️양송이 버섯 튀김 딱 반을 잘랐는데 양송이가 통채로! 쇼킹! 통채로 넣어놔서 향이 장난아님. 반 가른 사진을 찍었어야 하는데... ⭐️닭고기 덮밥 특이한 맛이지만 과하지 않은. 나쁘지 않음. ⭐️에그타르트 와우 내 원픽. 계란찜 먹듯이 녹아내리는 계란... 여기서 일주일치 계란 다먹음. 근데 너무 싱싱함. ⭐️커피, 밀크티 내 개인적으로 밀크티 별로 안좋아하는데 위에 올려진 아이스크림 너무 맛있었음. 커피도 맛있음. - 식사는 너무 만족스러움. 날도 너무좋아서 밖에서 먹었더니 기분이 좋아지는 맛. 2층~4층 리뷰는 to be continued,,, 2020-05-24', 'date': '+4'}, {'id': 26215, 'review': '쿠킹관련서적 한가득. 식재료도 구경하기 좋았어요. 현대카드 소지자만 라이브러리 이용 가능하고. 아니면 1층 카페만 .ㅋㅋ 카페도 괜찮네요', 'date': '2019.11.24'}, {'id': 26216, 'review': \"[⭐️⭐️⭐️] 3.0/ 재방문 의사 50%  '도시의 빠른 속도에서 벗어나 잊혔던 아날로그 감성과 영감을 찾는 것'은 현대카드가 추구하는 새로운 라이프 스타일이라고 할 수 있다. 그 스타일과 맞게 생겨난 디자인, 트레블, 뮤직 라이브러리에 이어 근래에 생긴 쿠킹 라이브러리에 방문했다.  3F 쿠킹 클래스에서 돼지 안심 웰링턴 셀프 쿠킹 후, 양이 부족한 것 같아서 1F로 내려와 deli에서 미트볼 스파게티 주문- 오픈 키친 스타일로 모든 조리 과정을 볼 수 있다. 근데 왜 우리가 만든 게 더 맛있지? (요리 난생처음 해봤음) 쿠킹 라이브러리에서 한 셀프 쿠킹은 만족스러웠고 다음에도 할 의향이 있지만, 파인다이닝이 몰려있는 도산공원에서 굳이 이곳으로 먹으러 올 것 같지는 않다. ◟̊◞̊  + 단순히 먹는 공간이 아닌, 보고 읽고 체험할 수 있는 경험의 공간으로 구체화 시킨 것은 너무 좋았다. 모든 현대카드의 라이브러리를 애정함 ₍˄·͈༝·͈˄₎◞ ̑̑ෆ⃛  미트볼 스파게티: 16.0 음료: 3.6  - 2018.02.03 2018-02-10\", 'date': '+5'}], 'geometry': None}\n"
     ]
    },
    {
     "name": "stdin",
     "output_type": "stream",
     "text": [
      " 서울특별시 강남구 압구정로46길 46\n"
     ]
    },
    {
     "name": "stdout",
     "output_type": "stream",
     "text": [
      "['127.035660120', '37.525645966']\n",
      "서울특별시 강남구 테헤란로 322 한신인터밸리 3F\n",
      "{'name': '커피코트 선릉 한신인터밸리점', 'score': '0.0', 'doro_addr': '서울특별시 강남구 테헤란로 322 한신인터밸리 3F', 'jibun_addr': '서울 강남구 역삼동 707-34', 'reviews': [{'id': 7842, 'review': '지난 두 번의 방문에서 로스터즈 같은 가게만의 특별한 개성이 묻어나는 맛과 향의 커피는 아니더라도 특정 품종의 원두에서 기대하는 맛과 향을 충실히 내면서 가격도 좋고 미국 느낌으로 에어 포트에서 따라서 마시는 게 추억 뿜뿜이었던 게 좋았던지라 포인트 적립도 등록을 했었음.  가게 위치도 그렇고 이 가게만의 차별점인 에어 포트를 이용해 주변 직장인들을 상대로 대용량 테이크 아웃 서비스도 제공하길래 집에서 마시는 네스프레소는 좀 오버해서 거의 백여가지 맛을 돌아가면서 마시고 있지만 에디오피아 말고는 식상한 느낌이던 중 에어 포트 테이크 아웃 서비스가 궁금해서 이용해보기로 함.  토요일은 평일보단 짧게 영업하지만 그래도 혹시나 해서 영업중인 걸 확인도 하고 에어 포트 테이크 아웃 서비스 문의도 할 겸 전활해보니 늘 친절하신 젊은 사장님 내진 점장님이 받으셨고 원랜 토요일에도 영업을 했었는데 주말에 지방에서 올라오신 손님들이 마스크도 착용을 하지 않고 이용하다 보니 문제가 있었어서 이젠 토요일엔 영업을 하지 않는데 오늘은 단체 손님 주문 관계로 나와 계시다고 하심.  에어 포트 테이크 아웃 서비스 이용 방법을 문의를 하니 핫 드립 커피는 7천 원에, 아이스나 콜드 브루는 13천 원에 커피 2.2리터가 든 에어 포트를 준비해 드리고 가져가셨다가 2-3일 내 또는 사정에 따라 조금 더 지나서 가게에 반납해 주시면 된다고 하심.  핫 드립 커피는 준비하는데 시간이 조금 더 걸리는지라 최소 픽업 10분 전에 아이스나 콜드 브루는 더 빨리 준비가 가능하다고 하시고 12시까지 가게에 계신다고 오실 거면 연락을 달라고 하심.  잠시 생각하다 경험해 보고 싶어 다시 전활 걸어 콜드 브루로 산미가 좋은 커피 추천을 부탁드리면서 지난번에 마셨던 케냐AA말고도 산미가 좋은 게 있는지 여쭈니 에티오피아 예가체프를 말씀하셔서 나도 에디오피아는 익숙하고 좋아하는지라 부탁드리고 차를 갖고 가게로 향함.  픽업하면서 한 컵 정도는 컵으로 마실 수 있는지 여쭈니 알았다고 하시고 가게 근처에 도착해 근처에 적당히 잠시 주차를 한 후 가게 안으로 들어서니 가게 불은 꺼진 채로 사장님만 계셨고 계산하면서 에어 포트는 그냥 정량을 채우셨고 따로 한 잔을 준비해 주셨다며 한 잔 값은 안 받으신다고 하심.  집에 와서 마시니 역시나 산뜻한 산미가 좋아 에어 포트 땜에 차를 가져가야 되는 게 좀 그렇지만 가격도 좋고 맛도 좋아 네스프레소가 지겨우면 가끔씩 이용해야겠다 함.  거의 3일 정도에 걸쳐 얼음을 넣고 흔한 레귤러 사이즈 정도로 열 잔 정도는 충분히 나와 맘에 들고 마지막에 다 안 나오는 커피는 뚜껑을 열어 에어 포트를 기울여 끝까지 깨끗이 비움.  다시 에어 포트를 반납을 하면서 커피 두 잔을 주차 땜에 미리 주문을 하니 가게 앞 맞은편 벽쪽에 붙여서 잠깐 주차를 하시고 들어오시면 된다고 하시고 도착하니 가게 앞에 사장님이 나와서 기다리시다 경비아저씨께 말씀을 해주심.  가게 안에 들어가 에어 포트 반납을 하고 커피 두 잔 결제를 하면서 에어 포트는 포인트 적립은 안 되는지 문의를 하니 에어 포트 서비스는 포인트 적립이 안 되고 일번 커피만 가능하다고 하심.  전체적으로 미국에서 가끔씩 보던 에어 포트에 든 커피가 궁금해 들러서 맛봤었는데 맛도 다양하면서 가격도 좋아 에어 포트 테이크 아웃 서비스도 이용해봤는데 역시나 좋아 가끔씩 이용할 것 같고 맛있다로.. 2022-09-25', 'date': '+7'}, {'id': 7843, 'review': '이 가게는 어디서 보고 알게 됐는지는 잘 기억이 안 나는데 암튼 미국 3-4성급 호텔 같은 데서 가끔씩 보는 보온보냉포트에 담긴 커피를 맛볼 수 있는 가게여서 궁금했고 가고싶다에 세이브해뒀었음.  다른 가게를 가는 중에 근처여서 몇 번이나 들러보려고 했지만 일요일엔 닫고 토요일엔 짧게만 여는지라 번번이 실패를 했었는데 맘 먹고 들러봄.  가게는 예전에 지하 식당가에 무슨 돈까츠 가게가 있다고 해서 한 번 들렀었는데 닫았어서 헛걸음을 한 기억이 있는 테헤란로에 있는 한신인더밸리에 있었고 테헤란로에서 건물로 들어가면 에스컬레이터를 두 번 타고 2층 정도를 올라가면 나타나고 건물 뒷편에서는 바로 가게가 보임.  가게 안으로 들어서니 아담한 공간엔 벽을 따라 커피가 든 포트가 주르륵 놓여 있는데 넘 많아 좀 어지러운 느낌인데 정신을 차리고 좀 더 자세히 살피니 입구쪽엔 여러 종류의 원두를 쿌드 브루와 아이스 드립 두 가지 방식으로 내린 아이스 커피가 든 포트들이 그리고 안쪽에는 역시나 여러 종류의 원두로 내린 핫 드립 커피가 든 포트들이 나열되어 있었음.  포트에 든 커피 말고도 흔한 에스프레소 베이스의 커피나 다른 다양한 음료들도 팔지만 난 포트에 든 커피가 궁금해서 온 거여서 아이스 커피 라지 사이즈를 종이컵으로 부탁드리니 친절하신 남자 사장님은 잠시 망설이시다가 종이컵에 얼음을 가득 담아 건네 주심.  일부러 들를지는 모르지만 맛이 좋으면 재방문할 것 같아 포인트 등록도 함.  첨엔 아이스 커피가 콜드 브루와 아이스 드립 커피로 나뉘어 있는 것도 모르고 산미가 좋은 커피를 좋아한다고 말씀드리니 케냐 AA를 권유해 주시면서 사장님께선 어떻게 사용하는지 알려주시려던 것 같은데 난 미국에서 이용해봤던지라 이미 케냐 AA가 든 포트 위의 펌프를 눌러 커피를 따르고 있음.  사장님은 추가로 다른 가게들과 달리 콜드 브루도 가격을 더 받거나 하지 않는다고 추가 설명을 해주심.  가게를 나와 한 입 마시니 내가 기대하는 적당히 좋은 베리류의 상큼함이 좋아 취저여서 미소가 지어지고 결국 다시 한 번 들러서 케냐 AA 콜드 브루가 아닌 아이스 드립으로 맛봄.  전체적으로 요즘엔 로스터즈나 커피 전문점 홍순데 그런 데서 좀 더 특이한 맛의 커피도 가끔씩은 좋지만 여기 커피 코트에서 맛본 케냐 AA 콜드 브루나 아이스 드립도 기대하는 맛에 충분히 부합하고 볼륨감은 살짝 아쉬워도 가격이 좋고, 보니까 2.2 리터짜리 대용량도 있던데 집에서 맨날 네스프레소 내려 마시는 것보다 여기서 2.2 리터짜리 사서 마시는 게 맛이나 신선함 등 여러모로 훨 나을 것 같은 만족스런 방문이었어서 맛있다로.. 2022-08-30', 'date': '+26'}, {'id': 7844, 'review': '이 건물에 카페가 엄청 많이 생겼다 없어지는데 새롭게 생긴 카페에요. 체인이던데 잘은 모르지만 상권 특성을 잘 파악하고 들어온 느낌..!(경영모름)  가격도 엄청 저렴하고 주문하면 다양한 드립 또는 더치커피 중에서 골라서 직접 컵에 담아 마실 수 있어요. 인건비가 줄어드니 이 가격이 나오지 않을까 생각되네요:)  저는 개인적으로 드립보다 더치가 더 좋았어요! 여러 원두를 조합한 하우스 블랜드도 생각보다 맛있었는데, 같은 원두라도 드립이 더치보다 산미가 더 세서 흥미롭기도 했어요:)  사장님도 친절하시고 가격도 싸고 커피맛도 좋아요!!', 'date': '2017.04.28'}], 'geometry': None}\n"
     ]
    },
    {
     "name": "stdin",
     "output_type": "stream",
     "text": [
      " 서울특별시 강남구 테헤란로 322\n"
     ]
    },
    {
     "name": "stdout",
     "output_type": "stream",
     "text": [
      "['127.046582408', '37.503235582']\n"
     ]
    }
   ],
   "source": [
    "# 수기로 검색\n",
    "for address in check_geo:\n",
    "    print(address)\n",
    "    print(new_mango[address])\n",
    "    check1 = input()\n",
    "    check2 = get_long_lat(check1)\n",
    "    print(check2)\n",
    "    mango['geometry'] = check2     "
   ]
  },
  {
   "cell_type": "code",
   "execution_count": 69,
   "id": "3c77196e-64a7-4d6b-8d64-a1103472b304",
   "metadata": {},
   "outputs": [],
   "source": [
    "final_mango = {}\n",
    "id = 0\n",
    "review_id = 0\n",
    "for i,j in new_mango.items():\n",
    "    i = re.sub('서울특별시', '서울', i)\n",
    "    i = re.sub('강남구', '강남', i)\n",
    "    j['jibun_addr'] = re.sub('서울특별시', '서울', j['jibun_addr'])\n",
    "    j['jibun_addr'] = re.sub('강남구', '강남', j['jibun_addr'])\n",
    "    j['id']=id\n",
    "    id+=1\n",
    "    for rev in j['reviews']:\n",
    "        rev['id']=review_id\n",
    "        review_id+=1\n",
    "    final_mango[i] = j"
   ]
  },
  {
   "cell_type": "code",
   "execution_count": 84,
   "id": "ac273b07-4333-48ef-9edd-d64534a50be7",
   "metadata": {},
   "outputs": [],
   "source": [
    "# save\n",
    "json.dump(final_mango, open('final_mango.json','w',encoding='utf-8'), ensure_ascii=False)"
   ]
  },
  {
   "cell_type": "code",
   "execution_count": 85,
   "id": "b551f3f9-c032-444a-8694-257c713a8735",
   "metadata": {},
   "outputs": [],
   "source": [
    "tokenized_corpus = [(i+' '+j['name']).split(' ') for i,j in final_mango.items()]\n",
    "tokenized_corpus += [(j['jibun_addr']+' '+j['name']).split(' ') for i,j in final_mango.items()]\n",
    "bm25_id_to_db_id = {}\n",
    "c=0\n",
    "for i,j in final_mango.items():\n",
    "    bm25_id_to_db_id[c]=j['id']\n",
    "    c+=1\n",
    "for i,j in final_mango.items():\n",
    "    bm25_id_to_db_id[c]=j['id']\n",
    "    c+=1\n",
    "bm25 = BM25Okapi(tokenized_corpus)"
   ]
  },
  {
   "cell_type": "code",
   "execution_count": 86,
   "id": "10261ea1-5a20-4e56-a024-3f1b637e9072",
   "metadata": {},
   "outputs": [],
   "source": [
    "pickle.dump(bm25, open('mango_bm25','wb'))\n",
    "pickle.dump(bm25_id_to_db_id, open('mango_bm25_id_to_db_id','wb'))"
   ]
  },
  {
   "cell_type": "code",
   "execution_count": 81,
   "id": "42a9abea-90e3-46a3-8977-bb2ae5b6a269",
   "metadata": {},
   "outputs": [],
   "source": [
    "final_mango=json.load(open('final_mango.json','r',encoding='utf-8'))"
   ]
  },
  {
   "cell_type": "code",
   "execution_count": 83,
   "id": "208b5b32-8f02-4dcd-8348-0ea9847fbda7",
   "metadata": {},
   "outputs": [
    {
     "name": "stderr",
     "output_type": "stream",
     "text": [
      "100%|████████████████████████████████████████████████████████████████████████████| 387/387 [00:00<00:00, 193629.45it/s]"
     ]
    },
    {
     "name": "stdout",
     "output_type": "stream",
     "text": [
      "387 ---> 387\n"
     ]
    },
    {
     "name": "stderr",
     "output_type": "stream",
     "text": [
      "\n"
     ]
    }
   ],
   "source": [
    "final_mango = check_format(final_mango)\n",
    "final_mango = make_ids(final_mango)"
   ]
  }
 ],
 "metadata": {
  "kernelspec": {
   "display_name": "Python 3 (ipykernel)",
   "language": "python",
   "name": "python3"
  },
  "language_info": {
   "codemirror_mode": {
    "name": "ipython",
    "version": 3
   },
   "file_extension": ".py",
   "mimetype": "text/x-python",
   "name": "python",
   "nbconvert_exporter": "python",
   "pygments_lexer": "ipython3",
   "version": "3.9.7"
  }
 },
 "nbformat": 4,
 "nbformat_minor": 5
}
